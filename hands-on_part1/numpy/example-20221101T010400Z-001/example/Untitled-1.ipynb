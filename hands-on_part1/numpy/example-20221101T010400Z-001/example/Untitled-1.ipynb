{
 "cells": [
  {
   "cell_type": "code",
   "execution_count": 6,
   "metadata": {},
   "outputs": [
    {
     "name": "stdout",
     "output_type": "stream",
     "text": [
      "chance!\n",
      "bingo\n",
      "chance!\n",
      "大一點\n",
      "chance!\n",
      "大一點\n",
      "chance!\n",
      "小一點\n",
      "chance!\n",
      "大一點\n",
      "u lose \n"
     ]
    }
   ],
   "source": [
    "import random\n",
    "ans=random.randint(1,20)\n",
    "\n",
    "\n",
    "for times in range(1,6):\n",
    "    print('chance!')\n",
    "\n",
    "    guess=int(input('請輸入數字1~20: '))\n",
    "    if guess <ans:\n",
    "        print('大一點')\n",
    "    elif guess >ans :\n",
    "        print('小一點')\n",
    "    else :\n",
    "        print('bingo')\n",
    "print('u lose ')        \n",
    "\n",
    "   "
   ]
  },
  {
   "cell_type": "code",
   "execution_count": 18,
   "metadata": {},
   "outputs": [
    {
     "name": "stdout",
     "output_type": "stream",
     "text": [
      "I am thinking of a number between 1 and 20.\n",
      "Take a guess.\n",
      "Your guess is too low.\n",
      "Take a guess.\n",
      "Your guess is too low.\n",
      "Take a guess.\n",
      "Good job! You guessed my number in 3 guesses!\n"
     ]
    }
   ],
   "source": [
    "# This is a guess the number game.\n",
    "import random\n",
    "secretNumber = random.randint(1, 20)\n",
    "print('I am thinking of a number between 1 and 20.')\n",
    "\n",
    "\t# Ask the player to guess 6 times.\n",
    "for guessesTaken in range(1, 7):\n",
    "\n",
    "\tprint('Take a guess.')\n",
    "\tguess = int(input())\n",
    "\n",
    "\tif guess < secretNumber:\n",
    "\t        print('Your guess is too low.')\n",
    "\telif guess > secretNumber:\n",
    "\t        print('Your guess is too high.')\n",
    "\telse:\n",
    "\t    break    # This condition is the correct guess!\n",
    "\n",
    "if guess == secretNumber:\n",
    "\t    print('Good job! You guessed my number in ' + str(guessesTaken) + ' guesses!')\n",
    "else:\n",
    "        print('Nope. The number I was thinking of was ' + str(secretNumber))"
   ]
  },
  {
   "cell_type": "code",
   "execution_count": 2,
   "metadata": {},
   "outputs": [
    {
     "name": "stdout",
     "output_type": "stream",
     "text": [
      "guess a num : \n",
      "bigger\n",
      "guess a num : \n",
      "bigger\n",
      "guess a num : \n",
      "bigger\n",
      "guess a num : \n",
      "lower\n",
      "guess a num : \n",
      "bigger\n",
      "the number is 33, you lose \n"
     ]
    }
   ],
   "source": [
    "import random \n",
    "secretnum=random.randint(1,50)\n",
    "for i in range(1,6):\n",
    "    print('guess a num : ')\n",
    "    guess=int(input())\n",
    "    if guess >secretnum :\n",
    "        print('lower')\n",
    "    elif guess< secretnum:\n",
    "        print('bigger')\n",
    "    else :\n",
    "        break \n",
    "if guess == secretnum:\n",
    "    print('bingo') \n",
    "else :\n",
    "    print(f'the number is {secretnum}, you lose ')          \n"
   ]
  },
  {
   "cell_type": "code",
   "execution_count": 19,
   "metadata": {},
   "outputs": [
    {
     "name": "stdout",
     "output_type": "stream",
     "text": [
      "egg\n",
      "milk\n",
      "apple\n"
     ]
    }
   ],
   "source": [
    "breakfast = ['egg', 'milk', 'apple', 'sandwich']\n",
    "for food in breakfast:\n",
    "\n",
    "    if food == 'apple':\n",
    "        print(food)\n",
    "        break\n",
    "\n",
    "    print(food)     "
   ]
  },
  {
   "cell_type": "code",
   "execution_count": 21,
   "metadata": {},
   "outputs": [
    {
     "name": "stdout",
     "output_type": "stream",
     "text": [
      "egg\n",
      "milk\n",
      "apple\n",
      "sandwich\n",
      "No soda in breakfast!\n"
     ]
    }
   ],
   "source": [
    "breakfast = ['egg', 'milk', 'apple', 'sandwich']\n",
    "for food in breakfast:\n",
    "    if food == 'soda':\n",
    "        print(food)\n",
    "        break\n",
    "    print(food)\n",
    "\n",
    "print('No soda in breakfast!')"
   ]
  }
 ],
 "metadata": {
  "kernelspec": {
   "display_name": "Python 3.10.7 64-bit",
   "language": "python",
   "name": "python3"
  },
  "language_info": {
   "codemirror_mode": {
    "name": "ipython",
    "version": 3
   },
   "file_extension": ".py",
   "mimetype": "text/x-python",
   "name": "python",
   "nbconvert_exporter": "python",
   "pygments_lexer": "ipython3",
   "version": "3.10.7"
  },
  "orig_nbformat": 4,
  "vscode": {
   "interpreter": {
    "hash": "c08f6b10d77fad09d09d755fdaa91e1358750def25b824cba47d64ca203d65a5"
   }
  }
 },
 "nbformat": 4,
 "nbformat_minor": 2
}
