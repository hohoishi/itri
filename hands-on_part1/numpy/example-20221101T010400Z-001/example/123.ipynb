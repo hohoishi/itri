{
 "cells": [
  {
   "cell_type": "code",
   "execution_count": 11,
   "metadata": {},
   "outputs": [
    {
     "name": "stdout",
     "output_type": "stream",
     "text": [
      "[[1 2 3]\n",
      " [4 5 6]]\n",
      "(2, 3)\n",
      "[[1. 1. 1. 1.]\n",
      " [1. 1. 1. 1.]\n",
      " [1. 1. 1. 1.]\n",
      " [1. 1. 1. 1.]]\n",
      "[[0.55 0.55 0.55 0.55]\n",
      " [0.55 0.55 0.55 0.55]\n",
      " [0.55 0.55 0.55 0.55]\n",
      " [0.55 0.55 0.55 0.55]]\n"
     ]
    }
   ],
   "source": [
    "import numpy as np \n",
    "a=np.array([[1,2,3],[4,5,6]])\n",
    "print(a)\n",
    "\n",
    "print(a.shape)\n",
    "print(np.ones((4,4)))\n",
    "print(np.full((4,4),0.55))\n"
   ]
  },
  {
   "cell_type": "code",
   "execution_count": 43,
   "metadata": {},
   "outputs": [
    {
     "name": "stdout",
     "output_type": "stream",
     "text": [
      "[[0.49402498 0.4242478  0.36886849 0.49133143]\n",
      " [0.74753407 0.30451076 0.98272036 0.14177494]\n",
      " [0.45396388 0.26669167 0.48528399 0.87381246]\n",
      " [0.95462458 0.71031689 0.37177204 0.59000217]]\n",
      "[[-7.9425664   0.65885478  1.80410227  3.78401376]\n",
      " [ 9.44248821 -0.87755868 -3.43424746 -2.56623995]\n",
      " [ 3.19205945  0.86867207 -0.53190258 -2.07919904]\n",
      " [-0.52831704 -0.55688303  1.5506894  -0.02793362]]\n",
      "-0.051466870148384934\n",
      "[[-0.39930377  0.17829987 -0.02605964  0.89893634]\n",
      " [-0.51278495 -0.84204284  0.15766424 -0.05619104]\n",
      " [-0.46649671  0.43692729  0.71897626 -0.2730357 ]\n",
      " [-0.59999075  0.2612806  -0.67641409 -0.33794604]]\n",
      "[2.21463835 0.69460769 0.47460528 0.0704941 ]\n",
      "[[-0.61641163 -0.39561612 -0.49699219 -0.46532069]\n",
      " [-0.13474805  0.17470165 -0.65152288  0.72583761]\n",
      " [-0.45163212 -0.53048011  0.51150526  0.50297281]\n",
      " [-0.63079957  0.72908029  0.25860988 -0.06045469]]\n"
     ]
    }
   ],
   "source": [
    "np_random=np.random.random((4,4))\n",
    "print(np_random)\n",
    "\n",
    "\n",
    "print(np.linalg.inv(np_random))\n",
    "\n",
    "print(np.linalg.det(np_random))\n",
    "\n",
    "\n",
    "u,s,v=np.linalg.svd(np_random)\n",
    "\n",
    "print(u)\n",
    "print(s)\n",
    "print(v)\n",
    "\n",
    "\n",
    "\n",
    "\n",
    "\n"
   ]
  },
  {
   "cell_type": "code",
   "execution_count": 56,
   "metadata": {},
   "outputs": [
    {
     "name": "stdout",
     "output_type": "stream",
     "text": [
      "[[0.99460366 0.3657682  0.77753814 0.09253672 0.85987609]\n",
      " [0.19701136 0.00131343 0.53983061 0.69392024 0.73010754]\n",
      " [0.4837766  0.66013424 0.24096473 0.49699793 0.35902438]\n",
      " [0.38674969 0.88724256 0.92506828 0.30012786 0.21821118]\n",
      " [0.62104295 0.5234237  0.02247506 0.43241018 0.6021122 ]]\n",
      "mean value is :  {0.4964907020910262}\n",
      "std value is:  {0.27578776810289374}\n"
     ]
    }
   ],
   "source": [
    "a=np.random.random((5,5))\n",
    "print(a)\n",
    "\n",
    "print(f'mean value is : ',{a.mean()})\n",
    "print(f'std value is: ',{a.std()})\n",
    "\n",
    "\n",
    "\n"
   ]
  }
 ],
 "metadata": {
  "kernelspec": {
   "display_name": "Python 3.10.7 64-bit",
   "language": "python",
   "name": "python3"
  },
  "language_info": {
   "codemirror_mode": {
    "name": "ipython",
    "version": 3
   },
   "file_extension": ".py",
   "mimetype": "text/x-python",
   "name": "python",
   "nbconvert_exporter": "python",
   "pygments_lexer": "ipython3",
   "version": "3.10.7"
  },
  "orig_nbformat": 4,
  "vscode": {
   "interpreter": {
    "hash": "c08f6b10d77fad09d09d755fdaa91e1358750def25b824cba47d64ca203d65a5"
   }
  }
 },
 "nbformat": 4,
 "nbformat_minor": 2
}
