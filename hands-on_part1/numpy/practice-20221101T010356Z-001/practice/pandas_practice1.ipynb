{
 "cells": [
  {
   "cell_type": "code",
   "execution_count": 2,
   "metadata": {
    "collapsed": true
   },
   "outputs": [],
   "source": [
    "import pandas as pd"
   ]
  },
  {
   "cell_type": "markdown",
   "metadata": {},
   "source": [
    "# Step 1: Read CSV file"
   ]
  },
  {
   "cell_type": "code",
   "execution_count": 1,
   "metadata": {
    "collapsed": true
   },
   "outputs": [
    {
     "name": "stdout",
     "output_type": "stream",
     "text": [
      "     pregnant  glucose  bp  skin  insulin   bmi  pedigree  age  label\n",
      "0           6      148  72    35        0  33.6     0.627   50      1\n",
      "1           1       85  66    29        0  26.6     0.351   31      0\n",
      "2           8      183  64     0        0  23.3     0.672   32      1\n",
      "3           1       89  66    23       94  28.1     0.167   21      0\n",
      "4           0      137  40    35      168  43.1     2.288   33      1\n",
      "..        ...      ...  ..   ...      ...   ...       ...  ...    ...\n",
      "763        10      101  76    48      180  32.9     0.171   63      0\n",
      "764         2      122  70    27        0  36.8     0.340   27      0\n",
      "765         5      121  72    23      112  26.2     0.245   30      0\n",
      "766         1      126  60     0        0  30.1     0.349   47      1\n",
      "767         1       93  70    31        0  30.4     0.315   23      0\n",
      "\n",
      "[768 rows x 9 columns]\n"
     ]
    }
   ],
   "source": [
    "# read /dataset/pima-indians-diabetes.csv\n",
    "import pandas as pd\n",
    "df = pd.read_csv(\"./dataset/pima-indians-diabetes.csv\")\n",
    "print(df)\n"
   ]
  },
  {
   "cell_type": "markdown",
   "metadata": {},
   "source": [
    "# Step 2: Print the first 5 row"
   ]
  },
  {
   "cell_type": "code",
   "execution_count": 2,
   "metadata": {},
   "outputs": [
    {
     "name": "stdout",
     "output_type": "stream",
     "text": [
      "   pregnant  glucose  bp  skin  insulin   bmi  pedigree  age  label\n",
      "0         6      148  72    35        0  33.6     0.627   50      1\n",
      "1         1       85  66    29        0  26.6     0.351   31      0\n",
      "2         8      183  64     0        0  23.3     0.672   32      1\n",
      "3         1       89  66    23       94  28.1     0.167   21      0\n",
      "4         0      137  40    35      168  43.1     2.288   33      1\n"
     ]
    }
   ],
   "source": [
    "print(df.head())"
   ]
  },
  {
   "cell_type": "markdown",
   "metadata": {},
   "source": [
    "# Step 3: Print only 'bmi' column"
   ]
  },
  {
   "cell_type": "code",
   "execution_count": 3,
   "metadata": {},
   "outputs": [
    {
     "name": "stdout",
     "output_type": "stream",
     "text": [
      "0      33.6\n",
      "1      26.6\n",
      "2      23.3\n",
      "3      28.1\n",
      "4      43.1\n",
      "       ... \n",
      "763    32.9\n",
      "764    36.8\n",
      "765    26.2\n",
      "766    30.1\n",
      "767    30.4\n",
      "Name: bmi, Length: 768, dtype: float64\n"
     ]
    }
   ],
   "source": [
    "print(df['bmi'])"
   ]
  },
  {
   "cell_type": "markdown",
   "metadata": {},
   "source": [
    "# Step 4: Print number of row in this dataset "
   ]
  },
  {
   "cell_type": "code",
   "execution_count": 8,
   "metadata": {},
   "outputs": [
    {
     "name": "stdout",
     "output_type": "stream",
     "text": [
      "768\n",
      "(768, 9)\n"
     ]
    }
   ],
   "source": [
    "# print(df.count(axis=0))\n",
    "print(df.shape[0])#row\n",
    "df.shape[1]#col\n",
    "print(df.shape)"
   ]
  },
  {
   "cell_type": "markdown",
   "metadata": {},
   "source": [
    "# Step 5: Print the name of all the columns"
   ]
  },
  {
   "cell_type": "code",
   "execution_count": 9,
   "metadata": {},
   "outputs": [
    {
     "name": "stdout",
     "output_type": "stream",
     "text": [
      "         pregnant     glucose          bp        skin     insulin         bmi  \\\n",
      "count  768.000000  768.000000  768.000000  768.000000  768.000000  768.000000   \n",
      "mean     3.845052  120.894531   69.105469   20.536458   79.799479   31.992578   \n",
      "std      3.369578   31.972618   19.355807   15.952218  115.244002    7.884160   \n",
      "min      0.000000    0.000000    0.000000    0.000000    0.000000    0.000000   \n",
      "25%      1.000000   99.000000   62.000000    0.000000    0.000000   27.300000   \n",
      "50%      3.000000  117.000000   72.000000   23.000000   30.500000   32.000000   \n",
      "75%      6.000000  140.250000   80.000000   32.000000  127.250000   36.600000   \n",
      "max     17.000000  199.000000  122.000000   99.000000  846.000000   67.100000   \n",
      "\n",
      "         pedigree         age       label  \n",
      "count  768.000000  768.000000  768.000000  \n",
      "mean     0.471876   33.240885    0.348958  \n",
      "std      0.331329   11.760232    0.476951  \n",
      "min      0.078000   21.000000    0.000000  \n",
      "25%      0.243750   24.000000    0.000000  \n",
      "50%      0.372500   29.000000    0.000000  \n",
      "75%      0.626250   41.000000    1.000000  \n",
      "max      2.420000   81.000000    1.000000  \n"
     ]
    }
   ],
   "source": [
    "print(df.describe())"
   ]
  },
  {
   "cell_type": "markdown",
   "metadata": {},
   "source": [
    "# Step 6: Print 13th bmi"
   ]
  },
  {
   "cell_type": "code",
   "execution_count": 15,
   "metadata": {},
   "outputs": [
    {
     "name": "stdout",
     "output_type": "stream",
     "text": [
      "    pregnant  glucose  bp  skin  insulin   bmi  pedigree  age  label\n",
      "0          6      148  72    35        0  33.6     0.627   50      1\n",
      "1          1       85  66    29        0  26.6     0.351   31      0\n",
      "2          8      183  64     0        0  23.3     0.672   32      1\n",
      "3          1       89  66    23       94  28.1     0.167   21      0\n",
      "4          0      137  40    35      168  43.1     2.288   33      1\n",
      "5          5      116  74     0        0  25.6     0.201   30      0\n",
      "6          3       78  50    32       88  31.0     0.248   26      1\n",
      "7         10      115   0     0        0  35.3     0.134   29      0\n",
      "8          2      197  70    45      543  30.5     0.158   53      1\n",
      "9          8      125  96     0        0   0.0     0.232   54      1\n",
      "10         4      110  92     0        0  37.6     0.191   30      0\n",
      "11        10      168  74     0        0  38.0     0.537   34      1\n",
      "12        10      139  80     0        0  27.1     1.441   57      0\n",
      "13         1      189  60    23      846  30.1     0.398   59      1\n",
      "14         5      166  72    19      175  25.8     0.587   51      1\n",
      "13th bmi:  {27.1}\n"
     ]
    }
   ],
   "source": [
    "print(df.head(15))\n",
    "print(f'13th bmi: ',{df['bmi'][12]})"
   ]
  },
  {
   "cell_type": "markdown",
   "metadata": {},
   "source": [
    "# Step 7: Print bmi in 3th row "
   ]
  },
  {
   "cell_type": "code",
   "execution_count": 25,
   "metadata": {},
   "outputs": [
    {
     "name": "stdout",
     "output_type": "stream",
     "text": [
      "pregnant      8.000\n",
      "glucose     183.000\n",
      "bp           64.000\n",
      "skin          0.000\n",
      "insulin       0.000\n",
      "bmi          23.300\n",
      "pedigree      0.672\n",
      "age          32.000\n",
      "label         1.000\n",
      "Name: 2, dtype: float64\n",
      "23.3\n"
     ]
    }
   ],
   "source": [
    "print(df.iloc[2])\n",
    "# print(\"\"====\"\")\n",
    "print(df.loc[2,\"bmi\"])"
   ]
  },
  {
   "cell_type": "markdown",
   "metadata": {},
   "source": [
    "# Step 8: Print bmi >=30 (show only first five column)"
   ]
  },
  {
   "cell_type": "code",
   "execution_count": 27,
   "metadata": {},
   "outputs": [
    {
     "data": {
      "text/html": [
       "<div>\n",
       "<style scoped>\n",
       "    .dataframe tbody tr th:only-of-type {\n",
       "        vertical-align: middle;\n",
       "    }\n",
       "\n",
       "    .dataframe tbody tr th {\n",
       "        vertical-align: top;\n",
       "    }\n",
       "\n",
       "    .dataframe thead th {\n",
       "        text-align: right;\n",
       "    }\n",
       "</style>\n",
       "<table border=\"1\" class=\"dataframe\">\n",
       "  <thead>\n",
       "    <tr style=\"text-align: right;\">\n",
       "      <th></th>\n",
       "      <th>pregnant</th>\n",
       "      <th>glucose</th>\n",
       "      <th>bp</th>\n",
       "      <th>skin</th>\n",
       "      <th>insulin</th>\n",
       "      <th>bmi</th>\n",
       "      <th>pedigree</th>\n",
       "      <th>age</th>\n",
       "      <th>label</th>\n",
       "    </tr>\n",
       "  </thead>\n",
       "  <tbody>\n",
       "    <tr>\n",
       "      <th>0</th>\n",
       "      <td>6</td>\n",
       "      <td>148</td>\n",
       "      <td>72</td>\n",
       "      <td>35</td>\n",
       "      <td>0</td>\n",
       "      <td>33.6</td>\n",
       "      <td>0.627</td>\n",
       "      <td>50</td>\n",
       "      <td>1</td>\n",
       "    </tr>\n",
       "    <tr>\n",
       "      <th>4</th>\n",
       "      <td>0</td>\n",
       "      <td>137</td>\n",
       "      <td>40</td>\n",
       "      <td>35</td>\n",
       "      <td>168</td>\n",
       "      <td>43.1</td>\n",
       "      <td>2.288</td>\n",
       "      <td>33</td>\n",
       "      <td>1</td>\n",
       "    </tr>\n",
       "    <tr>\n",
       "      <th>6</th>\n",
       "      <td>3</td>\n",
       "      <td>78</td>\n",
       "      <td>50</td>\n",
       "      <td>32</td>\n",
       "      <td>88</td>\n",
       "      <td>31.0</td>\n",
       "      <td>0.248</td>\n",
       "      <td>26</td>\n",
       "      <td>1</td>\n",
       "    </tr>\n",
       "    <tr>\n",
       "      <th>7</th>\n",
       "      <td>10</td>\n",
       "      <td>115</td>\n",
       "      <td>0</td>\n",
       "      <td>0</td>\n",
       "      <td>0</td>\n",
       "      <td>35.3</td>\n",
       "      <td>0.134</td>\n",
       "      <td>29</td>\n",
       "      <td>0</td>\n",
       "    </tr>\n",
       "    <tr>\n",
       "      <th>8</th>\n",
       "      <td>2</td>\n",
       "      <td>197</td>\n",
       "      <td>70</td>\n",
       "      <td>45</td>\n",
       "      <td>543</td>\n",
       "      <td>30.5</td>\n",
       "      <td>0.158</td>\n",
       "      <td>53</td>\n",
       "      <td>1</td>\n",
       "    </tr>\n",
       "  </tbody>\n",
       "</table>\n",
       "</div>"
      ],
      "text/plain": [
       "   pregnant  glucose  bp  skin  insulin   bmi  pedigree  age  label\n",
       "0         6      148  72    35        0  33.6     0.627   50      1\n",
       "4         0      137  40    35      168  43.1     2.288   33      1\n",
       "6         3       78  50    32       88  31.0     0.248   26      1\n",
       "7        10      115   0     0        0  35.3     0.134   29      0\n",
       "8         2      197  70    45      543  30.5     0.158   53      1"
      ]
     },
     "execution_count": 27,
     "metadata": {},
     "output_type": "execute_result"
    }
   ],
   "source": [
    "df[df[\"bmi\"]>=30].head() \n",
    "# df[df['bmi']>=30][3:5]"
   ]
  },
  {
   "cell_type": "markdown",
   "metadata": {},
   "source": [
    "# Step 9: Calculate mean of age"
   ]
  },
  {
   "cell_type": "code",
   "execution_count": 28,
   "metadata": {},
   "outputs": [
    {
     "data": {
      "text/plain": [
       "33.240885416666664"
      ]
     },
     "execution_count": 28,
     "metadata": {},
     "output_type": "execute_result"
    }
   ],
   "source": [
    "df['age'].mean()"
   ]
  },
  {
   "cell_type": "markdown",
   "metadata": {},
   "source": [
    "# Step 10: Create a new column call \"magic_number\" and each row of magic number equal bmi plus age"
   ]
  },
  {
   "cell_type": "code",
   "execution_count": 30,
   "metadata": {
    "collapsed": true
   },
   "outputs": [],
   "source": [
    "df['magic_number']=df['bmi']+df['age']"
   ]
  },
  {
   "cell_type": "code",
   "execution_count": 31,
   "metadata": {},
   "outputs": [
    {
     "name": "stdout",
     "output_type": "stream",
     "text": [
      "     pregnant  glucose  bp  skin  insulin   bmi  pedigree  age  label  \\\n",
      "0           6      148  72    35        0  33.6     0.627   50      1   \n",
      "1           1       85  66    29        0  26.6     0.351   31      0   \n",
      "2           8      183  64     0        0  23.3     0.672   32      1   \n",
      "3           1       89  66    23       94  28.1     0.167   21      0   \n",
      "4           0      137  40    35      168  43.1     2.288   33      1   \n",
      "..        ...      ...  ..   ...      ...   ...       ...  ...    ...   \n",
      "763        10      101  76    48      180  32.9     0.171   63      0   \n",
      "764         2      122  70    27        0  36.8     0.340   27      0   \n",
      "765         5      121  72    23      112  26.2     0.245   30      0   \n",
      "766         1      126  60     0        0  30.1     0.349   47      1   \n",
      "767         1       93  70    31        0  30.4     0.315   23      0   \n",
      "\n",
      "     magic_number  \n",
      "0            83.6  \n",
      "1            57.6  \n",
      "2            55.3  \n",
      "3            49.1  \n",
      "4            76.1  \n",
      "..            ...  \n",
      "763          95.9  \n",
      "764          63.8  \n",
      "765          56.2  \n",
      "766          77.1  \n",
      "767          53.4  \n",
      "\n",
      "[768 rows x 10 columns]\n"
     ]
    }
   ],
   "source": [
    "print(df)"
   ]
  },
  {
   "cell_type": "code",
   "execution_count": null,
   "metadata": {
    "collapsed": true
   },
   "outputs": [],
   "source": []
  }
 ],
 "metadata": {
  "kernelspec": {
   "display_name": "Python 3.10.7 64-bit",
   "language": "python",
   "name": "python3"
  },
  "language_info": {
   "codemirror_mode": {
    "name": "ipython",
    "version": 3
   },
   "file_extension": ".py",
   "mimetype": "text/x-python",
   "name": "python",
   "nbconvert_exporter": "python",
   "pygments_lexer": "ipython3",
   "version": "3.10.7"
  },
  "vscode": {
   "interpreter": {
    "hash": "c08f6b10d77fad09d09d755fdaa91e1358750def25b824cba47d64ca203d65a5"
   }
  }
 },
 "nbformat": 4,
 "nbformat_minor": 2
}
