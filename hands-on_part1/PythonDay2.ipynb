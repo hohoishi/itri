{
 "cells": [
  {
   "cell_type": "markdown",
   "metadata": {},
   "source": [
    "<div style=\"page-break-after: always\"></div>\n",
    "<h1>Module_06_基本輸入與輸出</h1>"
   ]
  },
  {
   "cell_type": "markdown",
   "metadata": {},
   "source": [
    "> ### 標準輸入裝置 : 鍵盤 keyboard\n",
    "> ### 標準輸出裝置 : 螢幕 monitor"
   ]
  },
  {
   "cell_type": "markdown",
   "metadata": {},
   "source": [
    ">### 所有 OS 在啟動時, 都會開啟 3 個程式 :\n",
    ">> * standard out  (stdout) -- screen\n",
    ">> * stand input   (stdin)  -- keyboard\n",
    ">> * standard error(stderr) -- screen\n",
    "\n",
    ">#### print() 函數會把收到的運算轉成`文字`，再把結果送到螢幕上"
   ]
  },
  {
   "cell_type": "code",
   "execution_count": 5,
   "metadata": {},
   "outputs": [
    {
     "name": "stdout",
     "output_type": "stream",
     "text": [
      "11?22?33\n",
      "11?22?33\n",
      "11?22?33....11 22 33\n"
     ]
    }
   ],
   "source": [
    "print(11, 22, 33, sep='?')  # try end = '\\n', ''\n",
    "print(11, 22, 33, sep='?', end='\\n')  # try end = '\\n', ''\n",
    "print(11, 22, 33, sep='?', end='....')  # try end = '\\n', ''\n",
    "print(11, 22, 33)"
   ]
  },
  {
   "cell_type": "code",
   "execution_count": null,
   "metadata": {},
   "outputs": [],
   "source": [
    "x = 3.000\n",
    "# python2\n",
    "# print'x is' + str(x)\n",
    "\n",
    "#python 3\n",
    "print('x is\\t:', x)\n",
    "print('x is\\t:'+str(x))\n",
    "print(f'x is\\t:{x}\\n')"
   ]
  },
  {
   "cell_type": "code",
   "execution_count": null,
   "metadata": {},
   "outputs": [],
   "source": [
    "print('Hello '+str(x))\n",
    "print('Hello'+ x)  # error, but java OK"
   ]
  },
  {
   "cell_type": "code",
   "execution_count": 6,
   "metadata": {},
   "outputs": [
    {
     "name": "stdout",
     "output_type": "stream",
     "text": [
      "😀\n",
      "🌺\n",
      "🐯\n",
      "😆\n",
      "🤣\n",
      "✊\n",
      "✋\n",
      "✌\n"
     ]
    }
   ],
   "source": [
    "# grinning face\n",
    "print(f\"\\U0001F600\")\n",
    "print(\"\\U0001F33A\")\n",
    "print('\\U0001F42f')\n",
    "# grinning squinting face\n",
    "print(\"\\U0001F606\")\n",
    " \n",
    "# rolling on the floor laughing\n",
    "print(\"\\U0001F923\")\n",
    "print('\\U0000270A');print('\\U0000270B');print('\\U0000270C')"
   ]
  },
  {
   "cell_type": "markdown",
   "metadata": {},
   "source": [
    "### 介紹 input([prompt]) 用法\n",
    ">### 如果有提供“prompt” 參數，則螢幕會出現“prompt” 訊息，然後游標停在訊息後面等待輸入資料\n",
    "\n",
    ">#### 由input()得到的資料㇐律為`字串`。eval()函數輸入必須是字串。"
   ]
  },
  {
   "cell_type": "code",
   "execution_count": 9,
   "metadata": {},
   "outputs": [
    {
     "data": {
      "text/plain": [
       "'123'"
      ]
     },
     "execution_count": 9,
     "metadata": {},
     "output_type": "execute_result"
    }
   ],
   "source": [
    "x = input('x = ')  # x= is prompt\n",
    "x  # x is "
   ]
  },
  {
   "cell_type": "code",
   "execution_count": 11,
   "metadata": {},
   "outputs": [
    {
     "data": {
      "text/plain": [
       "2135"
      ]
     },
     "execution_count": 11,
     "metadata": {},
     "output_type": "execute_result"
    }
   ],
   "source": [
    "x = int(input('x = '))\n",
    "x  # x is int"
   ]
  },
  {
   "cell_type": "markdown",
   "metadata": {},
   "source": [
    "### 介紹 input string 用法"
   ]
  },
  {
   "cell_type": "code",
   "execution_count": 12,
   "metadata": {},
   "outputs": [
    {
     "data": {
      "text/plain": [
       "'john'"
      ]
     },
     "execution_count": 12,
     "metadata": {},
     "output_type": "execute_result"
    }
   ],
   "source": [
    "x = input('input string').lower()   # how about \"upper\", \"title\", \"capitalize\" ?\n",
    "x"
   ]
  },
  {
   "cell_type": "markdown",
   "metadata": {},
   "source": [
    "### 介紹 eval 用法\n",
    "> #### eval() 函數會將收到的參數做運算後傳回結果, eval()函數輸入必須是`字串`。"
   ]
  },
  {
   "cell_type": "code",
   "execution_count": 13,
   "metadata": {},
   "outputs": [
    {
     "ename": "TypeError",
     "evalue": "eval() arg 1 must be a string, bytes or code object",
     "output_type": "error",
     "traceback": [
      "\u001b[1;31m---------------------------------------------------------------------------\u001b[0m",
      "\u001b[1;31mTypeError\u001b[0m                                 Traceback (most recent call last)",
      "Cell \u001b[1;32mIn [13], line 1\u001b[0m\n\u001b[1;32m----> 1\u001b[0m \u001b[39meval\u001b[39;49m(\u001b[39m5\u001b[39;49m\u001b[39m*\u001b[39;49m\u001b[39m*\u001b[39;49m\u001b[39m30\u001b[39;49m)\n",
      "\u001b[1;31mTypeError\u001b[0m: eval() arg 1 must be a string, bytes or code object"
     ]
    }
   ],
   "source": [
    "eval(5**30)  # error : shall be string"
   ]
  },
  {
   "cell_type": "code",
   "execution_count": 14,
   "metadata": {},
   "outputs": [
    {
     "data": {
      "text/plain": [
       "931322574615478515625"
      ]
     },
     "execution_count": 14,
     "metadata": {},
     "output_type": "execute_result"
    }
   ],
   "source": [
    "eval('5**30') # correct"
   ]
  },
  {
   "cell_type": "code",
   "execution_count": null,
   "metadata": {},
   "outputs": [],
   "source": [
    "num= eval(input('input number (ex. 5*6+8/6 or 9/4+8-4):'))  # like 3*5\n",
    "num   # it is a number"
   ]
  },
  {
   "cell_type": "markdown",
   "metadata": {},
   "source": [
    "### Python 三種格式化輸出\n",
    "> * f - 字串 (f-String)\n",
    ">> 語法是最新的《Python 3.6 以後》\n",
    "> * 文字格式化方法 (str.format())\n",
    ">> 語法最常見《Python 3 以後》\n",
    "> * 文字格式化運算子 (% Operator)\n",
    ">>語法是最舊的《Python 2》\n",
    "\n",
    "### % [optional] [寬度] (digit, float, string)\n",
    "> * %s 對應文字\n",
    "> * %d 對應整數\n",
    "> * %.nf n 是小數點位數、f 表示浮點數,  ex. .2f 是浮點數四捨五入到小數點後第二位\n",
    "> * %.ne n 是小數點位數、e 表示科學記號\n",
    "> * %b ：二進位\n",
    "> * %x ：十六進位"
   ]
  },
  {
   "cell_type": "code",
   "execution_count": 15,
   "metadata": {},
   "outputs": [
    {
     "name": "stdout",
     "output_type": "stream",
     "text": [
      "a=4321, b=3.141593\n",
      "a=              4321\n",
      "a=      4321\n",
      "a= 4321 \n",
      "\n",
      "b=3.141593\n",
      "b=3.1416\n",
      "b=3.1\n",
      "b=000003.142 \n",
      "\n",
      "c=  abcd\n",
      "c=     abcd\n",
      "c=  abcd\n"
     ]
    }
   ],
   "source": [
    "a = 4321; b = 3.1415926; c = 'abcd'\n",
    "\n",
    "print('a=%d, b=%f' %(a, b))    # without space\n",
    "print('a=              %d' %a)              # with space\n",
    "print('a=%10d' %a)\n",
    "print('a=% 3d' %a,'\\n')\n",
    "\n",
    "print('b=%f' %b)\n",
    "print('b=%3.4f' %b)\n",
    "print('b=%2.1f' %b)\n",
    "print('b=%010.3f' %b,'\\n')\n",
    "\n",
    "print('c=%6s' %c)\n",
    "print('c= %8s' %c)\n",
    "print('c=  %s' %c)"
   ]
  },
  {
   "cell_type": "markdown",
   "metadata": {},
   "source": [
    "### format"
   ]
  },
  {
   "cell_type": "code",
   "execution_count": 18,
   "metadata": {},
   "outputs": [
    {
     "name": "stdout",
     "output_type": "stream",
     "text": [
      "Tom, Eric and Jack\n",
      "Eric, Jack and Tom\n",
      "Jack, Tom and Eric\n",
      "Tom*****,     Eric and **Jack**\n",
      "88,886,625.9\n"
     ]
    }
   ],
   "source": [
    "print('{}, {} and {}'.format('Tom', 'Eric', 'Jack'))\n",
    "print('{1}, {2} and {0}'.format('Tom', 'Eric', 'Jack'))\n",
    "print('{c}, {a} and {b}'.format(a='Tom', b='Eric', c='Jack'))\n",
    "print('{:*<8}, {:>8} and {:*^8}'.format('Tom', 'Eric', 'Jack')) #*<8=至左補星號共八位\n",
    "print('{:0>5,.1f}'.format(88886625.890372))"
   ]
  },
  {
   "cell_type": "markdown",
   "metadata": {},
   "source": [
    "### f-string :　f|F '{ 變數 : [填補字元] [靠左<, ^置中, 靠右>] [寬度][d/f/...] }'\n",
    "\n",
    "> ### 以“f|F” 開頭的字串，可以使用大括號包含運算式"
   ]
  },
  {
   "cell_type": "code",
   "execution_count": 20,
   "metadata": {},
   "outputs": [
    {
     "name": "stdout",
     "output_type": "stream",
     "text": [
      "Google** was established in **1998**.\n",
      "74\n",
      "000074.000\n"
     ]
    }
   ],
   "source": [
    "name = 'Google'; est  = 1998\n",
    "\n",
    "print(f'{name:*<8} was established in {est:*^8}.') \n",
    "print(f'{2*37}')\n",
    "print(f'{2*37:0>10.3f}')"
   ]
  },
  {
   "cell_type": "code",
   "execution_count": 21,
   "metadata": {},
   "outputs": [
    {
     "name": "stdout",
     "output_type": "stream",
     "text": [
      "a:0<10d \t= 4321000000\n",
      "a:0>10d \t= 0000004321\n",
      "b:0>10f \t= 003.456000\n",
      "c:9>10s \t= 999999abcd\n"
     ]
    }
   ],
   "source": [
    "a=4321; b=3.456; c='abcd'\n",
    " \n",
    "print(f'a:0<10d \\t= {a:0<10d}')  # a 整數\n",
    "print(f'a:0>10d \\t= {a:0>10d}') \n",
    "\n",
    "print(f'b:0>10f \\t= {b:0>10f}')  # 留意, 未指定小數點幾位時, 預設六位小數\n",
    "print(f'c:9>10s \\t= {c:9>10s}') "
   ]
  },
  {
   "cell_type": "code",
   "execution_count": 22,
   "metadata": {},
   "outputs": [
    {
     "name": "stdout",
     "output_type": "stream",
     "text": [
      "type(a) = <class 'int'>\n",
      "\n",
      "float\t\t: 20.00\n",
      "binary\t\t: 10100\n",
      "octal\t\t: 24\n",
      "hex\t\t: 14\n",
      "\n"
     ]
    }
   ],
   "source": [
    "a = 20\n",
    "print(F'type(a) = {type(a)}\\n')\n",
    "\n",
    "print(f'float\\t\\t: {a:3.2f}')   # floating\n",
    "print(f'binary\\t\\t: {a:b}')     # binary\n",
    "print(f'octal\\t\\t: {a:o}')      # Octal\n",
    "print(f'hex\\t\\t: {a:x}\\n')      # Hex"
   ]
  },
  {
   "cell_type": "code",
   "execution_count": null,
   "metadata": {},
   "outputs": [],
   "source": [
    "# 字串格式化\n",
    "num = 6612.56789678\n",
    "print(f'num\\t: {num}')\n",
    "print(f'06.2f\\t: {num:06,.2f}')       # 000,000.00\n",
    "print(f'.0f\\t: {num:,.0f}')\n",
    "print(f'3.2f\\t: {num:3.2f}')\n",
    "print(f'0>15.6f\\t: {num:0>15.6f}')    #靠右\n",
    "print(f'0^15f\\t: {num:0^15f}')        #置中\n",
    "print(f'0<15.3f\\t: {num:0<15.3f}\\n')  #靠左\n",
    "\n",
    "print(f'%\\t: {5/8:.2%}')                   # %\n",
    "print(f'88:b\\t: {88:b}')"
   ]
  },
  {
   "cell_type": "markdown",
   "metadata": {},
   "source": [
    "## (), [], {} 可直接換行 "
   ]
  },
  {
   "cell_type": "code",
   "execution_count": null,
   "metadata": {},
   "outputs": [],
   "source": [
    "name = 'Google'; prof = 'scientist'; lang = 'Python'\n",
    "print(f'Hi {name}. '\n",
    "      f'You are a {prof}. ' \n",
    "      f'You like {lang}.')\n",
    "\n",
    "print(f'Hi {name}.\\\n",
    "        You are a {prof}.\\\n",
    "        You like {lang}.')"
   ]
  },
  {
   "cell_type": "markdown",
   "metadata": {},
   "source": [
    "### 介紹 日期時間格式\n",
    ">### timestamp : 1970-01-01 ~ 2038-01-19\n",
    ">### YYYY-mm-dd HH:MM:SS 的格式相容性高，很多資料庫都支援"
   ]
  },
  {
   "cell_type": "code",
   "execution_count": null,
   "metadata": {},
   "outputs": [],
   "source": [
    "from datetime import datetime, date, time, timezone\n",
    "datetime.now(), datetime.today()"
   ]
  },
  {
   "cell_type": "markdown",
   "metadata": {},
   "source": [
    "### 1970/01/01 00:00:00 timestamp"
   ]
  },
  {
   "cell_type": "code",
   "execution_count": null,
   "metadata": {},
   "outputs": [],
   "source": [
    "import time\n",
    "dt = datetime(1970, 1, 1, 0, 0, 0, tzinfo=timezone.utc).timestamp()\n",
    "dt, time.time()"
   ]
  },
  {
   "cell_type": "code",
   "execution_count": null,
   "metadata": {},
   "outputs": [],
   "source": [
    "from datetime import datetime, date, time\n",
    "\n",
    "dt = datetime(2021, 10, 29, 20, 30, 21)\n",
    "\n",
    "print('dt\\t\\t:', dt, ', timestamp : ', dt.timestamp())\n",
    "\n",
    "print('dt.day\\t\\t:', dt.day)             # dt.year, dt.month, dt.day\n",
    "print('dt.minute\\t:', dt.minute,'\\n')    # dt.hour, dt.minute, dt.second\n",
    "\n",
    "print('dt.date()\\t:', dt.date())\n",
    "print('dt.time()\\t:', dt.time(),'\\n')"
   ]
  },
  {
   "cell_type": "markdown",
   "metadata": {},
   "source": [
    "### datetime.strftime(), datetime.strptime() 兩種方法中的差別 f 和 p 分別對應著 format（格式）和 parse（解析）。"
   ]
  },
  {
   "cell_type": "markdown",
   "metadata": {},
   "source": [
    "### datetime.strftime() 方法將 datetime 轉化為`字串`。"
   ]
  },
  {
   "cell_type": "code",
   "execution_count": null,
   "metadata": {},
   "outputs": [],
   "source": [
    "dt = datetime(2021, 10, 29, 20, 30, 21)\n",
    "dtStr='%m/%d/%Y %H:%M:%S'\n",
    "print(f'{dtStr}\\t: {dt.strftime(dtStr)}')"
   ]
  },
  {
   "cell_type": "markdown",
   "metadata": {},
   "source": [
    "### datetime.strptime() 方法將`字串`轉換為 datetime"
   ]
  },
  {
   "cell_type": "code",
   "execution_count": null,
   "metadata": {},
   "outputs": [],
   "source": [
    "dtStr = \"20091031101010\"\n",
    "dtFt = \"%Y%m%d%H%M%S\"\n",
    "\n",
    "dtStr = \"Monday, July 16, 2018 20:01:56\"\n",
    "dtFt = \"%A, %B %d, %Y %H:%M:%S\"\n",
    "print(f'{dtStr} \\t\\t: {datetime.strptime(dtStr, dtFt)}')"
   ]
  },
  {
   "cell_type": "markdown",
   "metadata": {},
   "source": [
    "### dt.replace"
   ]
  },
  {
   "cell_type": "code",
   "execution_count": null,
   "metadata": {},
   "outputs": [],
   "source": [
    "print('dt.replace(minute=0, second=0)\\t\\t\\t\\t\\t\\t\\t:', dt.replace(minute=0, second=0),'\\n')"
   ]
  },
  {
   "cell_type": "markdown",
   "metadata": {},
   "source": [
    "|strftime() directive | Meaning                         |\n",
    "|:-------------------:|:--------------------------------|\n",
    "| %Y | Year with century, as in '2014'                  |\n",
    "| %y | Year without century, '00' to '99' (1970 to 2069)|\n",
    "| %m | Month as a decimal number, '01' to '12'          |\n",
    "| %B | Full month name, as in 'November'                |\n",
    "| %b | Abbreviated month name, as in 'Nov'              |\n",
    "| %d | Day of the month, '01' to '31'                   |\n",
    "| %j | Day of the year, '001' to '366'                  |\n",
    "| %w | Day of the week, '0' (Sunday) to '6' (Saturday)  |\n",
    "| %A | Full weekday name, as in 'Monday'                |\n",
    "| %a | Abbreviated weekday name, as in 'Mon'            |\n",
    "| %H | Hour (24-hour clock), '00' to '23'               |\n",
    "| %I | Hour (12-hour clock), '01' to '12'               |\n",
    "| %M | Minute, '00' to '59'                             |\n",
    "| %S | Second, '00' to '59'                             |\n",
    "| %p | 'AM' or 'PM'                                     |\n",
    "| %% | Literal '%' character                            |"
   ]
  },
  {
   "cell_type": "code",
   "execution_count": null,
   "metadata": {},
   "outputs": [],
   "source": [
    "dt2 = datetime(2016, 11, 15, 22, 30)\n",
    "print('dt = ', dt,', dt2 = ', dt2, '\\n')\n",
    "\n",
    "delta = dt2 - dt\n",
    "print('delta\\t\\t\\t=', delta)\n",
    "print('delta.days\\t\\t=', delta.days)\n",
    "print('delta.seconds\\t\\t=', delta.seconds, '\\n')\n",
    "\n",
    "print('type(delta)\\t\\t:', type(delta))\n",
    "print('dt  + delta = dt2\\t:', dt + delta)"
   ]
  },
  {
   "cell_type": "markdown",
   "metadata": {},
   "source": [
    "## \"f/F\" means fast"
   ]
  },
  {
   "cell_type": "code",
   "execution_count": 23,
   "metadata": {},
   "outputs": [
    {
     "name": "stdout",
     "output_type": "stream",
     "text": [
      "304 ns ± 3.16 ns per loop (mean ± std. dev. of 7 runs, 1,000,000 loops each)\n",
      "367 ns ± 7.85 ns per loop (mean ± std. dev. of 7 runs, 1,000,000 loops each)\n",
      "183 ns ± 0.553 ns per loop (mean ± std. dev. of 7 runs, 10,000,000 loops each)\n"
     ]
    }
   ],
   "source": [
    "name = 'Google'; est = 1998\n",
    "\n",
    "%timeit '%s was establihed %d' %(name, est)      # fast\n",
    "%timeit '{} was establihed {}'.format(name, est) # slow\n",
    "%timeit f'{name} was established in {est}'       # faster"
   ]
  },
  {
   "cell_type": "markdown",
   "metadata": {},
   "source": [
    "## % and format"
   ]
  },
  {
   "cell_type": "code",
   "execution_count": null,
   "metadata": {},
   "outputs": [],
   "source": [
    "name = 'Google'; est  = 1998\n",
    "data ={'name':'Google', 'est':1998}\n",
    "# %\n",
    "print('The name is %s, aged %d' %(name, est), '\\n')\n",
    "\n",
    "# format\n",
    "print('{:8s} was established in {:10d}'.format(name, est)) \n",
    "print('{name} was established in {est}'.format(**data))  # unpack\n",
    "print('{1:10d} was established in {0:8s}'.format(name, est), '\\n') "
   ]
  },
  {
   "cell_type": "code",
   "execution_count": null,
   "metadata": {},
   "outputs": [],
   "source": [
    "'{2}, {1}, {0}'.format(*'abc') # unpack"
   ]
  },
  {
   "cell_type": "code",
   "execution_count": null,
   "metadata": {},
   "outputs": [],
   "source": [
    "'{1}, {1}, {0}'.format('abc', 'def', 'ghi') # unpack"
   ]
  },
  {
   "cell_type": "markdown",
   "metadata": {},
   "source": [
    "---"
   ]
  },
  {
   "cell_type": "markdown",
   "metadata": {},
   "source": [
    "<div style=\"page-break-after: always\"></div>\n",
    "\n",
    "# Module_07_程式的流程控制-條件判斷 if...else"
   ]
  },
  {
   "cell_type": "markdown",
   "metadata": {},
   "source": [
    ">### – 分號( ; ) 允許在㇐列有多個敘述\n",
    ">### 以分號隔開，視為㇐個敘述，不需要縮排"
   ]
  },
  {
   "cell_type": "code",
   "execution_count": 24,
   "metadata": {},
   "outputs": [
    {
     "name": "stdout",
     "output_type": "stream",
     "text": [
      "Result: 10\n"
     ]
    }
   ],
   "source": [
    "x=3; y=7; print('Result:',x+y)"
   ]
  },
  {
   "cell_type": "markdown",
   "metadata": {},
   "source": [
    "### 使用反斜線 Backslash(\\) 就可以讓 Python 程式將多行是為㇐個程式敘述 (Statement), 下㇐行要不要往內縮或對其都是無所謂的，即接續的下㇐行跟縮排毫無關係。"
   ]
  },
  {
   "cell_type": "code",
   "execution_count": 26,
   "metadata": {},
   "outputs": [
    {
     "data": {
      "text/plain": [
       "50"
      ]
     },
     "execution_count": 26,
     "metadata": {},
     "output_type": "execute_result"
    }
   ],
   "source": [
    "total = 11+ \\\n",
    "12 + \\\n",
    "13 + \\\n",
    "14\n",
    "total"
   ]
  },
  {
   "cell_type": "markdown",
   "metadata": {},
   "source": [
    "### 在[], {} 或()內的敘述不需要使用反斜線Backslash(\\)就可以接續下㇐行。"
   ]
  },
  {
   "cell_type": "code",
   "execution_count": null,
   "metadata": {},
   "outputs": [],
   "source": [
    "days =['Sun', 'Mon', 'Tue',\n",
    "       'Wed', 'Thu', 'Fri', 'Sat']      # try {}, ()\n",
    "days"
   ]
  },
  {
   "cell_type": "markdown",
   "metadata": {},
   "source": [
    "## comments\n",
    ">### '#' 代表註解 (必須不在字串內)，所有 # 後的整列視為註解，Python直譯器會忽略它們, 習慣上 # 後面空㇐格"
   ]
  },
  {
   "cell_type": "code",
   "execution_count": null,
   "metadata": {},
   "outputs": [],
   "source": [
    "# #真正的備註\n",
    "# this is python\n",
    "# hello python\n",
    "# no any evaluate"
   ]
  },
  {
   "cell_type": "code",
   "execution_count": null,
   "metadata": {},
   "outputs": [],
   "source": [
    "# document String\n",
    "'''\n",
    "this is python\n",
    "hello python\n",
    "'''\n",
    "# still evaluate.  It is not a comment.   slow down your program"
   ]
  },
  {
   "cell_type": "markdown",
   "metadata": {},
   "source": [
    "## 介紹 if ... else ...\n",
    "> ### Python 使用縮排的方式來表達㇐組敘述, 縮排的空格數可以不同，但是同㇐組敘述的空格數必須㇐致\n",
    "> * 相同空格數的所有敘述組合成㇐個區塊\n",
    "> * Python 建議使用 4 個空格來表達㇐個區塊"
   ]
  },
  {
   "cell_type": "code",
   "execution_count": 27,
   "metadata": {},
   "outputs": [
    {
     "name": "stdout",
     "output_type": "stream",
     "text": [
      "True\n"
     ]
    }
   ],
   "source": [
    "if True:                      \n",
    "    print('True')\n",
    "else:\n",
    "    print('False')"
   ]
  },
  {
   "cell_type": "code",
   "execution_count": 33,
   "metadata": {},
   "outputs": [
    {
     "name": "stdout",
     "output_type": "stream",
     "text": [
      "x != 3\n"
     ]
    }
   ],
   "source": [
    "x = 3\n",
    "if x == 3:\n",
    "    print ('x = 3')\n",
    "else :\n",
    "    print ('x != 3')"
   ]
  },
  {
   "cell_type": "code",
   "execution_count": 34,
   "metadata": {},
   "outputs": [
    {
     "name": "stdout",
     "output_type": "stream",
     "text": [
      "Answer\n",
      "True\n"
     ]
    }
   ],
   "source": [
    "# 以下區塊會產生錯誤  縮排不對\n",
    "if True:\n",
    "    print('Answer')\n",
    "    print('True')\n",
    "else:\n",
    "    print('Answer')\n",
    "   print('False')"
   ]
  },
  {
   "cell_type": "code",
   "execution_count": 37,
   "metadata": {},
   "outputs": [
    {
     "name": "stdout",
     "output_type": "stream",
     "text": [
      "Not pass!\n"
     ]
    }
   ],
   "source": [
    "# %run mod07/ifstmt2.py\n",
    "# if-else stmt\n",
    "s = int(input('Input score: '))\n",
    "\n",
    "if s >= 60:\n",
    "    print('Pass!')\n",
    "else:\n",
    "    print('Not pass!')"
   ]
  },
  {
   "cell_type": "code",
   "execution_count": 45,
   "metadata": {},
   "outputs": [
    {
     "name": "stdout",
     "output_type": "stream",
     "text": [
      "a is a number\n"
     ]
    }
   ],
   "source": [
    "a = 0\n",
    "if a==1:\n",
    "    print('a is 1')\n",
    "print('a is a number')  # 這個 print在 if 之外"
   ]
  },
  {
   "cell_type": "markdown",
   "metadata": {},
   "source": [
    "## Python 的False 如下：\n",
    "> ### False、None、0、0.0\n",
    "> ### 空字串‘'、空串列[]、空元組()\n",
    "> ### 空字典{}、空集合set()"
   ]
  },
  {
   "cell_type": "code",
   "execution_count": 46,
   "metadata": {
    "scrolled": true
   },
   "outputs": [
    {
     "name": "stdout",
     "output_type": "stream",
     "text": [
      "lst\t\t\t=  []\n",
      "False == bool(lst))\t: True\n",
      "False == bool(None)\t: True\n",
      "False == 0\t\t: True\n"
     ]
    }
   ],
   "source": [
    "lst = [11, 22]\n",
    "lst.clear()  # [], False, [] == False\n",
    "\n",
    "print('lst\\t\\t\\t= ', lst)  # empty list\n",
    "print('False == bool(lst))\\t:', False == bool(lst))\n",
    "print('False == bool(None)\\t:', False == bool(None))\n",
    "print('False == 0\\t\\t:', False == 0)"
   ]
  },
  {
   "cell_type": "code",
   "execution_count": null,
   "metadata": {
    "scrolled": true
   },
   "outputs": [],
   "source": [
    "print('False == 0.0\\t\\t:', False == 0.0)\n",
    "print('False == bool(())\\t:', False == bool(()))  # empty tuple\n",
    "print('False == bool({})\\t:', False == bool({}))  # empty dictionary"
   ]
  },
  {
   "cell_type": "code",
   "execution_count": 47,
   "metadata": {},
   "outputs": [
    {
     "name": "stdout",
     "output_type": "stream",
     "text": [
      "None, Flase\n"
     ]
    }
   ],
   "source": [
    "a = ()  # same if a :\n",
    "\n",
    "if ():  # try [], {}, None, False, '' ()=false\n",
    "    print ('True')\n",
    "else :\n",
    "    print('None, Flase')"
   ]
  },
  {
   "cell_type": "markdown",
   "metadata": {},
   "source": [
    "## if expression:\n",
    "> ### statement(s)"
   ]
  },
  {
   "cell_type": "code",
   "execution_count": 48,
   "metadata": {},
   "outputs": [
    {
     "name": "stdout",
     "output_type": "stream",
     "text": [
      "True expr 1 :  100\n",
      "var1 Finished!\n",
      "var2 Finished!\n"
     ]
    }
   ],
   "source": [
    "var1 = 100 \n",
    "if var1: \n",
    "    print('True expr 1 : ', var1) \n",
    "print('var1 Finished!')\n",
    "# -------------------------------    \n",
    "var2 = 0 \n",
    "if var2: \n",
    "    print('True expr 2 : ', var2) \n",
    "    \n",
    "print('var2 Finished!')"
   ]
  },
  {
   "cell_type": "markdown",
   "metadata": {},
   "source": [
    "## if ... else ..."
   ]
  },
  {
   "cell_type": "code",
   "execution_count": 49,
   "metadata": {},
   "outputs": [
    {
     "name": "stdout",
     "output_type": "stream",
     "text": [
      "Discount 200.0\n"
     ]
    }
   ],
   "source": [
    "amt = 2000\n",
    "if amt < 1000:\n",
    "    discount = amt * 0.05\n",
    "    print('Discount', discount)\n",
    "else:\n",
    "    discount = amt * 0.10\n",
    "    print('Discount', discount)"
   ]
  },
  {
   "cell_type": "markdown",
   "metadata": {},
   "source": [
    "## if ... elif ... else"
   ]
  },
  {
   "cell_type": "code",
   "execution_count": 50,
   "metadata": {},
   "outputs": [
    {
     "name": "stdout",
     "output_type": "stream",
     "text": [
      "Discount: 45.0\n",
      "Net price: 855.0\n"
     ]
    }
   ],
   "source": [
    "amt = int(input('Enter amount: '))      #遇到第一個滿足的就ok   小的要寫上面    如果第一個寫100000 下面都沒了\n",
    "\n",
    "if amt < 1000:\n",
    "    discount = amt * 0.05\n",
    "    print('Discount:', discount)\n",
    "elif amt < 5000:\n",
    "    discount = amt * 0.10\n",
    "    print('Discount:', discount)\n",
    "elif amt < 10000:\n",
    "    discount = amt * 0.15\n",
    "    print('Discount:', discount)\n",
    "else:\n",
    "    discount = amt * 0.20\n",
    "    print('Discount:', discount)\n",
    "\n",
    "print('Net price:', amt - discount)"
   ]
  },
  {
   "cell_type": "markdown",
   "metadata": {},
   "source": [
    "## nested if ... else ..."
   ]
  },
  {
   "cell_type": "code",
   "execution_count": null,
   "metadata": {},
   "outputs": [],
   "source": [
    "num = int(input('enter number'))\n",
    "if num%2 == 0:        # 整除 2\n",
    "    if num%3 == 0:    # 整除 3\n",
    "        print('Divisible by 2 and 3')\n",
    "    else:             # 不整除 3\n",
    "        print('Divisible by 2, not divisible by 3')\n",
    "else:                 # 不整除 2\n",
    "    if num%3 == 0:\n",
    "        print('Divisible by 3, not divisible by 2')\n",
    "    else:\n",
    "        print('Not Divisible by 2, not divisible by 3')"
   ]
  },
  {
   "cell_type": "markdown",
   "metadata": {},
   "source": [
    "## 'if' Single Statement Suites"
   ]
  },
  {
   "cell_type": "code",
   "execution_count": 52,
   "metadata": {},
   "outputs": [
    {
     "name": "stdout",
     "output_type": "stream",
     "text": [
      "Value is 50\n",
      "Finished!\n"
     ]
    }
   ],
   "source": [
    "var = 50\n",
    "# Only one statement\n",
    "if var==50: print('Value is 50')\n",
    "if var==40: print('Value is 40')\n",
    "print('Finished!')"
   ]
  },
  {
   "cell_type": "code",
   "execution_count": 56,
   "metadata": {},
   "outputs": [
    {
     "name": "stdout",
     "output_type": "stream",
     "text": [
      "False\n"
     ]
    }
   ],
   "source": [
    "a=9\n",
    "if a%2:     # 9%2 = 1, True\n",
    "    print('Apple') \n",
    "else: \n",
    "    print('False')\n",
    "\n",
    "# practice print.....if   else pr...."
   ]
  },
  {
   "cell_type": "markdown",
   "metadata": {},
   "source": [
    "## 三元運算子 (ternary operator)\n",
    ">### x if C else y\n",
    ">### 先評估C的條件，如果 C 的結果為真則得到 x，否則結果為 y"
   ]
  },
  {
   "cell_type": "code",
   "execution_count": 57,
   "metadata": {},
   "outputs": [
    {
     "data": {
      "text/plain": [
       "7"
      ]
     },
     "execution_count": 57,
     "metadata": {},
     "output_type": "execute_result"
    }
   ],
   "source": [
    "x = 8\n",
    "if x == 8:\n",
    "    y = 7\n",
    "else:\n",
    "    y = 9\n",
    "y"
   ]
  },
  {
   "cell_type": "code",
   "execution_count": 58,
   "metadata": {},
   "outputs": [
    {
     "data": {
      "text/plain": [
       "7"
      ]
     },
     "execution_count": 58,
     "metadata": {},
     "output_type": "execute_result"
    }
   ],
   "source": [
    "x = 8\n",
    "y = 7 if x == 8 else 9\n",
    "y"
   ]
  },
  {
   "cell_type": "code",
   "execution_count": 59,
   "metadata": {},
   "outputs": [
    {
     "data": {
      "text/plain": [
       "'Python'"
      ]
     },
     "execution_count": 59,
     "metadata": {},
     "output_type": "execute_result"
    }
   ],
   "source": [
    "7 if 0 else 'Python'  # x if C else y"
   ]
  },
  {
   "cell_type": "code",
   "execution_count": 61,
   "metadata": {},
   "outputs": [
    {
     "data": {
      "text/plain": [
       "3"
      ]
     },
     "execution_count": 61,
     "metadata": {},
     "output_type": "execute_result"
    }
   ],
   "source": [
    "a = 2\n",
    "#if a%3==0: Result = True\n",
    "#else: Result = False\n",
    "Result = 3 if a%3==0 else 'Hello'\n",
    "Result"
   ]
  },
  {
   "cell_type": "code",
   "execution_count": 62,
   "metadata": {},
   "outputs": [
    {
     "name": "stdout",
     "output_type": "stream",
     "text": [
      "60.7 ns ± 0.182 ns per loop (mean ± std. dev. of 7 runs, 10,000,000 loops each)\n"
     ]
    }
   ],
   "source": [
    "%%timeit\n",
    "x = 5\n",
    "if x%2 == 0:\n",
    "    y = 1\n",
    "else:\n",
    "    y = 50"
   ]
  },
  {
   "cell_type": "code",
   "execution_count": 64,
   "metadata": {},
   "outputs": [
    {
     "name": "stdout",
     "output_type": "stream",
     "text": [
      "51.8 ns ± 0.285 ns per loop (mean ± std. dev. of 7 runs, 10,000,000 loops each)\n"
     ]
    }
   ],
   "source": [
    "%%timeit\n",
    "x = 5\n",
    "if not x%2:\n",
    "    y = 1\n",
    "else:\n",
    "    y = 50"
   ]
  },
  {
   "cell_type": "markdown",
   "metadata": {},
   "source": [
    "---"
   ]
  },
  {
   "cell_type": "markdown",
   "metadata": {},
   "source": [
    "<div style=\"page-break-after: always\"></div>\n",
    "\n",
    "# Module_08_程式的流程控制-迴圈 while ,  for... range"
   ]
  },
  {
   "cell_type": "markdown",
   "metadata": {},
   "source": [
    "## 介紹 while\n",
    ">### 如果 while 的測試條件為 True，則執行迴圈敘述，直到 while 的測試條件為 False，則結束迴圈"
   ]
  },
  {
   "cell_type": "code",
   "execution_count": 68,
   "metadata": {},
   "outputs": [
    {
     "name": "stdout",
     "output_type": "stream",
     "text": [
      "count is: 0\n",
      "count is: 1\n",
      "count is: 2\n",
      "count is: 3\n",
      "count is: 4\n",
      "count is: 5\n",
      "count is: 6\n",
      "count is: 7\n",
      "count is: 8\n",
      "Finished!\n"
     ]
    }
   ],
   "source": [
    "import time\n",
    "\n",
    "count = 0\n",
    "while count < 9:\n",
    "    time.sleep(.4) #只是停頓零點四秒\n",
    "    print('count is:', count)\n",
    "    count += 1  # count = count + 1\n",
    "print('Finished!')"
   ]
  },
  {
   "cell_type": "code",
   "execution_count": 1,
   "metadata": {},
   "outputs": [
    {
     "name": "stdout",
     "output_type": "stream",
     "text": [
      "count is: 0\n",
      "count is: 1\n",
      "count is: 2\n",
      "count is: 3\n",
      "count is: 4\n",
      "count is: 5\n",
      "count is: 6\n",
      "count is: 7\n",
      "count is: 8\n",
      "finished\n"
     ]
    }
   ],
   "source": [
    "count=0\n",
    "while count<9:\n",
    "    print('count is:',count)\n",
    "    count+=1\n",
    "print('finished')"
   ]
  },
  {
   "cell_type": "code",
   "execution_count": 3,
   "metadata": {},
   "outputs": [
    {
     "name": "stdout",
     "output_type": "stream",
     "text": [
      "5! = 120\n",
      "5! = 120\n",
      "\n"
     ]
    }
   ],
   "source": [
    "# %run mod08/whilestmt1.py\n",
    "# while stmt\n",
    "\n",
    "m = int(input('Input factorial:')) # 階乘\n",
    "r = n = 1\n",
    "\n",
    "while n <= m:\n",
    "    r *= n  # r = r * n\n",
    "    n += 1\n",
    "print(str(m) + '! =', r) \n",
    "print(f'{m}! = {r}\\n')  # f-string"
   ]
  },
  {
   "cell_type": "markdown",
   "metadata": {},
   "source": [
    "### while .... break\n",
    ">### break 可以跳開迴圈"
   ]
  },
  {
   "cell_type": "code",
   "execution_count": 4,
   "metadata": {},
   "outputs": [
    {
     "name": "stdout",
     "output_type": "stream",
     "text": [
      "1, 2, 3, 4, 5, \n",
      "1, 2, 3, 4, 5, "
     ]
    }
   ],
   "source": [
    "# %run mod08/whilestmt2.py\n",
    "# while with break stmt\n",
    "i = 1\n",
    "while True:\n",
    "    print(i, end=', ')\n",
    "    i += 1\n",
    "    if i > 5:\n",
    "        break            # stopper\n",
    "print()\n",
    "# -------------------------\n",
    "i = 1\n",
    "while i<=5 :            # stopper\n",
    "    print(i, end=', ')\n",
    "    i += 1"
   ]
  },
  {
   "cell_type": "markdown",
   "metadata": {},
   "source": [
    "### nested : while...while"
   ]
  },
  {
   "cell_type": "code",
   "execution_count": null,
   "metadata": {},
   "outputs": [],
   "source": [
    "# 比如說提款機\n",
    "\n",
    "while True :         # This constructs an infinite loop\n",
    "    while True :\n",
    "        cash = input('輸入提款金額  :')\n",
    "        if cash.isdigit():\n",
    "            break\n",
    "        \n",
    "    if 0<int(cash) <=30000:\n",
    "        break\n",
    "    else:         \n",
    "        print('提款金額超出範圍, cont....')\n",
    "        continue \n",
    "        print('提款金額超出範圍')\n",
    "    \n",
    "print ('輸入密碼')"
   ]
  },
  {
   "cell_type": "markdown",
   "metadata": {},
   "source": [
    "## while 實例\n",
    ">### 年利率 5%，則每個月的利率為 5%/12=0.4167%\n",
    ">### 1萬元放在銀行，本金加利率總額為 10000*(1+0.05/12)=10041.67元"
   ]
  },
  {
   "cell_type": "code",
   "execution_count": 7,
   "metadata": {},
   "outputs": [
    {
     "name": "stdout",
     "output_type": "stream",
     "text": [
      "84\n"
     ]
    }
   ],
   "source": [
    "total=0\n",
    "i=0\n",
    "# while loop ...\n",
    "while (total<1000000):\n",
    "    total *= (1+0.05/12)\n",
    "    total += 10000\n",
    "    i += 1\n",
    "print(i)"
   ]
  },
  {
   "cell_type": "markdown",
   "metadata": {},
   "source": [
    "## for loop\n",
    "### 依序處理㇐份有順序可迭代(iterable) 的資料，直到所有資料處完畢為止\n",
    ">### `迭代` :　是程式中對一組指令（或一定步驟）的重複。它既可以被用作通用的術語（與「重複」同義）"
   ]
  },
  {
   "cell_type": "code",
   "execution_count": 8,
   "metadata": {},
   "outputs": [
    {
     "name": "stdout",
     "output_type": "stream",
     "text": [
      "6\n",
      "5\n",
      "4\n",
      "3\n",
      "2\n"
     ]
    }
   ],
   "source": [
    "for i in [6,5,4,3,2]:\n",
    "    print(i)"
   ]
  },
  {
   "cell_type": "code",
   "execution_count": 9,
   "metadata": {},
   "outputs": [
    {
     "name": "stdout",
     "output_type": "stream",
     "text": [
      "1\n",
      "3\n",
      "5\n",
      "7\n",
      "9\n"
     ]
    }
   ],
   "source": [
    "for i in range(1, 10, 2) :   #(起點,終點,跳號)\n",
    "    print (i)"
   ]
  },
  {
   "cell_type": "code",
   "execution_count": 10,
   "metadata": {},
   "outputs": [
    {
     "name": "stdout",
     "output_type": "stream",
     "text": [
      "         a          \n",
      "        aaa         \n",
      "       aaaaa        \n",
      "      aaaaaaa       \n",
      "     aaaaaaaaa      \n"
     ]
    }
   ],
   "source": [
    "for i in range(1, 10,2):\n",
    "    print(f\"{'a'*i:^20s}\")"
   ]
  },
  {
   "cell_type": "code",
   "execution_count": 15,
   "metadata": {},
   "outputs": [
    {
     "name": "stdout",
     "output_type": "stream",
     "text": [
      "10! = 3628800\n"
     ]
    }
   ],
   "source": [
    "# for loop\n",
    "m = int(input('Input factorial:')) # 階乘\n",
    "\n",
    "r = n = 1\n",
    "for n in range(1, m+1):  # iteration #  迭代 : 重複的意思\n",
    "    r*=n\n",
    "print(str(m) + '! =', r)"
   ]
  },
  {
   "cell_type": "markdown",
   "metadata": {},
   "source": [
    "### continue\n",
    ">### 略過目前迴圈的敘述，進行下㇐個迴圈(如果條件為真)"
   ]
  },
  {
   "cell_type": "code",
   "execution_count": 11,
   "metadata": {},
   "outputs": [
    {
     "name": "stdout",
     "output_type": "stream",
     "text": [
      "if i < 5 1\n",
      "if i < 5 2\n",
      "if i < 5 3\n",
      "if i < 5 4\n",
      "i = 5\n",
      "i = 6\n",
      "i = 7\n",
      "i = 8\n",
      "i = 9\n"
     ]
    }
   ],
   "source": [
    "for i in range (1,10):\n",
    "    if  i < 5 :\n",
    "        print('if i < 5', i)\n",
    "        continue\n",
    "        print('after continue')  # 不執行\n",
    "    print('i =', i)"
   ]
  },
  {
   "cell_type": "markdown",
   "metadata": {},
   "source": [
    ">><img src=\"./img/break.jpg\"  style='width:80%'>\n",
    ">><img src=\"./img/continue.jpg\"  style='width:80%'>"
   ]
  },
  {
   "cell_type": "code",
   "execution_count": 17,
   "metadata": {},
   "outputs": [
    {
     "name": "stdout",
     "output_type": "stream",
     "text": [
      "12\n",
      "21\n",
      "john\n",
      "48.0\n",
      "59\n"
     ]
    }
   ],
   "source": [
    "import time\n",
    "for var in [12, 21, 'john', 48., 59]:\n",
    "    time.sleep(.3)\n",
    "    print(var)"
   ]
  },
  {
   "cell_type": "markdown",
   "metadata": {},
   "source": [
    "### pass\n",
    ">### 會忽略該條件，繼續像正常迴圈一樣運行程序"
   ]
  },
  {
   "cell_type": "code",
   "execution_count": 18,
   "metadata": {},
   "outputs": [
    {
     "name": "stdout",
     "output_type": "stream",
     "text": [
      "0\n",
      "1\n",
      "2\n",
      "3\n",
      "5\n",
      "6\n",
      "7\n",
      "8\n",
      "9\n"
     ]
    }
   ],
   "source": [
    "for n in range(10):\n",
    "    if n == 4:\n",
    "        pass\n",
    "    else:\n",
    "        print(n)"
   ]
  },
  {
   "cell_type": "markdown",
   "metadata": {},
   "source": [
    "## nested for loop\n",
    ">### 迴圈內可以再包含迴圈，形成巢狀迴圈"
   ]
  },
  {
   "cell_type": "code",
   "execution_count": 19,
   "metadata": {},
   "outputs": [
    {
     "name": "stdout",
     "output_type": "stream",
     "text": [
      "i: 0, j: 0\n",
      "i: 0, j: 1\n",
      "i: 0, j: 2\n",
      "i: 0, j: 3\n",
      "i: 0, j: 4\n",
      "i: 1, j: 0\n",
      "i: 1, j: 1\n",
      "i: 1, j: 2\n",
      "i: 1, j: 3\n",
      "i: 1, j: 4\n",
      "i: 2, j: 0\n",
      "i: 2, j: 1\n",
      "i: 2, j: 2\n",
      "i: 2, j: 3\n",
      "i: 2, j: 4\n",
      "i: 3, j: 0\n",
      "i: 3, j: 1\n",
      "i: 3, j: 2\n",
      "i: 3, j: 3\n",
      "i: 3, j: 4\n",
      "i: 4, j: 0\n",
      "i: 4, j: 1\n",
      "i: 4, j: 2\n",
      "i: 4, j: 3\n",
      "i: 4, j: 4\n"
     ]
    }
   ],
   "source": [
    "for i in range(5):\n",
    "    for j in range(5):\n",
    "        print(f'i: {i}, j: {j}')"
   ]
  },
  {
   "cell_type": "code",
   "execution_count": 20,
   "metadata": {},
   "outputs": [
    {
     "name": "stdout",
     "output_type": "stream",
     "text": [
      "1 2 3 4 5 6 7 8 9 \n",
      "2 4 6 8 10 12 14 16 18 \n",
      "3 6 9 12 15 18 21 24 27 \n",
      "4 8 12 16 20 24 28 32 36 \n",
      "5 10 15 20 25 30 35 40 45 \n",
      "6 12 18 24 30 36 42 48 54 \n",
      "7 14 21 28 35 42 49 56 63 \n",
      "8 16 24 32 40 48 56 64 72 \n",
      "9 18 27 36 45 54 63 72 81 \n"
     ]
    }
   ],
   "source": [
    "import time\n",
    "for i in range(1,10):\n",
    "    for j in range(1,10):\n",
    "        time.sleep(0.1)\n",
    "        x = i * j\n",
    "        print(x, end=' ')\n",
    "    print()"
   ]
  },
  {
   "cell_type": "code",
   "execution_count": 21,
   "metadata": {},
   "outputs": [
    {
     "name": "stdout",
     "output_type": "stream",
     "text": [
      "1*1 =  1   1*2 =  2   1*3 =  3   1*4 =  4   1*5 =  5   1*6 =  6   1*7 =  7   1*8 =  8   1*9 =  9   \n",
      "2*1 =  2   2*2 =  4   2*3 =  6   2*4 =  8   2*5 = 10   2*6 = 12   2*7 = 14   2*8 = 16   2*9 = 18   \n",
      "3*1 =  3   3*2 =  6   3*3 =  9   3*4 = 12   3*5 = 15   3*6 = 18   3*7 = 21   3*8 = 24   3*9 = 27   \n",
      "4*1 =  4   4*2 =  8   4*3 = 12   4*4 = 16   4*5 = 20   4*6 = 24   4*7 = 28   4*8 = 32   4*9 = 36   \n",
      "5*1 =  5   5*2 = 10   5*3 = 15   5*4 = 20   5*5 = 25   5*6 = 30   5*7 = 35   5*8 = 40   5*9 = 45   \n",
      "6*1 =  6   6*2 = 12   6*3 = 18   6*4 = 24   6*5 = 30   6*6 = 36   6*7 = 42   6*8 = 48   6*9 = 54   \n",
      "7*1 =  7   7*2 = 14   7*3 = 21   7*4 = 28   7*5 = 35   7*6 = 42   7*7 = 49   7*8 = 56   7*9 = 63   \n",
      "8*1 =  8   8*2 = 16   8*3 = 24   8*4 = 32   8*5 = 40   8*6 = 48   8*7 = 56   8*8 = 64   8*9 = 72   \n",
      "9*1 =  9   9*2 = 18   9*3 = 27   9*4 = 36   9*5 = 45   9*6 = 54   9*7 = 63   9*8 = 72   9*9 = 81   \n"
     ]
    }
   ],
   "source": [
    "import time\n",
    "for i in range(1,10):\n",
    "    for j in range(1,10):\n",
    "        time.sleep(.1)\n",
    "        print(f'{i:1d}*{j:1d} = {i*j:2d}', end='   ')\n",
    "    print()"
   ]
  },
  {
   "cell_type": "markdown",
   "metadata": {},
   "source": [
    "### enumerate 函數"
   ]
  },
  {
   "cell_type": "code",
   "execution_count": 22,
   "metadata": {},
   "outputs": [
    {
     "name": "stdout",
     "output_type": "stream",
     "text": [
      "0 12\n",
      "1 21\n",
      "2 john\n",
      "3 48.0\n",
      "4 59\n"
     ]
    }
   ],
   "source": [
    "for idx, var in enumerate([12, 21, 'john', 48., 59]) :   #值+位置\n",
    "    print(idx, var)"
   ]
  },
  {
   "cell_type": "markdown",
   "metadata": {},
   "source": [
    "## range (start, stop [,step])\n",
    ">### start 引數預設為 0，step 引數預設為 1, range() 函數可以產生㇐個數列"
   ]
  },
  {
   "cell_type": "code",
   "execution_count": 23,
   "metadata": {},
   "outputs": [
    {
     "name": "stdout",
     "output_type": "stream",
     "text": [
      "range(1,6)\t\t: range(1, 6)\n",
      "list(range(1,8))\t: [1, 2, 3, 4, 5, 6, 7]\n",
      "list(range(1,8,2))\t: [1, 3, 5, 7]\n"
     ]
    }
   ],
   "source": [
    "# lazy evaluation\n",
    "range(1,6)  # get ready, not execute\n",
    "print('range(1,6)\\t\\t:', range(1,6))\n",
    "print('list(range(1,8))\\t:', list(range(1,8)))\n",
    "print('list(range(1,8,2))\\t:', list(range(1,8,2)))"
   ]
  },
  {
   "cell_type": "markdown",
   "metadata": {},
   "source": [
    "https://zh.wikipedia.org/zh-tw/%E6%83%B0%E6%80%A7%E6%B1%82%E5%80%BC"
   ]
  },
  {
   "cell_type": "code",
   "execution_count": 24,
   "metadata": {},
   "outputs": [
    {
     "ename": "TypeError",
     "evalue": "'float' object cannot be interpreted as an integer",
     "output_type": "error",
     "traceback": [
      "\u001b[1;31m---------------------------------------------------------------------------\u001b[0m",
      "\u001b[1;31mTypeError\u001b[0m                                 Traceback (most recent call last)",
      "Cell \u001b[1;32mIn [24], line 2\u001b[0m\n\u001b[0;32m      1\u001b[0m \u001b[39mimport\u001b[39;00m \u001b[39mtime\u001b[39;00m\n\u001b[1;32m----> 2\u001b[0m \u001b[39mfor\u001b[39;00m i \u001b[39min\u001b[39;00m \u001b[39mrange\u001b[39;49m(\u001b[39m1\u001b[39;49m, \u001b[39m2.5\u001b[39;49m, \u001b[39m0.1\u001b[39;49m):  \u001b[39m# not for floating, numpy 可以\u001b[39;00m\n\u001b[0;32m      3\u001b[0m     time\u001b[39m.\u001b[39msleep(\u001b[39m.5\u001b[39m)\n\u001b[0;32m      4\u001b[0m     \u001b[39mprint\u001b[39m(i)\n",
      "\u001b[1;31mTypeError\u001b[0m: 'float' object cannot be interpreted as an integer"
     ]
    }
   ],
   "source": [
    "import time\n",
    "for i in range(1, 2.5, 0.1):  # not for floating, numpy 可以\n",
    "    time.sleep(.5)\n",
    "    print(i)"
   ]
  },
  {
   "cell_type": "code",
   "execution_count": 25,
   "metadata": {},
   "outputs": [
    {
     "data": {
      "text/plain": [
       "[1, 2, 3, 4, 5]"
      ]
     },
     "execution_count": 25,
     "metadata": {},
     "output_type": "execute_result"
    }
   ],
   "source": [
    "list(range(1,6))  # execute"
   ]
  },
  {
   "cell_type": "code",
   "execution_count": 26,
   "metadata": {},
   "outputs": [
    {
     "data": {
      "text/plain": [
       "(1, 2, 3, 4, 5)"
      ]
     },
     "execution_count": 26,
     "metadata": {},
     "output_type": "execute_result"
    }
   ],
   "source": [
    "tuple(range(1,6))  # execute"
   ]
  },
  {
   "cell_type": "code",
   "execution_count": 27,
   "metadata": {},
   "outputs": [
    {
     "data": {
      "text/plain": [
       "{1, 2, 3, 4, 5}"
      ]
     },
     "execution_count": 27,
     "metadata": {},
     "output_type": "execute_result"
    }
   ],
   "source": [
    "set(range(1,6)) # execute"
   ]
  },
  {
   "cell_type": "code",
   "execution_count": 28,
   "metadata": {},
   "outputs": [
    {
     "data": {
      "text/plain": [
       "[1, 3, 5, 7, 9, 11, 13]"
      ]
     },
     "execution_count": 28,
     "metadata": {},
     "output_type": "execute_result"
    }
   ],
   "source": [
    "list(range(1, 15, 2))  # how about range (a,d)"
   ]
  },
  {
   "cell_type": "markdown",
   "metadata": {},
   "source": [
    "### for ... else 只有 for 迴圈`處理完所有的項目後`(簡言之, 沒有執行 break)，才會進入 else 區塊"
   ]
  },
  {
   "cell_type": "code",
   "execution_count": 1,
   "metadata": {},
   "outputs": [
    {
     "name": "stdout",
     "output_type": "stream",
     "text": [
      "有 偶數存在 22\n",
      "Finish\n"
     ]
    }
   ],
   "source": [
    "numbers = [31, 57, 75, 85, 27, 93, 69, 21, 22]\n",
    "for num in numbers:\n",
    "    if num%2 == 0:\n",
    "        print('有 偶數存在', num)\n",
    "        break\n",
    "else:\n",
    "    print('無 偶數存在')\n",
    "print('Finish')"
   ]
  },
  {
   "cell_type": "code",
   "execution_count": 30,
   "metadata": {},
   "outputs": [
    {
     "name": "stdout",
     "output_type": "stream",
     "text": [
      "['odd', 'odd', 'odd', 'odd', 'odd', 'odd', 'odd', 'odd', 'even']\n",
      "['even']\n"
     ]
    }
   ],
   "source": [
    "x = ['even' if num%2==0 else 'odd' for num in numbers]\n",
    "print(x)\n",
    "\n",
    "y = ['even' for num in numbers if num%2==0]\n",
    "print(y)"
   ]
  },
  {
   "cell_type": "markdown",
   "metadata": {},
   "source": [
    "---"
   ]
  },
  {
   "cell_type": "markdown",
   "metadata": {},
   "source": [
    "<div style=\"page-break-after: always\"></div>\n",
    "\n",
    "# Module_09_串列 (List)\n",
    "> * List 是 Python 最多樣化, 用途最廣的資料型態\n",
    "> * List 是有順序(sequence)，可以修改內容(mutable) \n",
    "> * 使用中括號括起來，每㇐個項目以逗點分隔\n",
    "> * [] 代表空串列\n",
    "> * `Python 沒有陣列 array 資料型態`\n",
    "\n",
    ">### index 索引\n",
    "><img src=\"./img/list.png\"  style='width:90%'>"
   ]
  },
  {
   "cell_type": "code",
   "execution_count": 34,
   "metadata": {},
   "outputs": [
    {
     "name": "stdout",
     "output_type": "stream",
     "text": [
      "['a', 'b', 'c', 'd']\n",
      "['a', 'b', 'c', 'd']\n"
     ]
    },
    {
     "data": {
      "text/plain": [
       "['a', 'b', 'c', 'd']"
      ]
     },
     "execution_count": 34,
     "metadata": {},
     "output_type": "execute_result"
    }
   ],
   "source": [
    "list1=['a', 'b', 'c', 'd']\n",
    "print(list1)\n",
    "\n",
    "list2='a b c d'.split()\n",
    "print(list2)\n",
    "\n",
    "list('abcd')"
   ]
  },
  {
   "cell_type": "markdown",
   "metadata": {},
   "source": [
    "## index, slice\n",
    ">### 要取得 List 內容，使用中括號配合註標或切片 (slice) 來獲得\n",
    ">### List 內容是`可修改的 (mutable)`"
   ]
  },
  {
   "cell_type": "code",
   "execution_count": 35,
   "metadata": {},
   "outputs": [
    {
     "name": "stdout",
     "output_type": "stream",
     "text": [
      "names\t\t\t\t= ['fraser', 'grace', 'john', 'jess', 'jack', 23.5, 2019]\n",
      "names[0]\t\t\t: fraser\n",
      "names[0][0]\t\t\t: f \n",
      "\n",
      "names[5]\t\t\t: 23.5\n",
      "names[-1]\t\t\t: 2019 \n",
      "\n",
      "names[1:5]\t\t\t: ['grace', 'john', 'jess', 'jack']\n",
      "names[1:6:2]\t\t\t: ['grace', 'jess', 23.5] \n",
      "\n",
      "names[2]='Kevin'\t\t: ['fraser', 'grace', 'Kevin', 'jess', 'jack', 23.5, 2019]\n",
      "names[-1:]=[2000, 23.5]\t\t: ['fraser', 'grace', 'Kevin', 'jess', 'jack', 23.5, 2000, 23.5]\n"
     ]
    }
   ],
   "source": [
    "names=['fraser', 'grace', 'john', 'jess', 'jack', 23.5, 2019]\n",
    "print('names\\t\\t\\t\\t=', names)\n",
    "print('names[0]\\t\\t\\t:', names[0])\n",
    "print('names[0][0]\\t\\t\\t:', names[0][0], '\\n')\n",
    "\n",
    "print('names[5]\\t\\t\\t:', names[5])\n",
    "print('names[-1]\\t\\t\\t:', names[-1],'\\n')\n",
    "\n",
    "print('names[1:5]\\t\\t\\t:', names[1:5])\n",
    "print('names[1:6:2]\\t\\t\\t:', (names[1:6:2]),'\\n')\n",
    "\n",
    "names[2]='Kevin'\n",
    "print(\"names[2]='Kevin'\\t\\t:\", names)             # 修改\n",
    "\n",
    "names[-1:]=[2000, 23.5]                           # 一次改兩筆資料\n",
    "print('names[-1:]=[2000, 23.5]\\t\\t:', names)"
   ]
  },
  {
   "cell_type": "markdown",
   "metadata": {},
   "source": [
    "### 排序 sort"
   ]
  },
  {
   "cell_type": "code",
   "execution_count": 38,
   "metadata": {},
   "outputs": [
    {
     "data": {
      "text/plain": [
       "['He', 'saw', 'six', 'small', 'foxes']"
      ]
     },
     "execution_count": 38,
     "metadata": {},
     "output_type": "execute_result"
    }
   ],
   "source": [
    "b = ['saw', 'small', 'He', 'foxes', 'six']\n",
    "b.sort(key=len)  # length  用長度排\n",
    "b"
   ]
  },
  {
   "cell_type": "markdown",
   "metadata": {},
   "source": [
    "<div style=\"page-break-after: always\"></div>\n",
    "\n",
    "## List 內容也可以是 List、Tuple 或 Set"
   ]
  },
  {
   "cell_type": "code",
   "execution_count": 39,
   "metadata": {},
   "outputs": [
    {
     "name": "stdout",
     "output_type": "stream",
     "text": [
      "4\n",
      "33\n",
      "[11, 12, 13]\n",
      "13\n"
     ]
    }
   ],
   "source": [
    "lst = [33, 'python', [11, 12, 13], 77]\n",
    "print(len(lst))\n",
    "print(lst[0])\n",
    "print(lst[2])\n",
    "print(lst[2][2])"
   ]
  },
  {
   "cell_type": "markdown",
   "metadata": {},
   "source": [
    "### list in list\n",
    "><img src=\"./img/listNested.png\"  style='width:90%'>"
   ]
  },
  {
   "cell_type": "markdown",
   "metadata": {},
   "source": [
    "### check id, values"
   ]
  },
  {
   "cell_type": "code",
   "execution_count": 2,
   "metadata": {},
   "outputs": [
    {
     "data": {
      "text/plain": [
       "True"
      ]
     },
     "execution_count": 2,
     "metadata": {},
     "output_type": "execute_result"
    }
   ],
   "source": [
    "lst1 = [10, 20, 30]\n",
    "lst2 = [10, 20, 30]\n",
    "lst3 = [10, 30, 20]\n",
    "lst1 == lst2"
   ]
  },
  {
   "cell_type": "code",
   "execution_count": 3,
   "metadata": {},
   "outputs": [
    {
     "data": {
      "text/plain": [
       "False"
      ]
     },
     "execution_count": 3,
     "metadata": {},
     "output_type": "execute_result"
    }
   ],
   "source": [
    "lst1 == lst3  #順序需一致"
   ]
  },
  {
   "cell_type": "code",
   "execution_count": 6,
   "metadata": {},
   "outputs": [
    {
     "name": "stdout",
     "output_type": "stream",
     "text": [
      "False\n",
      "775561872448 775561835520\n"
     ]
    }
   ],
   "source": [
    "print(lst1 is lst2)   # 可能False,  True (機率很低很低) 數值雖然想同, 但記憶體位置可能不同\n",
    "print(id(lst1), id(lst2))"
   ]
  },
  {
   "cell_type": "markdown",
   "metadata": {},
   "source": []
  },
  {
   "cell_type": "code",
   "execution_count": 5,
   "metadata": {},
   "outputs": [
    {
     "data": {
      "text/plain": [
       "False"
      ]
     },
     "execution_count": 5,
     "metadata": {},
     "output_type": "execute_result"
    }
   ],
   "source": [
    "lst1 is lst3"
   ]
  },
  {
   "cell_type": "markdown",
   "metadata": {},
   "source": [
    "## 串列基本運算"
   ]
  },
  {
   "cell_type": "code",
   "execution_count": 7,
   "metadata": {},
   "outputs": [
    {
     "data": {
      "text/plain": [
       "[1, 2, 3, 4, 5, 6]"
      ]
     },
     "execution_count": 7,
     "metadata": {},
     "output_type": "execute_result"
    }
   ],
   "source": [
    "[1, 2, 3] + [4, 5, 6]"
   ]
  },
  {
   "cell_type": "markdown",
   "metadata": {},
   "source": [
    "array like:list,tuple,np.array,series"
   ]
  },
  {
   "cell_type": "code",
   "execution_count": 9,
   "metadata": {},
   "outputs": [
    {
     "ename": "TypeError",
     "evalue": "can't multiply sequence by non-int of type 'float'",
     "output_type": "error",
     "traceback": [
      "\u001b[1;31m---------------------------------------------------------------------------\u001b[0m",
      "\u001b[1;31mTypeError\u001b[0m                                 Traceback (most recent call last)",
      "Cell \u001b[1;32mIn [9], line 1\u001b[0m\n\u001b[1;32m----> 1\u001b[0m [\u001b[39m'\u001b[39;49m\u001b[39mHi!\u001b[39;49m\u001b[39m'\u001b[39;49m] \u001b[39m*\u001b[39;49m \u001b[39m4.0\u001b[39;49m\n",
      "\u001b[1;31mTypeError\u001b[0m: can't multiply sequence by non-int of type 'float'"
     ]
    }
   ],
   "source": [
    "['Hi!'] * 4"
   ]
  },
  {
   "cell_type": "code",
   "execution_count": 11,
   "metadata": {},
   "outputs": [
    {
     "data": {
      "text/plain": [
       "True"
      ]
     },
     "execution_count": 11,
     "metadata": {},
     "output_type": "execute_result"
    }
   ],
   "source": [
    "30 in [10, 20, 30]"
   ]
  },
  {
   "cell_type": "code",
   "execution_count": 12,
   "metadata": {},
   "outputs": [
    {
     "name": "stdout",
     "output_type": "stream",
     "text": [
      "10 20 30 "
     ]
    }
   ],
   "source": [
    "import time\n",
    "\n",
    "a = [10, 20, 30]\n",
    "for x in a: \n",
    "    time.sleep(.4)\n",
    "    print (x, end = ' ')"
   ]
  },
  {
   "cell_type": "code",
   "execution_count": 13,
   "metadata": {},
   "outputs": [
    {
     "name": "stdout",
     "output_type": "stream",
     "text": [
      "lst\t\t\t= [11, 22, 33, 44]\n",
      "id(lst)\t\t\t: 775592881152 \n",
      "\n",
      "lst[2] = 66\t\t: [11, 22, 68, 44] \n",
      "\n",
      "lst[2:]=['aaa','bbb']\t: [11, 22, 'aaa', 'bbb'] \n",
      "\n",
      "lst[2:] =\t\t: [11, 22, 333, 444, 555, 666]\n",
      "id(lst)\t\t\t: 775592881152 \n",
      "\n"
     ]
    }
   ],
   "source": [
    "lst=[11, 22, 33, 44]\n",
    "print('lst\\t\\t\\t=', lst)\n",
    "print('id(lst)\\t\\t\\t:', id(lst), '\\n')\n",
    "\n",
    "lst[2] = 68\n",
    "print('lst[2] = 66\\t\\t:', lst, '\\n')\n",
    "\n",
    "lst[2:]=['aaa','bbb']\n",
    "print(\"lst[2:]=['aaa','bbb']\\t:\",lst,'\\n')\n",
    "\n",
    "lst[2:]=[333, 444, 555,  666]  #list 可增加直接擴大\n",
    "print('lst[2:] =\\t\\t:', lst)\n",
    "print('id(lst)\\t\\t\\t:', id(lst), '\\n') #直接改數值記憶體位置沒變"
   ]
  },
  {
   "cell_type": "markdown",
   "metadata": {},
   "source": []
  },
  {
   "cell_type": "code",
   "execution_count": 14,
   "metadata": {},
   "outputs": [
    {
     "name": "stdout",
     "output_type": "stream",
     "text": [
      "lst1\t\t: [33, 'python', [11, 22, 33], (44, 55, 66)]\n",
      "lst1[3][0]\t: 44 \n",
      "\n"
     ]
    }
   ],
   "source": [
    "lst1= [33, 'python', [11,22,33], (44,55,66)]\n",
    "print('lst1\\t\\t:', lst1)\n",
    "print('lst1[3][0]\\t:', lst1[3][0],'\\n')#(44,55,66)裡的0位置 =44\n",
    "#lst1[3][0] = 88"
   ]
  },
  {
   "cell_type": "code",
   "execution_count": 15,
   "metadata": {},
   "outputs": [
    {
     "name": "stdout",
     "output_type": "stream",
     "text": [
      "33\n"
     ]
    }
   ],
   "source": [
    "print(lst1[2][2])"
   ]
  },
  {
   "cell_type": "markdown",
   "metadata": {},
   "source": [
    "## 串列( List )相關`函數 functions` 和`方法 methods` "
   ]
  },
  {
   "cell_type": "code",
   "execution_count": 16,
   "metadata": {},
   "outputs": [
    {
     "name": "stdout",
     "output_type": "stream",
     "text": [
      "lst\t\t\t\t= [20, 10, 30]\n",
      "lst\t\t\t\t: 3\n",
      "max(lst)\t\t\t: 30\n",
      "min(lst)\t\t\t: 10\n",
      "sum(lst)\t\t\t: 60\n",
      "sorted(lst)\t\t\t: [10, 20, 30]\n",
      "sorted(lst, reverse=True)\t: [30, 20, 10]\n"
     ]
    }
   ],
   "source": [
    "x, y, z=20, 10, 30\n",
    "lst=[x, y, z]\n",
    "\n",
    "print('lst\\t\\t\\t\\t=', lst)\n",
    "print('lst\\t\\t\\t\\t:', len(lst))\n",
    "print('max(lst)\\t\\t\\t:', max(lst))\n",
    "print('min(lst)\\t\\t\\t:', min(lst))\n",
    "print('sum(lst)\\t\\t\\t:', sum(lst))\n",
    "print('sorted(lst)\\t\\t\\t:', sorted(lst))#從小排到大\n",
    "print('sorted(lst, reverse=True)\\t:', sorted(lst, reverse=True))"
   ]
  },
  {
   "cell_type": "code",
   "execution_count": 17,
   "metadata": {},
   "outputs": [
    {
     "name": "stdout",
     "output_type": "stream",
     "text": [
      "a = [4, 777, 444, 4, 999, 11],\t b = ['aa', 'bb', 'cc'] \n",
      "\n",
      "a.append('1')\t\t: [4, 777, 444, 4, 999, 11, '1']\n",
      "a+[1]\t\t\t: [4, 777, 444, 4, 999, 11, '1', 1] \n",
      "\n",
      "a.extend(b)\t\t: [4, 777, 444, 4, 999, 11, '1', 'aa', 'bb', 'cc']\n",
      "a.count(4)\t\t: 2\n",
      "a.index(4)\t\t: 0 \n",
      "\n",
      "a.insert(5, 555)\t: [4, 777, 444, 4, 999, 555, 11, '1', 'aa', 'bb', 'cc']\n"
     ]
    }
   ],
   "source": [
    "a = [4, 777, 444, 4, 999, 11];   b = ['aa', 'bb', 'cc']\n",
    "\n",
    "print(f'a = {a},\\t b = {b} \\n')\n",
    "\n",
    "a.append('1')                              # 新增\n",
    "print(\"a.append('1')\\t\\t:\", a)\n",
    "print('a+[1]\\t\\t\\t:', a+[1], '\\n')\n",
    "\n",
    "a.extend(b)\n",
    "print('a.extend(b)\\t\\t:', a)  # like a+b\n",
    "print('a.count(4)\\t\\t:', a.count(4))        # count how many 4 in list\n",
    "print('a.index(4)\\t\\t:', a.index(4), '\\n')  # what is index of 4<找出4在哪個位置\n",
    "\n",
    "a.insert(5, 555)\n",
    "print('a.insert(5, 555)\\t:', a)"
   ]
  },
  {
   "cell_type": "code",
   "execution_count": 19,
   "metadata": {},
   "outputs": [
    {
     "name": "stdout",
     "output_type": "stream",
     "text": [
      "[4, 777, 444, 123, 4, 999, 123, 555, 11, '1', 'aa', 'bb', 'cc']\n"
     ]
    }
   ],
   "source": [
    "a.insert(3,123)\n",
    "print(a)"
   ]
  },
  {
   "cell_type": "code",
   "execution_count": null,
   "metadata": {},
   "outputs": [],
   "source": []
  },
  {
   "cell_type": "code",
   "execution_count": 20,
   "metadata": {},
   "outputs": [
    {
     "name": "stdout",
     "output_type": "stream",
     "text": [
      "a = [4, 777, 666, 999, 11, 45, 66, 88, 73]\n",
      "\n",
      "a.pop()\t\t: 73\n",
      "a.pop(4)\t: 11\n",
      "a.remove(666)\t: None\n",
      "a \t\t: [4, 777, 999, 45, 66, 88] \n",
      "\n",
      "a.reverse()\t: [88, 66, 45, 999, 777, 4]\n",
      "b = a.copy()\t: [88, 66, 45, 999, 777, 4]\n",
      "a.clear()\t: None\n"
     ]
    }
   ],
   "source": [
    "a = [4, 777, 666, 999, 11, 45, 66, 88, 73]\n",
    "\n",
    "print(f'a = {a}\\n')\n",
    "                                       \n",
    "print('a.pop()\\t\\t:', a.pop())                   #彈出值, 並刪除                        \n",
    "print('a.pop(4)\\t:', a.pop(4))                   #用 index, 傳回值, 並刪除\n",
    "print('a.remove(666)\\t:', a.remove(666))        #用 item value 刪除, 回傳空值\n",
    "print('a \\t\\t:', a, '\\n')\n",
    "\n",
    "a.reverse()\n",
    "print('a.reverse()\\t:',a)\n",
    "\n",
    "b = a.copy()      #如果b=a 哪天a被改了會找不到  b=a.copy()就指向不同位置\n",
    "print('b = a.copy()\\t:', b)\n",
    "print('a.clear()\\t:', a.clear())"
   ]
  },
  {
   "cell_type": "markdown",
   "metadata": {},
   "source": [
    "><img src=\"./img/list_Methods.jpg\"  style='width:90%'>"
   ]
  },
  {
   "cell_type": "markdown",
   "metadata": {},
   "source": [
    "---"
   ]
  },
  {
   "cell_type": "markdown",
   "metadata": {},
   "source": [
    "<div style=\"page-break-after: always\"></div>\n",
    "\n",
    "# Module_10_串列 (List) 與元組 (Tuple)\n",
    "> * Tuple 是有順序(sequence)，內容不可改變(immutable)\n",
    "> * 使用小括號括起來，每㇐個項目以逗點分隔\n",
    "> * tuple 佔記憶體小, 計算速度快\n",
    "\n",
    "><img src=\"./img/memoryIndex03.png\"  style='width:90%'>"
   ]
  },
  {
   "cell_type": "markdown",
   "metadata": {},
   "source": [
    "> * ㇐個元素的 tuple 必須要多加㇐個逗點結尾\n",
    "> * Tuple 內容是不可改變的(immutable)，亦即無法更新或刪除項目\n",
    "> * 可以利用已存在的 Tuple 來產生新的 Tuple "
   ]
  },
  {
   "cell_type": "code",
   "execution_count": 21,
   "metadata": {},
   "outputs": [
    {
     "data": {
      "text/plain": [
       "int"
      ]
     },
     "execution_count": 21,
     "metadata": {},
     "output_type": "execute_result"
    }
   ],
   "source": [
    "t1=(50) # not tuple becasue of no ','沒有逗點不是元組\n",
    "t1\n",
    "type(t1)"
   ]
  },
  {
   "cell_type": "code",
   "execution_count": 22,
   "metadata": {},
   "outputs": [
    {
     "name": "stdout",
     "output_type": "stream",
     "text": [
      "(50, 50, 50, 50)\n"
     ]
    },
    {
     "data": {
      "text/plain": [
       "tuple"
      ]
     },
     "execution_count": 22,
     "metadata": {},
     "output_type": "execute_result"
    }
   ],
   "source": [
    "t2=(50,)\n",
    "print(t2*4)\n",
    "type(t2)"
   ]
  },
  {
   "cell_type": "code",
   "execution_count": 23,
   "metadata": {},
   "outputs": [
    {
     "data": {
      "text/plain": [
       "((50, 60), tuple)"
      ]
     },
     "execution_count": 23,
     "metadata": {},
     "output_type": "execute_result"
    }
   ],
   "source": [
    "tup2 = 50, 60    # tup2 = 50, 60, 70\n",
    "tup2, type(tup2)"
   ]
  },
  {
   "cell_type": "code",
   "execution_count": 25,
   "metadata": {},
   "outputs": [
    {
     "name": "stdout",
     "output_type": "stream",
     "text": [
      "(0, 2, 4, 6, 8)\n"
     ]
    },
    {
     "ename": "AttributeError",
     "evalue": "'tuple' object has no attribute 'remove'",
     "output_type": "error",
     "traceback": [
      "\u001b[1;31m---------------------------------------------------------------------------\u001b[0m",
      "\u001b[1;31mAttributeError\u001b[0m                            Traceback (most recent call last)",
      "Cell \u001b[1;32mIn [25], line 5\u001b[0m\n\u001b[0;32m      2\u001b[0m \u001b[39mprint\u001b[39m(t3)\n\u001b[0;32m      4\u001b[0m \u001b[39m# t3[1] = 5         # error, immutable\u001b[39;00m\n\u001b[1;32m----> 5\u001b[0m t3\u001b[39m.\u001b[39;49mremove([\u001b[39m'\u001b[39m\u001b[39m2\u001b[39m\u001b[39m'\u001b[39m])  \u001b[39m# error, not removable, pop'\u001b[39;00m\n\u001b[0;32m      6\u001b[0m t3\n",
      "\u001b[1;31mAttributeError\u001b[0m: 'tuple' object has no attribute 'remove'"
     ]
    }
   ],
   "source": [
    "t3=tuple(range(0, 10, 2))#零到十，每2跳號\n",
    "print(t3)\n",
    "\n",
    "# t3[1] = 5         # error, immutable\n",
    "t3.remove(['2'])  # error, not removable, pop'\n"
   ]
  },
  {
   "cell_type": "code",
   "execution_count": 26,
   "metadata": {},
   "outputs": [
    {
     "name": "stdout",
     "output_type": "stream",
     "text": [
      "(4, 5, 6, 4, 5, 6)\n",
      "(4, 5, 6, 4, 5, 6, 8)\n"
     ]
    }
   ],
   "source": [
    "tup = 4, 5, 6; tup1 = (4, 5, 6)\n",
    "print(tup + tup1)\n",
    "print(tup + tup1 + (8,))"
   ]
  },
  {
   "cell_type": "code",
   "execution_count": 27,
   "metadata": {},
   "outputs": [
    {
     "name": "stdout",
     "output_type": "stream",
     "text": [
      "<class 'tuple'>\n",
      "((4, 5, 6), (7, 8))\n",
      "(4, 5, 6, (4, 5, 6), (7, 8))\n"
     ]
    },
    {
     "data": {
      "text/plain": [
       "(4, 5, 6)"
      ]
     },
     "execution_count": 27,
     "metadata": {},
     "output_type": "execute_result"
    }
   ],
   "source": [
    "tup = 4, 5, 6; nested_tup = (4, 5, 6), (7, 8)\n",
    "\n",
    "print(type(tup))\n",
    "print(nested_tup)\n",
    "print(tup + nested_tup)\n",
    "tup"
   ]
  },
  {
   "cell_type": "markdown",
   "metadata": {},
   "source": [
    "### 索引與切片的方式同 String 或 List"
   ]
  },
  {
   "cell_type": "code",
   "execution_count": 28,
   "metadata": {},
   "outputs": [
    {
     "name": "stdout",
     "output_type": "stream",
     "text": [
      "aiot\n",
      "(2, 3, 4, 5)\n",
      "(2, 4, 6, 8, 10)\n"
     ]
    }
   ],
   "source": [
    "tup1 = ('aiot', 'python', 23.5, 2019)\n",
    "tup2 = (1, 2, 3, 4, 5, 6, 7, 8, 9, 10)\n",
    "\n",
    "print(tup1[0])\n",
    "print(tup2[1:5])\n",
    "print(tup2[1:10:2])"
   ]
  },
  {
   "cell_type": "code",
   "execution_count": 29,
   "metadata": {},
   "outputs": [
    {
     "name": "stdout",
     "output_type": "stream",
     "text": [
      "(4, 0, 2) \n",
      "\n",
      "('s', 't', 'r', 'i', 'n', 'g')\n",
      "s\n"
     ]
    }
   ],
   "source": [
    "tup = tuple([4, 0, 2])\n",
    "print(tup, '\\n')\n",
    "\n",
    "tup = tuple('string')  # try list ('string')\n",
    "print(tup)\n",
    "print(tup[0])"
   ]
  },
  {
   "cell_type": "markdown",
   "metadata": {},
   "source": [
    "## tuple 改動與否，`視最後改動的對象為準`\n",
    ">### Tuple 內容也可以是 List、Tuple 或 Set, Tuple的內容可以是任意的資料型態"
   ]
  },
  {
   "cell_type": "code",
   "execution_count": 30,
   "metadata": {},
   "outputs": [
    {
     "name": "stdout",
     "output_type": "stream",
     "text": [
      "('foo', [1, 2, 3], True)\n",
      "3\n"
     ]
    },
    {
     "data": {
      "text/plain": [
       "('foo', [20, 2, 3], True)"
      ]
     },
     "execution_count": 30,
     "metadata": {},
     "output_type": "execute_result"
    }
   ],
   "source": [
    "tup = tuple(['foo', [1, 2], True])\n",
    "\n",
    "# tup[2] = False\n",
    "tup[1].append(3)  # list in Tuple OK to change or append inside of list\n",
    "print(tup)\n",
    "print(len(tup))\n",
    "tup[1][0] = 20#[1,2]的1改成20\n",
    "tup"
   ]
  },
  {
   "cell_type": "markdown",
   "metadata": {},
   "source": [
    "### Unpacking tuples"
   ]
  },
  {
   "cell_type": "code",
   "execution_count": 31,
   "metadata": {},
   "outputs": [
    {
     "data": {
      "text/plain": [
       "5"
      ]
     },
     "execution_count": 31,
     "metadata": {},
     "output_type": "execute_result"
    }
   ],
   "source": [
    "tup = (4, 5, 6)\n",
    "a, b, c = tup\n",
    "b"
   ]
  },
  {
   "cell_type": "code",
   "execution_count": 32,
   "metadata": {},
   "outputs": [
    {
     "data": {
      "text/plain": [
       "7"
      ]
     },
     "execution_count": 32,
     "metadata": {},
     "output_type": "execute_result"
    }
   ],
   "source": [
    "tup = 4, 5, (6, 7)\n",
    "a, b, (c, d) = tup\n",
    "d"
   ]
  },
  {
   "cell_type": "markdown",
   "metadata": {},
   "source": [
    "### for loop unpack"
   ]
  },
  {
   "cell_type": "code",
   "execution_count": 33,
   "metadata": {},
   "outputs": [
    {
     "name": "stdout",
     "output_type": "stream",
     "text": [
      "a = 1, b = 2, c = 3\n",
      "a = 4, b = 5, c = 6\n",
      "a = 7, b = 8, c = 9\n"
     ]
    }
   ],
   "source": [
    "seq = [(1, 2, 3), (4, 5, 6), (7, 8, 9)]\n",
    "for a, b, c in seq:\n",
    "    print(f'a = {a}, b = {b}, c = {c}')"
   ]
  },
  {
   "cell_type": "code",
   "execution_count": 34,
   "metadata": {},
   "outputs": [
    {
     "name": "stdout",
     "output_type": "stream",
     "text": [
      "<class 'tuple'>\n"
     ]
    },
    {
     "data": {
      "text/plain": [
       "(1, 2, [3, 4, 5])"
      ]
     },
     "execution_count": 34,
     "metadata": {},
     "output_type": "execute_result"
    }
   ],
   "source": [
    "values = 1, 2, 3, 4, 5\n",
    "print(type(values))\n",
    "a, b, *rest = values\n",
    "a, b, rest\n",
    "# rest"
   ]
  },
  {
   "cell_type": "code",
   "execution_count": 35,
   "metadata": {},
   "outputs": [
    {
     "data": {
      "text/plain": [
       "[3, 4, 5]"
      ]
     },
     "execution_count": 35,
     "metadata": {},
     "output_type": "execute_result"
    }
   ],
   "source": [
    "a, b, *_ = values\n",
    "_"
   ]
  },
  {
   "cell_type": "markdown",
   "metadata": {},
   "source": [
    "## tuple 元組基本運算"
   ]
  },
  {
   "cell_type": "code",
   "execution_count": 36,
   "metadata": {},
   "outputs": [
    {
     "data": {
      "text/plain": [
       "('Hi', 'Hi', 'Hi', 'Hi')"
      ]
     },
     "execution_count": 36,
     "metadata": {},
     "output_type": "execute_result"
    }
   ],
   "source": [
    "('Hi',)*4"
   ]
  },
  {
   "cell_type": "code",
   "execution_count": 37,
   "metadata": {},
   "outputs": [
    {
     "data": {
      "text/plain": [
       "3"
      ]
     },
     "execution_count": 37,
     "metadata": {},
     "output_type": "execute_result"
    }
   ],
   "source": [
    "len((10,20,30))"
   ]
  },
  {
   "cell_type": "code",
   "execution_count": 38,
   "metadata": {},
   "outputs": [
    {
     "data": {
      "text/plain": [
       "(1, 2, 3, 4, 5, 6)"
      ]
     },
     "execution_count": 38,
     "metadata": {},
     "output_type": "execute_result"
    }
   ],
   "source": [
    " (1,2,3)+(4,5,6)"
   ]
  },
  {
   "cell_type": "code",
   "execution_count": 39,
   "metadata": {},
   "outputs": [
    {
     "data": {
      "text/plain": [
       "True"
      ]
     },
     "execution_count": 39,
     "metadata": {},
     "output_type": "execute_result"
    }
   ],
   "source": [
    "30 in (10,20,30)"
   ]
  },
  {
   "cell_type": "code",
   "execution_count": 40,
   "metadata": {},
   "outputs": [
    {
     "name": "stdout",
     "output_type": "stream",
     "text": [
      "1, 2, 3, 4, 5, 6, 7, 8, 9, "
     ]
    }
   ],
   "source": [
    "seq = (1, 2, 3, 4, 5, 6, 7, 8, 9) # iterable object\n",
    "for i in seq:\n",
    "    print(i, end=', ')#用','隔開"
   ]
  },
  {
   "cell_type": "markdown",
   "metadata": {},
   "source": [
    "## tuple 元組相關`函數 functions` 與 `方法 methods`"
   ]
  },
  {
   "cell_type": "code",
   "execution_count": 41,
   "metadata": {},
   "outputs": [
    {
     "name": "stdout",
     "output_type": "stream",
     "text": [
      "2\n"
     ]
    }
   ],
   "source": [
    "nested_tup = (4, 5, 6), (7, 8)  # nested tuple\n",
    "print(len(nested_tup))"
   ]
  },
  {
   "cell_type": "code",
   "execution_count": 44,
   "metadata": {},
   "outputs": [
    {
     "name": "stdout",
     "output_type": "stream",
     "text": [
      "len(tup)\t\t\t: 11\n",
      "max(tup)\t\t\t: 6\n",
      "min(tup)\t\t\t: 1\n",
      "sum(tup)\t\t\t: 36\n",
      "sorted(tup)\t\t\t: [1, 1, 2, 2, 3, 3, 4, 4, 5, 5, 6]\n",
      "sorted(tup,reverse = True)\t: [6, 5, 5, 4, 4, 3, 3, 2, 2, 1, 1]\n",
      "(1, 2, 3, 4, 5, 6, 5, 4, 3, 2, 1)\n"
     ]
    }
   ],
   "source": [
    "tup = (1, 2, 3, 4, 5, 6, 5, 4, 3, 2, 1)\n",
    "print('len(tup)\\t\\t\\t:', len(tup))\n",
    "print('max(tup)\\t\\t\\t:', max(tup))\n",
    "print('min(tup)\\t\\t\\t:', min(tup))\n",
    "print('sum(tup)\\t\\t\\t:', sum(tup))\n",
    "print('sorted(tup)\\t\\t\\t:', sorted(tup))\n",
    "print('sorted(tup,reverse = True)\\t:', sorted(tup, reverse = True))\n",
    "print(tup)"
   ]
  },
  {
   "cell_type": "code",
   "execution_count": 43,
   "metadata": {},
   "outputs": [
    {
     "name": "stdout",
     "output_type": "stream",
     "text": [
      "tup3\t\t\t= ('aaa', 'bbb', 'kkk', 'jjj', 'cc1')\n",
      "sorted(tup3)\t\t: ['aaa', 'bbb', 'cc1', 'jjj', 'kkk']\n",
      "max(tup3)\t\t: kkk\n",
      "min(tup3)\t\t: aaa\n",
      "tup3.count('kkk')\t: 1\n",
      "tup3.index('kkk')\t: 2\n",
      "tup3+(111, 222)\t\t: ('aaa', 'bbb', 'kkk', 'jjj', 'cc1', 111, 222)\n"
     ]
    }
   ],
   "source": [
    "tup3=('aaa', 'bbb', 'kkk', 'jjj', 'cc1')\n",
    "\n",
    "print('tup3\\t\\t\\t=', tup3)\n",
    "print('sorted(tup3)\\t\\t:', sorted(tup3))  #tuple sorted 傳回的是list[], 需要用參數去接, lst=sorted(t3), t3 is still tuple, no change\n",
    "print('max(tup3)\\t\\t:', max(tup3))\n",
    "print('min(tup3)\\t\\t:', min(tup3))\n",
    "print(\"tup3.count('kkk')\\t:\", tup3.count('kkk'))\n",
    "print(\"tup3.index('kkk')\\t:\", tup3.index('kkk'))\n",
    "print('tup3+(111, 222)\\t\\t:', tup3+(111, 222))"
   ]
  },
  {
   "cell_type": "code",
   "execution_count": 45,
   "metadata": {},
   "outputs": [
    {
     "name": "stdout",
     "output_type": "stream",
     "text": [
      "(0, 2, 4, 6, 8)\n",
      "(1, 2, 3, 4)\n",
      "('a', 'b', 'c', 'd', 'e')\n"
     ]
    }
   ],
   "source": [
    "t1 = tuple(range(0, 10, 2)) # lazy evaluation\n",
    "t2 = tuple([1, 2, 3, 4])\n",
    "t3 = tuple('abcde')\n",
    "\n",
    "print(t1)\n",
    "print(t2)\n",
    "print(t3)"
   ]
  },
  {
   "cell_type": "code",
   "execution_count": 47,
   "metadata": {},
   "outputs": [
    {
     "name": "stdout",
     "output_type": "stream",
     "text": [
      "4\n",
      "1\n"
     ]
    }
   ],
   "source": [
    "a = (1, 2, 2, 2, 3, 4, 2)\n",
    "print(a.count(2))\n",
    "print(a.index(2))"
   ]
  },
  {
   "cell_type": "markdown",
   "metadata": {},
   "source": [
    "## list comprehensions\n",
    ">### Python 支援㇐種稱為 “list comprehensions” 的概念，以㇐個非常直接簡單的方式來建構串列 (List)，感覺跟數學的公式很像\n",
    ">### Tuple 沒有 Comprehension 的觀念"
   ]
  },
  {
   "cell_type": "code",
   "execution_count": 48,
   "metadata": {},
   "outputs": [
    {
     "name": "stdout",
     "output_type": "stream",
     "text": [
      "S =  [0, 1, 4, 9, 16, 25, 36, 49, 64, 81]\n",
      "V =  [1, 2, 4, 8, 16, 32, 64, 128, 256, 512, 1024, 2048, 4096]\n",
      "M =  [0, 4, 16, 36, 64]\n",
      "Q =  [0.0, 0.5, 2.0, 4.5, 8.0, 12.5, 18.0, 24.5, 32.0, 40.5]\n"
     ]
    }
   ],
   "source": [
    "S = [x**2 for x in range(10)]\n",
    "V = [2**x for x in range(13)]\n",
    "M = [x for x in S if x % 2 == 0]\n",
    "Q = [x**2/2 for x in range(10) ]\n",
    "\n",
    "print('S = ', S)\n",
    "print('V = ', V)\n",
    "print('M = ', M)\n",
    "print('Q = ', Q)"
   ]
  },
  {
   "cell_type": "code",
   "execution_count": 49,
   "metadata": {},
   "outputs": [
    {
     "data": {
      "text/plain": [
       "[[1, 2, 3, 4, 5, 6, 7, 8, 9],\n",
       " [2, 4, 6, 8, 10, 12, 14, 16, 18],\n",
       " [3, 6, 9, 12, 15, 18, 21, 24, 27],\n",
       " [4, 8, 12, 16, 20, 24, 28, 32, 36],\n",
       " [5, 10, 15, 20, 25, 30, 35, 40, 45],\n",
       " [6, 12, 18, 24, 30, 36, 42, 48, 54],\n",
       " [7, 14, 21, 28, 35, 42, 49, 56, 63],\n",
       " [8, 16, 24, 32, 40, 48, 56, 64, 72],\n",
       " [9, 18, 27, 36, 45, 54, 63, 72, 81]]"
      ]
     },
     "execution_count": 49,
     "metadata": {},
     "output_type": "execute_result"
    }
   ],
   "source": [
    "# 九九乘法表 comprehensive 寫法\n",
    "[[i*j for j in range(1,10)] for i in range(1,10)]"
   ]
  },
  {
   "cell_type": "code",
   "execution_count": 57,
   "metadata": {},
   "outputs": [
    {
     "data": {
      "text/plain": [
       "[1,\n",
       " 2,\n",
       " 3,\n",
       " 4,\n",
       " 5,\n",
       " 6,\n",
       " 7,\n",
       " 8,\n",
       " 9,\n",
       " 2,\n",
       " 4,\n",
       " 6,\n",
       " 8,\n",
       " 10,\n",
       " 12,\n",
       " 14,\n",
       " 16,\n",
       " 18,\n",
       " 3,\n",
       " 6,\n",
       " 9,\n",
       " 12,\n",
       " 15,\n",
       " 18,\n",
       " 21,\n",
       " 24,\n",
       " 27,\n",
       " 4,\n",
       " 8,\n",
       " 12,\n",
       " 16,\n",
       " 20,\n",
       " 24,\n",
       " 28,\n",
       " 32,\n",
       " 36,\n",
       " 5,\n",
       " 10,\n",
       " 15,\n",
       " 20,\n",
       " 25,\n",
       " 30,\n",
       " 35,\n",
       " 40,\n",
       " 45,\n",
       " 6,\n",
       " 12,\n",
       " 18,\n",
       " 24,\n",
       " 30,\n",
       " 36,\n",
       " 42,\n",
       " 48,\n",
       " 54,\n",
       " 7,\n",
       " 14,\n",
       " 21,\n",
       " 28,\n",
       " 35,\n",
       " 42,\n",
       " 49,\n",
       " 56,\n",
       " 63,\n",
       " 8,\n",
       " 16,\n",
       " 24,\n",
       " 32,\n",
       " 40,\n",
       " 48,\n",
       " 56,\n",
       " 64,\n",
       " 72,\n",
       " 9,\n",
       " 18,\n",
       " 27,\n",
       " 36,\n",
       " 45,\n",
       " 54,\n",
       " 63,\n",
       " 72,\n",
       " 81]"
      ]
     },
     "execution_count": 57,
     "metadata": {},
     "output_type": "execute_result"
    }
   ],
   "source": [
    "[x*y for x in range(1,10) for y in range(1,10)]"
   ]
  },
  {
   "cell_type": "code",
   "execution_count": 59,
   "metadata": {},
   "outputs": [
    {
     "name": "stdout",
     "output_type": "stream",
     "text": [
      "3.48 µs ± 14.8 ns per loop (mean ± std. dev. of 7 runs, 100,000 loops each)\n"
     ]
    }
   ],
   "source": [
    "%%timeit\n",
    "# V = (1,2,4,8,...2**10)\n",
    "V=[]\n",
    "for n in range(11):\n",
    "    V +=[2**n]\n",
    "V"
   ]
  },
  {
   "cell_type": "code",
   "execution_count": 58,
   "metadata": {},
   "outputs": [
    {
     "name": "stdout",
     "output_type": "stream",
     "text": [
      "3.06 µs ± 10.2 ns per loop (mean ± std. dev. of 7 runs, 100,000 loops each)\n"
     ]
    }
   ],
   "source": [
    "%%timeit\n",
    "# V = (1,2,4,8,...2**10)\n",
    "V=[]\n",
    "V = [2**n for n in range(11)]\n",
    "V"
   ]
  },
  {
   "cell_type": "markdown",
   "metadata": {},
   "source": [
    "### 範例"
   ]
  },
  {
   "cell_type": "code",
   "execution_count": 60,
   "metadata": {},
   "outputs": [
    {
     "name": "stdout",
     "output_type": "stream",
     "text": [
      "[2, 3, 5, 7, 11, 13, 17, 19, 23, 29, 31, 37, 41, 43, 47, 53, 59, 61, 67, 71, 73, 79, 83, 89, 97, 101, 103, 107, 109, 113, 127, 131, 137, 139, 149, 151, 157, 163, 167, 173, 179, 181, 191, 193, 197, 199, 211, 223, 227, 229, 233, 239, 241, 251, 257, 263, 269, 271, 277, 281, 283, 293, 307, 311, 313, 317, 331, 337, 347, 349, 353, 359, 367, 373, 379, 383, 389, 397, 401, 409, 419, 421, 431, 433, 439, 443, 449, 457, 461, 463, 467, 479, 487, 491, 499, 503, 509, 521, 523, 541, 547, 557, 563, 569, 571, 577, 587, 593, 599, 601, 607, 613, 617, 619, 631, 641, 643, 647, 653, 659, 661, 673, 677, 683, 691, 701, 709, 719, 727, 733, 739, 743, 751, 757, 761, 769, 773, 787, 797, 809, 811, 821, 823, 827, 829, 839, 853, 857, 859, 863, 877, 881, 883, 887, 907, 911, 919, 929, 937, 941, 947, 953, 967, 971, 977, 983, 991, 997]\n"
     ]
    }
   ],
   "source": [
    "# 質數\n",
    "lst=[]\n",
    "for i in range(2,1001):\n",
    "    for j in range (2,i):\n",
    "        if i%j==0:\n",
    "            break\n",
    "    else:\n",
    "        lst=lst+[i]\n",
    "print(lst)"
   ]
  },
  {
   "cell_type": "code",
   "execution_count": null,
   "metadata": {},
   "outputs": [],
   "source": [
    "# for loop start\n",
    "#公元年分除以4可整除但公元年分除以100不可整除」或「公元年分除以400可整除」\n",
    "\n",
    "lst_year=[]  # list\n",
    "for i in range(1900, 2021):\n",
    "    if((i%4==0 and  i%100!=0) or (i%400==0)):\n",
    "        print(id(lst_year), lst_year)        \n",
    "        lst_year += [i]\n",
    "print('\\n', lst_year, '\\n')      \n",
    "\n",
    "# -------------------------------------------------------\n",
    "\n",
    "lst_year1 = [i for i in range(1900,2021) if((i%4==0 and i%100!=0) or (i%400==0))]\n",
    "print(lst_year1)"
   ]
  },
  {
   "cell_type": "code",
   "execution_count": null,
   "metadata": {},
   "outputs": [],
   "source": [
    "# for loop start\n",
    "#公元年分除以4可整除但公元年分除以100不可整除」#或「公元年分除以400可整除」\n",
    "\n",
    "lst_year=()  # tuple\n",
    "for i in range(1900, 2021):\n",
    "    if((i%4==0 and i%100!=0) or (i%400==0)):\n",
    "        print(id(lst_year), lst_year)\n",
    "        lst_year +=(i,)\n",
    "print('\\n', lst_year, '\\n')      "
   ]
  },
  {
   "cell_type": "markdown",
   "metadata": {},
   "source": [
    "### tuple 放棄了對元素的增刪（記憶體結構設計上變的更精簡），換取的是效能上的提升：建立 tuple 比 list 要快，儲存空間比 list 佔用更小。"
   ]
  },
  {
   "cell_type": "markdown",
   "metadata": {},
   "source": [
    "---\n",
    "<center><h1>--- The End ---</h1></center>"
   ]
  }
 ],
 "metadata": {
  "kernelspec": {
   "display_name": "Python 3.10.7 64-bit",
   "language": "python",
   "name": "python3"
  },
  "language_info": {
   "codemirror_mode": {
    "name": "ipython",
    "version": 3
   },
   "file_extension": ".py",
   "mimetype": "text/x-python",
   "name": "python",
   "nbconvert_exporter": "python",
   "pygments_lexer": "ipython3",
   "version": "3.10.7"
  },
  "vscode": {
   "interpreter": {
    "hash": "c08f6b10d77fad09d09d755fdaa91e1358750def25b824cba47d64ca203d65a5"
   }
  }
 },
 "nbformat": 4,
 "nbformat_minor": 4
}
