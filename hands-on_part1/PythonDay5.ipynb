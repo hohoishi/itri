{
 "cells": [
  {
   "cell_type": "markdown",
   "id": "15367e62-6601-4fad-b544-90e34ba60e32",
   "metadata": {},
   "source": [
    "<div style=\"page-break-after: always\"></div>\n",
    "\n",
    "# Module 21 zip, map & filter\n",
    ">## zip()\n",
    "> 函數用於將可反覆運算的物件作為參數，將物件中`對應的元素`打包成一個個元組 tuple，然後返回由這些`元組 (tuple)`組成的列表。如果各個反覆運算器的元素個數不一致，則返回列表長度與`最短的物件相同`。\n",
    ">><img src=\"./img/zip.png\"  style='width:60%'>"
   ]
  },
  {
   "cell_type": "code",
   "execution_count": 1,
   "id": "34c3246e-44a3-4bbc-8826-a974438247f5",
   "metadata": {},
   "outputs": [
    {
     "name": "stdout",
     "output_type": "stream",
     "text": [
      "zip(a,b) :\t\t<zip object at 0x000000D898796140>\n",
      "list(zip(a,b)) :\t[('a', 4), ('b', 5), ('c', 6)]\n",
      "dict(zip(a,b)) :\t{'a': 4, 'b': 5, 'c': 6}\n"
     ]
    }
   ],
   "source": [
    "a = ['a','b','c'];   b = [4,5,6];   c = [4,5,6,7,8]\n",
    "\n",
    "print(f'zip(a,b) :\\t\\t{zip(a,b)}\\n'#產生一個物件但沒展開\n",
    "      f'list(zip(a,b)) :\\t{list(zip(a,b))}\\n'\n",
    "      f'dict(zip(a,b)) :\\t{dict(zip(a,b))}') # 與 zip 相反，*zib 可理解為解壓，返回二維矩陣式 [(1, 2, 3), (4, 5, 6)]"
   ]
  },
  {
   "cell_type": "code",
   "execution_count": 2,
   "id": "6a4696e2-d5c6-45b8-a303-564ed0e7dd50",
   "metadata": {},
   "outputs": [
    {
     "name": "stdout",
     "output_type": "stream",
     "text": [
      "('a', 4, 7.6)\n",
      "('b', 5, 8.2)\n",
      "('c', 6, 9.5)\n",
      "\n",
      "x = a,\ty = 4,\tz = 7.6\n",
      "x = b,\ty = 5,\tz = 8.2\n",
      "x = c,\ty = 6,\tz = 9.5\n"
     ]
    }
   ],
   "source": [
    "a = ['a','b','c'];  b = [4,5,6];  c = [7.6,8.2, 9.5, 10.5]\n",
    "\n",
    "for i in list(zip(a, b ,c)):\n",
    "    print(i)\n",
    "    \n",
    "print()\n",
    "\n",
    "for x, y, z in list(zip(a, b ,c)):\n",
    "    print(f'x = {x},\\ty = {y},\\tz = {z}')"
   ]
  },
  {
   "cell_type": "code",
   "execution_count": 3,
   "id": "346393b4-1322-4bae-8533-d8309f4d70ec",
   "metadata": {},
   "outputs": [
    {
     "ename": "ValueError",
     "evalue": "too many values to unpack (expected 2)",
     "output_type": "error",
     "traceback": [
      "\u001b[1;31m---------------------------------------------------------------------------\u001b[0m",
      "\u001b[1;31mValueError\u001b[0m                                Traceback (most recent call last)",
      "Cell \u001b[1;32mIn [3], line 1\u001b[0m\n\u001b[1;32m----> 1\u001b[0m \u001b[39mfor\u001b[39;00m j, k \u001b[39min\u001b[39;00m \u001b[39mlist\u001b[39m(\u001b[39mzip\u001b[39m(a, b ,c)):     \u001b[39m# error\u001b[39;00m\n\u001b[0;32m      2\u001b[0m     \u001b[39mprint\u001b[39m(j,k)\n",
      "\u001b[1;31mValueError\u001b[0m: too many values to unpack (expected 2)"
     ]
    }
   ],
   "source": [
    "for j, k in list(zip(a, b ,c)):     # error\n",
    "    print(j,k)"
   ]
  },
  {
   "cell_type": "code",
   "execution_count": 4,
   "id": "54825d75-32e0-4ea4-a3d8-3acd9c87db22",
   "metadata": {},
   "outputs": [
    {
     "name": "stdout",
     "output_type": "stream",
     "text": [
      "a [4, 7.6]\n",
      "b [5, 8.2]\n",
      "c [6, 9.5]\n"
     ]
    }
   ],
   "source": [
    "for j, *k in tuple(zip(a, b ,c)):#*k接剩的\n",
    "    print(j, k)"
   ]
  },
  {
   "cell_type": "markdown",
   "id": "415f32b4-35b7-4156-b7d1-7762f45f8cb2",
   "metadata": {},
   "source": [
    "### zip Creating `dicts` from sequences"
   ]
  },
  {
   "cell_type": "code",
   "execution_count": 5,
   "id": "03d18ce3-8f05-4ab9-b464-60710e99278b",
   "metadata": {},
   "outputs": [
    {
     "name": "stdout",
     "output_type": "stream",
     "text": [
      "key : a,\t value : apple\n",
      "key : b,\t value : banana\n",
      "{'a': 'apple', 'b': 'banana'}, {'a': 'apple', 'b': 'banana'}\n"
     ]
    }
   ],
   "source": [
    "k=['a', 'b'];   v=['apple', 'banana']\n",
    "\n",
    "m = {}\n",
    "for kk, vv in zip(k, v):\n",
    "    print(f'key : {kk},\\t value : {vv}')\n",
    "    m[kk] = vv\n",
    "print(f'{m}, {dict(zip(k, v))}')            # 兩個效果一樣"
   ]
  },
  {
   "cell_type": "code",
   "execution_count": 6,
   "id": "5c73162f-b350-4caf-902d-30a763791be1",
   "metadata": {},
   "outputs": [
    {
     "data": {
      "text/plain": [
       "([('foo', 'one'), ('bar', 'two'), ('baz', 'three')],\n",
       " {'foo': 'one', 'bar': 'two', 'baz': 'three'})"
      ]
     },
     "execution_count": 6,
     "metadata": {},
     "output_type": "execute_result"
    }
   ],
   "source": [
    "seq1 = ['foo', 'bar', 'baz']\n",
    "seq2 = ['one', 'two', 'three']\n",
    "zipped = zip(seq1, seq2)\n",
    "list(zipped), dict(zip(seq1, seq2))\n",
    "# zipped[0][0]='apple'  # error"
   ]
  },
  {
   "cell_type": "code",
   "execution_count": 7,
   "id": "ffa2e31c-f903-43d5-9550-e635c5aecf68",
   "metadata": {},
   "outputs": [
    {
     "name": "stdout",
     "output_type": "stream",
     "text": [
      "0: foo, one\n",
      "1: bar, two\n",
      "2: baz, three\n"
     ]
    }
   ],
   "source": [
    "for idx, (a, b) in enumerate(zip(seq1, seq2)):\n",
    "    print(f'{idx}: {a}, {b}')"
   ]
  },
  {
   "cell_type": "code",
   "execution_count": 8,
   "id": "4fb27804-8e2f-40ac-8140-e92fb2b22f89",
   "metadata": {},
   "outputs": [
    {
     "name": "stdout",
     "output_type": "stream",
     "text": [
      "('Nolan', 'Roger', 'Schilling')\n",
      "('Ryan', 'Clemens', 'Curt')\n"
     ]
    }
   ],
   "source": [
    "pitchers = [('Nolan', 'Ryan'), ('Roger', 'Clemens'), ('Schilling', 'Curt')]\n",
    "first_names, last_names = zip(*pitchers)#拆包\n",
    "print(first_names)\n",
    "print(last_names)"
   ]
  },
  {
   "cell_type": "markdown",
   "id": "ea857eba-59e2-4a84-b31b-2e6642714bec",
   "metadata": {},
   "source": [
    "## map()\n",
    "> map() 會根據提供的函數對指定序列做映射\n",
    "> $map(func, iterable, ...)$\n",
    "\n",
    "> * func ：為用來處理映射規則的函數，常使用匿名函數 lambda\n",
    "> * iterable ：為可以迭代的元素，例如一個 list, tuple....\n",
    ">> <img src=\"./img/map.png\" style='width:90%'>"
   ]
  },
  {
   "cell_type": "markdown",
   "id": "da2dcc83-9519-4ca8-bb71-0c69a7351b0b",
   "metadata": {},
   "source": [
    "## map lambda"
   ]
  },
  {
   "cell_type": "code",
   "execution_count": 9,
   "id": "39b7448f-4ec3-420a-a290-5764792b12c4",
   "metadata": {},
   "outputs": [
    {
     "name": "stdout",
     "output_type": "stream",
     "text": [
      "[0.5, 2.0, 4.5, 18.0, 8.0, 12.5, 50.0, 72.0]\n"
     ]
    }
   ],
   "source": [
    "# for loop\n",
    "\n",
    "data=(1,2,3,6,4,5,10,12)\n",
    "\n",
    "out=[]\n",
    "for i in data :\n",
    "    out=out+[i**2/2]\n",
    "print(out)"
   ]
  },
  {
   "cell_type": "code",
   "execution_count": null,
   "id": "6f44690f",
   "metadata": {},
   "outputs": [],
   "source": [
    "d=(1,2,3,4,5,6)\n",
    "our=\n",
    "    "
   ]
  },
  {
   "cell_type": "code",
   "execution_count": 10,
   "id": "a427edba-b5f9-401a-8b0f-e22722174a77",
   "metadata": {},
   "outputs": [
    {
     "name": "stdout",
     "output_type": "stream",
     "text": [
      "<class 'map'>\n",
      "[0.5, 2.0, 4.5, 18.0, 8.0, 12.5, 50.0, 72.0]\n"
     ]
    }
   ],
   "source": [
    "# map\n",
    "data=(1,2,3,6,4,5,10,12)\n",
    "\n",
    "print(type(map(lambda x : x**2/2, data)))#冒號前面是input 後面是outpt\n",
    "print(list(map(lambda x : x**2/2, data)))"
   ]
  },
  {
   "cell_type": "markdown",
   "id": "c4187fef-cee4-4b20-a172-5cb1b74e09d9",
   "metadata": {},
   "source": [
    "## map def"
   ]
  },
  {
   "cell_type": "code",
   "execution_count": 11,
   "id": "b293eace-9255-4f86-bbf1-386c5fc3ca00",
   "metadata": {},
   "outputs": [
    {
     "name": "stdout",
     "output_type": "stream",
     "text": [
      "[0.5, 2.0, 4.5, 18.0, 8.0, 12.5, 50.0, 72.0]\n",
      "[False, False, False, True, False, False, True, True]\n"
     ]
    }
   ],
   "source": [
    "# function map and filter\n",
    "def num_fun(n):\n",
    "    return n**2/2\n",
    "\n",
    "def more_than_5(x):\n",
    "    return x>5\n",
    "\n",
    "data=(1,2,3,6,4,5,10,12)\n",
    "\n",
    "print(list(map(num_fun, data)))\n",
    "print(list(map(more_than_5, data)))"
   ]
  },
  {
   "cell_type": "code",
   "execution_count": 12,
   "id": "038358ca-fdbd-472d-b742-2868e8e66d3f",
   "metadata": {},
   "outputs": [
    {
     "name": "stdout",
     "output_type": "stream",
     "text": [
      "['mary', 'john', 'tom', 'alex']\n",
      "['MARY', 'JOHN', 'TOM', 'ALEX']\n"
     ]
    }
   ],
   "source": [
    "# function map and filter striing\n",
    "def str_fun(n):\n",
    "    return n.lower()\n",
    "\n",
    "data=('Mary', 'john', 'tom', 'ALEX')    # tuple\n",
    "\n",
    "print(list(map(str_fun, data)))\n",
    "print(list(map(lambda x:x.upper(), data)))"
   ]
  },
  {
   "cell_type": "code",
   "execution_count": null,
   "id": "a0f4a09a",
   "metadata": {},
   "outputs": [],
   "source": [
    "def a:\n",
    "    return a.lower"
   ]
  },
  {
   "cell_type": "markdown",
   "id": "beffbd5e-3496-4c65-bc60-01165608881d",
   "metadata": {},
   "source": [
    "## Filter ()\n",
    "\n",
    "> filter() 函數用於過濾序列，過濾掉`不符合條件的元素`，返回由符合條件元素組成的新清單。\n",
    "> $ filter(func, iterable, ...)$\n",
    "\n",
    ">* func ：為用來處理過濾序列的 `boolean` 運算函數，常使用匿名函數 lambda\n",
    ">* iterable ：為可以迭代的元素，例如一個 list, tuple...\n",
    "\n",
    ">> 序列的每個元素作為參數傳遞給函數進行判斷，然後返回 True 或 False，最後將返回 True 的元素放到新清單中。\n",
    ">> <img src=\"./img/filter.png\" style='width:90%'>"
   ]
  },
  {
   "cell_type": "markdown",
   "id": "54a74086-de9d-4618-8873-dbe4c807ab29",
   "metadata": {},
   "source": [
    "## filter / lambda"
   ]
  },
  {
   "cell_type": "code",
   "execution_count": 13,
   "id": "ab6a5454-84ab-4531-bbaa-bb3582e175db",
   "metadata": {},
   "outputs": [
    {
     "name": "stdout",
     "output_type": "stream",
     "text": [
      "[6, 10, 12]\n"
     ]
    }
   ],
   "source": [
    "# function map and filter\n",
    "\n",
    "data=(1,2,3,6,4,5,10,12)\n",
    "\n",
    "print(list(filter(lambda x : x>5, data)))"
   ]
  },
  {
   "cell_type": "markdown",
   "id": "e320b0c3-8694-4431-bc07-7c9505593357",
   "metadata": {},
   "source": [
    "## filter / def"
   ]
  },
  {
   "cell_type": "code",
   "execution_count": 16,
   "id": "14e2169d-c4b4-4121-946b-04ffc05c4dfd",
   "metadata": {},
   "outputs": [
    {
     "name": "stdout",
     "output_type": "stream",
     "text": [
      "[6, 10, 12]\n"
     ]
    }
   ],
   "source": [
    "# function map and filter\n",
    "def more_than_5(x):\n",
    "    return x>5\n",
    "\n",
    "data=(1,2,3,6,4,5,10,12)\n",
    "\n",
    "print(list(filter(more_than_5, data)))"
   ]
  },
  {
   "cell_type": "code",
   "execution_count": 17,
   "id": "1b03ac9c-ab8c-46ec-a88a-75f67d499a31",
   "metadata": {},
   "outputs": [
    {
     "name": "stdout",
     "output_type": "stream",
     "text": [
      "[0.5, 2.0, 4.5, 18.0, 8.0, 12.5, 50.0, 72.0]\n",
      "[0.5, 2.0, 4.5, 18.0, 8.0, 12.5, 50.0, 72.0]\n",
      "[0.5, 2.0, 4.5, 18.0, 8.0, 12.5, 50.0, 72.0] \n",
      "\n",
      "[6, 10, 12]\n",
      "[6, 10, 12]\n",
      "[False, False, False, True, False, False, True, True]\n",
      "[6, 10, 12]\n"
     ]
    }
   ],
   "source": [
    "# function map and filter\n",
    "def num_fun(n):\n",
    "    return n**2/2\n",
    "\n",
    "def more_than_5(x):\n",
    "    return x>5\n",
    "\n",
    "data=(1,2,3,6,4,5,10,12)\n",
    "\n",
    "print(list(map(num_fun, data)))\n",
    "print(list(map(lambda x : x**2/2, data)))\n",
    "print([x**2/2 for x in data ],'\\n')\n",
    "\n",
    "print(list(filter(more_than_5, data)))\n",
    "print(list(filter(lambda x : x>5, data)))\n",
    "print([x>5 for x in data ])\n",
    "print([x for x in data if x>5 ])"
   ]
  },
  {
   "cell_type": "markdown",
   "id": "14b3ed48-230d-401b-8794-006d4de8e2f2",
   "metadata": {},
   "source": [
    "## map & filter"
   ]
  },
  {
   "cell_type": "code",
   "execution_count": 3,
   "id": "ca136684-53d6-497c-8f21-ea5b1fd22073",
   "metadata": {},
   "outputs": [
    {
     "name": "stdout",
     "output_type": "stream",
     "text": [
      "[166375, 35937, 64, 27, 970299, 175616]\n",
      "[166375, 35937, 64, 27, 970299, 175616] \n",
      "\n",
      "[3025, 1089, 16, 9, 9801, 3136]\n",
      "[3025, 1089, 16, 9, 9801, 3136] \n",
      "\n",
      "[4, 56]\n",
      "[4, 56]\n"
     ]
    }
   ],
   "source": [
    "lst=[55,33,4,3,99,56]\n",
    "\n",
    "def square(n):\n",
    "    return n**3\n",
    "\n",
    "def mult(n):\n",
    "    return n*n\n",
    "\n",
    "def even(n):\n",
    "    return n%2==0\n",
    "\n",
    "print(list(map(square, lst)))\n",
    "print(list(map(lambda x:x**3, lst)),'\\n')\n",
    "\n",
    "print(list(map(mult, lst)))\n",
    "print(list(map(lambda x:x*x, lst)),'\\n')\n",
    "\n",
    "\n",
    "print(list(filter(even, lst)))\n",
    "print(list(filter(lambda x : x%2==0, lst)))"
   ]
  },
  {
   "cell_type": "markdown",
   "id": "17d4a311-3d7f-49ae-9bb3-b0ca94f972a4",
   "metadata": {},
   "source": [
    "---"
   ]
  },
  {
   "cell_type": "markdown",
   "id": "42cf479d-7019-4060-8fa8-b08dcf6a9696",
   "metadata": {},
   "source": [
    "<div style=\"page-break-after: always\"></div>\n",
    "\n",
    "# Module 22 math, random & statistic"
   ]
  },
  {
   "cell_type": "markdown",
   "id": "bcad4379-24fd-452c-84e8-d127849ae9fa",
   "metadata": {},
   "source": [
    "## math\n",
    "\n",
    "math 模組中定義了如下五個常數 (屬性) :\n",
    "\n",
    "\n",
    " |math 常數\t| 說明|\n",
    " |--|--|\n",
    " |e\t |自然指數=2.718281828459045|\n",
    " |pi\t |圓周率=3.141592653589793|\n",
    " |tau|\t 圓周率的兩倍=2*pi|\n",
    " |nan|\t 非數值=float('nan')  |\n",
    " |inf|\t 正無限大之浮點數=float('inf')|"
   ]
  },
  {
   "cell_type": "markdown",
   "id": "8a963a70-1afc-43c6-aed5-e6c960a97433",
   "metadata": {},
   "source": [
    "Python 的標準函式「math」提供了許多常用的數學函式，例如三角函數、四捨五入、指數、對數、平方根、總和...等，都能夠透過 math 標準函式來進行運算。\n",
    "\n",
    "math 常用方法, 下方列出幾種 math 模組常用的方法 ( 參考 Python 官方文件：math )：\n",
    "\n",
    "|方法\t|參數\t|說明|\n",
    "|---:|:---:|:---|\n",
    "|pi、e|\t\t|圓周率與指數 ( 數學常數 )|\n",
    "|ceil()|\tx|\t進位到比自己大的整數 |\n",
    "|floor()|\tx|\t捨去到比自己小的整數|\n",
    "|copysign()|\tx, y|\t根據 y 的正負符號，改變 x 絕對值後的正負值|\n",
    "|fabs()|\tx|\t回傳 x 的絕對值 ( 浮點數 )|\n",
    "|fmod()|\tx, y|\t回傳 x 除以 y 的餘數 ( 浮點數 )|\n",
    "|fsum()|\titer\t|回傳可迭代數值的加總 ( 浮點數 )|\n",
    "|gcd()|\tx, y|\t回傳 x 和 y 的最大公約數|\n",
    "|pow()|\tx, y|\t回傳 x 的 y 次方|\n",
    "|sqrt()\t|x|\t回傳 x 的平方根|\n",
    "|factorial()|\tx|\t回傳 x 的階乘 ( x!，僅限正整數 )|\n",
    "|degrees()、radians()|\tx|\t將角度轉為弧度，或將弧度轉為角度|\n",
    "|sin()、cos()、tan()|x\t|回傳 x 弧度的正弦值、餘弦值、正切值|\n",
    "|asin()、acos()、atan()\t|x|\t回傳 x 弧度的反正弦值、反餘弦值、反正切值|\n",
    "|exp()\t|x|\t回傳 e 常數的 x 次方|\n",
    "|log()、log1p()、log2()、log10()|\tx|\t回傳自然對數|\n",
    "|isclose()\t|x, y, *, rel_tol, abs_tol|\t判斷 x 和 y 是否夠接近，回傳 True 或 False|\n",
    "|isfinite()、isinf()\t|x|\t判斷 x 是否為無限大的數字，回傳 True 或 False|\n",
    "|isnan()|\tx|\t判斷 x 是否為 NaN，回傳 True 或 False|"
   ]
  },
  {
   "cell_type": "code",
   "execution_count": 18,
   "id": "cbaeba3b-cbb6-44f8-95cb-b90b86c3d001",
   "metadata": {},
   "outputs": [
    {
     "name": "stdout",
     "output_type": "stream",
     "text": [
      "['__doc__', '__loader__', '__name__', '__package__', '__spec__', 'acos', 'acosh', 'asin', 'asinh', 'atan', 'atan2', 'atanh', 'ceil', 'comb', 'copysign', 'cos', 'cosh', 'degrees', 'dist', 'e', 'erf', 'erfc', 'exp', 'expm1', 'fabs', 'factorial', 'floor', 'fmod', 'frexp', 'fsum', 'gamma', 'gcd', 'hypot', 'inf', 'isclose', 'isfinite', 'isinf', 'isnan', 'isqrt', 'lcm', 'ldexp', 'lgamma', 'log', 'log10', 'log1p', 'log2', 'modf', 'nan', 'nextafter', 'perm', 'pi', 'pow', 'prod', 'radians', 'remainder', 'sin', 'sinh', 'sqrt', 'tan', 'tanh', 'tau', 'trunc', 'ulp']\n"
     ]
    }
   ],
   "source": [
    "import math\n",
    "print(dir(math))"
   ]
  },
  {
   "cell_type": "code",
   "execution_count": 19,
   "id": "2a3302d1-6156-4c31-863f-81169c84325f",
   "metadata": {},
   "outputs": [
    {
     "name": "stdout",
     "output_type": "stream",
     "text": [
      "math.exp(0)\t= 1.0\n",
      "math.log(4, 2)\t= 2.0\n"
     ]
    }
   ],
   "source": [
    "print(\"math.exp(0)\\t=\", math.exp(0))\n",
    "print(\"math.log(4, 2)\\t=\", math.log(4, 2)) # default base is e"
   ]
  },
  {
   "cell_type": "markdown",
   "id": "dc71cb93-2ce6-4b89-9d27-620d4029cb60",
   "metadata": {},
   "source": [
    "#### math.pi 使用後會回傳圓周率的數學常數\n",
    "#### math.e 使用後會回傳指數的數學常數 ( 常數表示固定不變的數字 )。"
   ]
  },
  {
   "cell_type": "code",
   "execution_count": 20,
   "id": "ee342959-f966-40d4-9ba6-e54ba4a90c0b",
   "metadata": {},
   "outputs": [
    {
     "name": "stdout",
     "output_type": "stream",
     "text": [
      "3.141592653589793\n",
      "2.718281828459045\n"
     ]
    }
   ],
   "source": [
    "import math\n",
    "print(math.pi)    # 3.141592653589793\n",
    "print(math.e)     # 2.718281828459045"
   ]
  },
  {
   "cell_type": "markdown",
   "id": "039f2e0d-1dc5-4365-a015-df8e6c9bbcf2",
   "metadata": {},
   "source": [
    "### ceil(x) \n",
    "> math.ceil(x) 使用後會將小數點後方的數字，無條件進位到比自己大的整數"
   ]
  },
  {
   "cell_type": "code",
   "execution_count": 21,
   "id": "7a993546-4ab3-43d3-ad2a-7c8575922ec5",
   "metadata": {},
   "outputs": [
    {
     "name": "stdout",
     "output_type": "stream",
     "text": [
      "4\n"
     ]
    }
   ],
   "source": [
    "import math\n",
    "pi = math.pi\n",
    "print(math.ceil(pi))   # 4"
   ]
  },
  {
   "cell_type": "code",
   "execution_count": 22,
   "id": "74ce4a0d-b466-4dad-ba6d-201931d753ab",
   "metadata": {},
   "outputs": [
    {
     "name": "stdout",
     "output_type": "stream",
     "text": [
      "math.ceil(1.2)\t=  2\n",
      "math.ceil(-1.2)\t=  -1\n"
     ]
    }
   ],
   "source": [
    "import math\n",
    "print(\"math.ceil(1.2)\\t= \", math.ceil(1.2))\n",
    "print(\"math.ceil(-1.2)\\t= \", math.ceil(-1.2))"
   ]
  },
  {
   "cell_type": "markdown",
   "id": "fce87ad2-901e-4ef8-8182-75f8222cdedf",
   "metadata": {},
   "source": [
    "### floor(x) \n",
    "> math.floor(x) 使用後會將小數點後方的數字，無條件捨去到比自己小的整數"
   ]
  },
  {
   "cell_type": "code",
   "execution_count": 23,
   "id": "bdf0cfe3-7c12-41cd-bb00-fb1f828c6acd",
   "metadata": {},
   "outputs": [
    {
     "name": "stdout",
     "output_type": "stream",
     "text": [
      "3\n"
     ]
    }
   ],
   "source": [
    "import math\n",
    "pi = math.pi\n",
    "print(math.floor(pi))   # 3"
   ]
  },
  {
   "cell_type": "code",
   "execution_count": 24,
   "id": "6a94260a-96ca-4475-b65c-7315547f3ae8",
   "metadata": {},
   "outputs": [
    {
     "name": "stdout",
     "output_type": "stream",
     "text": [
      "math.floor(1.6)\t\t=1\t1.0\n",
      "math.floor(-1.6)\t=-2\t-2.0\n"
     ]
    }
   ],
   "source": [
    "import math\n",
    "print(f'math.floor(1.6)\\t\\t={math.floor(1.6)}\\t{1.6//1}')\n",
    "print(f'math.floor(-1.6)\\t={math.floor(-1.6)}\\t{-1.6//1}')#/1可以變成浮點數"
   ]
  },
  {
   "cell_type": "markdown",
   "id": "be40b604-df31-4b25-b37f-445d6a71b94a",
   "metadata": {},
   "source": [
    "### copysign(x, y) \n",
    "> math.copysign(x, y) 使用後，會根據 y 的正負符號，改變「x 絕對值」之後的正負值。"
   ]
  },
  {
   "cell_type": "code",
   "execution_count": 25,
   "id": "2a041049-93a7-4181-895e-7f9c1b563220",
   "metadata": {},
   "outputs": [
    {
     "name": "stdout",
     "output_type": "stream",
     "text": [
      "-10.0\n",
      "10.0\n",
      "-10.0\n"
     ]
    }
   ],
   "source": [
    "import math\n",
    "print(math.copysign(10, -5))    # -10 複製後面那個數的符號\n",
    "print(math.copysign(-10, 9))    # 10\n",
    "print(math.copysign(-10, -3))   # -10"
   ]
  },
  {
   "cell_type": "markdown",
   "id": "cb119dbc-0459-47c1-b4da-1daa5f99965d",
   "metadata": {},
   "source": [
    "### fabs(x) \n",
    ">math.fabs(x) 使用後會回傳 x 的絕對值，計算結果以浮點數 float 格式呈現。"
   ]
  },
  {
   "cell_type": "code",
   "execution_count": 26,
   "id": "2545a272-bc3c-4f9d-94f3-f9e01a43837e",
   "metadata": {},
   "outputs": [
    {
     "name": "stdout",
     "output_type": "stream",
     "text": [
      "10.0\n"
     ]
    }
   ],
   "source": [
    "import math\n",
    "print(math.fabs(-10))    # 10.0 like abs()"
   ]
  },
  {
   "cell_type": "markdown",
   "id": "c51e71ab-ad0c-49d2-8246-4e8adb4c4d58",
   "metadata": {},
   "source": [
    "### fmod(x, y) \n",
    "> math.fabs(x) 使用後會回傳 x 除以 y 的`餘數`，計算結果以浮點數 float 格式呈現，如果要回傳整數，可使用 Python 數學計算 x % y 的語法。"
   ]
  },
  {
   "cell_type": "code",
   "execution_count": 27,
   "id": "9156e38e-9510-4466-9e13-00e24d225d92",
   "metadata": {},
   "outputs": [
    {
     "name": "stdout",
     "output_type": "stream",
     "text": [
      "1.0 \t 1\n"
     ]
    }
   ],
   "source": [
    "import math\n",
    "print(math.fmod(7,3),'\\t', 7%3)    # 1.0"
   ]
  },
  {
   "cell_type": "markdown",
   "id": "7c2e9711-f08f-463b-9657-458b1c2e049e",
   "metadata": {},
   "source": [
    "### fsum(iter) \n",
    "> math.fsum(iter) 使用後會回傳串列或 tuple 裡的數值加總，計算結果以浮點數 float 格式呈現。"
   ]
  },
  {
   "cell_type": "code",
   "execution_count": 28,
   "id": "e6eb897e-600b-49dc-ac20-e1adc9cd32fd",
   "metadata": {},
   "outputs": [
    {
     "name": "stdout",
     "output_type": "stream",
     "text": [
      "15.0\n",
      "15\n"
     ]
    }
   ],
   "source": [
    "import math\n",
    "print(math.fsum([1,2,3,4,5]))   # 15.0\n",
    "print(sum((1,2,3,4,5)))   # 15"
   ]
  },
  {
   "cell_type": "code",
   "execution_count": 35,
   "id": "be90ce1e",
   "metadata": {},
   "outputs": [
    {
     "name": "stdout",
     "output_type": "stream",
     "text": [
      "15\n"
     ]
    }
   ],
   "source": [
    "print(sum((1,2,3,4,5)))"
   ]
  },
  {
   "cell_type": "markdown",
   "id": "51be23a1",
   "metadata": {},
   "source": []
  },
  {
   "cell_type": "markdown",
   "id": "fe294397-3d18-42bd-a824-2441bc93c209",
   "metadata": {},
   "source": [
    "### gcd(x, y) \n",
    "> math.gcd(x, y) 使用後會回傳 x 和 y 的`最大公約數` ( 同時可以整除 x 和 y 的最大整數 )。"
   ]
  },
  {
   "cell_type": "code",
   "execution_count": 34,
   "id": "ff1bc505-f404-4ab3-8421-2fee0de06ffd",
   "metadata": {},
   "outputs": [
    {
     "name": "stdout",
     "output_type": "stream",
     "text": [
      "6\n"
     ]
    }
   ],
   "source": [
    "import math\n",
    "print(math.gcd(18, 12, 24))    # 6"
   ]
  },
  {
   "cell_type": "markdown",
   "id": "6741d504-4012-4d54-ae87-d4428eadfdbd",
   "metadata": {},
   "source": [
    "### pow(x, y) \n",
    "> math.pow(x, y) 會回傳 x 的 y 次方，計算結果以浮點數 float 格式呈現"
   ]
  },
  {
   "cell_type": "code",
   "execution_count": 36,
   "id": "6e0d073e-c4eb-49b2-a039-0b4cc227b8d2",
   "metadata": {},
   "outputs": [
    {
     "name": "stdout",
     "output_type": "stream",
     "text": [
      "32.0 \t 32\n"
     ]
    }
   ],
   "source": [
    "import math\n",
    "print(math.pow(2, 5),'\\t', 2**5)    # 2**5"
   ]
  },
  {
   "cell_type": "markdown",
   "id": "0226f8b4-1dbb-4b05-a3cb-17f1b4fdb05e",
   "metadata": {},
   "source": [
    "### sqrt(x) \n",
    "> math.sqrt(x) 會回傳 x 的平方根，計算結果以浮點數 float 格式呈現。"
   ]
  },
  {
   "cell_type": "code",
   "execution_count": null,
   "id": "494d1769-e378-4edf-8fd2-fe5655fbebf0",
   "metadata": {},
   "outputs": [],
   "source": [
    "import math\n",
    "print(math.sqrt(16),'\\t', 16**.5)    # 2**0.5"
   ]
  },
  {
   "cell_type": "markdown",
   "id": "6d5a62e8-4038-4264-9443-bb54e88b497e",
   "metadata": {},
   "source": [
    "### factorial(x) \n",
    "> math.factorial(x) 會回傳 x 的`階乘 ( x! )`，x 只能使用正整數。"
   ]
  },
  {
   "cell_type": "code",
   "execution_count": null,
   "id": "4e680256-5490-42b0-9deb-20c1c2906ccc",
   "metadata": {},
   "outputs": [],
   "source": [
    "import math\n",
    "print(math.factorial(5))   # 120 ( 5x4x3x2x1=120 )"
   ]
  },
  {
   "cell_type": "markdown",
   "id": "a1379c1c-2c64-415b-8a82-e37ce8955349",
   "metadata": {},
   "source": [
    "### degrees(x)、math.radians(x) \n",
    "> math.degrees(x) 將 x 弧度轉換為角度，math.radians(x) 將 x 角度轉換為弧度。"
   ]
  },
  {
   "cell_type": "code",
   "execution_count": 37,
   "id": "c1cbce98-ce24-477f-8186-7a001d781771",
   "metadata": {},
   "outputs": [
    {
     "name": "stdout",
     "output_type": "stream",
     "text": [
      "3.141592653589793\n",
      "179.9998479605043\n"
     ]
    }
   ],
   "source": [
    "import math\n",
    "print(math.radians(180))      \n",
    "print(math.degrees(3.14159))"
   ]
  },
  {
   "cell_type": "markdown",
   "id": "05425be9-7548-462e-a9b4-e2f7292f4655",
   "metadata": {},
   "source": [
    "### sin(x)、cos(x)、tan(x) \n",
    "> math.sin(x) 回傳 x 弧度的正弦值，math.cos(x) 回傳 x 弧度的餘弦值，math.tan(x) 回傳 x 弧度的正切值 ( 1 弧度等於 180 度/π )。"
   ]
  },
  {
   "cell_type": "code",
   "execution_count": 40,
   "id": "7d41daf6-d866-4e4d-b66f-c11a7e593596",
   "metadata": {},
   "outputs": [
    {
     "name": "stdout",
     "output_type": "stream",
     "text": [
      "0.49999999999999994\n",
      "0.8660254037844387\n",
      "0.5773502691896257\n"
     ]
    }
   ],
   "source": [
    "import math\n",
    "r = math.radians(90)   # 將 30 度轉換為弧度\n",
    "print(math.sin(r))     # 0.49999999999999994\n",
    "print(math.cos(r))     # 0.8660254037844387\n",
    "print(math.tan(r))     # 0.5773502691896257"
   ]
  },
  {
   "cell_type": "markdown",
   "id": "196f9e72-f370-46ac-80ec-85b7653b2547",
   "metadata": {},
   "source": [
    "### asin(x)、math.acos(x)、math.atan(x) \n",
    "> math.asin(x) 回傳 x 弧度的反正弦值，math.acos(x) 回傳 x 弧度的餘弦值，math.atan(x) 回傳 x 弧度的正切值 ( 1 弧度等於 180 度/π )。"
   ]
  },
  {
   "cell_type": "code",
   "execution_count": 41,
   "id": "6c77aeb1-be3e-4f9d-905e-31b631bb6a23",
   "metadata": {},
   "outputs": [
    {
     "name": "stdout",
     "output_type": "stream",
     "text": [
      "0.9033391107665127\n",
      "0.6674572160283838\n",
      "0.6657737500283538\n"
     ]
    }
   ],
   "source": [
    "import math\n",
    "r = math.radians(45)   # 將 45 度轉換為弧度\n",
    "print(math.asin(r))\n",
    "print(math.acos(r))\n",
    "print(math.atan(r)) "
   ]
  },
  {
   "cell_type": "markdown",
   "id": "dd3eae24-74f9-4854-881f-1418f1e30e4f",
   "metadata": {},
   "source": [
    "### exp(x) \n",
    ">math.exp(x) 會回傳 e 常數的 x 次方。"
   ]
  },
  {
   "cell_type": "code",
   "execution_count": null,
   "id": "351c29b3-5073-4145-a4d4-57140ca4fc29",
   "metadata": {},
   "outputs": [],
   "source": [
    "import math\n",
    "print(math.exp(2), math.e**2)    # 7.38905609893065"
   ]
  },
  {
   "cell_type": "markdown",
   "id": "5aaa0b62-0bb2-4941-bebe-f3ab668126ab",
   "metadata": {},
   "source": [
    "### math.log 相關的模組，可以回傳對應的自然對數。\n",
    "\n",
    "|自然對數模組\t|說明|\n",
    "|---|---|\n",
    "|math.log(x)\t|回傳 x 的自然對數 ( 底為 e )|\n",
    "|math.log(x, base)\t\t|回傳 log(x)/log(base)|\n",
    "|math.log1p(x)\t|回傳 1+x 的自然對數 ( 底為 e )|\n",
    "|math.log2(x)\t|回傳 x 以 2 為底的自然對數|\n",
    "|math.log10(x)\t|回傳 x 以 10 為底的自然對數|"
   ]
  },
  {
   "cell_type": "code",
   "execution_count": 42,
   "id": "f1a4d245-7dd6-4557-a9e5-cad51e72df7b",
   "metadata": {},
   "outputs": [
    {
     "name": "stdout",
     "output_type": "stream",
     "text": [
      "2.302585092994046\n",
      "2.095903274289385\n",
      "2.3978952727983707\n",
      "3.321928094887362\n",
      "1.0\n"
     ]
    }
   ],
   "source": [
    "import math\n",
    "print(math.log(10))     # 2.302585092994046\n",
    "print(math.log(10,3))   # 2.095903274289385\n",
    "print(math.log1p(10))   # 2.3978952727983707\n",
    "print(math.log2(10))    # 3.321928094887362\n",
    "print(math.log10(10))   # 1.0"
   ]
  },
  {
   "cell_type": "markdown",
   "id": "9d4df4a8-0c1a-4ead-8003-577fe74972de",
   "metadata": {},
   "source": [
    "## random number\n",
    "\n",
    "|函數              | 說明                       |\n",
    "|------------------|---------------------------|\n",
    "|random.random()   |取得 0 到 1 之間隨機浮點數   |\n",
    "|random.randint()  |取得隨機整數                 |\n",
    "|random.uniform()  |取得隨機浮點數(float)        |\n",
    "|random.choice()   |取得隨機一個元素             |\n",
    "|random.sample()   |取得隨機多個參數，放進 list 內|\n",
    "|random.randrange()|取得隨機一個元素在一定範圍內   |\n",
    "|random.shuffle()  |打亂元素順序 不重複           |"
   ]
  },
  {
   "cell_type": "markdown",
   "id": "fd4db52e-f986-435d-a208-1aeea3c5914e",
   "metadata": {},
   "source": [
    "### random.random() 取得 0 到 1 之間隨機浮點數"
   ]
  },
  {
   "cell_type": "code",
   "execution_count": 45,
   "id": "e254192f-fb89-4b4e-b19f-78f6b8af3fd6",
   "metadata": {},
   "outputs": [
    {
     "data": {
      "text/plain": [
       "0.4288890546751146"
      ]
     },
     "execution_count": 45,
     "metadata": {},
     "output_type": "execute_result"
    }
   ],
   "source": [
    "import random  \n",
    "\n",
    "random.random()   # 產生 0 到 1 之間的隨機浮點數"
   ]
  },
  {
   "cell_type": "code",
   "execution_count": 49,
   "id": "57c8a241-9159-4804-b66e-f74a7d7bfc54",
   "metadata": {},
   "outputs": [
    {
     "data": {
      "text/plain": [
       "0.5714025946899135"
      ]
     },
     "execution_count": 49,
     "metadata": {},
     "output_type": "execute_result"
    }
   ],
   "source": [
    "import random  \n",
    "\n",
    "random.seed(10)\n",
    "random.random()   # 產生 0 到 1 之間的隨機浮點數"
   ]
  },
  {
   "cell_type": "markdown",
   "id": "7ca54bc4-aac4-417f-be4e-4c3ee77daae4",
   "metadata": {},
   "source": [
    "### Python random.randint() 取得隨機整數\n",
    "\n",
    "> 可以透過random內的 randint()方法獲取, 主要提供兩個參數值也就是兩個參數值之間的範圍不一定要從 1開始，也是可以從你想要的數值開始也行, 回傳一個整數 N (a <= N <= b)"
   ]
  },
  {
   "cell_type": "code",
   "execution_count": 55,
   "id": "298fc4aa-035e-40b5-a4e4-63445df6aed9",
   "metadata": {},
   "outputs": [
    {
     "name": "stdout",
     "output_type": "stream",
     "text": [
      "74\n",
      "3\n",
      "48\n",
      "-39\n"
     ]
    }
   ],
   "source": [
    "import random \n",
    "\n",
    "# random.seed(10)\n",
    "print(random.randint(1, 100))  # 產生 1 到 100 之間的隨機整數\n",
    "print(random.randint(1, 50)) # 產生 1 到 50 之間的隨機整數\n",
    "print(random.randint(45, 50)) # 產生 45 到 50 之間的隨機整數\n",
    "print(random.randint(-100, -1)) # 產生 -100 到 -1 之間的隨機負數"
   ]
  },
  {
   "cell_type": "markdown",
   "id": "602d179e-41ef-4db7-adb7-cb7b24cb8b89",
   "metadata": {},
   "source": [
    "### random.uniform() 取得`隨機浮點數`(float)\n",
    "> 你想要取得隨機浮點數也是可以的！只要使用 uniform()方法，就能夠取得！"
   ]
  },
  {
   "cell_type": "code",
   "execution_count": null,
   "id": "c012039f-f909-443e-afb0-b68da26ac253",
   "metadata": {},
   "outputs": [],
   "source": [
    "import random\n",
    "\n",
    "print(random.uniform(1.1, 10.5))# 產生 1.1 到 10.5 之間的隨機浮點數\n",
    "print(random.uniform(5.12, 23.5))# 產生 5.12 到 23.5 之間的隨機浮點數\n",
    "\n",
    "# 不想要取得那麼多小數點只要取得前面幾個就好\n",
    "print(f'{random.uniform(5.12, 23.5):.2f}')"
   ]
  },
  {
   "cell_type": "markdown",
   "id": "05261bfd-42c9-4a7f-ba39-6d67f10fb835",
   "metadata": {},
   "source": [
    "### random.choice() 取得隨機一個元素\n",
    "> 如果你想要隨機取得的`不是整數或是浮點數`，而是 str 或是 list 內的元素，可以使用 choice()方法, 這方法可以針對你給予的 str or list 的元素，隨機取得一個，可以用在於抽獎名單還不錯"
   ]
  },
  {
   "cell_type": "code",
   "execution_count": 60,
   "id": "6e906180-8b26-41f3-b52b-04413d6797f5",
   "metadata": {},
   "outputs": [
    {
     "name": "stdout",
     "output_type": "stream",
     "text": [
      "k\n",
      "f\n",
      "A\n"
     ]
    }
   ],
   "source": [
    "import random\n",
    "\n",
    "print(random.choice('markTest')) # 從 str 隨機選出一個元素\n",
    "print(random.choice('wefj309j90jf1!@#!')) \n",
    "\n",
    "print(random.choice(['A', 'B', 'C'])) # 從 list 隨機選出一個元素<逗號隔開是一個item>"
   ]
  },
  {
   "cell_type": "markdown",
   "id": "bcfe73e5-22fb-408b-b9a4-3d5fb5b0d1fb",
   "metadata": {},
   "source": [
    "### random.choice`s`() 可依權重取得隨機多個元素\n",
    ">random.choice`s`(population, weights=None, *, cum_weights=None, k=1)<br>\n",
    "\n",
    "> 回傳從 population 中選取 k 個元素。可以設定 weights 或是 cum_weights 來改變元素的權重。weights [10, 5, 13, 27] 跟 cum_weights [10, 15, 28, 55] 是相同的。此為`重置抽樣 (sampling with replacement)`。"
   ]
  },
  {
   "cell_type": "code",
   "execution_count": 65,
   "id": "3c9d4335-22ac-4a0b-bbaf-7048cfad2809",
   "metadata": {},
   "outputs": [
    {
     "data": {
      "text/plain": [
       "['C', 'C', 'B', 'C', 'A', 'B', 'C', 'B', 'C', 'A']"
      ]
     },
     "execution_count": 65,
     "metadata": {},
     "output_type": "execute_result"
    }
   ],
   "source": [
    "random.choices(['A', 'B', 'C'], k=10)"
   ]
  },
  {
   "cell_type": "code",
   "execution_count": 69,
   "id": "9a23d21d-ec37-4a2a-962c-327121bc33c1",
   "metadata": {},
   "outputs": [
    {
     "data": {
      "text/plain": [
       "['B', 'B', 'B', 'B', 'B', 'B', 'C', 'B', 'B', 'B']"
      ]
     },
     "execution_count": 69,
     "metadata": {},
     "output_type": "execute_result"
    }
   ],
   "source": [
    "random.choices(['A', 'B', 'C'], weights=[1, 10, 1], k=10)#weight<權重>"
   ]
  },
  {
   "cell_type": "markdown",
   "id": "08406675-228f-413f-8e20-2ba3a75ab984",
   "metadata": {},
   "source": [
    "### random.sample() 取得隨機多個參數，放進 list 內\n",
    "> 如果你的抽獎名單不想只有一個人中獎，想要多個人可以參考 sample()方法, 這可以針對 str or list 進行隨機抽取的方式，來存放到 list 中"
   ]
  },
  {
   "cell_type": "code",
   "execution_count": 73,
   "id": "39e8d607-8bcd-40ab-983d-5f555a9160c1",
   "metadata": {},
   "outputs": [
    {
     "name": "stdout",
     "output_type": "stream",
     "text": [
      "[')', '#', '@', '$', 'f']\n",
      "['44', '33', 55, 77]\n",
      "[46, 76, 50, 24]\n"
     ]
    }
   ],
   "source": [
    "import random\n",
    "\n",
    "print(random.sample('!@#$%^&*()ewefniovs', 5)) # 從 str 隨機選擇 5 個元素存放置 list 中\n",
    "print(random.sample(['22', '33', '44', 55, '66', 77, '88'], 4))# 從 list 隨機選擇 4個元素位置存 list 中\n",
    "print(random.sample(range(0, 100, 2), 4))\n",
    "\n",
    "# print(random.sample(range(0, 100, 2), 400))    # error"
   ]
  },
  {
   "cell_type": "markdown",
   "id": "bba1900a-9a45-49a8-88f2-cc4c93aa6f49",
   "metadata": {},
   "source": [
    "### random.randrange()\n",
    "> randrange(起始值, 終止值, 遞增值)，遞增基數集合中的一個隨機數，基數默認值為1，也就是我們的遞增值可以修改成我們要的。"
   ]
  },
  {
   "cell_type": "code",
   "execution_count": 81,
   "id": "cd9cfb50-25f4-4ba0-b7a5-af7786c559a5",
   "metadata": {},
   "outputs": [
    {
     "name": "stdout",
     "output_type": "stream",
     "text": [
      "114\n",
      "200\n"
     ]
    }
   ],
   "source": [
    "import random\n",
    "\n",
    "print(random.randrange(0, 201, 2)) # 產生出 1 到 200 之間的隨機偶數\n",
    "print(random.randrange(0, 201, 50))  # 產生出 1 到 200 之間的50的基數 "
   ]
  },
  {
   "cell_type": "markdown",
   "id": "79214057-05dd-46fb-acb1-82a3d9daf9fe",
   "metadata": {},
   "source": [
    "### random.shuffle() 打亂元素順序 不重複\n",
    "> 你想打亂你的 list 的元素順序，並且不重複可以使用 shuffle()，基本上就能達到目的, inplace"
   ]
  },
  {
   "cell_type": "code",
   "execution_count": 84,
   "id": "3c063f2f-1b2f-4d5b-a1c7-89e67f8731fe",
   "metadata": {},
   "outputs": [
    {
     "name": "stdout",
     "output_type": "stream",
     "text": [
      "[4, 6, 10, 8, 2]\n",
      "['A', 'D', 'B', 'C']\n"
     ]
    }
   ],
   "source": [
    "import random\n",
    "\n",
    "aList = [2, 4, 6, 8, 10] \n",
    "random.shuffle(aList)# 將 aList 中的元素順序打亂\n",
    "print(aList)\n",
    "\n",
    "bList = ['A', 'B', 'C', 'D']\n",
    "random.shuffle(bList)\n",
    "print(bList) # ['B', 'A', 'C']"
   ]
  },
  {
   "cell_type": "markdown",
   "id": "c56e3ca8-b542-4b98-a645-2cd71eb074b1",
   "metadata": {},
   "source": [
    "## statistics"
   ]
  },
  {
   "cell_type": "code",
   "execution_count": 104,
   "id": "4a719dbd-e671-460a-89b5-2f01fdf5828b",
   "metadata": {},
   "outputs": [
    {
     "name": "stdout",
     "output_type": "stream",
     "text": [
      "data:\n",
      "[5, 5, 11, 15, 3, 11, 7, 10, 1, 20, 9, 0, 16, 9, 3, 11, 1, 4, 18, 0, 8, 7, 11, 17, 0, 19, 9, 17, 12, 17, 20, 12, 19, 14, 10, 0, 4, 9, 6, 11, 11, 20, 16, 9, 13, 3, 14, 4, 7, 12]\n",
      "\n",
      "mean\t\t: 9.8\n",
      "median\t\t: 10.000\n",
      "pstdev\t\t: 5.909\n",
      "stdev\t\t: 5.969\n",
      "pvariance\t: 34.920\n",
      "variance\t: 35.633\n"
     ]
    }
   ],
   "source": [
    "import statistics as st\n",
    "\n",
    "data = [random.randint(a=0, b=20) for _ in range(50)]\n",
    "\n",
    "print(f'data:\\n{data}\\n\\n'  # data\n",
    "      f'mean\\t\\t: {st.mean(data):.3f}\\n'  # 平均值   .3f=小數點後3位\n",
    "      f'median\\t\\t: {st.median(data):.3f}\\n'# 中位數\n",
    "      f'pstdev\\t\\t: {st.pstdev(data):.3f}\\n'# 母體標準差<標準差:數據的離散度>\n",
    "      f'stdev\\t\\t: {st.stdev(data):.3f}\\n' # 樣本標準差\n",
    "      f'pvariance\\t: {st.pvariance(data):.3f}\\n' # 母體變異數\n",
    "      f'variance\\t: {st.variance(data):.3f}') # 樣本變異數"
   ]
  },
  {
   "cell_type": "markdown",
   "id": "3cd76be6-76ba-4ce5-8475-4761adfb0d52",
   "metadata": {},
   "source": [
    "---"
   ]
  },
  {
   "cell_type": "markdown",
   "id": "70e5a211-28ae-4508-9e6c-2fdea8e15569",
   "metadata": {},
   "source": [
    "<div style=\"page-break-after: always\"></div>\n",
    "\n",
    "# Module 23 內建模組 os\n",
    "> os 模組是關於作業系統操作呼叫的相關模組，對檔案進行重新命名、刪除...等一系列系統級別的操作"
   ]
  },
  {
   "cell_type": "markdown",
   "id": "bf6bc287-9655-4d07-bc21-3c5a60483438",
   "metadata": {},
   "source": [
    "### getcwd() 作用 ：返回當前工作目錄"
   ]
  },
  {
   "cell_type": "code",
   "execution_count": 105,
   "id": "8914cf7a-b203-4d43-831b-7be4c6eba931",
   "metadata": {},
   "outputs": [
    {
     "name": "stdout",
     "output_type": "stream",
     "text": [
      "c:\\Users\\文傑\\Desktop\\Python-20221028T010834Z-001\\Python\n"
     ]
    }
   ],
   "source": [
    "import os\n",
    "print(os.getcwd())"
   ]
  },
  {
   "cell_type": "markdown",
   "id": "be5a9368-1389-417d-87bf-368fc2d43765",
   "metadata": {},
   "source": [
    "### rename(old, new)\n",
    "> 作用 ：修改檔名稱<br>\n",
    "> old 的目錄必須是存在的，否則報錯"
   ]
  },
  {
   "cell_type": "code",
   "execution_count": 108,
   "id": "0b54c32e-a413-4b00-ab5b-46843b038b0f",
   "metadata": {},
   "outputs": [
    {
     "name": "stdout",
     "output_type": "stream",
     "text": [
      "Write two data to note.txt!\n"
     ]
    }
   ],
   "source": [
    "import os\n",
    "\n",
    "fp = open('note.txt', 'w', encoding='utf-8') #  Unicode轉換格式（Unicode Transformation Format，簡稱為 UTF\n",
    "fp.write('Python 科技股份有限公司\\n')\n",
    "fp.write('Python Tech. Limited Co.\\n')\n",
    "\n",
    "print('Write two data to note.txt!')\n",
    "fp.close()"
   ]
  },
  {
   "cell_type": "code",
   "execution_count": 112,
   "id": "e69f3040-a8b4-4a10-a8c6-8afa8f70bcd3",
   "metadata": {},
   "outputs": [
    {
     "name": "stdout",
     "output_type": "stream",
     "text": [
      "file exists\n"
     ]
    }
   ],
   "source": [
    "from os.path import exists\n",
    "\n",
    "if exists('note.txt'):\n",
    "    print('file exists')\n",
    "    os.rename('note.txt','note_rename.txt')\n",
    "else :\n",
    "    print('file is not exist')"
   ]
  },
  {
   "cell_type": "markdown",
   "id": "ba14f8bd-efc8-41c2-854a-f40b245b768d",
   "metadata": {},
   "source": [
    "### remove(filename)\n",
    "> 作用：刪除指定的檔案，如果 path 是目錄則會丟擲 OSError"
   ]
  },
  {
   "cell_type": "code",
   "execution_count": 113,
   "id": "e59ce376-fb50-48dc-8e68-76142c2ae93c",
   "metadata": {},
   "outputs": [
    {
     "name": "stdout",
     "output_type": "stream",
     "text": [
      "file exists\n"
     ]
    }
   ],
   "source": [
    "import os\n",
    "from os.path import exists\n",
    "\n",
    "if exists('note_rename.txt'):\n",
    "    print('file exists')\n",
    "    os.remove('note_rename.txt')\n",
    "else :\n",
    "    print('file is not exist')"
   ]
  },
  {
   "cell_type": "markdown",
   "id": "c73112ad-9844-453e-b8ca-05adc3c3e04f",
   "metadata": {},
   "source": [
    "### mkdir(name)\n",
    "> 作用：建立一的目錄"
   ]
  },
  {
   "cell_type": "code",
   "execution_count": 125,
   "id": "7015a55d-76fa-4fb9-96a0-aea8493bea31",
   "metadata": {},
   "outputs": [
    {
     "name": "stdout",
     "output_type": "stream",
     "text": [
      "\"mkdir\" is not exist, made it sucess\n"
     ]
    }
   ],
   "source": [
    "import os\n",
    "# from os.path import exists\n",
    "import os\n",
    "\n",
    "if os.path.isdir('mkdir'):\n",
    "    print('dir exists')\n",
    "else :\n",
    "    os.mkdir('mkdir')\n",
    "    print('\"mkdir\" is not exist, made it sucess')"
   ]
  },
  {
   "cell_type": "markdown",
   "id": "d82a0234-9d0b-4450-a68f-bd7a050fd45a",
   "metadata": {},
   "source": [
    "### rmdir(filename)\n",
    "> 作用：刪除一個目錄<br>\n",
    "> 若目錄下存在檔案，則無法刪除，必須為空且存在"
   ]
  },
  {
   "cell_type": "code",
   "execution_count": 116,
   "id": "d747ae7e-d36e-4b2d-a1eb-1c81100105e4",
   "metadata": {},
   "outputs": [
    {
     "data": {
      "text/plain": [
       "'./mkdir/py.ipynb'"
      ]
     },
     "execution_count": 116,
     "metadata": {},
     "output_type": "execute_result"
    }
   ],
   "source": [
    "# 先 copy 一個檔案到目錄下\n",
    "import os\n",
    "import shutil\n",
    "\n",
    "shutil.copyfile('PythonDay1.ipynb', './mkdir/py.ipynb')"
   ]
  },
  {
   "cell_type": "code",
   "execution_count": 117,
   "id": "6d71cfb3-2d03-4668-b5d2-302752441dcc",
   "metadata": {},
   "outputs": [
    {
     "ename": "OSError",
     "evalue": "[WinError 145] 目錄不是空的。: 'mkdir'",
     "output_type": "error",
     "traceback": [
      "\u001b[1;31m---------------------------------------------------------------------------\u001b[0m",
      "\u001b[1;31mOSError\u001b[0m                                   Traceback (most recent call last)",
      "Cell \u001b[1;32mIn [117], line 1\u001b[0m\n\u001b[1;32m----> 1\u001b[0m os\u001b[39m.\u001b[39;49mrmdir(\u001b[39m'\u001b[39;49m\u001b[39mmkdir\u001b[39;49m\u001b[39m'\u001b[39;49m)\n",
      "\u001b[1;31mOSError\u001b[0m: [WinError 145] 目錄不是空的。: 'mkdir'"
     ]
    }
   ],
   "source": [
    "os.rmdir('mkdir')          #只能刪除目錄檔案下面是空的"
   ]
  },
  {
   "cell_type": "code",
   "execution_count": 118,
   "id": "146db5dc-34f8-44f8-b61d-fa735284788c",
   "metadata": {},
   "outputs": [],
   "source": [
    "# 如果要刪除非空目錄的話，就需要呼叫shutil模組\n",
    "import shutil\n",
    "shutil.rmtree('./mkdir')  #成功刪除非空的資料夾"
   ]
  },
  {
   "cell_type": "markdown",
   "id": "e6d03b23-5dbe-4ff8-81b1-a0544def4b41",
   "metadata": {},
   "source": [
    "### listdir(filename)\n",
    "> 作用：返回當前目錄下所有檔案和資料夾，注意 path 是目錄路徑"
   ]
  },
  {
   "cell_type": "code",
   "execution_count": 119,
   "id": "6abb2d0a-286e-4e27-8ed4-f3c6ed4d7fa5",
   "metadata": {},
   "outputs": [
    {
     "name": "stdout",
     "output_type": "stream",
     "text": [
      "data\n",
      "HW\n",
      "img\n",
      "module\n",
      "PythonDay0.html\n",
      "PythonDay0.ipynb\n",
      "PythonDay1.html\n",
      "PythonDay1.ipynb\n",
      "PythonDay2.ipynb\n",
      "PythonDay3.ipynb\n",
      "PythonDay4.ipynb\n",
      "PythonDay5.ipynb\n"
     ]
    }
   ],
   "source": [
    "import os\n",
    "# 初始寫法\n",
    "file_list = os.listdir()\n",
    "for name in file_list:\n",
    "\tprint(name)   #列印列表的名稱"
   ]
  },
  {
   "cell_type": "markdown",
   "id": "7a5826da-3815-46ae-aa1c-657cd848994c",
   "metadata": {},
   "source": [
    "### path.join (filename1,filename2…)\n",
    "> 作用：檔案路徑地址拼接"
   ]
  },
  {
   "cell_type": "code",
   "execution_count": 120,
   "id": "8117a052-2139-4934-bb3f-c89e06169c85",
   "metadata": {},
   "outputs": [
    {
     "data": {
      "text/plain": [
       "'c:\\\\Users\\\\文傑\\\\Desktop\\\\Python-20221028T010834Z-001\\\\Python\\\\gl'"
      ]
     },
     "execution_count": 120,
     "metadata": {},
     "output_type": "execute_result"
    }
   ],
   "source": [
    "import os\n",
    "path = os.path.join(os.getcwd(),'gl')\n",
    "path"
   ]
  },
  {
   "cell_type": "markdown",
   "id": "8fed72fb-938e-4c7c-b948-998a41b37f5d",
   "metadata": {
    "tags": []
   },
   "source": [
    "### linesep\n",
    "作用：當前平臺使用的行終止符（win下為‘\\r\\n’,linux下為‘\\n’）"
   ]
  },
  {
   "cell_type": "markdown",
   "id": "7dcab0f8-3d6e-4da5-999d-d9ba8ade0f7e",
   "metadata": {},
   "source": [
    "附錄：\n",
    "|函數 | 說明 |\n",
    "|--:|:---|\n",
    "|os.path.isdir(‘name’) |判斷是否為目錄 返回bool|\n",
    "|os.path.isfile(‘name’) |判斷是否為檔案 返回bool|\n",
    "|os.path.islink(‘name’)|判斷是否為連結 返回bool|\n",
    "|os.path.getsize(‘name’) |返回檔案大小，如果檔案不存在 返回錯誤|\n",
    "|os.path.abspath(‘file_name’) |返回的是file_那麼的絕對路徑|\n",
    "|os.path.split(‘file_path’) |返回file_path分割成目錄和檔名，以元組方式返回|\n",
    "|os.path.exists(‘file_path’) |如果file_path存在 返回True 反之返回False|\n",
    "|os.path.join(‘file_path’,’file_name’) |連線目錄和檔名或者目錄|\n",
    "|os.path.isabs() |判斷是否是絕對路徑|\n",
    "|os.path.exists() |檢驗給出的路徑是否真地存|\n",
    "|os.path.splitext() |分離副檔名|\n",
    "|os.path.dirname() |獲取路徑名|\n",
    "|os.path.basename() |獲取檔名|\n",
    "|os.system() |執行shell命令|\n",
    "|os.getenv() 與os.putenv() |讀取和設定環境變數|\n",
    "|os.stat（file） |獲取檔案屬性|\n",
    "|os.exit（） |終止當前程式|\n",
    "|os.path.getsize（filename）|獲取檔案大小|"
   ]
  },
  {
   "cell_type": "markdown",
   "id": "0b55e4e8-4d01-42dc-afb5-7c55f7d1c894",
   "metadata": {
    "tags": []
   },
   "source": [
    "## shutil\n",
    "\n",
    "> shutil 常用方法 \n",
    "\n",
    "> 下方列出幾種 shutil 模組常用的方法 ( 參考 Python 官方文件：shutil 高階文件操作 )：\n",
    "\n",
    ">|方法|\t參數|\t說明|\n",
    "|:----:|:-------:|:-----:|\n",
    "|copyfileobj()\t|fsrc, fdst\t|將來源檔案的內容，複製到指定檔案裡。|\n",
    "|copyfile()\t|src, dst\t|將來源檔案複製到指定的資料夾變成新檔案。|\n",
    "|copymode()\t|src, dst\t|將來源檔案的權限資訊，複製到指定的檔案。|\n",
    "|copy()\t|src, dst\t|將來源檔案包含權限資訊，複製到指定的資料夾變成新檔案。|\n",
    "|copystat()\t|src, dst\t|將來源檔案的權限資訊、修改時間、使用者，複製到指定的檔案。|\n",
    "|copy2()\t|src, dst\t|將來源檔案包含權限資訊、修改時間、使用者，複製到指定的資料夾變成新檔案。|\n",
    "|move()\t|src, dst\t|將來源檔案或資料夾，移動到指定的資料夾內。|\n",
    "|copytree()\t|src, dst...\t|將來源資料夾內的所有檔案，複製到指定的資料夾。|\n",
    "|rmtree(path)\t|path\t|刪除指定資料夾以及其所有內容。|\n",
    "|make_archive()\t|base_name, format, base_dir...\t|將資料夾或檔案壓縮為壓縮檔。|\n",
    "|unpack_archive()\t|file\t|將壓縮檔解壓縮。|"
   ]
  },
  {
   "cell_type": "code",
   "execution_count": null,
   "id": "79b07585-a912-419d-a40d-bbb77f5752f8",
   "metadata": {},
   "outputs": [],
   "source": [
    "import shutil\n",
    "from shutil import copy"
   ]
  },
  {
   "cell_type": "markdown",
   "id": "ef5f8811-a6bb-4c41-b5af-bb19b40cd58b",
   "metadata": {},
   "source": [
    "### copyfileobj(fsrc, fdst) \n",
    "> shutil.copyfileobj(fsrc, fdst) 可以將來源檔案 ( fsrc ) 的內容，複製到指定檔案 ( fdst ) 裡"
   ]
  },
  {
   "cell_type": "code",
   "execution_count": 121,
   "id": "5091d33e-2e0a-4321-97c9-98841348b6ed",
   "metadata": {},
   "outputs": [
    {
     "name": "stdout",
     "output_type": "stream",
     "text": [
      "Write two data to note01.txt!\n",
      "Write two data to note02.txt!\n"
     ]
    }
   ],
   "source": [
    "import os\n",
    "import shutil\n",
    "\n",
    "fp = open('note01.txt', 'w', encoding='utf-8') #  Unicode轉換格式（Unicode Transformation Format，簡稱為 UTF\n",
    "fp.write('Python note01 \\n')\n",
    "fp.write('Python note01 Tech. Limited Co.\\n')\n",
    "print('Write two data to note01.txt!')\n",
    "fp.close()\n",
    "\n",
    "fp = open('note02.txt', 'w', encoding='utf-8') #  Unicode轉換格式（Unicode Transformation Format，簡稱為 UTF\n",
    "fp.write('Python note02 \\n')\n",
    "fp.write('Python note02 Tech. Limited Co.\\n')\n",
    "print('Write two data to note02.txt!')\n",
    "fp.close()"
   ]
  },
  {
   "cell_type": "code",
   "execution_count": 122,
   "id": "b7f86404-4a0c-49a5-a9f9-2bf2dfeb0718",
   "metadata": {},
   "outputs": [],
   "source": [
    "f1 = open('note01.txt','r')     # 開啟為可讀取\n",
    "f2 = open('note02.txt','a')    # 開啟為可添加\n",
    "shutil.copyfileobj(f1, f2)           # 複製內容\n",
    "\n",
    "f1.close(); f2.close()"
   ]
  },
  {
   "cell_type": "markdown",
   "id": "ac385711-6b9b-404a-986d-e35f2345460c",
   "metadata": {},
   "source": [
    "### shutil.copy(src, dst) \n",
    "> 可以將來源檔案 ( src ) 複製到指定的目錄變成新檔案 ( dst )"
   ]
  },
  {
   "cell_type": "code",
   "execution_count": 123,
   "id": "5f592527-e965-42c8-9b43-d0471568d4a6",
   "metadata": {},
   "outputs": [
    {
     "data": {
      "text/plain": [
       "'note03.txt'"
      ]
     },
     "execution_count": 123,
     "metadata": {},
     "output_type": "execute_result"
    }
   ],
   "source": [
    "f1 = 'note01.txt'    # 欲複製的檔案\n",
    "f2 = 'note03.txt'  # 存檔的位置與檔案名稱\n",
    "\n",
    "shutil.copy(f1,f2)   # 複製檔案"
   ]
  },
  {
   "cell_type": "markdown",
   "id": "6302b1d1-fa81-4883-9923-e1ddc0648f7e",
   "metadata": {},
   "source": [
    "### move(src, dst...) \n",
    "> shutil.move(src, dst) 可以將來源檔案或資料夾，移動到指定的資料夾內，如果目標是檔案且同樣名稱，則會覆寫該檔案，下方的程式執行後，會將 demo 搬移到 demo2 資料夾裡。"
   ]
  },
  {
   "cell_type": "code",
   "execution_count": 126,
   "id": "3208204b-87fe-479d-8422-e63eb0802d9a",
   "metadata": {},
   "outputs": [
    {
     "data": {
      "text/plain": [
       "'./mkdir/note02.txt'"
      ]
     },
     "execution_count": 126,
     "metadata": {},
     "output_type": "execute_result"
    }
   ],
   "source": [
    "import os\n",
    "import shutil\n",
    "\n",
    "f1 = 'note02.txt'    # 欲複製的檔案\n",
    "f2 = './mkdir/note02.txt'\n",
    "shutil.move(f1, f2)"
   ]
  },
  {
   "cell_type": "markdown",
   "id": "0f8a1400-5f63-4c14-a585-9b08c76b6ced",
   "metadata": {},
   "source": [
    "---"
   ]
  },
  {
   "cell_type": "code",
   "execution_count": null,
   "id": "8802b183",
   "metadata": {},
   "outputs": [],
   "source": []
  },
  {
   "cell_type": "markdown",
   "id": "0a4bf29e-2ddf-4f19-9bde-8e591be7acb8",
   "metadata": {
    "tags": []
   },
   "source": [
    "<div style=\"page-break-after: always\"></div>\n",
    "\n",
    "# Module 24 Regular Express 語法 \n",
    "\n",
    "> 此處的 Regular 即是規則、規律的意思，Regular Expression 即`「描述某種規則的表達式」`之意。\n",
    "\n",
    "> 正規表示式使用單個`字串`來描述、符合一系列`符合某個句法規則`的字串。在很多`文字編輯器`裡，正則表達式通常被用來檢索、替換那些符合某個模式的文字。例如做網路爬蟲去爬網路上的 HTML 文件，從中取得所欲取得之資訊，或是針對文件檔案進行處理。 \n",
    "\n",
    "> Python 中做正規運算式的模組為 re ，首先要設定好配對形式 (pattern) 字串 (string) ，然後以該配對形式字串與所欲處理之字串利用 re 中相關功能的函數 (function) 進行處理。"
   ]
  },
  {
   "cell_type": "markdown",
   "id": "a2591b5d-3469-4015-af8d-65ade24b2e72",
   "metadata": {},
   "source": [
    ">><img src=\".\\img\\regexp01.png\"  style='width:100%'>"
   ]
  },
  {
   "cell_type": "markdown",
   "id": "e347eae6-8c3a-4574-955f-dc3b53055f63",
   "metadata": {},
   "source": [
    "|符號  |說明                |\n",
    "|:----:|:-----------------:|\n",
    "|*     | 前面的字元可出現零次以上|\n",
    "|+     | 前面的字元至少要出現一次以上|\n",
    "|{m,n} | 前面的字元可出現m次~n次(包含)|\n",
    "|[0-9] | 0~9之間的任意數字|\n",
    "|[a-z] | a~z之間的任意文字(小寫)|\n",
    "|[A-Z] | A~Z之間的任意文字(大寫)|\n",
    "|.     | 代表任何字元(符號、數字、空格)|\n",
    "|\\\\    | 跳脫字元  例如:\\+(尋找+號)|\n",
    "|$|$   | 代表\"或\"(符合其中一個即可)|\n",
    "|\\w    | 代表任何字母或數字，等同於[a-z A-Z 0-9]|\n",
    "|\\d    | 代表匹配十進位數字，即[0-9]|"
   ]
  },
  {
   "cell_type": "markdown",
   "id": "c5526675-c8c7-45da-8e33-90cff8713bf2",
   "metadata": {},
   "source": [
    ">><img src=\".\\img\\regexp02.png\"  style='width:100%'>"
   ]
  },
  {
   "cell_type": "markdown",
   "id": "c3a82ddb-2487-44cc-b145-a19079476d2d",
   "metadata": {
    "tags": []
   },
   "source": [
    ">><img src=\".\\img\\regexp.gif\"  style='width:90%'>"
   ]
  },
  {
   "cell_type": "markdown",
   "id": "06d5a323-a1b2-4e19-bf8c-aa672b014a3a",
   "metadata": {
    "tags": []
   },
   "source": [
    "## 應用匹配\n",
    "\n",
    "|方法 / 屬性\t|目的|\n",
    "|-----------|------------------------------|\n",
    "|match()\t|確定正則是否從字串的`開頭`匹配|\n",
    "|search()\t|掃描字串，查找此正則匹配的`任何位置`|\n",
    "|findall()\t|找到正則匹配的`所有子字串`，並將它們作為列表返回|\n",
    "|finditer()\t|找到正則匹配的所有子字串，並將它們返回為一個 iterator|\n",
    "\n",
    "\n",
    "|方法 / 屬性\t|目的|\n",
    "|-----------|----------------|\n",
    "|group()\t|返回正則匹配的字串|\n",
    "|start()\t|返回匹配的開始位置|\n",
    "|end()\t    |返回匹配的結束位置|\n",
    "|span()\t    |返回包含匹配 (start, end) 位置的元組|"
   ]
  },
  {
   "cell_type": "markdown",
   "id": "a2890593-49cf-4cdc-b770-f0cb28d50f72",
   "metadata": {},
   "source": [
    "## match()\n",
    "> 確定正則是否從字串的`開頭`匹配。"
   ]
  },
  {
   "cell_type": "code",
   "execution_count": 131,
   "id": "2cdf12b3-7e71-4a3f-bce5-eb2206911ccf",
   "metadata": {
    "tags": []
   },
   "outputs": [
    {
     "name": "stdout",
     "output_type": "stream",
     "text": [
      "s\t\t= 12349 abc 23.4 345def 456ghi567 jk678lm 321 nopq89.3\n",
      "mh\t\t: <re.Match object; span=(0, 5), match='12349'>\n",
      "mh.group\t: 12349\n",
      "mh.start\t: 0\n",
      "mh.end\t\t: 5\n",
      "mh.span\t\t: (0, 5)\n",
      "\n"
     ]
    }
   ],
   "source": [
    "import re\n",
    "\n",
    "s = \"12349 abc 23.4 345def 456ghi567 jk678lm 321 nopq89.3\"\n",
    "ptn = r\"\\d+\" \n",
    "# ptn = r\"\\d{2}\"                  #加r只是避免反斜線有用處\n",
    "\n",
    "mh = re.match(ptn,s)     # 字串的 開頭 匹配\n",
    "\n",
    "print(f's\\t\\t= {s}\\n'\n",
    "      f'mh\\t\\t: {mh}\\n'\n",
    "      f'mh.group\\t: {mh.group()}\\n'\n",
    "      f'mh.start\\t: {mh.start()}\\n'   # 位置\n",
    "      f'mh.end\\t\\t: {mh.end()}\\n'     # 位置\n",
    "      f'mh.span\\t\\t: {mh.span()}\\n')  # (start, end)"
   ]
  },
  {
   "cell_type": "markdown",
   "id": "dc00df63-fbcb-4c0c-a9e4-8ff055195482",
   "metadata": {},
   "source": [
    "## search()\n",
    "> 掃描字串，查找此正則匹配的`任何位置`"
   ]
  },
  {
   "cell_type": "code",
   "execution_count": 132,
   "id": "3861ac66-d422-4ed8-b14c-129970e025e7",
   "metadata": {
    "tags": []
   },
   "outputs": [
    {
     "name": "stdout",
     "output_type": "stream",
     "text": [
      "s\t\t= wHo aa12349 abc 23.4 345def 456ghi567 jk678lm 321 nopq89.3\n",
      "sh\t\t: <re.Match object; span=(6, 11), match='12349'>\n",
      "sh.group\t: 12349\n",
      "sh.start\t: 6\n",
      "sh.end\t\t: 11\n",
      "sh.span\t\t: (6, 11)\n",
      "\n"
     ]
    }
   ],
   "source": [
    "import re\n",
    "\n",
    "s = \"wHo aa12349 abc 23.4 345def 456ghi567 jk678lm 321 nopq89.3\"\n",
    "ptn = r\"\\d+\"    # try + 改成 {2}\n",
    "# ptn=r'[a-z]{2}'\n",
    "# ptn=r'[a-zA-Z]{2}'\n",
    "\n",
    "sh = re.search(ptn, s)     # 匹配的任何位置\n",
    "\n",
    "print(f's\\t\\t= {s}\\n'\n",
    "      f'sh\\t\\t: {sh}\\n'\n",
    "      f'sh.group\\t: {sh.group()}\\n'\n",
    "      f'sh.start\\t: {sh.start()}\\n'   # 位置\n",
    "      f'sh.end\\t\\t: {sh.end()}\\n'     # 位置\n",
    "      f'sh.span\\t\\t: {sh.span()}\\n')  # (start, end)"
   ]
  },
  {
   "cell_type": "markdown",
   "id": "0b52e005-f8b9-472e-bc1a-8ac80d5bf894",
   "metadata": {},
   "source": [
    "## findall()\n",
    "> 找到正則匹配的`所有子字串`，並將它們作為列表返回"
   ]
  },
  {
   "cell_type": "code",
   "execution_count": 135,
   "id": "70fc0336-4194-484d-b8ea-5d7da735dc11",
   "metadata": {
    "tags": []
   },
   "outputs": [
    {
     "name": "stdout",
     "output_type": "stream",
     "text": [
      "s\t\t= wHo aa12349 abc 23.4 345dEf 456gHi567 jk678lm 321 nopQ89.3\n",
      "fa\t\t: ['wH', 'aa', 'ab', 'dE', 'gH', 'jk', 'lm', 'no', 'pQ']\n",
      "\n"
     ]
    }
   ],
   "source": [
    "import re\n",
    "\n",
    "s = \"wHo aa12349 abc 23.4 345dEf 456gHi567 jk678lm 321 nopQ89.3\"\n",
    "# ptn =  r\"\\d+\"    # try + 改成 {2}\n",
    "# ptn=r'[a-z]{2}'           #a-z 連續2個\n",
    "ptn=r'[a-zA-Z]{2}'\n",
    "\n",
    "fa = re.findall(ptn, s)     # 匹配的所有子字串\n",
    "\n",
    "print(f's\\t\\t= {s}\\n'\n",
    "      f'fa\\t\\t: {fa}\\n')\n",
    "      # f'fa.group\\t: {fa.group()}\\n'   # error\n",
    "      # f'fa.start\\t: {fa.start()}\\n'   # 位置 error\n",
    "      # f'fa.end\\t\\t: {fa.end()}\\n'     # 位置 error\n",
    "      # f'fa.span\\t\\t: {fa.span()}\\n')  # (start, end) error"
   ]
  },
  {
   "cell_type": "markdown",
   "id": "7ad6b2bc-5e37-4674-852e-b0dfed99020d",
   "metadata": {},
   "source": [
    "## finditer()\n",
    "> 找到正則匹配的所有子字串，並將它們返回為一個 iterator"
   ]
  },
  {
   "cell_type": "code",
   "execution_count": 137,
   "id": "330c240a-d45f-4b0d-99f9-91d6313e6225",
   "metadata": {
    "tags": []
   },
   "outputs": [
    {
     "name": "stdout",
     "output_type": "stream",
     "text": [
      "s\t\t= wHo aa12349 abc 23.4 345dEf 456gHi567 jk678lm 321 nopQ89.3\n",
      "fi\t\t: <callable_iterator object at 0x000000D8992635E0>\n",
      "\n",
      "i : <re.Match object; span=(6, 11), match='12349'>\t\ti.group\t: 12349\n",
      "i : <re.Match object; span=(16, 18), match='23'>\t\ti.group\t: 23\n",
      "i : <re.Match object; span=(19, 20), match='4'>\t\ti.group\t: 4\n",
      "i : <re.Match object; span=(21, 24), match='345'>\t\ti.group\t: 345\n",
      "i : <re.Match object; span=(28, 31), match='456'>\t\ti.group\t: 456\n",
      "i : <re.Match object; span=(34, 37), match='567'>\t\ti.group\t: 567\n",
      "i : <re.Match object; span=(40, 43), match='678'>\t\ti.group\t: 678\n",
      "i : <re.Match object; span=(46, 49), match='321'>\t\ti.group\t: 321\n",
      "i : <re.Match object; span=(54, 56), match='89'>\t\ti.group\t: 89\n",
      "i : <re.Match object; span=(57, 58), match='3'>\t\ti.group\t: 3\n"
     ]
    }
   ],
   "source": [
    "import re\n",
    "\n",
    "s = \"wHo aa12349 abc 23.4 345dEf 456gHi567 jk678lm 321 nopQ89.3\"\n",
    "ptn = r\"\\d+\"    # try + 改成 {2}   \n",
    "# ptn=r'[a-z]{2}'\n",
    "# ptn=r'[a-zA-Z]{2}'\n",
    "\n",
    "fi = re.finditer(ptn, s)     # 匹配的所有子字串，並將它們返回為一個 iterator\n",
    "\n",
    "print(f's\\t\\t= {s}\\n'\n",
    "      f'fi\\t\\t: {fi}\\n')\n",
    "      # f'fi.group\\t: {fi.group()}\\n'   #           error\n",
    "      # f'fi.start\\t: {fi.start()}\\n'   # 位置 error\n",
    "      # f'fi.end\\t\\t: {fi.end()}\\n'     # 位置 error\n",
    "      # f'fi.span\\t\\t: {fi.span()}\\n')  # (start, end) error\n",
    "\n",
    "for i in fi:\n",
    "    print(f'i : {i}\\t\\ti.group\\t: {i.group()}')"
   ]
  },
  {
   "cell_type": "markdown",
   "id": "fc96a1fc-3101-4ea2-ac38-ecf22abf4487",
   "metadata": {},
   "source": [
    "## Pattern : 數字\n",
    "? 比對上一個項目零次或一次<br>\n",
    "*? 比對上一個項目零次以上\n"
   ]
  },
  {
   "cell_type": "code",
   "execution_count": 147,
   "id": "b4182fa7-9d46-416e-996c-3075b189674a",
   "metadata": {
    "tags": []
   },
   "outputs": [
    {
     "data": {
      "text/plain": [
       "['12349', '23.48911', '345', '456', '56', '678', '321', '89.356', '89', '35']"
      ]
     },
     "execution_count": 147,
     "metadata": {},
     "output_type": "execute_result"
    }
   ],
   "source": [
    "import re\n",
    "\n",
    "s = \"12349 abc 23.48911 345def 456ghi56 jk678lm 321 nopq89.356  89....35\"\n",
    "# ptn = r\"\\d\"    # [1, 2, 3.....]\n",
    "# ptn = r\"\\d+\"    #  ['12349', '23', '48911', '345', '456',....]\n",
    "# ptn = r\"\\d{2}\"    # ['12', '34', '23', '48', '91', ...]\n",
    "# ptn = r\"\\d{2,3}\"    # ['123', '49', '23', '489', '11', ....]\n",
    "ptn = '\\d+\\.?\\d+'   # ['12349', '23.48911', '345', '456',...]\n",
    "# ptn = '\\d+\\.*?\\d+'   # ['12349', '23.48911', '345', '456',...]  .*=.可以出現0次以上\n",
    "\n",
    "fa = re.findall(ptn, s)     # 匹配的所有子字串\n",
    "\n",
    "fa"
   ]
  },
  {
   "cell_type": "markdown",
   "id": "0ec41ab1-a130-4db2-bf7c-4a2195cf09f1",
   "metadata": {},
   "source": [
    "## 電話號碼　\n",
    "\n",
    "|09xx     　　|-　　xxx　　-　　xxx|\n",
    "|:----------:|:------------------:|\n",
    "|r'^09\\d\\d　|-　\\d\\d\\d　-　\\d\\d\\d'|\n",
    "|r'^09\\d{2}　|-　\\d{3}　-　\\d{3}'|\n",
    "|r'^09\\d{2}　|(-\\d{3}){2})'|"
   ]
  },
  {
   "cell_type": "code",
   "execution_count": 153,
   "id": "7fa5f428-b4d9-4e6a-addc-c145c43ab38b",
   "metadata": {},
   "outputs": [
    {
     "name": "stdout",
     "output_type": "stream",
     "text": [
      "findall(09\\d{2}-\\d{3}\\d{3})\t: ['0955-666777']\n",
      "\n"
     ]
    }
   ],
   "source": [
    "s = \"0911-222-333 0911222333 0955-811-118 02-11122233 0955-666777 0988999-000\"\n",
    "\n",
    "# ptn = r\"09\\d\\d-\\d\\d\\d-\\d\\d\\d\"\n",
    "# ptn = r\"09\\d{2}-\\d{3}-\\d{3}\"          \n",
    "# ptn = r\"09\\d{2}(-\\d{3}){2}\"\n",
    "\n",
    "ptn = r\"09\\d{2}-\\d{3}\\d{3}\"\n",
    "\n",
    "phones = re.findall(ptn,s)  # 匹配的所有子字串\n",
    "print(f'findall({ptn})\\t: {phones}\\n')"
   ]
  },
  {
   "cell_type": "markdown",
   "id": "b50c7afe-680c-4bb0-8e88-2768b113fda4",
   "metadata": {},
   "source": [
    "## Pattern : 字母"
   ]
  },
  {
   "cell_type": "code",
   "execution_count": 162,
   "id": "e73635aa-c6be-4eb5-a459-a9858237ef1d",
   "metadata": {},
   "outputs": [
    {
     "data": {
      "text/plain": [
       "['Wor33ld_This', 'stings']"
      ]
     },
     "execution_count": 162,
     "metadata": {},
     "output_type": "execute_result"
    }
   ],
   "source": [
    "s = 'Extra sti$#ngs HE%^llo 1234567 Wor33ld_This is a Regex Demo Extra stings'\n",
    "\n",
    "# ptn = '[A-Za-z]+'   # ['Extra', 'stings', 'Hello',     'World',...]\n",
    "# ptn ='[A-Z]+'       # ['E', 'HE', 'W', 'T', 'R', 'D', 'E']\n",
    "# ptn ='[a-z]+'       # ['xtra', 'stings', 'llo', 'orld', 'his',\n",
    "# ptn = '[A-Za-z0-9]+'# ['Extra','stings','HEllo','1234567','World','This',....]\n",
    "# #ptn = '\\w+'         # ['Extra','stings','HEllo','1234567','World','This',....]\n",
    "ptn = '\\W+'         # ['Extra','stings','HEllo','1234567','World','This',....]\n",
    "ptn = '[a-zA-Z]\\w{5,17}'\n",
    "\n",
    "fa = re.findall(ptn, s)     # 匹配的所有子字串\n",
    "\n",
    "fa"
   ]
  },
  {
   "cell_type": "markdown",
   "id": "ebc3ac82-26e9-4e63-84ab-7b1fc1e0e1d5",
   "metadata": {},
   "source": [
    "## Pattern : 漢字"
   ]
  },
  {
   "cell_type": "code",
   "execution_count": 163,
   "id": "48c51202-6fdd-4ee1-b025-56df1dea9a34",
   "metadata": {},
   "outputs": [
    {
     "data": {
      "text/plain": [
       "['列出符合規則的字串', '', '', '', '', '', '', '', '方法', '', '']"
      ]
     },
     "execution_count": 163,
     "metadata": {},
     "output_type": "execute_result"
    }
   ],
   "source": [
    "s = '列出符合規則的字串 (group方法)'\n",
    "ptn = \"[\\u4e00-\\u9fa5]{0,}\"\n",
    "\n",
    "fa = re.findall(ptn, s)     # 匹配的所有子字串\n",
    "\n",
    "fa"
   ]
  },
  {
   "cell_type": "markdown",
   "id": "01a584dd-fe9a-47bb-b96b-3ab929b9f789",
   "metadata": {},
   "source": [
    "## Pattern : 身分證字號\n",
    "\n",
    "|A-Z　　|1 or 2|xxxxxxxx|\n",
    "|:-----:|:----:|:------:|\n",
    "|r'[A-Z]|[1-2]|\\d\\d\\d\\d\\d\\d\\d\\d'|\n",
    "|r'[A-Z]|[1-2]|\\d{8}'           |"
   ]
  },
  {
   "cell_type": "code",
   "execution_count": 164,
   "id": "260ff538-1c0c-4999-9060-62362505f432",
   "metadata": {},
   "outputs": [
    {
     "data": {
      "text/plain": [
       "['H123456789', 'U220068455']"
      ]
     },
     "execution_count": 164,
     "metadata": {},
     "output_type": "execute_result"
    }
   ],
   "source": [
    "s = 'H123456789 U220068455 0919-123-456, 0911123456 0933-987654 abc123@gmail.com  \\\n",
    "     abc123@.gmail.ya.com'\n",
    "\n",
    "ptn = '[A-Z][1-2]\\d{8}'\n",
    "fa = re.findall(ptn, s)     # 匹配的所有子字串\n",
    "\n",
    "fa"
   ]
  },
  {
   "cell_type": "markdown",
   "id": "88aeaef7-c9d4-4ba6-90bb-812364745e6c",
   "metadata": {},
   "source": [
    "## Pattern : e-mail"
   ]
  },
  {
   "cell_type": "code",
   "execution_count": 165,
   "id": "c5c391a2-01bf-41bb-8b95-83e66188b3d6",
   "metadata": {},
   "outputs": [
    {
     "name": "stdout",
     "output_type": "stream",
     "text": [
      "b\t: (user@company.com)\n",
      "user@company.com\n",
      "user@company.com\n",
      "user@company.com\n"
     ]
    }
   ],
   "source": [
    "# 傳統思維\n",
    "\n",
    "import re\n",
    "data = \"From:User Lee (user@company.com) Sat Jan 5 09:14:16 2016\"\n",
    "\n",
    "a = data.split()\n",
    "\n",
    "for i in a :\n",
    "    if('@' in i):\n",
    "        b=i       \n",
    "        \n",
    "print(f'b\\t: {b}')\n",
    "print(b.strip('(').strip(')'))\n",
    "# --------------------------------------------------\n",
    "print(data[data.index('(')+1 : data.index(')')])\n",
    "print(data[data.find('(')+1 : data.find(')')])"
   ]
  },
  {
   "cell_type": "code",
   "execution_count": 166,
   "id": "004c1919-7bac-4b8e-9ac9-5fc1c1e8484d",
   "metadata": {},
   "outputs": [
    {
     "data": {
      "text/plain": [
       "['us-er_12.+3@company.com', 'AA11-99@gmail.yahoo.com']"
      ]
     },
     "execution_count": 166,
     "metadata": {},
     "output_type": "execute_result"
    }
   ],
   "source": [
    "s = \"From:User Lee (us-er_12.+3@company.com) Sat Jan 5 09:14:16 2016 AA11-99@gmail.yahoo.com\"\n",
    "ptn = '[a-zA-Z0-9_.+-]+@[a-zA-Z0-9-]+\\.[a-zA-Z0-9-.]+'\n",
    "\n",
    "fa = re.findall(ptn, s)     # 匹配的所有子字串\n",
    "fa"
   ]
  },
  {
   "cell_type": "markdown",
   "id": "86ba8653-f882-4ab3-b1c7-4ac7d4c258d4",
   "metadata": {},
   "source": [
    "---\n",
    "# Module 25 Hash 雜湊, 散列, 哈希"
   ]
  },
  {
   "cell_type": "markdown",
   "id": "2e3a4637-1eed-4943-a15e-77a21767c429",
   "metadata": {},
   "source": [
    "## 什麼是 Hash \n",
    "> Hash 函數把消息或資料`壓縮成摘要`，使得資料量變小，將資料的格式固定下來。該函數將資料打亂混合，重新創建一個叫做`散列值（hash values，hash codes，hash sums，或 hashes）的指紋`。hash 值通常用一個短的隨機字母和數位組成的字串來代表。好的 hash 函數在輸入域中很少出現 hash 衝突。在散清單和資料處理中，不抑制衝突來區別資料，會使得資料庫記錄更難找到。\n",
    "\n",
    "> 如今，hash 演算法也被用來加密存在資料庫中的密碼（password）字串，由於 hash 演算法所計算出來的散列值（Hash Value）具有`不可逆（無法逆向演算回原本的數值）`的性質，因此可有效的保護密碼。\n",
    "\n",
    "## Hash 的特點\n",
    "> 所有 hash 函數都有如下一個基本特性：\n",
    ">>如果兩個 hash 值是不相同的（根據同一函數），那麼這兩個 hash 值的原始輸入也是不相同的。\n",
    "這個特性是 hash 函數具有確定性的結果，具有這種性質的 hash 函數稱為`單向 hash 函數`。\n",
    "\n",
    ">> 但另一方面， hash 函數的輸入和輸出不是唯一對應關係的，如果兩個 hash 值相同，兩個輸入值很可能是相同的，但也可能不同，這種情況稱為“ hash 碰撞（collision）”，這通常是兩個不同長度的輸入值，刻意計算出相同的輸出值。輸入一些資料計算出 hash 值，然後部分改變輸入值，一個具有強混淆特性的 hash 函數會產生一個完全不同的 hash 值。\n",
    "\n",
    "其他說明：\n",
    "> * 關於Hash演算法，常見的有SHA1、SHA256、MD5、TIGER等等，它們採用不同的一些演算法來實現這個功能，不同的Hash演算法得到的結果也不一定相同，但是同一個Hash演算法對指定內容的結果必須相同"
   ]
  },
  {
   "cell_type": "markdown",
   "id": "2c4fe5c1-2ad7-47de-8854-43e0f4fecc46",
   "metadata": {},
   "source": [
    "## Python Hash()\n",
    "> Python 的內置函數 hash() 可以返回物件的雜湊值。雜湊值又稱散列值，它是一個`固定大小`的整數，用於標識物件的特定值。hash() 又稱 hash 演算法、雜湊函數，是一種從任何一種資料中創建小的數位`指紋`的方法。\n",
    "\n",
    "> 返回該對象的雜湊值（如果它有的話）。雜湊值是整數。它們在字典查找元素時用來快速比較字典的鍵。\n",
    "相同大小的數位變數有相同的雜湊值（即使它們類型不同，如 1 和 1.0）。\n",
    "所有對象的 hash 值都不是 -1。我們知道一定長度的數字的 hash 是它自己，如 hash(2) 是 2，hash(100000) 是 100000，但 hash(-1) 是 -2。"
   ]
  },
  {
   "cell_type": "code",
   "execution_count": 167,
   "id": "f4b8b185-56ca-4cfb-90e4-330d21f5ee6c",
   "metadata": {},
   "outputs": [
    {
     "data": {
      "text/plain": [
       "(-4040406859446371603, int)"
      ]
     },
     "execution_count": 167,
     "metadata": {},
     "output_type": "execute_result"
    }
   ],
   "source": [
    "hash('abc'), type(hash('abc'))"
   ]
  },
  {
   "cell_type": "code",
   "execution_count": 169,
   "id": "202ca9e4-ea84-4e9d-b62f-63a184a09513",
   "metadata": {},
   "outputs": [
    {
     "data": {
      "text/plain": [
       "(-2,\n",
       " 1,\n",
       " -4020000636855991450,\n",
       " 2777124632562214589,\n",
       " -4195340260843835527,\n",
       " 2099982768607675433)"
      ]
     },
     "execution_count": 169,
     "metadata": {},
     "output_type": "execute_result"
    }
   ],
   "source": [
    "hash(-1), hash(1), hash('1'), hash('1.'), hash('1.0'),hash('1.0 ')"
   ]
  },
  {
   "cell_type": "code",
   "execution_count": 170,
   "id": "f60bf1b2-c26a-451f-ac9e-9ffe9501a821",
   "metadata": {},
   "outputs": [
    {
     "name": "stdout",
     "output_type": "stream",
     "text": [
      "The integer hash value is : 4\n",
      "The string hash value is : 335176476632316877\n",
      "The float hash value is : 1291272085159665688\n"
     ]
    }
   ],
   "source": [
    "# initializing objects\n",
    "int_val = 4 #整數不行\n",
    "str_val = 'GeeksforGeeks'\n",
    "flt_val = 24.56\n",
    " \n",
    "print(\"The integer hash value is : \" + str(hash(int_val)))\n",
    "print(\"The string hash value is : \" + str(hash(str_val)))\n",
    "print(\"The float hash value is : \" + str(hash(flt_val)))"
   ]
  },
  {
   "cell_type": "markdown",
   "id": "a944cdd7-4af7-4150-bdf2-f5f2a0792ae2",
   "metadata": {},
   "source": [
    "Python 的`不可變物件`才有 hash 值，可變物件沒有 hash 值，我們稱它為 不可雜湊。因此，hash() 可以應用於數位、字串和物件，`不能直接應用於 list、set、dictionary。`"
   ]
  },
  {
   "cell_type": "code",
   "execution_count": 171,
   "id": "be64f8c2-8d83-40a9-9ada-12f17fbee0a1",
   "metadata": {},
   "outputs": [
    {
     "name": "stdout",
     "output_type": "stream",
     "text": [
      "The tuple hash value is : -5659871693760987716\n"
     ]
    },
    {
     "ename": "TypeError",
     "evalue": "unhashable type: 'list'",
     "output_type": "error",
     "traceback": [
      "\u001b[1;31m---------------------------------------------------------------------------\u001b[0m",
      "\u001b[1;31mTypeError\u001b[0m                                 Traceback (most recent call last)",
      "Cell \u001b[1;32mIn [171], line 12\u001b[0m\n\u001b[0;32m      8\u001b[0m \u001b[39m# Printing the hash values.\u001b[39;00m\n\u001b[0;32m      9\u001b[0m \u001b[39m# Notice exception when trying\u001b[39;00m\n\u001b[0;32m     10\u001b[0m \u001b[39m# to convert mutable object\u001b[39;00m\n\u001b[0;32m     11\u001b[0m \u001b[39mprint\u001b[39m(\u001b[39m\"\u001b[39m\u001b[39mThe tuple hash value is : \u001b[39m\u001b[39m\"\u001b[39m \u001b[39m+\u001b[39m \u001b[39mstr\u001b[39m(\u001b[39mhash\u001b[39m(tuple_val)))\n\u001b[1;32m---> 12\u001b[0m \u001b[39mprint\u001b[39m(\u001b[39m\"\u001b[39m\u001b[39mThe list hash value is : \u001b[39m\u001b[39m\"\u001b[39m \u001b[39m+\u001b[39m \u001b[39mstr\u001b[39m(\u001b[39mhash\u001b[39;49m(list_val)))\n",
      "\u001b[1;31mTypeError\u001b[0m: unhashable type: 'list'"
     ]
    }
   ],
   "source": [
    "# initializing objects\n",
    "# tuple are immutable\n",
    "tuple_val = (1, 2, 3, 4, 5)\n",
    " \n",
    "# list are mutable\n",
    "list_val = [1, 2, 3, 4, 5]\n",
    " \n",
    "# Printing the hash values.\n",
    "# Notice exception when trying\n",
    "# to convert mutable object\n",
    "print(\"The tuple hash value is : \" + str(hash(tuple_val)))\n",
    "print(\"The list hash value is : \" + str(hash(list_val)))"
   ]
  },
  {
   "cell_type": "code",
   "execution_count": 172,
   "id": "ade6079d-cd06-4e6a-805d-1c73ab9307a5",
   "metadata": {},
   "outputs": [
    {
     "ename": "TypeError",
     "evalue": "unhashable type: 'list'",
     "output_type": "error",
     "traceback": [
      "\u001b[1;31m---------------------------------------------------------------------------\u001b[0m",
      "\u001b[1;31mTypeError\u001b[0m                                 Traceback (most recent call last)",
      "Cell \u001b[1;32mIn [172], line 2\u001b[0m\n\u001b[0;32m      1\u001b[0m l \u001b[39m=\u001b[39m [\u001b[39m1\u001b[39m, \u001b[39m2\u001b[39m, \u001b[39m3\u001b[39m, \u001b[39m4\u001b[39m]\n\u001b[1;32m----> 2\u001b[0m \u001b[39mprint\u001b[39m(\u001b[39mhash\u001b[39;49m(l))\n",
      "\u001b[1;31mTypeError\u001b[0m: unhashable type: 'list'"
     ]
    }
   ],
   "source": [
    "l = [1, 2, 3, 4]#可變的不接受\n",
    "print(hash(l))"
   ]
  },
  {
   "cell_type": "markdown",
   "id": "5058c817-d96d-411c-b620-85220656824a",
   "metadata": {},
   "source": [
    "## 常見用途有：\n",
    "> * 密碼驗證\n",
    ">>密碼存儲常採用 MD5 演算法，使用者`輸入明文`，`資料庫存入 MD5` 後的固定長度字串，因此任何人都不知道使用者的密碼，在下次輸入時用戶用明文與 MD5 值對比驗證。\n",
    "這樣的好處是一旦資料庫發生洩露或者被人意外看見，也無法知識使用者的密碼。\n",
    "    \n",
    "> * 資料傳輸\n",
    ">> 用來快速檢驗資料丟包的問題，在資料發送前把資料內容進行 Hash 計算並把這個值一併傳給接收方，同時在接受方同樣對資料內容進行 Hash 計算，如果兩邊Hash值不一致，就能知道資料在傳輸過程中發生了錯誤。\n",
    "在使用檔或者軟體時，將收到的檔 hash 再與作者、發送者提供 hash 值對比，就能知道檔是否有錯誤、篡改、丟失等情況。\n",
    "等等。"
   ]
  },
  {
   "cell_type": "markdown",
   "id": "5ac60d19-058b-45bf-a48a-51b5d090caf3",
   "metadata": {},
   "source": [
    "## 常用 hash 演算法的介紹：\n",
    "* MD4\n",
    "> MD4(RFC 1320)是 MIT 的Ronald L. Rivest在 1990 年設計的，MD 是 Message Digest（消息摘要） 的縮寫。它適用在32位字長的處理器上用高速軟體實現——它是基於 32 位運算元的位操作來實現的。\n",
    "* MD5\n",
    "> MD5(RFC 1321)是 Rivest 於1991年對MD4的改進版本。它對輸入仍以512位分組，其輸出是4個32位字的級聯，與 MD4 相同。MD5比MD4來得複雜，並且速度較之要慢一點，但更安全，在抗分析和抗差分方面表現更好。\n",
    "* SHA-1及其他\n",
    "> SHA1是由NIST NSA設計為同DSA一起使用的，它對長度小於264的輸入，產生長度為 160 bits 的 hash 值，因此抗窮舉（brute-force）性更好。SHA-1 設計時基於和MD4相同原理,並且模仿了該演算法。"
   ]
  },
  {
   "cell_type": "code",
   "execution_count": 175,
   "id": "2c14eb2e-444c-4a5a-bddf-d316d480b028",
   "metadata": {},
   "outputs": [
    {
     "name": "stdout",
     "output_type": "stream",
     "text": [
      "b'\\x9e\\x15\\xa4\\x08\\x0bX\\xe2j\\xba\\xb8r\\x00\\xba\\xb1\\x96\\t'\n",
      "9e15a4080b58e26abab87200bab19609 32\n",
      "<class '_hashlib.HASH'>\n",
      "<class 'str'>\n",
      "False\n"
     ]
    }
   ],
   "source": [
    "import hashlib\n",
    "\n",
    "data01=hashlib.md5()\n",
    "data01.update(b'Python technology company')#要加b: binary\n",
    "\n",
    "data02=hashlib.md5()\n",
    "data02.update(b'Python technology  company')#多一個空格兩個不一樣\n",
    "\n",
    "print(data01.digest())\n",
    "print(data01.hexdigest(), len(data01.hexdigest()))\n",
    "print(type(data01))\n",
    "print(type(data01.hexdigest()))\n",
    "\n",
    "print(data01.hexdigest()==data02.hexdigest())"
   ]
  },
  {
   "cell_type": "markdown",
   "id": "4650dc2c-b766-433e-b3e0-2262b10dd959",
   "metadata": {},
   "source": [
    "# hash Chinese"
   ]
  },
  {
   "cell_type": "code",
   "execution_count": 176,
   "id": "e996e054-5660-4210-a5aa-3a8249f1fa6a",
   "metadata": {},
   "outputs": [
    {
     "ename": "SyntaxError",
     "evalue": "bytes can only contain ASCII literal characters (2663952057.py, line 4)",
     "output_type": "error",
     "traceback": [
      "\u001b[1;36m  Cell \u001b[1;32mIn [176], line 4\u001b[1;36m\u001b[0m\n\u001b[1;33m    data01.update(b'Python 科技股份有限公司')\u001b[0m\n\u001b[1;37m                                    ^\u001b[0m\n\u001b[1;31mSyntaxError\u001b[0m\u001b[1;31m:\u001b[0m bytes can only contain ASCII literal characters\n"
     ]
    }
   ],
   "source": [
    "import hashlib\n",
    "\n",
    "data01=hashlib.md5()\n",
    "data01.update(b'Python 科技股份有限公司')\n",
    "# data01.update(txt.encode('utf-8'))"
   ]
  },
  {
   "cell_type": "code",
   "execution_count": 178,
   "id": "d507b84b-a558-4d10-9a83-3e40572b20a1",
   "metadata": {},
   "outputs": [
    {
     "name": "stdout",
     "output_type": "stream",
     "text": [
      "b'B\\xce\\xfa\\xd6\\xb6\\xf2\\xe9?\\xadX\\xd4\\xecB\\xe37$'\n",
      "42cefad6b6f2e93fad58d4ec42e33724 32\n",
      "<class '_hashlib.HASH'>\n",
      "<class 'str'>\n",
      "True\n"
     ]
    }
   ],
   "source": [
    "import hashlib\n",
    "\n",
    "data01=hashlib.md5()\n",
    "data01.update('Python 科技股份有限公司'.encode('utf-8'))\n",
    "\n",
    "data02=hashlib.md5()\n",
    "data02.update('Python  科技股份有限公司'.encode('utf-8'))\n",
    "\n",
    "print(data01.digest())\n",
    "print(data01.hexdigest(), len(data01.hexdigest()))\n",
    "print(type(data01))\n",
    "print(type(data01.hexdigest()))\n",
    "\n",
    "print(data01.hexdigest()==data02.hexdigest())"
   ]
  },
  {
   "cell_type": "markdown",
   "id": "f4020f47-9bd4-46ae-ad70-737c7f871b70",
   "metadata": {},
   "source": [
    "# Hash file"
   ]
  },
  {
   "cell_type": "code",
   "execution_count": 181,
   "id": "76ae302d-4e13-4a87-88dd-f6af2869d1a7",
   "metadata": {},
   "outputs": [
    {
     "name": "stdout",
     "output_type": "stream",
     "text": [
      "b'\\x059\\xa0\\x10\\xc5m\\xe1\\xd1\\x14\\xa6~\\xf8\\x0f\\x06\\xd9^'\n",
      "0539a010c56de1d114a67ef80f06d95e 32\n",
      "<class '_hashlib.HASH'>\n",
      "<class 'str'>\n"
     ]
    }
   ],
   "source": [
    "import hashlib\n",
    "\n",
    "data=hashlib.md5()\n",
    "filename='./PythonDay0.html'\n",
    "\n",
    "with open(filename, 'rb') as f:\n",
    "    btxt=f.read()\n",
    "    data.update(btxt)\n",
    "\n",
    "print(data.digest())\n",
    "print(data.hexdigest(), len(data01.hexdigest()))\n",
    "print(type(data))\n",
    "print(type(data.hexdigest()))\n",
    "\n",
    "# print(data01.hexdigest()==data02.hexdigest())"
   ]
  },
  {
   "cell_type": "markdown",
   "id": "6278b785-0b7a-483c-a7eb-acbdbd9a8982",
   "metadata": {},
   "source": [
    "# hash image"
   ]
  },
  {
   "cell_type": "code",
   "execution_count": 182,
   "id": "34d59c12-0dca-4a7a-a2bb-a1cf17fb2a24",
   "metadata": {},
   "outputs": [
    {
     "name": "stdout",
     "output_type": "stream",
     "text": [
      "b'\\xef\\xa4\\xd3\\xc7\\n\\x1d\\x07;\\x90\\xcc\\x97K{\\xdf,\\xe5'\n",
      "efa4d3c70a1d073b90cc974b7bdf2ce5 32\n",
      "<class '_hashlib.HASH'>\n",
      "<class 'str'>\n"
     ]
    }
   ],
   "source": [
    "import hashlib\n",
    "\n",
    "data=hashlib.md5()\n",
    "filename=b'./img/apple.png'\n",
    "\n",
    "data.update(filename)\n",
    "print(data.digest())\n",
    "print(data.hexdigest(), len(data01.hexdigest()))\n",
    "print(type(data))\n",
    "print(type(data.hexdigest()))\n",
    "\n",
    "# print(data01.hexdigest()==data02.hexdigest())"
   ]
  },
  {
   "cell_type": "markdown",
   "id": "aae346c6-8a86-4d7c-880c-1af9a91c3e68",
   "metadata": {},
   "source": [
    "# Hash sha1"
   ]
  },
  {
   "cell_type": "code",
   "execution_count": 183,
   "id": "e88869a4-a043-4505-95ac-490122586093",
   "metadata": {},
   "outputs": [
    {
     "name": "stdout",
     "output_type": "stream",
     "text": [
      "b'6\\xaf.\"}\\xd4\\xd0=-\\x0f)\\x85tN\\x9fq,3\\xd5G'\n",
      "36af2e227dd4d03d2d0f2985744e9f712c33d547 40\n",
      "<class '_hashlib.HASH'>\n",
      "<class 'str'>\n"
     ]
    }
   ],
   "source": [
    "import hashlib\n",
    "\n",
    "data01=hashlib.sha1()\n",
    "data01.update(b'Python technology company')\n",
    "\n",
    "print(data01.digest())\n",
    "print(data01.hexdigest(), len(data01.hexdigest()))\n",
    "print(type(data01))\n",
    "print(type(data01.hexdigest()))\n"
   ]
  },
  {
   "cell_type": "code",
   "execution_count": 184,
   "id": "8a5a2b1e-d378-4aed-b1fe-f8430c4dd154",
   "metadata": {},
   "outputs": [
    {
     "name": "stdout",
     "output_type": "stream",
     "text": [
      "b';B\\xaf5\\\\\\x87\\xcak(Q\\xa4x\\xdc\\xfd\\xff^2\\x0c\\xa3\\xfa'\n",
      "3b42af355c87ca6b2851a478dcfdff5e320ca3fa 40\n",
      "<class '_hashlib.HASH'>\n",
      "<class 'str'>\n"
     ]
    }
   ],
   "source": [
    "import hashlib\n",
    "\n",
    "# data=hashlib.md5()\n",
    "data=hashlib.sha1()\n",
    "filename=b'./img/apple.png'\n",
    "\n",
    "data.update(filename)\n",
    "print(data.digest())\n",
    "print(data.hexdigest(), len(data.hexdigest()))\n",
    "print(type(data))\n",
    "print(type(data.hexdigest()))\n",
    "\n",
    "# print(data01.hexdigest()==data02.hexdigest())"
   ]
  },
  {
   "cell_type": "markdown",
   "id": "14384563-b71c-4663-9144-e09e749f989e",
   "metadata": {},
   "source": [
    "# all hash Algorithm"
   ]
  },
  {
   "cell_type": "code",
   "execution_count": 185,
   "id": "4e8e4e25-5abc-4b3e-8816-c0506d1867d2",
   "metadata": {},
   "outputs": [
    {
     "data": {
      "text/plain": [
       "{'blake2b',\n",
       " 'blake2s',\n",
       " 'md4',\n",
       " 'md5',\n",
       " 'md5-sha1',\n",
       " 'mdc2',\n",
       " 'ripemd160',\n",
       " 'sha1',\n",
       " 'sha224',\n",
       " 'sha256',\n",
       " 'sha384',\n",
       " 'sha3_224',\n",
       " 'sha3_256',\n",
       " 'sha3_384',\n",
       " 'sha3_512',\n",
       " 'sha512',\n",
       " 'sha512_224',\n",
       " 'sha512_256',\n",
       " 'shake_128',\n",
       " 'shake_256',\n",
       " 'sm3',\n",
       " 'whirlpool'}"
      ]
     },
     "execution_count": 185,
     "metadata": {},
     "output_type": "execute_result"
    }
   ],
   "source": [
    "import hashlib\n",
    "hashlib.algorithms_available"
   ]
  },
  {
   "cell_type": "markdown",
   "id": "215d801a-162c-4a81-a9ab-1db9a610f5bc",
   "metadata": {},
   "source": [
    "## 跨作業平台可使用的"
   ]
  },
  {
   "cell_type": "code",
   "execution_count": 186,
   "id": "c5369b53-aad0-46f6-98b5-91e72ac0bb40",
   "metadata": {},
   "outputs": [
    {
     "data": {
      "text/plain": [
       "{'blake2b',\n",
       " 'blake2s',\n",
       " 'md5',\n",
       " 'sha1',\n",
       " 'sha224',\n",
       " 'sha256',\n",
       " 'sha384',\n",
       " 'sha3_224',\n",
       " 'sha3_256',\n",
       " 'sha3_384',\n",
       " 'sha3_512',\n",
       " 'sha512',\n",
       " 'shake_128',\n",
       " 'shake_256'}"
      ]
     },
     "execution_count": 186,
     "metadata": {},
     "output_type": "execute_result"
    }
   ],
   "source": [
    "import hashlib\n",
    "hashlib.algorithms_guaranteed"
   ]
  },
  {
   "cell_type": "markdown",
   "id": "ea2e8ee7-7962-4708-8241-a66c7a3d3000",
   "metadata": {},
   "source": [
    "自訂雜湊\n",
    "如果物件實現了自己的 __hash__() 方法，hash() 根據機器的字長來截斷返回值。自己要實現 hash 功能，可以在物件中來重寫 __hash__() 來自訂 hash 值。\n",
    "自己定義的 __hash__() 要返回一個整數，必須同時實現 __eq__() 和 __hash__()，下面是正確是正確的的例子："
   ]
  },
  {
   "cell_type": "code",
   "execution_count": 187,
   "id": "2a14c4c9-a7e2-41d2-a301-88a0342b3cfb",
   "metadata": {},
   "outputs": [
    {
     "name": "stdout",
     "output_type": "stream",
     "text": [
      "The hash is:\n"
     ]
    },
    {
     "data": {
      "text/plain": [
       "-3008469810916743188"
      ]
     },
     "execution_count": 187,
     "metadata": {},
     "output_type": "execute_result"
    }
   ],
   "source": [
    "# 利用 age & name 產生成 hash\n",
    "class Person:\n",
    "    def __init__(self, age, name):\n",
    "        self.age = age\n",
    "        self.name = name\n",
    "\n",
    "    def __eq__(self, other):\n",
    "        return self.age == other.age and self.name == other.name\n",
    "\n",
    "    def __hash__(self):\n",
    "        print('The hash is:')\n",
    "        return hash((self.age, self.name))\n",
    "\n",
    "\n",
    "person = Person(23, 'Adam')\n",
    "hash(person)"
   ]
  },
  {
   "cell_type": "markdown",
   "id": "9e25800a-bdd7-489f-ad1e-b945a243fdac",
   "metadata": {
    "tags": []
   },
   "source": [
    "---"
   ]
  },
  {
   "cell_type": "markdown",
   "id": "9db2214c-967e-4bb1-be59-4b38a10dbc96",
   "metadata": {},
   "source": [
    "<div style=\"page-break-after: always\"></div>\n",
    "\n",
    "# Module 26 GUI-01\n",
    "> MVC模式（Model–View–Controller）是軟體工程中的一種軟體架構模式，把軟體系統分為三個基本部分：模型（Model）、視圖（View）和控制器（Controller）。\n",
    "\n",
    "> * 模型（Model）- 程式設計師編寫程式應有的功能（實現演算法等等）、資料庫專家進行資料管理和資料庫設計(可以實現具體的功能)。\n",
    "> * 視圖（View）- 介面設計人員進行圖形介面設計。\n",
    "> * 控制器（Controller）- 負責轉發請求，對請求進行處理。\n",
    ">><img src=\"./img/MCV.png\"  style='width:100%'>\n",
    "\n",
    "### GUI\n",
    "> GUI其實就是圖形使用者介面(Graphical User Interface)，也就是指採用圖形方式顯示的電腦操作使用者介面，簡而言之，就是我們經常見到的程式。因為早期的命令列介面(Command-Line Interface)，就是黑畫面，通常只支援滑鼠，並且需要記住繁雜的指令，對於一般使用者極其不友善，所以才會有GUI的出現\n",
    "\n",
    "### Tkinter\n",
    "> Tkinter是可以將Python程式碼變成圖形化介面的套件庫，裡面給了很多一般圖形化介面的基本物件，像是按鈕(button)、視窗(frame)、文字標籤(label)、捲軸(scrollbar)等等...\n",
    "\n",
    "### Tkinter套件為內建，不需要使用pip安裝。\n",
    "><img src=\"./img/tkinter.jpg\"  style='width:75%'>"
   ]
  },
  {
   "cell_type": "markdown",
   "id": "d0a499ca-4577-4ccb-89ab-00eaae52a25c",
   "metadata": {},
   "source": [
    "### 視窗元件總攬\n",
    "\n",
    "|類別\t       |介紹                                       |\n",
    "|------------|------------------------------------------|\n",
    "|Frame\t     |視窗                                       |\n",
    "|Label\t     |文字標籤                                   |\n",
    "|Button      |按鈕                                       |\n",
    "|Canvas\t     |可以用來繪圖、文字等都可以，像我就會來拿放圖片|\n",
    "|Checkbutton |核取按鈕                                   |\n",
    "|Entry\t     |文字輸入欄                                 |\n",
    "|Listbox\t |列表選單                                   |\n",
    "|Menu\t     |選單列的下拉式選單                          |\n",
    "|LabelFrame\t |文字標籤視窗                               |\n",
    "|MenuButton\t |選單的選項                                 |\n",
    "|Message\t |類似 Label ，可多行                        |\n",
    "|OptionMenu\t |下拉式的選項選單                            |\n",
    "|PaneWindow\t |類似 Frame ，可包含其他視窗元件              |\n",
    "|Radiobutton |單選按鈕                                   |\n",
    "|Scale\t     |拉桿                                       |\n",
    "|Scrollbar\t |捲軸                                       |\n",
    "|Spinbox\t |微調器                                     |\n",
    "|Text\t     |文字方塊                                   |\n",
    "|Toplevel    |新增視窗                                   |"
   ]
  },
  {
   "cell_type": "markdown",
   "id": "1c799e2f-7e2b-443d-8b15-3ee3f46c9e5e",
   "metadata": {},
   "source": [
    "### 標準屬性\n",
    "> 標準屬性也就是所有控制項的共同屬性，如大小，字體和顏色等等。\n",
    "\n",
    "|屬性\t      |描述       |\n",
    "|-----------|----------|\n",
    "|Dimension\t|控制項大小 |\n",
    "|Color\t    |控制項顏色 |\n",
    "|Font\t    |控制項字體 |\n",
    "|Anchor\t    |錨點      |\n",
    "|Relief\t    |控制項樣式 |\n",
    "|Bitmap\t    |點陣圖    |\n",
    "|Cursor\t    |游標      |\n",
    "\n",
    "\n",
    "### 幾何管理\n",
    "> Tkinter控制項有特定的幾何狀態管理方法，管理整個控制項區域組織，以下是Tkinter公開的幾何管理類：包、網格、位置\n",
    "\n",
    "|幾何方法\t|描述 |\n",
    "|----------|-----|\n",
    "|pack()    |包裝  |\n",
    "|grid()    |網格  |\n",
    "|place()   |位置  |\n"
   ]
  },
  {
   "cell_type": "markdown",
   "id": "0d296bb2-26a5-421c-a564-e85cdbde1690",
   "metadata": {},
   "source": [
    "### Flask"
   ]
  },
  {
   "cell_type": "code",
   "execution_count": 3,
   "id": "5edc3019-3761-4eb5-841e-b96a5a0fa8e3",
   "metadata": {},
   "outputs": [
    {
     "name": "stdout",
     "output_type": "stream",
     "text": [
      " * Serving Flask app '__main__'\n",
      " * Debug mode: off\n"
     ]
    },
    {
     "name": "stderr",
     "output_type": "stream",
     "text": [
      "WARNING: This is a development server. Do not use it in a production deployment. Use a production WSGI server instead.\n",
      " * Running on http://127.0.0.1:5000\n",
      "Press CTRL+C to quit\n"
     ]
    }
   ],
   "source": [
    "from flask import Flask\n",
    "\n",
    "app = Flask(__name__)\n",
    "\n",
    "@app.route('/')\n",
    "def index():\n",
    "    content = \"\"\"<h1>Flask 網頁開發</h1> \\\n",
    "                <p>兩者的結合讓我充分學會Flask，包括資料庫整合與開發</p>\n",
    "                  <fieldset><legend>AI</legend>\n",
    "                    <div class=\"form-group\">\n",
    "                      <label for=\"username\">Name:</label>\n",
    "                      <input id=\"username\" class=\"form-control\" type=\"text\" name=\"nm\" /><br>\n",
    "\n",
    "                      <label>check box</label><br>\n",
    "                      <input type=\"checkbox\" name=\"subscribe\" value=\"html-newsletter\"> Subscribe to HTML newsletter?<br>\n",
    "                      <input type=\"checkbox\" name=\"subscribe\" value=\"js-newsletter\"> Subscribe to JavaScript newsletter?<br>\n",
    "                    </div>\n",
    "                  </fieldset>\"\"\"\n",
    "    return content\n",
    "app.run()"
   ]
  },
  {
   "cell_type": "markdown",
   "id": "af2a1b9a-c304-45c2-9429-929c6ebc0d02",
   "metadata": {},
   "source": [
    "## 建立視窗\n",
    "> 用Tk()方法建立一個根視窗(root window)，之後會在這個視窗建立控件(widget)\n",
    "\n",
    ">> title(“標題名稱”)<br>\n",
    ">> geometry(寬度 x 高度 + 左上角x + 左上角y)\n",
    "\n",
    ">> mainloop()是讓程式繼續執行的指令，會讓window不斷的重新整理, 如果要結束程式就按右上的關閉按鈕。"
   ]
  },
  {
   "cell_type": "code",
   "execution_count": 4,
   "id": "44083ff7-208d-42ae-8e4a-28292075c4e3",
   "metadata": {},
   "outputs": [],
   "source": [
    "from tkinter import *\n",
    "\n",
    "root = Tk()\n",
    "root.title(\"MyWindow\")      # 視窗標題\n",
    "root.geometry(f\"{600}x{300}+{100}+{200}\")#root.geometry(f\"{w}x{h}+{x}+{y}\")\n",
    "root.configure(bg='yellow') # 視窗背景顏色\n",
    "root.maxsize(width=600, height=400)\n",
    "root.minsize(width=200, height=100)\n",
    "root.resizable(1, 1)  #(width, height)\n",
    "root.state('zoomed')# 最大化\n",
    "root.iconify()# 最小化\n",
    "\n",
    "root.mainloop()"
   ]
  },
  {
   "cell_type": "code",
   "execution_count": 6,
   "id": "cbaf4c63-2493-41f5-be76-01ab565d54ec",
   "metadata": {},
   "outputs": [
    {
     "name": "stdout",
     "output_type": "stream",
     "text": [
      "1536\n",
      "864\n"
     ]
    }
   ],
   "source": [
    "from tkinter import *\n",
    "\n",
    "root = Tk()\n",
    "screenWidth = root.winfo_screenwidth(); print(screenWidth)      # 螢幕寬度\n",
    "screenHeight = root.winfo_screenheight(); print(screenHeight)    # 螢幕高度\n",
    "w = 300                                     # 視窗寬\n",
    "h = 160                                     # 視窗高\n",
    "x = (screenWidth - w) / 2                   # 視窗左上角x軸位置\n",
    "y = (screenHeight - h ) / 2                 # 視窗左上角Y軸位置\n",
    "root.geometry(\"%dx%d+%d+%d\" % (w,h,x,y))\n",
    "root.mainloop()                             # 主視窗迴圈顯示"
   ]
  },
  {
   "cell_type": "markdown",
   "id": "9e333a28-9b7d-4acd-baee-8dd84f84e8da",
   "metadata": {},
   "source": [
    "## Label部件（標籤）建立使用\n",
    "> 在上面放畫紙和各種繪畫元素，建立好主窗口才能在上面放置各種控制元件元素。而建立過程是很簡單的\n",
    "\n",
    "> 如果要在視窗中加入文字，可以使用 Label 這個元件\n",
    "\n",
    "> 在建立 Tk 視窗的各種元件時，都會需要指定其父元件，以此例來說，我們要將 Label 放在主視窗之中，所以就將Label 的父元件指定為 window。建立好 Label 之後，還必須呼叫排版相關的函數（pack），才會將元件真正放入父元件之中。"
   ]
  },
  {
   "cell_type": "code",
   "execution_count": 7,
   "id": "a19f1fb7-ce75-46e2-97de-c5e387b6b27c",
   "metadata": {},
   "outputs": [],
   "source": [
    "import tkinter as tk\n",
    "\n",
    "window = tk.Tk()\n",
    "window.title('Window')\n",
    "\n",
    "window.geometry('500x300')\n",
    "\n",
    "# 在圖形介面上設定標籤 : width為長，height為高，這裡的長和高是字元的長和高\n",
    "l = tk.Label(window, text='Hello Tkinter', bg='yellow', font=('Arial', 12), width=30, height=2)\n",
    "l.pack()    # 放置標籤Label內容content區域放置位置，自動調節尺寸\n",
    "\n",
    "window.mainloop()"
   ]
  },
  {
   "cell_type": "code",
   "execution_count": 2,
   "id": "4dc7fbea-d0ae-48d9-8776-09ab8d18f5bb",
   "metadata": {},
   "outputs": [],
   "source": [
    "from tkinter import *\n",
    "\n",
    "root = Tk()\n",
    "root.title(\"ch2_18\")\n",
    "\n",
    "label=Label(root,text=\"raised\",relief=\"raised\",\n",
    "            bg=\"lightyellow\", padx=5,pady=10)\n",
    "label.pack()\n",
    "\n",
    "root.mainloop()"
   ]
  },
  {
   "cell_type": "markdown",
   "id": "84acf462-1b33-424a-a018-74d3fdc62e8c",
   "metadata": {},
   "source": [
    "## Button視窗部件\n",
    "> Button（按鈕）部件是一個標準的Tkinter視窗部件，用來實現各種按鈕。按鈕能夠包含文字或圖象，並且你能夠將按鈕與一個Python函式或方法相關聯。當這個按鈕被按下時，Tkinter自動呼叫相關聯的函式或方法。\n",
    "\n",
    "> 按鈕僅能顯示一種字型，但是這個文字可以跨行。另外，這個文字中的一個字母可以有下劃線，例如標明一個快捷鍵。預設情況，Tab鍵用於將焦點移動到一個按鈕部件。\n",
    "\n",
    "> 什麼時候用按鈕部件\n",
    ">> 簡言之，按鈕部件用來讓使用者說“馬上給我執行這個任務”，通常我們用顯示在按鈕上的文字或圖象來提示。按鈕通常用在工具條中或> 應用程式視窗中，並且用來接收或忽略輸入在對話方塊中的資料。關於按鈕和輸入的資料的配合，可以參看Checkbutton和> Radiobutton部件。"
   ]
  },
  {
   "cell_type": "code",
   "execution_count": 3,
   "id": "bc0b3740-ee80-4c9f-8b88-11dfaa7d8939",
   "metadata": {},
   "outputs": [],
   "source": [
    "import tkinter as tk\n",
    "\n",
    "window = tk.Tk()\n",
    "window.title('Window')\n",
    "window.geometry('500x300')\n",
    "\n",
    "txt = tk.StringVar()    # 將label標籤的內容設定為字元型別，用var來接收hit_me函式的傳出內容用以顯示在標籤上\n",
    "l = tk.Label(window, textvariable=txt, bg='green', fg='white', font=('Arial', 16), width=30, height=2)\n",
    "l.pack()\n",
    "\n",
    "def hit_me(a):\n",
    "    txt.set('you hit me'+a)\n",
    "\n",
    "# btn = tk.Button(window, text='hit me', font=('Arial', 12), width=20, height=1, command=hit_me)\n",
    "# btn.pack(side=BOTTOM)\n",
    "\n",
    "btn = tk.Button(window, text='hit me', font=('Arial', 12), width=20, height=1, command=lambda :hit_me('python'))\n",
    "btn.pack(side=BOTTOM)     # 傳引數到函數中\n",
    "# btn.pack(side=BOTTOM)\n",
    "window.mainloop()"
   ]
  },
  {
   "cell_type": "markdown",
   "id": "0b318bfa-4e70-47ca-b0de-baf9d947b09c",
   "metadata": {},
   "source": [
    "## 視窗控件配置管理員\n",
    "* pack : 打包-讓各個部件依pack順序由上至下､也可指定左右或特定位置放置）pack最簡單，但要做複雜的對位及控制，調整對齊的難度高。<br>\n",
    "* place : 定位，直接指定各個部件X及Y軸之絕對或相對位置）最精準，但布局過程及布局後之調整很費心，且當基底視窗resize調動大小時，位置會走位，有些部件會被遮蔽<br>\n",
    "* grid : 網格，建立欄列二維矩陣行列，並運用列row､欄column位置指定各個部件的布局）規則邏輯很清楚很統一，未來也最好調整，撰寫後之的程式也最好理解及佈局最結構化，但一般簡單的GUI布局，很多人還是習慣使用pack。"
   ]
  },
  {
   "cell_type": "markdown",
   "id": "65f67705-6825-4bfb-8a30-7a5f8a0e1fed",
   "metadata": {},
   "source": [
    "## pack\n",
    "布局的前後順序決定它出現的位置順序，由上至下（預設）或由左至右。"
   ]
  },
  {
   "cell_type": "code",
   "execution_count": 5,
   "id": "ea4b5b33-08e7-44d9-ab80-e091420248bc",
   "metadata": {},
   "outputs": [],
   "source": [
    "from tkinter import *\n",
    "\n",
    "window = Tk()\n",
    "window.title(\"window\")               # 視窗標題\n",
    "window.geometry('500x300')\n",
    "\n",
    "lab1 = Label(window,text=\"台北市\",\n",
    "              bg=\"lightyellow\",     # 標籤背景是淺黃色\n",
    "              width=15, font=('Arial', 16))             # 標籤寬度是15\n",
    "lab2 = Label(window,text=\"台中市\",\n",
    "              bg=\"lightgreen\",      # 標籤背景是淺綠色\n",
    "              width=15, font=('Arial', 16))             # 標籤寬度是15\n",
    "lab3 = Label(window,text=\"台南市\",\n",
    "              bg=\"lightgreen\",      # 標籤背景是淺綠色\n",
    "              width=15, font=('Arial', 16))             # 標籤寬度是15\n",
    "lab4 = Label(window,text=\"高雄市\",\n",
    "              bg=\"lightblue\",       # 標籤背景是淺藍色\n",
    "              width=15, font=('Arial', 16)) \n",
    "# ----------- pack bottom --------------------\n",
    "lab1.pack(side=BOTTOM)              # 包裝與定位元件\n",
    "lab2.pack(side=BOTTOM)              # 包裝與定位元件\n",
    "lab3.pack(side=BOTTOM)              # 包裝與定位元件\n",
    "lab4.pack(side=BOTTOM)              # 包裝與定位元件\n",
    "\n",
    "# ----------- pack left --------------------\n",
    "# # lab1.pack(side=LEFT)                # 包裝與定位元件\n",
    "# lab2.pack(side=LEFT)                # 包裝與定位元件\n",
    "# # lab3.pack(side=LEFT)                # 包裝與定位元件\n",
    "# # lab4.pack(side=LEFT)                # 包裝與定位元件\n",
    "\n",
    "# ----------- pack mix --------------------\n",
    "# lab1.pack(side=TOP)                         # 包裝與定位元件\n",
    "# lab2.pack(side=RIGHT)               # 靠右包裝與定位元件\n",
    "# lab3.pack(side=LEFT)                # 靠左包裝與定位元件\n",
    "# lab4.pack(side=BOTTOM)                # 靠左包裝與定位元件\n",
    "\n",
    "window.mainloop()"
   ]
  },
  {
   "cell_type": "code",
   "execution_count": 6,
   "id": "1d268124-7788-44ee-a154-b71e9b85ee30",
   "metadata": {},
   "outputs": [],
   "source": [
    "from tkinter import *\n",
    "\n",
    "root = Tk()\n",
    "root.title(\"window\")\n",
    "root.geometry(\"300x180\")            # 設定視窗勘寬300高180\n",
    "\n",
    "oklabel=Label(root,text=\"OK\",       # 標籤內容是OK\n",
    "              font=\"Times 20 bold\", # Times字型20粗體\n",
    "              fg=\"white\",bg=\"blue\") # 藍底白字\n",
    "oklabel.pack(anchor=S, side=RIGHT,   # 從右開始在南方配置\n",
    "             padx=10,pady=10)       # x和y軸間距皆是10\n",
    "\n",
    "nolabel=Label(root,text=\"NO\",       # 標籤內容是OK\n",
    "              font=\"Times 20 bold\", # Times字型20粗體\n",
    "              fg=\"white\",bg=\"red\")  # 藍底白字\n",
    "nolabel.pack(anchor=S,side=RIGHT,   # 從右開始在南方配置\n",
    "             pady=10)               # y軸間距皆是10\n",
    "\n",
    "root.mainloop()"
   ]
  },
  {
   "cell_type": "markdown",
   "id": "e89a1286-c6af-4777-a07d-cf3cf4439d10",
   "metadata": {},
   "source": [
    "## grid\n",
    "> 網格的齊頭讓它很容易對齊及置放，在大部分複雜欄位的視窗設計上，不再需要將視窗切割成幾個框架（frame，frame切割有助於不同區域不同屬性部件的區隔）再將部件分門別類放入，而且每一個網格的大小，在grid的運用下，會針對置入的部件大小自動做調整，且網格是運用row及column來定位，未來在欄位的增刪調整時，程式的調整相對容易得多，這就是若您練就grid布局方式時所能帶來的好處。"
   ]
  },
  {
   "cell_type": "code",
   "execution_count": 11,
   "id": "33a0acac-af94-4d9e-a407-e372ebb28339",
   "metadata": {},
   "outputs": [],
   "source": [
    "from tkinter import *\n",
    "\n",
    "window = Tk()\n",
    "window.title(\"window\")               # 視窗標題\n",
    "window.geometry('600x300')\n",
    "\n",
    "lab1 = Label(window,text=\"台北市\",\n",
    "              bg=\"lightyellow\",     # 標籤背景是淺黃色\n",
    "              width=15, font=('Arial', 16))             # 標籤寬度是15\n",
    "lab2 = Label(window,text=\"台中市\",\n",
    "              bg=\"lightgreen\",      # 標籤背景是淺綠色\n",
    "              width=15, font=('Arial', 16))             # 標籤寬度是15\n",
    "lab3 = Label(window,text=\"台南市\",\n",
    "              bg=\"lightgreen\",      # 標籤背景是淺綠色\n",
    "              width=15, font=('Arial', 16))             # 標籤寬度是15\n",
    "lab4 = Label(window,text=\"高雄市\",\n",
    "              bg=\"lightblue\",       # 標籤背景是淺藍色\n",
    "              width=15, font=('Arial', 16)) \n",
    "\n",
    "# lab1.grid(row=0,column=0)           # 格狀包裝\n",
    "# lab2.grid(row=1,column=0)           # 格狀包裝\n",
    "# lab3.grid(row=1,column=1)           # 格狀包裝\n",
    "# lab4.grid(row=2,column=1)           # 格狀包裝\n",
    "\n",
    "lab1.grid(row=0,column=0,padx=15,pady=15)           # 格狀包裝\n",
    "lab2.grid(row=1,column=2,padx=5,pady=5)           # 格狀包裝\n",
    "lab3.grid(row=2,column=1)           # 格狀包裝\n",
    "lab4.grid(row=2,column=2)           # 格狀包裝\n",
    "window.mainloop()"
   ]
  },
  {
   "cell_type": "markdown",
   "id": "31e152b0-e97b-49bc-99e9-38453bc69d1d",
   "metadata": {},
   "source": [
    "## Place\n",
    "> place（x=數字,y=數字）即能簡單的定義部件應該坐落的絕對位置，x後跟的數字即為部件坐落的x座標（單位為pixel），y後跟的數字即為部件坐落的起始y座標（單位為pixel）。"
   ]
  },
  {
   "cell_type": "code",
   "execution_count": 12,
   "id": "123622c3-0268-4cca-a35b-c20ef0393c2b",
   "metadata": {},
   "outputs": [],
   "source": [
    "from tkinter import *\n",
    "\n",
    "window = Tk()\n",
    "window.title(\"window\")               # 視窗標題\n",
    "window.geometry('600x300')\n",
    "\n",
    "lab1 = Label(window,text=\"台北市\",\n",
    "              bg=\"lightyellow\",     # 標籤背景是淺黃色\n",
    "              width=15, font=('Arial', 16))             # 標籤寬度是15\n",
    "lab2 = Label(window,text=\"台中市\",\n",
    "              bg=\"lightgreen\",      # 標籤背景是淺綠色\n",
    "              width=15, font=('Arial', 16))             # 標籤寬度是15\n",
    "lab3 = Label(window,text=\"台南市\",\n",
    "              bg=\"lightgreen\",      # 標籤背景是淺綠色\n",
    "              width=15, font=('Arial', 16))             # 標籤寬度是15\n",
    "lab4 = Label(window,text=\"高雄市\",\n",
    "              bg=\"lightblue\",       # 標籤背景是淺藍色\n",
    "              width=15, font=('Arial', 16)) \n",
    "\n",
    "\n",
    "# lab1.place(x=0,y=0)                 # 直接定位\n",
    "# lab2.place(x=30,y=50)               # 直接定位\n",
    "# lab3.place(x=60,y=100)              # 直接定位\n",
    "# lab4.place(x=160,y=200)              # 直接定位\n",
    "\n",
    "lab1.place(relx=0.1,rely=0.2,relwidth=0.4,relheight=0.4)              # 相對定位\n",
    "lab2.place(relx=0.1,rely=0.5,relwidth=0.4,relheight=0.4)              # 相對定位\n",
    "lab3.place(relx=0.5,rely=0.2,relwidth=0.4,relheight=0.4)              # 相對定位\n",
    "lab4.place(relx=0.5,rely=0.5,relwidth=0.4,relheight=0.4)              # 相對定位\n",
    "\n",
    "window.mainloop()"
   ]
  },
  {
   "cell_type": "markdown",
   "id": "dced2ccd-c3fe-4608-a597-9876c815f273",
   "metadata": {},
   "source": [
    "## Entry視窗部件\n",
    "> Entry是tkinter類中提供的的一個單行文字輸入域，用來輸入顯示一行文字，收集鍵盤輸入(類似 HTML 中的 text)。需要使用者輸入使用者資訊時，比如我們平時使用軟體、登入網頁時，使用者互動介面讓我們登入賬戶資訊等時候可以用到。"
   ]
  },
  {
   "cell_type": "code",
   "execution_count": null,
   "id": "b07e43ad-9533-46ed-868d-6108ed18ca99",
   "metadata": {},
   "outputs": [],
   "source": [
    "import tkinter as tk\n",
    "\n",
    "window = tk.Tk()\n",
    "window.title('My Window')\n",
    "window.geometry('500x300')  # 這裡的乘是小x\n",
    "\n",
    "e1 = tk.Entry(window, show='*', font=('Arial', 14))   # 顯示成密文形式\n",
    "e2 = tk.Entry(window, show=None, font=('Arial', 14))  # 顯示成明文形式\n",
    "e1.pack()\n",
    "e2.pack()\n",
    "\n",
    "window.mainloop()"
   ]
  },
  {
   "cell_type": "code",
   "execution_count": null,
   "id": "538113c7-8e6a-4bcd-aad8-dfef037c54f3",
   "metadata": {},
   "outputs": [],
   "source": [
    "from tkinter import *\n",
    "\n",
    "root = Tk()\n",
    "root.title(\"window\")                     # 視窗標題\n",
    "root.geometry('500x300')\n",
    "\n",
    "nameL = Label(root,text=\"Name \")        # name標籤\n",
    "nameL.grid(row=0)\n",
    "addressL = Label(root,text=\"Address\")   # address標籤\n",
    "addressL.grid(row=1)\n",
    "\n",
    "nameE = Entry(root)                     # 文字方塊name\n",
    "addressE = Entry(root)                  # 文字方塊address\n",
    "nameE.grid(row=0,column=1)              # 定位文字方塊name\n",
    "addressE.grid(row=1,column=1)           # 定位文字方塊address\n",
    "\n",
    "root.mainloop()"
   ]
  },
  {
   "cell_type": "code",
   "execution_count": null,
   "id": "039e453c-030d-47b2-988f-12444316e752",
   "metadata": {},
   "outputs": [],
   "source": [
    "from tkinter import *\n",
    "def cal():                          # 執行數學式計算\n",
    "    out.configure(text = \"結果 : \" + str(eval(equ.get())))\n",
    "    \n",
    "root = Tk()\n",
    "root.title(\"window\")\n",
    "label = Label(root, text=\"請輸入數學表達式:\"); label.pack()\n",
    "equ = Entry(root);  equ.pack(pady=5)                 # 在此輸入表達式\n",
    "                    \n",
    "out = Label(root);   out.pack()                  # 存放計算結果\n",
    "                        \n",
    "btn = Button(root,text=\"計算\",command=cal);  btn.pack(pady=5)    # 計算按鈕\n",
    "\n",
    "root.mainloop()"
   ]
  },
  {
   "cell_type": "markdown",
   "id": "b8bea92a-79d7-4522-8ab0-a2d4ecb05acf",
   "metadata": {},
   "source": [
    "## Text視窗部件\n",
    "> Text是tkinter類中提供的的一個多行文字區域，顯示多行文字，可用來收集(或顯示)使用者輸入的文字(類似 HTML 中的 textarea)，格式化文字顯示，允許你用不同的樣式和屬性來顯示和編輯文字，同時支援內嵌圖象和視窗。\n",
    "\n",
    "> 在需要顯示編輯使用者、產品多行資訊時，比如顯示使用者詳細描述文字，產品簡介等等，支援隨時編輯。"
   ]
  },
  {
   "cell_type": "code",
   "execution_count": null,
   "id": "b229d49b-8090-462d-a561-ee42b764d29a",
   "metadata": {},
   "outputs": [],
   "source": [
    "from tkinter import *\n",
    "\n",
    "root = Tk()\n",
    "root.title(\"window\")\n",
    "\n",
    "text = Text(root,height=10,width=30)\n",
    "text.pack()\n",
    "text.insert(END,\"Python 數位公司\\nPython 科技公司\")\n",
    "text.insert(INSERT,\"Python 媒體公司\")\n",
    "\n",
    "root.mainloop()"
   ]
  },
  {
   "cell_type": "code",
   "execution_count": null,
   "id": "9bc00a61-f75d-4184-b34b-1fcf67879cde",
   "metadata": {},
   "outputs": [],
   "source": [
    "import tkinter as tk  # 使用Tkinter前需要先匯入\n",
    "\n",
    "window = tk.Tk()\n",
    "window.title('Window')\n",
    "window.geometry('500x300')  # 這裡的乘是小x\n",
    "e = tk.Entry(window, show = None); e.pack()         #顯示成明文形式\n",
    "\n",
    "# 定義兩個觸發事件時的函式insert_point和insert_end\n",
    "def insert_point():                      # 在滑鼠焦點處插入輸入內容\n",
    "    var = e.get()\n",
    "    t.insert('insert', var)\n",
    "def insert_end():                        # 在文字框內容最後接著插入輸入內容\n",
    "    var = e.get()\n",
    "    t.insert('end', var)\n",
    "\n",
    "b1 = tk.Button(window, text='insert point', width=10, height=2, command=insert_point);  b1.pack()\n",
    "b2 = tk.Button(window, text='insert end', width=10, height=2, command=insert_end);   b2.pack()\n",
    "\n",
    "t = tk.Text(window, height=3);   t.pack()\n",
    "\n",
    "window.mainloop()"
   ]
  },
  {
   "cell_type": "code",
   "execution_count": null,
   "id": "95892862-286f-428c-8759-72ff3d41de42",
   "metadata": {},
   "outputs": [],
   "source": [
    "from tkinter import *\n",
    "\n",
    "root = Tk()\n",
    "root.title(\"window\")\n",
    "root.geometry('350x200')  # 這裡的乘是小x\n",
    "\n",
    "xscrollbar = Scrollbar(root,orient=HORIZONTAL); xscrollbar.pack(side=BOTTOM,fill=X) # x軸scrollbar物件\n",
    "yscrollbar = Scrollbar(root);                   yscrollbar.pack(side=RIGHT,fill=Y)  # y軸scrollbar物件\n",
    "\n",
    "text = Text(root,height=5,width=30,wrap=\"none\",bg=\"lightyellow\"); text.pack(fill=BOTH,expand=True)\n",
    "\n",
    "xscrollbar.config(command=text.xview)           # x軸scrollbar設定\n",
    "yscrollbar.config(command=text.yview)           # y軸scrollbar設定\n",
    "text.config(xscrollcommand=xscrollbar.set)      # x軸scrollbar綁定text\n",
    "text.config(yscrollcommand=yscrollbar.set)      # y軸scrollbar綁定text\n",
    "\n",
    "str = \"\"\"宋理宗景定元年，第三次華山論劍後，郭靖之女郭襄一人騎著青驢，\n",
    "走遍天下，尋訪楊過和小龍女。三年後，郭襄來到河南少林寺，\n",
    "尋找楊過的好友、羅漢堂首座無色禪師詢問楊、龍二人的下落不果。\n",
    "\n",
    "郭襄在少室山腳遇上來自西域的「崑崙三聖」何足道，兩人互相切磋棋藝和琴藝。\n",
    "何足道精於劍術，欲向少林寺挑戰，卻被少林僧人覺遠及其弟子張君寶的「九陽神功」震退，\n",
    "悄然返回西域。覺遠、張君寶因無師自學少林武功犯了門規而被少林寺派人捉拿，\n",
    "郭襄遂同二人逃下少室山。覺遠坐化前背誦《九陽真經》，在旁伴著的無色禪師、\n",
    "郭襄、張君寶三人各自記住了一部分。最終這些內容分別成為了少林、峨嵋、武當派的九陽功。\n",
    "之後郭襄繼續尋找楊過蹤影，並提議不見容於少林的張君寶前往襄陽投靠她的父母，\n",
    "可是張君寶在前往襄陽途中改變主意，上了襄陽附近的武當山歸隱。後來張君寶改稱為張三丰，\n",
    "並根據九陽功及少林功法變通，且自創內家拳，自成一家，稱武當派。數十年後，武當派為內家之宗，\n",
    "在武林中與少林齊名。\n",
    "\n",
    "宋朝滅亡後數十年間，江湖流傳一句話︰「武林至尊，寶刀屠龍。號令天下，莫敢不從。\n",
    "倚天不出，誰與爭鋒。」武林中人便因此而展開對「倚天劍」與「屠龍刀」\n",
    "（事實上，只是爭奪屠龍刀。因它被視為武林至尊，人人也想擁有並以此「號令天下」），\n",
    "兩把兵器的激烈爭逐。元順帝至元二年，武當派俞岱巖在江南偶然下得到屠龍刀，\n",
    "欲返回武當山將刀交給師父張三丰發落，途中卻遭暗算被擒，屠龍刀被奪去，俞岱巖亦身受重傷癱瘓。。\n",
    "\"\"\"\n",
    "text.insert(END,str)\n",
    "\n",
    "root.mainloop()"
   ]
  },
  {
   "cell_type": "markdown",
   "id": "50e6d1ff-6363-44a4-aa7c-c73ebcffadae",
   "metadata": {},
   "source": [
    "## Listbox視窗部件\n",
    "> Text是tkinter類中提供的的列表框部件，顯示供選方案的一個列表。listbox能夠被配置來得到radiobutton或checklist的行為。\n",
    "\n",
    "> 在有一個很多內容選項組成的列表提供使用者選擇時會用到。"
   ]
  },
  {
   "cell_type": "code",
   "execution_count": null,
   "id": "a6dfd200-19ed-42f7-b883-b25789234db0",
   "metadata": {},
   "outputs": [],
   "source": [
    "from tkinter import *\n",
    "    \n",
    "root = Tk()\n",
    "root.title(\"window\")            # 視窗標題\n",
    "root.geometry(\"300x210\")        # 視窗寬300高210\n",
    "\n",
    "lb = Listbox(root)              # 建立listbox \n",
    "lb.insert(END,\"Banana\")\n",
    "lb.insert(END,\"Watermelon\")\n",
    "lb.insert(END,\"Pineapple\")\n",
    "lb.pack(pady=10)\n",
    "\n",
    "root.mainloop()"
   ]
  },
  {
   "cell_type": "code",
   "execution_count": null,
   "id": "1672a363-62a6-40eb-877a-f02f4efe9857",
   "metadata": {},
   "outputs": [],
   "source": [
    "from tkinter import *\n",
    "fruits = [\"Banana\", \"Watermelon\", \"Pineapple\", \"Orange\", \"Grapes\", \"Mango\"]\n",
    "\n",
    "root = Tk()\n",
    "root.title(\"ch12_8\")            # 視窗標題\n",
    "root.geometry(\"300x210\")        # 視窗寬300高210\n",
    "\n",
    "lb = Listbox(root)              \n",
    "for fruit in fruits:            # 建立水果項目\n",
    "    lb.insert(END,fruit)\n",
    "lb.pack(pady=10)\n",
    "lb.selection_set(0)             # 預設選擇第0個項目\n",
    "# lb.selection_set(0,3)             # 預設選擇第0~3個項目\n",
    "\n",
    "root.mainloop()"
   ]
  },
  {
   "cell_type": "code",
   "execution_count": 13,
   "id": "252afbe4-092f-4897-b894-116441552660",
   "metadata": {},
   "outputs": [
    {
     "name": "stdout",
     "output_type": "stream",
     "text": [
      "False\n",
      "False\n",
      "False\n",
      "False\n",
      "False\n",
      "False\n"
     ]
    }
   ],
   "source": [
    "from tkinter import *\n",
    "def callback():                 # 列印檢查結果                \n",
    "    print(lb.selection_includes(3))\n",
    "          \n",
    "fruits = [\"Banana\",\"Watermelon\",\"Pineapple\",\n",
    "          \"Orange\",\"Grapes\",\"Mango\"]\n",
    "\n",
    "root = Tk()\n",
    "root.title(\"ch12_15\")           # 視窗標題\n",
    "root.geometry(\"300x250\")        # 視窗寬300高250\n",
    "\n",
    "lb = Listbox(root,selectmode=MULTIPLE);   lb.pack(pady=5)           \n",
    "for fruit in fruits:            # 建立水果項目\n",
    "    lb.insert(END,fruit)\n",
    "\n",
    "btn = Button(root,text=\"Check\",command=callback)\n",
    "btn.pack(pady=5)\n",
    "\n",
    "root.mainloop()"
   ]
  },
  {
   "cell_type": "markdown",
   "id": "b299173e-0e13-4299-bc36-545565616af5",
   "metadata": {},
   "source": [
    "---\n",
    "\n",
    "<div style=\"page-break-after: always\"></div>\n",
    "\n",
    "# Module 27 GUI-02"
   ]
  },
  {
   "cell_type": "markdown",
   "id": "a81c734a-60ff-484f-9d07-10be6a0dd0ac",
   "metadata": {},
   "source": [
    "### Radiobutton視窗部件\n",
    "> Radiobutton：代表一個變數，它可以有多個值中的一個。點選它將為這個變數設定值，並且清除與這同一變數相關的其它radiobutton。\n",
    "\n",
    "> 在有一個很多內容選項組成的選項列表提供使用者選擇時會用到，使用者一次只能選擇其中一個，不能多選。"
   ]
  },
  {
   "cell_type": "code",
   "execution_count": null,
   "id": "11c4142d-3ebe-4389-8ee4-8e60841c477e",
   "metadata": {},
   "outputs": [],
   "source": [
    "import tkinter as tk\n",
    "\n",
    "window = tk.Tk()\n",
    "window.title('window')\n",
    "\n",
    "window.geometry('500x500')\n",
    "imgbn = tk.PhotoImage(file=\"./img/banana.png\")\n",
    "imgap = tk.PhotoImage(file=\"./img/apple.png\")\n",
    "imggp = tk.PhotoImage(file=\"./img/grape.png\")\n",
    "# 建立一個標籤label用以顯示並放置\n",
    "var = tk.StringVar()  # 定義一個var用來將radiobutton的值和Label的值聯絡在一起.\n",
    "\n",
    "l = tk.Label(window, bg='yellow', width=20, text='empty');  l.pack()\n",
    "\n",
    "def select():\n",
    "    l.config(text='you have selected ' + var.get())  # l config\n",
    "    \n",
    "# var.set('A')\n",
    "# 其中variable=var, value='A', 滑鼠選中了其中一個選項，把value的值A放到變數var中\n",
    "# r1 = tk.Radiobutton(window, text='Option A', variable=var, value='A', command=select);  r1.pack()\n",
    "# r2 = tk.Radiobutton(window, text='Option B', variable=var, value='B', command=select);  r2.pack()\n",
    "# r3 = tk.Radiobutton(window, text='Option C', variable=var, value='C', command=select);  r3.pack()\n",
    "\n",
    "var.set('Banana')\n",
    "r1 = tk.Radiobutton(window, variable=var, value='Banana', command=select, image=imgbn);  r1.pack()\n",
    "r2 = tk.Radiobutton(window, variable=var, value='Apple', command=select, image=imgap);  r2.pack()\n",
    "r3 = tk.Radiobutton(window, variable=var, value='Grape', command=select, image=imggp);  r3.pack()\n",
    "\n",
    "window.mainloop()"
   ]
  },
  {
   "cell_type": "markdown",
   "id": "bd8294a1-fa19-4d72-86a4-8e8d659e1471",
   "metadata": {},
   "source": [
    "### Check button\n",
    "> Checkbutton：代表一個變數，它有兩個不同的值。點選這個按鈕將會在這兩個值間切換，選擇和取消選擇。\n",
    "\n",
    "> 在有一個很多內容選項組成的選項列表提供使用者選擇時會用到，使用者一次可以選擇多個。"
   ]
  },
  {
   "cell_type": "code",
   "execution_count": null,
   "id": "105b7a2b-52a3-4bc0-89ac-a2f583bf5378",
   "metadata": {},
   "outputs": [],
   "source": [
    "from tkinter import *\n",
    "import tkinter as tk\n",
    "\n",
    "root = Tk()\n",
    "root.title(\"window\")                   # 視窗標題\n",
    "root.geometry('500x500')\n",
    "\n",
    "imgbn = tk.PhotoImage(file=\"./img/banana.png\")\n",
    "imgap = tk.PhotoImage(file=\"./img/apple.png\")\n",
    "imggp = tk.PhotoImage(file=\"./img/grape.png\")\n",
    "\n",
    "lab = Label(root,text=\"請選擇水果\",fg=\"blue\",bg=\"lightyellow\",width=30);    lab.grid(row=0)\n",
    "\n",
    "# var1 = IntVar()                      \n",
    "cbtnbnn = Checkbutton(root,text=\"香蕉\",variable=var1, image=imgbn);  cbtnbnn.grid(row=1,sticky=W)\n",
    "\n",
    "# var2 = IntVar()\n",
    "cbtnapl = Checkbutton(root,text=\"蘋果\",variable=var2, image=imgap);  cbtnapl.grid(row=2, column=1,sticky=E)\n",
    "\n",
    "# var3 = IntVar()\n",
    "cbtngrp = Checkbutton(root,text=\"葡萄\",variable=var3, image=imggp);  cbtngrp.grid(row=3,sticky=W)   \n",
    "\n",
    "root.mainloop()"
   ]
  },
  {
   "cell_type": "code",
   "execution_count": null,
   "id": "1ad0cdf0-4ebe-4f93-b4be-fd867b7a15a4",
   "metadata": {},
   "outputs": [],
   "source": [
    "from tkinter import *\n",
    "import tkinter as tk\n",
    "\n",
    "def printInfo():\n",
    "    selection = ''\n",
    "    for i in checkboxes:                    # 檢查此字典\n",
    "        if checkboxes[i].get() == True:     # 被選取則執行\n",
    "            selection = selection + fruit[i] + \"\\t\"\n",
    "    print(selection)\n",
    "\n",
    "root = Tk()\n",
    "root.title('window')                         # 視窗標題\n",
    "root.geometry('500x500')\n",
    "\n",
    "imgbn = tk.PhotoImage(file=\"./img/banana.png\")\n",
    "imgap = tk.PhotoImage(file=\"./img/apple.png\")\n",
    "imggp = tk.PhotoImage(file=\"./img/grape.png\")\n",
    "\n",
    "Label(root,text=\"請選擇水果\", fg=\"blue\",bg=\"lightyellow\",width=30).grid(row=0)\n",
    "\n",
    "fruit = {0:\"香蕉\",1:\"蘋果\",2:\"葡萄\"}    # 字典\n",
    "img = [imgbn, imgap, imggp]\n",
    "\n",
    "checkboxes = {}                             # 字典存放被選取項目\n",
    "for i in range(len(fruit)):                # 將字典轉成核取方塊\n",
    "    checkboxes[i] = BooleanVar()            # 布林變數物件\n",
    "    Checkbutton(root,text=fruit[i], variable=checkboxes[i], image=img[i]).grid(row=i+1,sticky=W)\n",
    "\n",
    "btn = Button(root,text=\"確定\",width=10,command=printInfo);   btn.grid(row=i+2)\n",
    "\n",
    "root.mainloop()"
   ]
  },
  {
   "cell_type": "markdown",
   "id": "cc6b7791-9336-478e-80dc-ddab79052eb6",
   "metadata": {},
   "source": [
    "### Scale視窗部件\n",
    "> Scale： 尺度（拉動條），允許你通過滑塊來設定一數字值。<br>\n",
    "> 在需要使用者給出評價等級，或者給出一個評價分數，或者拉動滑動條提供一個具體的數值等等。"
   ]
  },
  {
   "cell_type": "code",
   "execution_count": null,
   "id": "005522ed-6404-45e1-8a9c-fb981cc571d9",
   "metadata": {},
   "outputs": [],
   "source": [
    "import tkinter as tk\n",
    "\n",
    "window = tk.Tk()\n",
    "window.title('window')\n",
    "window.geometry('500x300')\n",
    "\n",
    "lH = tk.Label(window, bg='green', fg='white', width=20, text='empty');  lH.pack()\n",
    "lV = tk.Label(window, bg='green', fg='white', width=20, text='empty');  lV.pack()\n",
    "\n",
    "# 定義一個觸發函式功能\n",
    "def Hselect(h):\n",
    "    lH.config(text='you have selected H : ' + h)\n",
    "    \n",
    "def Vselect(v):\n",
    "    lV.config(text='you have selected V : ' + v)\n",
    "    \n",
    "# 尺度滑條，長度200，從0開始10結束，以2為刻度，精度為0.01，觸發呼叫print_selection函式\n",
    "tk.Scale(window, label='try me', from_=0, to=10, orient=tk.HORIZONTAL, length=200, \n",
    "             tickinterval=2, resolution=0.01, command=Hselect).pack()\n",
    "\n",
    "# sv = tk.Scale(window, label='try me', from_=0, to=10, orient=tk.VERTICAL, length=200, \n",
    "#              showvalue=0, tickinterval=2, resolution=0.01, command=Vselect);   sv.pack()\n",
    "\n",
    "tk.Scale(window, label='try me', from_=0, to=10, length=200,                  # 預設是垂直向\n",
    "             tickinterval=5, resolution=0.01, command=Vselect).pack()\n",
    "\n",
    "window.mainloop()"
   ]
  },
  {
   "cell_type": "markdown",
   "id": "4c8aca21-1c79-4bee-b3df-374d757b04fa",
   "metadata": {
    "tags": []
   },
   "source": [
    "### Canvas視窗部件\n",
    "> Canvas：畫布，提供繪圖功能(直線、橢圓、多邊形、矩形) 可以包含圖形或點陣圖，用來繪製圖表和圖，建立圖形編輯器，實現定製視窗部件。\n",
    "\n",
    "> 在比如像使用者互動介面等，需要提供設計的圖示、圖形、logo等資訊是可以用到畫布。"
   ]
  },
  {
   "cell_type": "markdown",
   "id": "189b0f0a-e1ad-472b-b427-5753d2ffca04",
   "metadata": {},
   "source": [
    "#### line"
   ]
  },
  {
   "cell_type": "code",
   "execution_count": null,
   "id": "099ff9c0-429b-4716-8484-29d8a444091f",
   "metadata": {},
   "outputs": [],
   "source": [
    "# ch19_2.py\n",
    "from tkinter import *\n",
    "import math\n",
    "\n",
    "tk = Tk()\n",
    "canvas = Canvas(tk, width=640, height=480)\n",
    "canvas.pack()\n",
    "canvas.create_line(100,100,500,100)     #x1, y1, x2, y2\n",
    "canvas.create_line(100,125,500,125,width=5)\n",
    "canvas.create_line(100,150,500,150,width=10,fill='blue')\n",
    "canvas.create_line(100,175,500,175,dash=(10,2,2,2))\n",
    "\n",
    "tk.mainloop()"
   ]
  },
  {
   "cell_type": "markdown",
   "id": "de16901c-85a5-48ee-9d17-285e23200e45",
   "metadata": {},
   "source": [
    "#### rectangle"
   ]
  },
  {
   "cell_type": "code",
   "execution_count": null,
   "id": "ea67fb70-153d-4e4e-8905-d5d987f1ea28",
   "metadata": {},
   "outputs": [],
   "source": [
    "# ch19_7.py\n",
    "from tkinter import *\n",
    "from random import *\n",
    "\n",
    "tk = Tk()\n",
    "canvas = Canvas(tk, width=640, height=480)\n",
    "canvas.pack()\n",
    "canvas.create_rectangle(10, 10, 120, 60, fill='red')\n",
    "canvas.create_rectangle(130, 10, 200, 80, fill='yellow', outline='blue')\n",
    "canvas.create_rectangle(210, 10, 300, 60, fill='green', outline='grey')\n",
    "tk.mainloop()"
   ]
  },
  {
   "cell_type": "code",
   "execution_count": null,
   "id": "6b2c5323-9b3a-4fa3-b2f8-ac50511cc5ef",
   "metadata": {},
   "outputs": [],
   "source": [
    "# ch19_6.py\n",
    "from tkinter import *\n",
    "from random import *\n",
    "\n",
    "tk = Tk()\n",
    "canvas = Canvas(tk, width=640, height=480)\n",
    "canvas.pack()\n",
    "for i in range(50):                 # 隨機繪50個不同位置與大小的矩形\n",
    "    x1, y1 = randint(1, 640), randint(1, 480)\n",
    "    x2, y2 = randint(1, 640), randint(1, 480)\n",
    "    if x1 > x2: x1,x2 = x2,x1       # 確保左上角x座標小於右下角x座標\n",
    "    if y1 > y2: y1,y2 = y2,y1       # 確保左上角y座標小於右下角y座標\n",
    "    canvas.create_rectangle(x1, y1, x2, y2)\n",
    "tk.mainloop()"
   ]
  },
  {
   "cell_type": "markdown",
   "id": "7e0dda3f-687d-4b38-ac08-6e5901ab402b",
   "metadata": {},
   "source": [
    "#### arc"
   ]
  },
  {
   "cell_type": "code",
   "execution_count": null,
   "id": "3c26d5ac-af07-437f-a87c-0b04ebc0c991",
   "metadata": {},
   "outputs": [],
   "source": [
    "# ch19_9.py\n",
    "from tkinter import *\n",
    "\n",
    "tk = Tk()\n",
    "canvas = Canvas(tk, width=640, height=480)\n",
    "canvas.pack()\n",
    "# 以下以圓形為基礎\n",
    "canvas.create_arc(10, 10, 110, 110, extent=180, style=ARC)\n",
    "canvas.create_arc(210, 10, 310, 110, extent=180, style=CHORD)\n",
    "canvas.create_arc(410, 10, 510, 110, start=30, extent=120, style=PIESLICE)\n",
    "\n",
    "tk.mainloop()"
   ]
  },
  {
   "cell_type": "markdown",
   "id": "be7728a5-2f71-4211-93ab-349c2baecf7a",
   "metadata": {},
   "source": [
    "#### oval"
   ]
  },
  {
   "cell_type": "code",
   "execution_count": null,
   "id": "9c5be8ce-5670-443d-8240-3c62c9f770f2",
   "metadata": {},
   "outputs": [],
   "source": [
    "from tkinter import *\n",
    "\n",
    "tk = Tk()\n",
    "canvas = Canvas(tk, width=640, height=480)\n",
    "canvas.pack()\n",
    "# 以下是圓形\n",
    "canvas.create_oval(10, 10, 110, 110)\n",
    "canvas.create_oval(150, 10, 300, 160, fill='yellow')\n",
    "# 以下是橢圓形\n",
    "canvas.create_oval(10, 200, 310, 350)\n",
    "canvas.create_oval(350, 200, 550, 300, fill='aqua', outline='blue', width=5)\n",
    "\n",
    "tk.mainloop()"
   ]
  },
  {
   "cell_type": "markdown",
   "id": "7a23cf0a-d4fe-49a1-b515-f9dc2570429a",
   "metadata": {},
   "source": [
    "#### ploygon"
   ]
  },
  {
   "cell_type": "code",
   "execution_count": null,
   "id": "1a19a50a-61a3-4f54-b103-8374276a720c",
   "metadata": {},
   "outputs": [],
   "source": [
    "from tkinter import *\n",
    "\n",
    "tk = Tk()\n",
    "canvas = Canvas(tk, width=640, height=480)\n",
    "canvas.pack()\n",
    "canvas.create_polygon(10,10, 100,10, 50,80, fill='', outline='black')\n",
    "canvas.create_polygon(120,10, 180,30, 250,100, 200,90, 130,80)\n",
    "canvas.create_polygon(200,10, 350,30, 420,70, 360,90, fill='aqua')\n",
    "canvas.create_polygon(400,10,600,10,450,80,width=5,outline='blue',fill='yellow')\n",
    "\n",
    "tk.mainloop()"
   ]
  },
  {
   "cell_type": "markdown",
   "id": "37073784-d46f-4d4c-94b6-3c348dae88a4",
   "metadata": {},
   "source": [
    "#### text"
   ]
  },
  {
   "cell_type": "code",
   "execution_count": null,
   "id": "5aaa5ba2-651c-4f07-b08b-5b9006eb8180",
   "metadata": {},
   "outputs": [],
   "source": [
    "from tkinter import *\n",
    "\n",
    "tk = Tk()\n",
    "canvas = Canvas(tk, width=640, height=480)\n",
    "canvas.pack()\n",
    "canvas.create_text(200, 50, text='Python 股份有限公司')\n",
    "canvas.create_text(200, 80, text='Python 股份有限公司', fill='blue')\n",
    "canvas.create_text(300, 120, text='Python 股份有限公司', fill='blue',\n",
    "                   font=('Old English Text MT',20))\n",
    "canvas.create_text(300, 160, text='Python 股份有限公司', fill='blue',\n",
    "                   font=('華康新綜藝體 Std W7',20))\n",
    "canvas.create_text(300, 200, text='Python 股份有限公司', fill='blue',\n",
    "                   font=('華康新綜藝體 Std W7',20))\n",
    "\n",
    "tk.mainloop()"
   ]
  },
  {
   "cell_type": "markdown",
   "id": "913b7e29-be64-416b-b209-6e90afc4f7c3",
   "metadata": {},
   "source": [
    "## messageBox視窗部件\n",
    "> messageBox：訊息框，用於顯示你應用程式的訊息框。(Python2中為tkMessagebox)，其實這裡的messageBox就是我們平時看到的彈窗。 我們首先需要定義一個觸發功能，來觸發這個彈窗，這裡我們就放上以前學過的button按鈕，通過觸發功能，呼叫messagebox吧，點選button按鈕就會彈出提示對話方塊。下面給出messagebox提示資訊的幾種形式："
   ]
  },
  {
   "cell_type": "code",
   "execution_count": null,
   "id": "856bd27e-d3dc-4dec-8239-0383523aa37b",
   "metadata": {},
   "outputs": [],
   "source": [
    "from tkinter import *\n",
    "from tkinter import messagebox\n",
    "\n",
    "def myMsg():                    # 按Good Morning按鈕時執行\n",
    "    messagebox.showinfo(\"My Message Box\",\"Python tkinter早安\")\n",
    "    \n",
    "window = Tk()\n",
    "window.title(\"ch10_4\")          # 視窗標題\n",
    "window.geometry(\"300x160\")      # 視窗寬300高160\n",
    "\n",
    "Button(window,text=\"Good Morning\",command=myMsg).pack()\n",
    "\n",
    "window.mainloop()"
   ]
  },
  {
   "cell_type": "code",
   "execution_count": null,
   "id": "9abbd6ef-31b8-4f00-8809-65f5d8fb5466",
   "metadata": {},
   "outputs": [],
   "source": [
    "import tkinter as tk\n",
    "import tkinter.messagebox\n",
    "\n",
    "window = tk.Tk()\n",
    "\n",
    "window.title('Window')\n",
    "window.geometry('500x300')\n",
    "\n",
    "def hit_me():\n",
    "    tkinter.messagebox.showinfo(title='Hi', message='你好！')              # 提示資訊對話窗\n",
    "    # tkinter.messagebox.showwarning(title='Hi', message='有警告！')       # 提出警告對話窗\n",
    "    # tkinter.messagebox.showerror(title='Hi', message='出錯了！')         # 提出錯誤對話窗\n",
    "    # print(tkinter.messagebox.askquestion(title='Hi', message='你好！'))  # 詢問選擇對話窗return 'yes', 'no'\n",
    "    # print(tkinter.messagebox.askyesno(title='Hi', message='你好！'))     # return 'True', 'False'\n",
    "    # print(tkinter.messagebox.askokcancel(title='Hi', message='你好！'))  # return 'True', 'False'\n",
    "\n",
    "# 第4步，在圖形介面上建立一個標籤用以顯示內容並放置\n",
    "tk.Button(window, text='hit me', bg='green', font=('Arial', 14), command=hit_me).pack()\n",
    "\n",
    "# 第6步，主視窗迴圈顯示\n",
    "window.mainloop()"
   ]
  },
  {
   "cell_type": "markdown",
   "id": "f3c85546-8f73-425f-9f87-73a75632e65c",
   "metadata": {},
   "source": [
    "## Menu視窗部件\n",
    "> Menu：選單條，用來實現下拉和彈出式選單，點下選單後彈出的一個選項列表,使用者可以從中選擇\n",
    "\n",
    "> 在比如像軟體或網頁互動介面等，需要提供選單選項功能提供使用者選擇選單選項功能時用到。"
   ]
  },
  {
   "cell_type": "code",
   "execution_count": null,
   "id": "0bac54a3-758b-442d-95a6-1c88de736db2",
   "metadata": {},
   "outputs": [],
   "source": [
    "from tkinter import *\n",
    "from tkinter import messagebox\n",
    "\n",
    "def hello():\n",
    "    messagebox.showinfo(\"Hello\",\"歡迎使用功能表\")\n",
    "\n",
    "root = Tk()\n",
    "root.title(\"ch16_1\")\n",
    "root.geometry(\"300x180\")\n",
    "\n",
    "# 建立最上層功能表\n",
    "menubar = Menu(root)\n",
    "menubar.add_command(label=\"Hello!\",command=hello)\n",
    "menubar.add_command(label=\"Exit!\",command=root.destroy)\n",
    "root.config(menu=menubar)           # 顯示功能表物件\n",
    "\n",
    "root.mainloop()"
   ]
  },
  {
   "cell_type": "markdown",
   "id": "bb8d9736-e480-4e64-819e-33133db10a50",
   "metadata": {},
   "source": [
    "#### casacade"
   ]
  },
  {
   "cell_type": "code",
   "execution_count": null,
   "id": "06c0376c-ced4-4ca5-a8a1-f4c3145a20ac",
   "metadata": {},
   "outputs": [],
   "source": [
    "from tkinter import *\n",
    "from tkinter import messagebox\n",
    "\n",
    "def newFile():\n",
    "    messagebox.showinfo(\"New File\",\"開新檔案\")\n",
    "\n",
    "root = Tk()\n",
    "root.title(\"ch16_2\")\n",
    "root.geometry(\"300x180\")\n",
    "\n",
    "menubar = Menu(root)                # 建立最上層功能表\n",
    "# 建立功能表類別物件,和將此功能表類別命名File \n",
    "filemenu = Menu(menubar)               \n",
    "menubar.add_cascade(label=\"File\",menu=filemenu)                  # casacade\n",
    "\n",
    "# 在File功能表內建立功能表清單\n",
    "filemenu.add_command(label=\"New File\",command=newFile)\n",
    "filemenu.add_command(label=\"Exit!\",command=root.destroy)\n",
    "root.config(menu=menubar)           # 顯示功能表物件\n",
    "\n",
    "root.mainloop()"
   ]
  },
  {
   "cell_type": "code",
   "execution_count": null,
   "id": "23e7a865-1ae6-422f-b56a-c9519aa2c654",
   "metadata": {},
   "outputs": [],
   "source": [
    "from tkinter import *\n",
    "from tkinter import messagebox\n",
    "def newFile():\n",
    "    messagebox.showinfo(\"New File\",\"開新檔案\")\n",
    "def openFile():\n",
    "    messagebox.showinfo(\"New File\",\"開啟舊檔\")\n",
    "def saveFile():\n",
    "    messagebox.showinfo(\"New File\",\"儲存檔案\")\n",
    "def saveAsFile():\n",
    "    messagebox.showinfo(\"New File\",\"另存新檔\")\n",
    "def aboutMe():\n",
    "    messagebox.showinfo(\"New File\",\"Python\")    \n",
    "    \n",
    "root = Tk()\n",
    "root.title(\"ch16_6\")\n",
    "root.geometry(\"300x180\")\n",
    "\n",
    "menubar = Menu(root)                # 建立最上層功能表\n",
    "# 建立功能表類別物件,和將此功能表類別命名File \n",
    "filemenu = Menu(menubar)               \n",
    "menubar.add_cascade(label=\"File\",menu=filemenu,underline=0)\n",
    "# 在File功能表內建立功能表清單\n",
    "filemenu.add_command(label=\"New File\",command=newFile,underline=0)\n",
    "filemenu.add_command(label=\"Open File\",command=openFile,underline=0)\n",
    "filemenu.add_separator()\n",
    "filemenu.add_command(label=\"Save\",command=saveFile,underline=0)\n",
    "filemenu.add_command(label=\"Save As\",command=saveAsFile,underline=5)\n",
    "filemenu.add_separator()\n",
    "filemenu.add_command(label=\"Exit!\",command=root.destroy,underline=0)\n",
    "# 建立功能表類別物件,和將此功能表類別命名Help \n",
    "helpmenu = Menu(menubar)               \n",
    "menubar.add_cascade(label=\"Help\",menu=helpmenu,underline=0)\n",
    "# 在Help功能表內建立功能表清單\n",
    "helpmenu.add_command(label=\"About me\",command=aboutMe,underline=1)\n",
    "root.config(menu=menubar)           # 顯示功能表物件\n",
    "\n",
    "root.mainloop()"
   ]
  },
  {
   "cell_type": "markdown",
   "id": "04f18892-d1c2-4a68-874a-bf9ec8b47e61",
   "metadata": {},
   "source": [
    "## Frame 視窗部件\n",
    "> Frame：框架，用來承載放置其他GUI元素，就是一個容器，是一個在 Windows 上分離小區域的部件, 它能將 Windows 分成不同的區,然後存放不同的其他部件. 同時一個 Frame 上也能再分成兩個 Frame, Frame 可以認為是一種容器.\n",
    "\n",
    "> 在比如像軟體或網頁互動介面等，有不同的介面邏輯層級和功能區域劃分時可以用到，讓互動介面邏輯更加清晰。"
   ]
  },
  {
   "cell_type": "code",
   "execution_count": null,
   "id": "42bba8f5-0b06-450b-a748-4869ac8c089a",
   "metadata": {},
   "outputs": [],
   "source": [
    "from tkinter import *\n",
    "\n",
    "root = Tk()\n",
    "root.title(\"window\")\n",
    "root.geometry(\"300x180\")\n",
    "\n",
    "for fm in [\"red\",\"green\",\"blue\"]:    # 建立3個不同底色的框架\n",
    "    Frame(root,bg=fm,height=50,width=300).pack()\n",
    "\n",
    "root.mainloop()"
   ]
  },
  {
   "cell_type": "code",
   "execution_count": null,
   "id": "62b34b82-d82f-43ac-9bf8-7afd7922a099",
   "metadata": {},
   "outputs": [],
   "source": [
    "from tkinter import *\n",
    "\n",
    "root = Tk()\n",
    "root.title(\"ch8_3\")\n",
    "root.geometry(\"300x180\")\n",
    "frameUpper = Frame(root,bg=\"lightyellow\");    frameUpper.pack()  # 建立上層框架\n",
    "\n",
    "btnRed = Button(frameUpper,text=\"Red\",fg=\"red\")\n",
    "btnRed.pack(side=LEFT,padx=5,pady=5)\n",
    "btnGreen = Button(frameUpper,text=\"Green\",fg=\"green\")\n",
    "btnGreen.pack(side=LEFT,padx=5,pady=5)\n",
    "btnBlue = Button(frameUpper,text=\"Blue\",fg=\"blue\")\n",
    "btnBlue.pack(side=LEFT,padx=5,pady=5)\n",
    "\n",
    "frameLower = Frame(root,bg=\"lightblue\");   frameLower.pack()  # 建立下層框架\n",
    "\n",
    "btnPurple = Button(frameLower,text=\"Purple\",fg=\"purple\")\n",
    "btnPurple.pack(side=LEFT,padx=5,pady=5)\n",
    "\n",
    "root.mainloop()"
   ]
  },
  {
   "cell_type": "code",
   "execution_count": null,
   "id": "15bd6c81-e130-4959-b618-87077aec8bf3",
   "metadata": {},
   "outputs": [],
   "source": [
    "from tkinter import *\n",
    "\n",
    "root = Tk()\n",
    "root.title(\"ch8_5\")\n",
    "\n",
    "fm = Frame(width=150,height=80,relief=RAISED,borderwidth=5);   fm.pack(padx=10,pady=10)# 建立框架\n",
    "lab = Label(fm,text=\"請複選常用的程式語言\");   lab.pack()  # 建立標籤\n",
    "\n",
    "python = Checkbutton(fm,text=\"Python\");       python.pack(anchor=W)        # 建立phthon核取方塊          \n",
    "java = Checkbutton(fm,text=\"Java\");           java.pack(anchor=W)        # 建立java核取方塊\n",
    "ruby = Checkbutton(fm,text=\"Ruby\");           ruby.pack(anchor=W)             # 建立ruby核取方塊\n",
    "\n",
    "root.mainloop()"
   ]
  },
  {
   "cell_type": "code",
   "execution_count": null,
   "id": "81d5aeb1-8824-465c-b076-4db900a05426",
   "metadata": {},
   "outputs": [],
   "source": [
    "from tkinter import Tk\n",
    "from tkinter.ttk import Frame, Style\n",
    "\n",
    "root = Tk()\n",
    "root.title(\"ch8_6\")\n",
    "\n",
    "fm1 = Frame(root,width=150,height=80,relief=\"flat\")\n",
    "fm1.grid(row=0,column=0,padx=5,pady=5)\n",
    "\n",
    "fm2 = Frame(root,width=150,height=80,relief=\"groove\")\n",
    "fm2.grid(row=0,column=1,padx=5,pady=5)\n",
    "\n",
    "fm3 = Frame(root,width=150,height=80,relief=\"raised\")\n",
    "fm3.grid(row=0,column=2,padx=5,pady=5)\n",
    "\n",
    "fm4 = Frame(root,width=150,height=80,relief=\"ridge\")\n",
    "fm4.grid(row=1,column=0,padx=5,pady=5)\n",
    "\n",
    "fm5 = Frame(root,width=150,height=80,relief=\"solid\")\n",
    "fm5.grid(row=1,column=1,padx=5,pady=5)\n",
    "\n",
    "fm6 = Frame(root,width=150,height=80,relief=\"sunken\")\n",
    "fm6.grid(row=1,column=2,padx=5,pady=5)\n",
    "\n",
    "root.mainloop()"
   ]
  },
  {
   "cell_type": "code",
   "execution_count": null,
   "id": "3736c8c1-ab30-4f60-9638-88f124776be2",
   "metadata": {},
   "outputs": [],
   "source": []
  },
  {
   "cell_type": "markdown",
   "id": "d72aeeb9-0aa7-4a3a-a7c0-28442df565a1",
   "metadata": {},
   "source": [
    "<center><h1>--- The End ---</h1></center>"
   ]
  }
 ],
 "metadata": {
  "kernelspec": {
   "display_name": "Python 3.10.7 64-bit",
   "language": "python",
   "name": "python3"
  },
  "language_info": {
   "codemirror_mode": {
    "name": "ipython",
    "version": 3
   },
   "file_extension": ".py",
   "mimetype": "text/x-python",
   "name": "python",
   "nbconvert_exporter": "python",
   "pygments_lexer": "ipython3",
   "version": "3.10.7"
  },
  "vscode": {
   "interpreter": {
    "hash": "c08f6b10d77fad09d09d755fdaa91e1358750def25b824cba47d64ca203d65a5"
   }
  }
 },
 "nbformat": 4,
 "nbformat_minor": 5
}
