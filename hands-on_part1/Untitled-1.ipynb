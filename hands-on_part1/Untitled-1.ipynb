{
 "cells": [
  {
   "cell_type": "code",
   "execution_count": 19,
   "metadata": {},
   "outputs": [
    {
     "name": "stdout",
     "output_type": "stream",
     "text": [
      "   Season  Daynum  Wteam  Wscore  Lteam  Lscore Wloc  Numot\n",
      "0    1985      20   1228      81   1328      64    N      0\n",
      "1    1985      25   1106      77   1354      70    H      0\n",
      "2    1985      25   1112      63   1223      56    H      0\n",
      "3    1985      25   1165      70   1432      54    H      0\n",
      "4    1985      25   1192      86   1447      74    H      0\n",
      "        Season  Daynum  Wteam  Wscore  Lteam  Lscore Wloc  Numot\n",
      "145284    2016     132   1114      70   1419      50    N      0\n",
      "145285    2016     132   1163      72   1272      58    N      0\n",
      "145286    2016     132   1246      82   1401      77    N      1\n",
      "145287    2016     132   1277      66   1345      62    N      0\n",
      "145288    2016     132   1386      87   1433      74    N      0\n",
      "              Season         Daynum          Wteam         Wscore  \\\n",
      "count  145289.000000  145289.000000  145289.000000  145289.000000   \n",
      "mean     2001.574834      75.223816    1286.720646      76.600321   \n",
      "std         9.233342      33.287418     104.570275      12.173033   \n",
      "min      1985.000000       0.000000    1101.000000      34.000000   \n",
      "25%      1994.000000      47.000000    1198.000000      68.000000   \n",
      "50%      2002.000000      78.000000    1284.000000      76.000000   \n",
      "75%      2010.000000     103.000000    1379.000000      84.000000   \n",
      "max      2016.000000     132.000000    1464.000000     186.000000   \n",
      "\n",
      "               Lteam         Lscore          Numot  \n",
      "count  145289.000000  145289.000000  145289.000000  \n",
      "mean     1282.864064      64.497009       0.044387  \n",
      "std       104.829234      11.380625       0.247819  \n",
      "min      1101.000000      20.000000       0.000000  \n",
      "25%      1191.000000      57.000000       0.000000  \n",
      "50%      1280.000000      64.000000       0.000000  \n",
      "75%      1375.000000      72.000000       0.000000  \n",
      "max      1464.000000     150.000000       6.000000  \n",
      "Season    2016\n",
      "Daynum     132\n",
      "Wteam     1464\n",
      "Wscore     186\n",
      "Lteam     1464\n",
      "Lscore     150\n",
      "Wloc         N\n",
      "Numot        6\n",
      "dtype: object\n",
      "       Season  Daynum  Wteam  Wscore  Lteam  Lscore Wloc  Numot\n",
      "5269     1986      75   1258     151   1109     107    H      0\n",
      "12046    1988      40   1328     152   1147      84    H      0\n",
      "12355    1988      52   1328     151   1173      99    N      0\n",
      "16040    1989      40   1328     152   1331     122    H      0\n",
      "16853    1989      68   1258     162   1109     144    A      0\n",
      "17867    1989      92   1258     181   1109     150    H      0\n",
      "19653    1990      30   1328     173   1109     101    H      0\n",
      "19971    1990      38   1258     152   1109     137    A      0\n",
      "20022    1990      40   1116     166   1109     101    H      0\n",
      "22145    1990      97   1258     157   1362     115    H      0\n",
      "23582    1991      26   1318     152   1258     123    N      0\n",
      "24341    1991      47   1328     172   1258     112    H      0\n",
      "24970    1991      68   1258     186   1109     140    H      0\n",
      "25656    1991      84   1106     151   1212      97    H      0\n",
      "28687    1992      54   1261     159   1319      86    H      0\n",
      "35023    1993     112   1380     155   1341      91    A      0\n",
      "40060    1995      32   1375     156   1341     114    H      0\n",
      "52600    1998      33   1395     153   1410      87    H      0\n",
      "   Season  Daynum  Wteam  Wscore  Lteam  Lscore Wloc  Numot\n",
      "0    1985      20   1228      81   1328      64    N      0\n",
      "1    1985      25   1106      77   1354      70    H      0\n",
      "2    1985      25   1165      70   1432      54    H      0\n",
      "3    1985      25   1192      86   1447      74    H      0\n",
      "4    1985      25   1218      79   1337      78    H      0\n",
      "===================\n",
      "        Daynum  Wteam  Wscore  Lteam  Lscore Wloc  Numot\n",
      "0           20   1228      81   1328      64    N      0\n",
      "1           25   1106      77   1354      70    H      0\n",
      "2           25   1165      70   1432      54    H      0\n",
      "3           25   1192      86   1447      74    H      0\n",
      "4           25   1218      79   1337      78    H      0\n",
      "...        ...    ...     ...    ...     ...  ...    ...\n",
      "145283     132   1114      70   1419      50    N      0\n",
      "145284     132   1163      72   1272      58    N      0\n",
      "145285     132   1246      82   1401      77    N      1\n",
      "145286     132   1277      66   1345      62    N      0\n",
      "145287     132   1386      87   1433      74    N      0\n",
      "\n",
      "[145288 rows x 7 columns]\n"
     ]
    }
   ],
   "source": [
    "# # use pandas to read csv file\n",
    "import pandas as pd \n",
    "df = pd.read_csv('./dataset/RegularSeasonCompactResults.csv')\n",
    "\n",
    "# # print first five row\n",
    "print(df.head())\n",
    "\n",
    "\n",
    "# # print last five row\n",
    "print(df.tail())\n",
    "\n",
    "\n",
    "# # statistics on the dataframe\n",
    "print(df.describe())\n",
    "\n",
    "\n",
    "# # print max value of each column\n",
    "print(df.max())\n",
    "\n",
    "\n",
    "# # print Wscore that is greater than 150\n",
    "print(df[df['Wscore']>150])\n",
    "\n",
    "\n",
    "# # drop rows and reset index\n",
    "df=df.drop(index=[2]).reset_index(drop=True)\n",
    "print(df.head())\n",
    "\n",
    "# drop column \n",
    "df1=df.drop('Season',axis=1)\n",
    "print('===================')\n",
    "print(df1)\n",
    "\n",
    "\n"
   ]
  },
  {
   "cell_type": "code",
   "execution_count": 26,
   "metadata": {},
   "outputs": [
    {
     "name": "stdout",
     "output_type": "stream",
     "text": [
      "        Season  Daynum\n",
      "0         1985      20\n",
      "1         1985      25\n",
      "2         1985      25\n",
      "3         1985      25\n",
      "4         1985      25\n",
      "...        ...     ...\n",
      "145284    2016     132\n",
      "145285    2016     132\n",
      "145286    2016     132\n",
      "145287    2016     132\n",
      "145288    2016     132\n",
      "\n",
      "[145289 rows x 2 columns]\n",
      "0         0\n",
      "1         1\n",
      "2         1\n",
      "3         1\n",
      "4         1\n",
      "         ..\n",
      "145284    1\n",
      "145285    1\n",
      "145286    1\n",
      "145287    1\n",
      "145288    1\n",
      "Name: Daynum, Length: 145289, dtype: int64\n"
     ]
    }
   ],
   "source": [
    "df=pd.read_csv('./dataset/RegularSeasonCompactResults.csv')\n",
    "df_new=df[['Season','Daynum']]\n",
    "print(df_new)\n",
    "\n",
    "# df_new.to_csv('1234.csv',index=False)\n",
    "\n",
    "df_daynum=df_new['Daynum'].apply(lambda x : 1 if x>23 else 0)\n",
    "print(df_daynum)"
   ]
  },
  {
   "cell_type": "code",
   "execution_count": null,
   "metadata": {},
   "outputs": [],
   "source": [
    "url='http://www.stockq.org/'\n",
    "df=pd.read_html(url)\n",
    "# print(df[9])\n",
    "print(df)"
   ]
  },
  {
   "cell_type": "code",
   "execution_count": 34,
   "metadata": {},
   "outputs": [
    {
     "name": "stdout",
     "output_type": "stream",
     "text": [
      "[[1 2 3]]\n",
      "(1, 3)\n",
      "[[1 2 3]\n",
      " [4 5 6]]\n",
      "(2, 3)\n"
     ]
    }
   ],
   "source": [
    "import numpy as np \n",
    "a = np.array([[1, 2, 3]])\n",
    "print(a)\n",
    "print(a.shape)\n",
    "b=np.array([[1,2,3],[4,5,6]])\n",
    "print(b)\n",
    "print(b.shape)"
   ]
  },
  {
   "cell_type": "code",
   "execution_count": 38,
   "metadata": {},
   "outputs": [
    {
     "name": "stdout",
     "output_type": "stream",
     "text": [
      "   size  number_room  house_price house_type\n",
      "0  40.0          3.0          800        old\n",
      "1  29.0          5.0          700      young\n",
      "2  33.0          2.0          670      young\n",
      "3   NaN          2.0          770        old\n",
      "4   NaN          NaN          870      young\n",
      "(5, 4)\n",
      "===========\n",
      "<class 'numpy.ndarray'>\n"
     ]
    }
   ],
   "source": [
    "df=pd.read_csv('./dataset/demo.csv')\n",
    "\n",
    "print(df.head())\n",
    "print(df.shape)\n",
    "print('===========')\n",
    "print(type(df['size'].values))"
   ]
  },
  {
   "cell_type": "code",
   "execution_count": 41,
   "metadata": {},
   "outputs": [
    {
     "name": "stdout",
     "output_type": "stream",
     "text": [
      "of nan value in each columns: \n",
      "size           2\n",
      "number_room    1\n",
      "house_price    0\n",
      "house_type     0\n",
      "dtype: int64\n",
      "   size  number_room  house_price house_type\n",
      "0  40.0          3.0          800        old\n",
      "1  29.0          5.0          700      young\n",
      "2  33.0          2.0          670      young\n",
      "fill na with maen\n",
      "   size  number_room  house_price house_type\n",
      "0  40.0          3.0          800        old\n",
      "1  29.0          5.0          700      young\n",
      "2  33.0          2.0          670      young\n",
      "3  34.0          2.0          770        old\n",
      "4  34.0          NaN          870      young\n"
     ]
    }
   ],
   "source": [
    "df=pd.read_csv('./dataset/demo.csv')\n",
    "print('of nan value in each columns: ')\n",
    "print(df.isnull().sum())\n",
    "df_no_missing_=df.dropna()\n",
    "print(df_no_missing_)\n",
    "print('fill na with maen')\n",
    "df['size'].fillna(df['size'].mean(),inplace=True)\n",
    "print(df)"
   ]
  },
  {
   "cell_type": "code",
   "execution_count": 47,
   "metadata": {},
   "outputs": [
    {
     "name": "stdout",
     "output_type": "stream",
     "text": [
      "   size  number_room  house_price house_type\n",
      "0  40.0          3.0          800        old\n",
      "1  29.0          5.0          700      young\n",
      "2  33.0          2.0          670      young\n",
      "3   NaN          2.0          770        old\n",
      "4   NaN          NaN          870      young\n",
      "================\n",
      "   size  number_room  house_price  house_type\n",
      "0  40.0          3.0          800           0\n",
      "1  29.0          5.0          700           1\n",
      "2  33.0          2.0          670           1\n",
      "3   NaN          2.0          770           0\n",
      "4   NaN          NaN          870           1\n",
      "============\n",
      "   size  number_room  house_price house_type\n",
      "0  40.0          3.0          800        old\n",
      "1  29.0          5.0          700      young\n",
      "2  33.0          2.0          670      young\n",
      "3   NaN          2.0          770        old\n",
      "4   NaN          NaN          870      young\n",
      "   size  number_room  house_price  house_type_old  house_type_young\n",
      "0  40.0          3.0          800               1                 0\n",
      "1  29.0          5.0          700               0                 1\n",
      "2  33.0          2.0          670               0                 1\n",
      "3   NaN          2.0          770               1                 0\n",
      "4   NaN          NaN          870               0                 1\n"
     ]
    }
   ],
   "source": [
    "import pandas as pd\n",
    "\n",
    "df=pd.read_csv('./dataset/demo.csv')\n",
    "print(df)\n",
    "print('================')\n",
    "df['house_type']=pd.Categorical(df['house_type']).codes\n",
    "print(df)\n",
    "print('============')\n",
    "df=pd.read_csv('./dataset/demo.csv')\n",
    "print(df)\n",
    "dfg=pd.get_dummies(df)\n",
    "print(dfg)"
   ]
  },
  {
   "cell_type": "code",
   "execution_count": 49,
   "metadata": {},
   "outputs": [
    {
     "name": "stdout",
     "output_type": "stream",
     "text": [
      "[[40.0 3.0 800 'old']\n",
      " [29.0 5.0 700 'young']\n",
      " [33.0 2.0 670 'young']\n",
      " [nan 2.0 770 'old']\n",
      " [nan nan 870 'young']]\n",
      "      0    1    2      3\n",
      "0  40.0  3.0  800    old\n",
      "1  29.0  5.0  700  young\n",
      "2  33.0  2.0  670  young\n",
      "3   NaN  2.0  770    old\n",
      "4   NaN  NaN  870  young\n"
     ]
    }
   ],
   "source": [
    "df = pd.read_csv('./dataset/demo.csv')\n",
    "nam_array=np.array(df)\n",
    "print(nam_array)\n",
    "datafram=pd.DataFrame(nam_array)\n",
    "print(datafram)"
   ]
  },
  {
   "cell_type": "code",
   "execution_count": 64,
   "metadata": {},
   "outputs": [
    {
     "name": "stdout",
     "output_type": "stream",
     "text": [
      "[[ 0  1]\n",
      " [ 2  3]\n",
      " [ 4  5]\n",
      " [ 6  7]\n",
      " [ 8  9]\n",
      " [10 11]\n",
      " [12 13]\n",
      " [14 15]\n",
      " [16 17]\n",
      " [18 19]] (10, 2)\n",
      "[0 1 2 3 4 5 6 7 8 9] (10,)\n",
      "after spliting----------\n",
      "[[ 0  1]\n",
      " [18 19]\n",
      " [14 15]\n",
      " [16 17]\n",
      " [ 8  9]\n",
      " [10 11]\n",
      " [ 2  3]]\n",
      "[[ 6  7]\n",
      " [12 13]\n",
      " [ 4  5]]\n",
      "[0 9 7 8 4 5 1]\n",
      "[3 6 2]\n"
     ]
    }
   ],
   "source": [
    "import numpy as np \n",
    "from sklearn.model_selection import train_test_split\n",
    "x=np.arange(20).reshape((10,2))\n",
    "y=np.arange(10)\n",
    "print(x,x.shape)\n",
    "print(y,y.shape)\n",
    "print('after spliting----------')\n",
    "\n",
    "xtrain,xtest,ytrain,ytest=train_test_split(x,y,test_size=0.3\n",
    ")\n",
    "print(xtrain)\n",
    "print(xtest)\n",
    "print(ytrain)\n",
    "print(ytest)\n",
    "\n"
   ]
  },
  {
   "cell_type": "code",
   "execution_count": 78,
   "metadata": {},
   "outputs": [
    {
     "name": "stdout",
     "output_type": "stream",
     "text": [
      "mean of x_train: [4.00000000e+02 0.00000000e+00 3.33333333e-01]\n",
      "std of x_train: [355.9026084    0.81649658   1.24721913]\n",
      "[[100.  -1.   2.]\n",
      " [900.   0.   0.]\n",
      " [200.   1.  -1.]]\n"
     ]
    }
   ],
   "source": [
    "from sklearn import preprocessing\n",
    "import numpy as np\n",
    "\n",
    "x_train = np.array([[ 100., -1.,  2.],\n",
    "                    [ 900.,  0.,  0.],\n",
    "                    [ 200.,  1., -1.]])\n",
    "\n",
    "print(f'mean of x_train: {x_train.mean(axis=0)}')\n",
    "print(f'std of x_train: {x_train.std(axis=0)}')\n",
    "\n",
    "# scaler=preprocessing.StandardScaler().fit_transform(x_train)\n",
    "\n",
    "\n",
    "\n",
    "# print(scaler.mean_)\n",
    "\n",
    "\n",
    "# x_train=scaler.transform(x_train)\n",
    "# print(x_train)\n",
    "\n",
    "x_test=np.array([[-1,1,0]])\n",
    "\n",
    "# x_test=scaler.transform(x_test)\n",
    "# print(x_test)\n"
   ]
  },
  {
   "cell_type": "code",
   "execution_count": 81,
   "metadata": {},
   "outputs": [
    {
     "name": "stdout",
     "output_type": "stream",
     "text": [
      "[[0.5        0.         1.        ]\n",
      " [1.         0.5        0.33333333]\n",
      " [0.         1.         0.        ]]\n",
      "[[-1.5         0.          1.66666667]]\n"
     ]
    }
   ],
   "source": [
    "from sklearn import preprocessing\n",
    "import numpy as np\n",
    "\n",
    "x_train = np.array([[ 1., -1.,  2.],\n",
    "                    [ 2.,  0.,  0.],\n",
    "                    [ 0.,  1., -1.]])\n",
    "\n",
    "sc=preprocessing.MinMaxScaler().fit(x_train)\n",
    "x_train=sc.transform(x_train)\n",
    "print(x_train)\n",
    "\n",
    "x_test=np.array([[-3,-1,4]])\n",
    "x_test=sc.transform(x_test)\n",
    "print(x_test)"
   ]
  },
  {
   "cell_type": "code",
   "execution_count": null,
   "metadata": {},
   "outputs": [],
   "source": [
    "from sklearn.metrics import mean_squared_error, r2_score, accuracy_score, confusion_matrix\n"
   ]
  }
 ],
 "metadata": {
  "kernelspec": {
   "display_name": "Python 3.10.7 64-bit",
   "language": "python",
   "name": "python3"
  },
  "language_info": {
   "codemirror_mode": {
    "name": "ipython",
    "version": 3
   },
   "file_extension": ".py",
   "mimetype": "text/x-python",
   "name": "python",
   "nbconvert_exporter": "python",
   "pygments_lexer": "ipython3",
   "version": "3.10.7"
  },
  "orig_nbformat": 4,
  "vscode": {
   "interpreter": {
    "hash": "c08f6b10d77fad09d09d755fdaa91e1358750def25b824cba47d64ca203d65a5"
   }
  }
 },
 "nbformat": 4,
 "nbformat_minor": 2
}
