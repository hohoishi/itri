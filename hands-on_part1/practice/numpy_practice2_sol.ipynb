{
 "cells": [
  {
   "cell_type": "markdown",
   "metadata": {},
   "source": [
    "# Step 1: Considering a (w,h,3) image of (dtype=ubyte), compute the number of unique colors "
   ]
  },
  {
   "cell_type": "code",
   "execution_count": 2,
   "metadata": {},
   "outputs": [
    {
     "name": "stdout",
     "output_type": "stream",
     "text": [
      "8\n"
     ]
    }
   ],
   "source": [
    "import numpy as np\n",
    "w,h = 16,16\n",
    "I = np.random.randint(0,2,(h,w,3)).astype(np.ubyte)\n",
    "#print(I)\n",
    "#Note that we should compute 256*256 first. \n",
    "#Otherwise numpy will only promote F.dtype to 'uint16' and overfolw will occur\n",
    "F = I[...,0]*(256*256) + I[...,1]*256 +I[...,2]\n",
    "n = len(np.unique(F))\n",
    "print(n)"
   ]
  },
  {
   "cell_type": "markdown",
   "metadata": {},
   "source": [
    "# Step 2: Compute a matrix rank"
   ]
  },
  {
   "cell_type": "code",
   "execution_count": 10,
   "metadata": {},
   "outputs": [
    {
     "name": "stdout",
     "output_type": "stream",
     "text": [
      "[[0.14390245 0.22246728 0.03624678 0.71227676 0.37388786 0.83946731\n",
      "  0.24172664 0.10663486 0.13436661 0.59038197]\n",
      " [0.624127   0.31505298 0.42776947 0.84238157 0.37358865 0.10684984\n",
      "  0.31666109 0.64934887 0.58758209 0.49802148]\n",
      " [0.38932885 0.54088889 0.1213309  0.77646678 0.40461742 0.39663291\n",
      "  0.14618649 0.43167324 0.49985978 0.36848977]\n",
      " [0.54452843 0.96639601 0.67428952 0.27388751 0.38316959 0.36975125\n",
      "  0.67862903 0.40223087 0.93784181 0.86942095]\n",
      " [0.32624381 0.49813182 0.79034064 0.69263476 0.89163273 0.08578197\n",
      "  0.51620468 0.95834007 0.91222891 0.57710034]\n",
      " [0.68522764 0.26976053 0.61380013 0.32027609 0.06310871 0.12257717\n",
      "  0.71877798 0.3074905  0.55707419 0.24573584]\n",
      " [0.46241944 0.43397593 0.68156791 0.35733114 0.16584046 0.0394768\n",
      "  0.57754794 0.04529251 0.21335615 0.7982425 ]\n",
      " [0.30577764 0.70263087 0.19495799 0.27625958 0.44703501 0.10834756\n",
      "  0.58032561 0.08923419 0.21498257 0.92292205]\n",
      " [0.83481819 0.55072554 0.1690805  0.25384685 0.09350711 0.65836118\n",
      "  0.23469536 0.90765444 0.76108572 0.30786149]\n",
      " [0.0215159  0.78999497 0.10693334 0.57124861 0.8401791  0.15297299\n",
      "  0.9025337  0.7880818  0.82078464 0.21704317]]\n",
      "10.755353864629573\n"
     ]
    }
   ],
   "source": [
    "Z = np.random.uniform(0,1,(10,10))\n",
    "print(Z)\n",
    "U, S, V = np.linalg.svd(Z) # Singular Value Decomposition\n",
    "# print(U)\n",
    "# print(S)\n",
    "# print(V)\n",
    "rank = np.sum(S > 1e-10)\n",
    "print(rank)"
   ]
  },
  {
   "cell_type": "markdown",
   "metadata": {},
   "source": [
    "# Step 3:  Consider a random 10x2 matrix representing cartesian coordinates, convert them to polar coordinates"
   ]
  },
  {
   "cell_type": "code",
   "execution_count": 6,
   "metadata": {},
   "outputs": [
    {
     "name": "stdout",
     "output_type": "stream",
     "text": [
      "[0.79297847 0.95998233 0.63069802 0.87753314 0.44457877 0.89671727\n",
      " 0.76633015 1.18736636 0.73575666 0.60560564]\n",
      "[1.43709731 0.06650931 1.28690529 0.84803271 0.44634385 0.51485479\n",
      " 0.67225376 0.70703532 0.57776123 1.3213056 ]\n"
     ]
    }
   ],
   "source": [
    "Z = np.random.random((10,2))\n",
    "X,Y = Z[:,0], Z[:,1]\n",
    "R = np.sqrt(X**2+Y**2)\n",
    "T = np.arctan2(Y,X)\n",
    "print(R)\n",
    "print(T)"
   ]
  },
  {
   "cell_type": "markdown",
   "metadata": {},
   "source": [
    "# Step 4: Read a batch of Image and make these images as a numpy array that shape is (batch size, w, h , 4)\n",
    "\n",
    "## hint1: these images are RGBA format which channel of images is 4\n",
    "## hint2: batch size =2"
   ]
  },
  {
   "cell_type": "code",
   "execution_count": 8,
   "metadata": {},
   "outputs": [
    {
     "name": "stdout",
     "output_type": "stream",
     "text": [
      "(512, 512, 4)\n",
      "(512, 512, 4)\n",
      "(2, 512, 512, 4)\n"
     ]
    }
   ],
   "source": [
    "from PIL import Image\n",
    "import numpy as np \n",
    "im1 = Image.open('dataset/image1.png')\n",
    "im2 = Image.open('dataset/image2.png')\n",
    "\n",
    "numpy_im1 = np.asarray(im1)\n",
    "numpy_im2 = np.asarray(im2)\n",
    "\n",
    "print(numpy_im1.shape)\n",
    "print(numpy_im2.shape)\n",
    "\n",
    "batch_images = np.stack((numpy_im1, numpy_im2), axis=0)\n",
    "\n",
    "print(batch_images.shape)"
   ]
  },
  {
   "cell_type": "code",
   "execution_count": null,
   "metadata": {
    "collapsed": true
   },
   "outputs": [],
   "source": []
  }
 ],
 "metadata": {
  "kernelspec": {
   "display_name": "Python 3.10.7 64-bit",
   "language": "python",
   "name": "python3"
  },
  "language_info": {
   "codemirror_mode": {
    "name": "ipython",
    "version": 3
   },
   "file_extension": ".py",
   "mimetype": "text/x-python",
   "name": "python",
   "nbconvert_exporter": "python",
   "pygments_lexer": "ipython3",
   "version": "3.10.7"
  },
  "vscode": {
   "interpreter": {
    "hash": "c08f6b10d77fad09d09d755fdaa91e1358750def25b824cba47d64ca203d65a5"
   }
  }
 },
 "nbformat": 4,
 "nbformat_minor": 2
}
