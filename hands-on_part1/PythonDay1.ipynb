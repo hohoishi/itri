{
 "cells": [
  {
   "cell_type": "markdown",
   "metadata": {},
   "source": [
    "<div style=\"page-break-after: always\"></div>\n",
    "\n",
    "# Module_00 課程簡介--Python先修"
   ]
  },
  {
   "cell_type": "markdown",
   "metadata": {
    "tags": []
   },
   "source": [
    "## 0-1 建議學習態度\n",
    "> * 課堂上多理解, 思考程式邏輯\n",
    "> * 座位固定 (可協調後換座位)\n",
    "> * 多參加線上社團學習, 如 FB-python Taiwan....etc.\n",
    "> * Q&A 社團 iCoding : \n",
    "> https://www.facebook.com/groups/216955676502460"
   ]
  },
  {
   "cell_type": "markdown",
   "metadata": {},
   "source": [
    ">><img src=\"./img/pythonLogo.png\"  style='width:75%'></img>"
   ]
  },
  {
   "cell_type": "markdown",
   "metadata": {},
   "source": [
    "## 0-2 程式語言的成長趨勢\n",
    "><img src=\"./img/PythonTrend.png\"  style='width:75%'>"
   ]
  },
  {
   "cell_type": "markdown",
   "metadata": {},
   "source": [
    "><img src=\"./img/PythonTrend01.png\"  style='width:75%'>"
   ]
  },
  {
   "cell_type": "markdown",
   "metadata": {},
   "source": [
    "## 0-3 Python 特色\n",
    "> * 物件導向式語言架構(Object-Oriented Program Language)是㇐種開源(Open Source)的廣泛使用高階程式語言，屬於通用型(General Purpose) 程式語言\n",
    "> * 直譯式, 又稱作腳本語言(Scripting language), 互動式執行環境\n",
    "> * 省略變數類型宣告動作\n",
    "> * 自動化的記憶體管理\n",
    "> * 內建許多高階實用的資料型態, 提供許多標準函式庫及第三方套件(package), 高擴展性\n",
    "> * 跨平台與圖形介面延伸, 能與其他語言結合\n",
    "> * 優雅簡潔，易學易用"
   ]
  },
  {
   "cell_type": "markdown",
   "metadata": {},
   "source": [
    "### Python2.X\n",
    "> * 穩定版本\n",
    "> * version2.7 為最終版本(2020-01-01 終止支援), 有向未來相容\n",
    "\n",
    "### Python3.X\n",
    "> * 現在進行式同時也是未來趨勢, 沒有向前相容\n",
    "> * 活絡發展中\n",
    "> * 對初學者較友善\n",
    "\n",
    "> #### Ubuntu 18.04作業系統內建安裝Python 3，"
   ]
  },
  {
   "cell_type": "markdown",
   "metadata": {},
   "source": [
    "<div style=\"page-break-after: always\"></div>\n",
    "\n",
    "### Python 科學堆疊\n",
    "><img src=\"./img/scipy-stack.png\"  style='width:90%'>\n",
    "\n",
    "https://pypi.org/"
   ]
  },
  {
   "cell_type": "markdown",
   "metadata": {},
   "source": [
    "### Python 學習路徑\n",
    "* Python 程式設計\n",
    "* Python 網路爬蟲程式開發\n",
    "* Python 資料處理與分析\n",
    "* Python 機器學習 - 使用Scikit-learn\n",
    "* Python 機器學習 - 使用 TensorFlow\n",
    "* AI影像辨識與機器學習 - 使用 Raspberry Pi"
   ]
  },
  {
   "cell_type": "markdown",
   "metadata": {},
   "source": [
    "---"
   ]
  },
  {
   "cell_type": "markdown",
   "metadata": {},
   "source": [
    "<div style=\"page-break-after: always\"></div>\n",
    "\n",
    "# Module_01_Python簡介"
   ]
  },
  {
   "cell_type": "markdown",
   "metadata": {},
   "source": [
    ">## Top IDEs (Integrated Development Environment) for Text Editor<br>\n",
    "><img src=\"./img/mostide01.jpg\" style='width:80%'>"
   ]
  },
  {
   "cell_type": "markdown",
   "metadata": {},
   "source": [
    "<div style=\"page-break-after: always\"></div>\n",
    "\n",
    "## IDE (開發工具箱)\n",
    "> * IDLE (Python 提供的互動式使用者介面)\n",
    "> * VS code\n",
    "> * Jupyter lab"
   ]
  },
  {
   "cell_type": "markdown",
   "metadata": {},
   "source": [
    "## Top Python IDEs for Data Science in 2019\n",
    "><img src=\"./img/mostIde.jpg\"  style='width:80%'>"
   ]
  },
  {
   "cell_type": "markdown",
   "metadata": {},
   "source": [
    "## 電腦硬體基本架構 : CPU, Memory, I/O\n",
    "><img src=\"./img/computerHW.png\"  style='width:90%'>"
   ]
  },
  {
   "cell_type": "markdown",
   "metadata": {},
   "source": [
    "<div style=\"page-break-after: always\"></div>\n",
    "\n",
    "## 原始碼(source code)、位元組碼(byte code)、機械碼(machine code)\n",
    "><img src=\"./img/Py-pyc03.png\"  style='width:90%'>"
   ]
  },
  {
   "cell_type": "markdown",
   "metadata": {},
   "source": [
    "## 安裝 Python, VS code\n",
    "> * 硬碟檢視\n",
    "> * download\n",
    "https://www.python.org/downloads/\n",
    "> * Python : `Download 64位元 Windows x86-64 executable installer`\n",
    "\n",
    "> ### 注意 : 多個Python是可以並存的，一台電腦可以安裝多個Python程式語言，但是要在PATH設定一個預設的Python程式語言\n",
    "\n",
    "><img src=\"./img/pythonInstall01.jpg\"  style='width:90%'>"
   ]
  },
  {
   "cell_type": "markdown",
   "metadata": {},
   "source": [
    "<div style=\"page-break-after: always\"></div>\n",
    "\n",
    "## IDLE & VScode\n",
    ">### https://code.visualstudio.com/download\n",
    ">### VSCodeUserSetup-x64-1.45.1.exe (x64 : 64 位元,  x32 : 32位元)\n",
    ">### ctrl + shift + p, python interpreter"
   ]
  },
  {
   "cell_type": "markdown",
   "metadata": {},
   "source": [
    "## Using Jupyter Lab\n",
    "\n",
    ">#### Note :\n",
    "> * Ipython 就是 Jupyter Python 的 Kernal (ipython : 互動式)\n",
    "> * 在 (命令提示字元 / Windows PowerShell `系統管理員`) 身分下打 pip install jupyterlab 指令( `灌程式` )\n",
    "> * 在 (命令提示字元 / Windows PowerShell `一般身分`)下打 jupyter lab ( `執行程式` )(shell> jupyter lab)\n",
    "> * or install Anaconda ( :>jupyter notebook) （`暫不建議`, 為了維持一套 python 在電腦中)\n",
    "https://medium.com/python4u/jupyter-notebook%E5%AE%8C%E6%95%B4%E4%BB%8B%E7%B4%B9%E5%8F%8A%E5%AE%89%E8%A3%9D%E8%AA%AA%E6%98%8E-b8fcadba15f"
   ]
  },
  {
   "cell_type": "markdown",
   "metadata": {},
   "source": [
    "## Jupyter try (網路版本)\n",
    "> https://jupyter.org/try"
   ]
  },
  {
   "cell_type": "markdown",
   "metadata": {
    "tags": []
   },
   "source": [
    "## anaconda 下載 :\n",
    "> https://www.anaconda.com/products/individual#windows\n",
    "\n",
    ">### pip install Flask\n",
    "\n",
    "\n",
    "### Q&A 社團 iCoding :  https://www.facebook.com/groups/216955676502460"
   ]
  },
  {
   "cell_type": "markdown",
   "metadata": {},
   "source": [
    "<div style=\"page-break-after: always\"></div>\n",
    "\n",
    "## Jupyter 快捷鍵\n",
    "> * shift-enter: 跑程式\n",
    "> * A : 上面增加一格\n",
    "> * B : 下面增加一格\n",
    "> * D,D : 刪除一格\n",
    "> * C : 複製 (crtl + C)\n",
    "> * V : 貼上 (crtl + V)\n",
    "> * Z : 復原 (crtl + Z)\n",
    "> * X : 剪下 (crtl + X)\n",
    "> * shift-up & shift-down: 多個block選取\n",
    "> * M : markdown抄筆記\n",
    "> * shift + tab : param instruction\n",
    "> * tab : functions instruction"
   ]
  },
  {
   "cell_type": "code",
   "execution_count": 3,
   "metadata": {},
   "outputs": [
    {
     "name": "stderr",
     "output_type": "stream",
     "text": [
      "'jupyter' ���O�����Υ~���R�O�B�i���檺�{���Χ妸�ɡC\n"
     ]
    }
   ],
   "source": [
    "!jupyter --version"
   ]
  },
  {
   "cell_type": "code",
   "execution_count": 4,
   "metadata": {},
   "outputs": [
    {
     "data": {
      "text/plain": [
       "'3.10.7 (tags/v3.10.7:6cc6b13, Sep  5 2022, 14:08:36) [MSC v.1933 64 bit (AMD64)]'"
      ]
     },
     "execution_count": 4,
     "metadata": {},
     "output_type": "execute_result"
    }
   ],
   "source": [
    "import sys\n",
    "sys.version"
   ]
  },
  {
   "cell_type": "code",
   "execution_count": 5,
   "metadata": {},
   "outputs": [
    {
     "name": "stdout",
     "output_type": "stream",
     "text": [
      "Help on built-in function print in module builtins:\n",
      "\n",
      "print(...)\n",
      "    print(value, ..., sep=' ', end='\\n', file=sys.stdout, flush=False)\n",
      "    \n",
      "    Prints the values to a stream, or to sys.stdout by default.\n",
      "    Optional keyword arguments:\n",
      "    file:  a file-like object (stream); defaults to the current sys.stdout.\n",
      "    sep:   string inserted between values, default a space.\n",
      "    end:   string appended after the last value, default a newline.\n",
      "    flush: whether to forcibly flush the stream.\n",
      "\n"
     ]
    }
   ],
   "source": [
    "help(print)  # shift + tab,  see whatever you want to check.  change 'len' in quotati`on."
   ]
  },
  {
   "cell_type": "code",
   "execution_count": 6,
   "metadata": {},
   "outputs": [
    {
     "name": "stdout",
     "output_type": "stream",
     "text": [
      "\u001b[1;31mSignature:\u001b[0m \u001b[0mlen\u001b[0m\u001b[1;33m(\u001b[0m\u001b[0mobj\u001b[0m\u001b[1;33m,\u001b[0m \u001b[1;33m/\u001b[0m\u001b[1;33m)\u001b[0m\u001b[1;33m\u001b[0m\u001b[1;33m\u001b[0m\u001b[0m\n",
      "\u001b[1;31mDocstring:\u001b[0m Return the number of items in a container.\n",
      "\u001b[1;31mType:\u001b[0m      builtin_function_or_method\n"
     ]
    }
   ],
   "source": [
    "len?"
   ]
  },
  {
   "cell_type": "code",
   "execution_count": 7,
   "metadata": {},
   "outputs": [
    {
     "data": {
      "text/plain": [
       "3"
      ]
     },
     "execution_count": 7,
     "metadata": {},
     "output_type": "execute_result"
    }
   ],
   "source": [
    "L = [1, 2, 3]\n",
    "len(L)"
   ]
  },
  {
   "cell_type": "markdown",
   "metadata": {},
   "source": [
    "---"
   ]
  },
  {
   "cell_type": "markdown",
   "metadata": {
    "tags": []
   },
   "source": [
    "<div style=\"page-break-after: always\"></div>\n",
    "\n",
    "# Module_02_認識變數與基本數學運算"
   ]
  },
  {
   "cell_type": "markdown",
   "metadata": {
    "tags": []
   },
   "source": [
    ">## 在 Jupyter 中盡量不要用 print 指令，但為了初學者容易閱讀起見, 不得已我們會用一些\n",
    ">### y 是 '數字' 還是 '文字' 傻傻分不清"
   ]
  },
  {
   "cell_type": "code",
   "execution_count": 8,
   "metadata": {},
   "outputs": [
    {
     "name": "stdout",
     "output_type": "stream",
     "text": [
      "5\n"
     ]
    },
    {
     "data": {
      "text/plain": [
       "'5'"
      ]
     },
     "execution_count": 8,
     "metadata": {},
     "output_type": "execute_result"
    }
   ],
   "source": [
    "y = '5'\n",
    "print(y)   # y 數字還是文字傻傻分不清\n",
    "y          #jupyter照樣幫你印出來'5'print印出來都是文字"
   ]
  },
  {
   "cell_type": "code",
   "execution_count": 9,
   "metadata": {},
   "outputs": [
    {
     "name": "stdout",
     "output_type": "stream",
     "text": [
      "Python is simple; Python is simple; Python is simple; Python is simple;  enjoy!\n"
     ]
    }
   ],
   "source": [
    "print('Python is simple; '*4 ,'enjoy!')  # print就是一函數(函式), 文字算法跟數字不一樣"
   ]
  },
  {
   "cell_type": "markdown",
   "metadata": {},
   "source": []
  },
  {
   "cell_type": "markdown",
   "metadata": {
    "tags": []
   },
   "source": [
    "## keyword list\n",
    "> ### 關於Python中的變數，需要注意關鍵字的命名規則，同時也要注意那些保留字是專門給Python使用的，不要將這些保留字設定為變數名稱，否則程式將無法順利正常執行。\n",
    "\n",
    "> ### Python的關鍵字(Keywords)與保留字(Reserved words)。\n",
    "\n",
    "> ### 有 False、True、None的第一個字是大寫"
   ]
  },
  {
   "cell_type": "code",
   "execution_count": 10,
   "metadata": {},
   "outputs": [
    {
     "name": "stdout",
     "output_type": "stream",
     "text": [
      "['False', 'None', 'True', 'and', 'as', 'assert', 'async', 'await', 'break', 'class', 'continue', 'def', 'del', 'elif', 'else', 'except', 'finally', 'for', 'from', 'global', 'if', 'import', 'in', 'is', 'lambda', 'nonlocal', 'not', 'or', 'pass', 'raise', 'return', 'try', 'while', 'with', 'yield'] \n",
      "\n",
      "dict_keys(['__name__', '__doc__', '__package__', '__loader__', '__spec__', '__build_class__', '__import__', 'abs', 'all', 'any', 'ascii', 'bin', 'breakpoint', 'callable', 'chr', 'compile', 'delattr', 'dir', 'divmod', 'eval', 'exec', 'format', 'getattr', 'globals', 'hasattr', 'hash', 'hex', 'id', 'input', 'isinstance', 'issubclass', 'iter', 'aiter', 'len', 'locals', 'max', 'min', 'next', 'anext', 'oct', 'ord', 'pow', 'print', 'repr', 'round', 'setattr', 'sorted', 'sum', 'vars', 'None', 'Ellipsis', 'NotImplemented', 'False', 'True', 'bool', 'memoryview', 'bytearray', 'bytes', 'classmethod', 'complex', 'dict', 'enumerate', 'filter', 'float', 'frozenset', 'property', 'int', 'list', 'map', 'object', 'range', 'reversed', 'set', 'slice', 'staticmethod', 'str', 'super', 'tuple', 'type', 'zip', '__debug__', 'BaseException', 'Exception', 'TypeError', 'StopAsyncIteration', 'StopIteration', 'GeneratorExit', 'SystemExit', 'KeyboardInterrupt', 'ImportError', 'ModuleNotFoundError', 'OSError', 'EnvironmentError', 'IOError', 'WindowsError', 'EOFError', 'RuntimeError', 'RecursionError', 'NotImplementedError', 'NameError', 'UnboundLocalError', 'AttributeError', 'SyntaxError', 'IndentationError', 'TabError', 'LookupError', 'IndexError', 'KeyError', 'ValueError', 'UnicodeError', 'UnicodeEncodeError', 'UnicodeDecodeError', 'UnicodeTranslateError', 'AssertionError', 'ArithmeticError', 'FloatingPointError', 'OverflowError', 'ZeroDivisionError', 'SystemError', 'ReferenceError', 'MemoryError', 'BufferError', 'Warning', 'UserWarning', 'EncodingWarning', 'DeprecationWarning', 'PendingDeprecationWarning', 'SyntaxWarning', 'RuntimeWarning', 'FutureWarning', 'ImportWarning', 'UnicodeWarning', 'BytesWarning', 'ResourceWarning', 'ConnectionError', 'BlockingIOError', 'BrokenPipeError', 'ChildProcessError', 'ConnectionAbortedError', 'ConnectionRefusedError', 'ConnectionResetError', 'FileExistsError', 'FileNotFoundError', 'IsADirectoryError', 'NotADirectoryError', 'InterruptedError', 'PermissionError', 'ProcessLookupError', 'TimeoutError', 'open', 'copyright', 'credits', 'license', 'help', 'execfile', 'runfile', '__IPYTHON__', 'display', 'get_ipython'])\n"
     ]
    }
   ],
   "source": [
    "import keyword   \n",
    "print(keyword.kwlist, '\\n')      #關鍵字幾乎都小寫\n",
    "\n",
    "# list all built-in keywords\n",
    "print(vars(__builtin__).keys(),)"
   ]
  },
  {
   "cell_type": "code",
   "execution_count": 11,
   "metadata": {},
   "outputs": [
    {
     "data": {
      "text/plain": [
       "True"
      ]
     },
     "execution_count": 11,
     "metadata": {},
     "output_type": "execute_result"
    }
   ],
   "source": [
    "keyword.iskeyword('if')"
   ]
  },
  {
   "cell_type": "code",
   "execution_count": 12,
   "metadata": {},
   "outputs": [
    {
     "data": {
      "text/plain": [
       "False"
      ]
     },
     "execution_count": 12,
     "metadata": {},
     "output_type": "execute_result"
    }
   ],
   "source": [
    "keyword.iskeyword('IF')"
   ]
  },
  {
   "cell_type": "code",
   "execution_count": 13,
   "metadata": {},
   "outputs": [],
   "source": [
    "# 關鍵字拿去用會有問題\n",
    "# print=1  \n",
    "# print('abc')  # error"
   ]
  },
  {
   "cell_type": "code",
   "execution_count": 14,
   "metadata": {},
   "outputs": [],
   "source": [
    "# del print  # del = bash unset\n",
    "# print('abc')"
   ]
  },
  {
   "cell_type": "markdown",
   "metadata": {},
   "source": [
    "> ### Python的整數不會溢位(overflow)"
   ]
  },
  {
   "cell_type": "code",
   "execution_count": 15,
   "metadata": {},
   "outputs": [
    {
     "data": {
      "text/plain": [
       "368063488259223267894700840060521865838338232037353204655959621437025609300472231530103873614505175218691345257589896391130393189447969771645832382192366076536631132001776175977932178658703660778465765811830827876982014124022948671975678131724958064427949902810498973271030787716781467419524180040734398996952930832508934116945966120176735120823151959779536852290090377452502236990839453416790640456116471139751546750048602189291028640970574762600185950226138244530187489211615864021135312077912018844630780307462205252807737757672094320692373101032517459518497524015120165166724189816766397247824175394802028228160027100623998873667435799073054618906855460488351426611310634023489044291860510352301912426608488807462312126590206830413782664554260411266378866626653755763627796569082931785645600816236891168141774993267488171702172191072731069216881668294625679492696148976999868715671440874206427212056717373099639711168901197440416590226524192782842896415414611688187391232048327738965820265934093108172054875188246591760877131657895633586576611857277011782497943522945011248430439201297015119468730712364007639373910811953430309476832453230123996750235710787086641070310288725389595138936784715274150426495416196669832679980253436807864187160054589045664027158817958549374490512399055448819148487049363674611664609890030088549591992466360050042566270348330911795487647045949301286614658650071299695652245266080672989921799342509291635330827874264789587306974472327718704306352445925996155619153783913237212716010410294999877569745287353422903443387562746452522860420416689019732913798073773281533570910205207767157128174184873357050830752777900041943256738499067821488421053870869022738698816059810579221002560882999884763252161747566893835178558961142349304466506402373556318707175710866983035313122068321102457824112014969387225476259342872866363550383840720010832906695360553556647545295849966279980830561242960013654529514995113584909050813015198928283202189194615501403435553060147713139766323195743324848047347575473228198492343231496580885057330510949058490527738662697480293583612233134502078182014347192522391449087738579081585795613547198599661273567662441490401862839817822686573112998663038868314974259766039340894024308383451039874674061160538242392803580758232755749310843694194787991556647907091849600704712003371103926967137408125713631396699343733288014254084819379380555174777020843568689927348949484201042595271932630685747613835385434424807024615161848223715989797178155169951121052285149157137697718850449708843330475301440373094611119631361702936342263219382793996895988331701890693689862459020775599439506870005130750427949747071390095256759203426671803377068109744629909769176319526837824364926844730545524646494321826241925107158040561607706364484910978348669388142016838792902926158979355432483611517588605967745393958061959024834251565197963477521095821435651996730128376734574843289089682710350244222290017891280419782767803785277960834729869249991658417000499998999"
      ]
     },
     "execution_count": 15,
     "metadata": {},
     "output_type": "execute_result"
    }
   ],
   "source": [
    "999**999   # INT not overflow"
   ]
  },
  {
   "cell_type": "code",
   "execution_count": 16,
   "metadata": {},
   "outputs": [
    {
     "ename": "OverflowError",
     "evalue": "(34, 'Result too large')",
     "output_type": "error",
     "traceback": [
      "\u001b[1;31m---------------------------------------------------------------------------\u001b[0m",
      "\u001b[1;31mOverflowError\u001b[0m                             Traceback (most recent call last)",
      "Cell \u001b[1;32mIn [16], line 1\u001b[0m\n\u001b[1;32m----> 1\u001b[0m \u001b[39m999.\u001b[39;49m\u001b[39m*\u001b[39;49m\u001b[39m*\u001b[39;49m\u001b[39m999\u001b[39;49m\n",
      "\u001b[1;31mOverflowError\u001b[0m: (34, 'Result too large')"
     ]
    }
   ],
   "source": [
    "999.**999  # floating overflow"
   ]
  },
  {
   "cell_type": "code",
   "execution_count": null,
   "metadata": {},
   "outputs": [
    {
     "data": {
      "text/plain": [
       "1.7976931348623157e+308"
      ]
     },
     "execution_count": 24,
     "metadata": {},
     "output_type": "execute_result"
    }
   ],
   "source": [
    "# max floating number\n",
    "import sys\n",
    "sys.float_info.max"
   ]
  },
  {
   "cell_type": "markdown",
   "metadata": {
    "tags": []
   },
   "source": [
    "## Python 識別字\n",
    "> * 識別字是用來識別變數、函數、類別、模組與其他物件\n",
    "> * 第㇐個字必須是文字或底線，第二個字以後可以是文數字或底線\n",
    "> * Python 的識別字內不允許特殊字元，例如@、$、% • Python 為有分大小寫的程式語言，Hello 與 hello 是不同的識別字"
   ]
  },
  {
   "cell_type": "code",
   "execution_count": null,
   "metadata": {},
   "outputs": [],
   "source": [
    "data=0; data01='john';  data_01=3.1416"
   ]
  },
  {
   "cell_type": "code",
   "execution_count": null,
   "metadata": {},
   "outputs": [
    {
     "ename": "SyntaxError",
     "evalue": "invalid decimal literal (1943165545.py, line 1)",
     "output_type": "error",
     "traceback": [
      "\u001b[1;36m  Cell \u001b[1;32mIn [28], line 1\u001b[1;36m\u001b[0m\n\u001b[1;33m    2data=0   # error\u001b[0m\n\u001b[1;37m    ^\u001b[0m\n\u001b[1;31mSyntaxError\u001b[0m\u001b[1;31m:\u001b[0m invalid decimal literal\n"
     ]
    }
   ],
   "source": [
    "2data=0   # error"
   ]
  },
  {
   "cell_type": "code",
   "execution_count": null,
   "metadata": {},
   "outputs": [
    {
     "ename": "SyntaxError",
     "evalue": "cannot assign to expression here. Maybe you meant '==' instead of '='? (1600510734.py, line 1)",
     "output_type": "error",
     "traceback": [
      "\u001b[1;36m  Cell \u001b[1;32mIn [27], line 1\u001b[1;36m\u001b[0m\n\u001b[1;33m    john@gmail=1  # error\u001b[0m\n\u001b[1;37m    ^\u001b[0m\n\u001b[1;31mSyntaxError\u001b[0m\u001b[1;31m:\u001b[0m cannot assign to expression here. Maybe you meant '==' instead of '='?\n"
     ]
    }
   ],
   "source": [
    "john@gmail=1  # error"
   ]
  },
  {
   "cell_type": "markdown",
   "metadata": {
    "tags": []
   },
   "source": [
    "> ### 不需要明確宣告變數，Python 就自動宣告變數, 變數名稱的風格一般是以`小寫`為主, 在Python中，單引號( ' )與雙引號( \" )是相同的"
   ]
  },
  {
   "cell_type": "code",
   "execution_count": null,
   "metadata": {},
   "outputs": [
    {
     "name": "stdout",
     "output_type": "stream",
     "text": [
      "50\n"
     ]
    }
   ],
   "source": [
    "print(50) "
   ]
  },
  {
   "cell_type": "code",
   "execution_count": null,
   "metadata": {},
   "outputs": [
    {
     "data": {
      "text/plain": [
       "'John'"
      ]
     },
     "execution_count": 29,
     "metadata": {},
     "output_type": "execute_result"
    }
   ],
   "source": [
    "name = 'John'\n",
    "name"
   ]
  },
  {
   "cell_type": "code",
   "execution_count": null,
   "metadata": {},
   "outputs": [],
   "source": [
    "miles = 477.5\n",
    "miles"
   ]
  },
  {
   "cell_type": "code",
   "execution_count": null,
   "metadata": {},
   "outputs": [
    {
     "name": "stdout",
     "output_type": "stream",
     "text": [
      "1 2.0 John\n"
     ]
    },
    {
     "data": {
      "text/plain": [
       "(1, 2.0, 'John')"
      ]
     },
     "execution_count": 32,
     "metadata": {},
     "output_type": "execute_result"
    }
   ],
   "source": [
    "a, b, c = 1, 2., 'John'\n",
    "print(a, b, c)\n",
    "a, b, c  # tuple元組"
   ]
  },
  {
   "cell_type": "markdown",
   "metadata": {
    "tags": []
   },
   "source": [
    "<div style=\"page-break-after: always\"></div>\n",
    "\n",
    "## 算術運算子\n",
    "><img src=\"./img/arithmetic.png\"  style='width:90%'>"
   ]
  },
  {
   "cell_type": "code",
   "execution_count": null,
   "metadata": {},
   "outputs": [
    {
     "name": "stdout",
     "output_type": "stream",
     "text": [
      "7\n",
      "7\n",
      "46\n",
      "81\n",
      "4\n",
      "-5\n"
     ]
    }
   ],
   "source": [
    "print(+7); print(++7)\n",
    "print(12+34)\n",
    "print(9**2)\n",
    "print(9//2)    # 整數除法\n",
    "print(-9//2)   # ??? what happen??  地板式整除 取比較小的 4<5   -5<-4"
   ]
  },
  {
   "cell_type": "code",
   "execution_count": null,
   "metadata": {},
   "outputs": [
    {
     "name": "stdout",
     "output_type": "stream",
     "text": [
      "17*6\t= 102\n",
      "\n",
      "17*6\t= 102 \t17%6 =  5\n"
     ]
    }
   ],
   "source": [
    "print('17*6\\t=', 17*6)\n",
    "print()        # 下一行\n",
    "print('17*6\\t=', 17*6, '\\t17%6 = ', 17%6)"
   ]
  },
  {
   "cell_type": "code",
   "execution_count": null,
   "metadata": {},
   "outputs": [
    {
     "data": {
      "text/plain": [
       "1.6666666666666667"
      ]
     },
     "execution_count": 35,
     "metadata": {},
     "output_type": "execute_result"
    }
   ],
   "source": [
    "a = 5; b = 3; a = a/b\n",
    "a"
   ]
  },
  {
   "cell_type": "code",
   "execution_count": null,
   "metadata": {},
   "outputs": [
    {
     "data": {
      "text/plain": [
       "7"
      ]
     },
     "execution_count": 36,
     "metadata": {},
     "output_type": "execute_result"
    }
   ],
   "source": [
    "a = 5; b = 2\n",
    "a = a + b   #a += b\n",
    "a"
   ]
  },
  {
   "cell_type": "code",
   "execution_count": null,
   "metadata": {},
   "outputs": [
    {
     "data": {
      "text/plain": [
       "(2, 5)"
      ]
     },
     "execution_count": 37,
     "metadata": {},
     "output_type": "execute_result"
    }
   ],
   "source": [
    "a=5; b=2\n",
    "a, b = b, a    #交換\n",
    "a, b    "
   ]
  },
  {
   "cell_type": "code",
   "execution_count": null,
   "metadata": {},
   "outputs": [],
   "source": [
    "12/6   # int / int = float, not in java 浮點數"
   ]
  },
  {
   "cell_type": "code",
   "execution_count": null,
   "metadata": {},
   "outputs": [
    {
     "data": {
      "text/plain": [
       "35"
      ]
     },
     "execution_count": 38,
     "metadata": {},
     "output_type": "execute_result"
    }
   ],
   "source": [
    "5*7    # try 5.0       5*7.=35.0"
   ]
  },
  {
   "cell_type": "code",
   "execution_count": null,
   "metadata": {},
   "outputs": [
    {
     "data": {
      "text/plain": [
       "5"
      ]
     },
     "execution_count": 39,
     "metadata": {},
     "output_type": "execute_result"
    }
   ],
   "source": [
    "17%6   # try 17.0"
   ]
  },
  {
   "cell_type": "code",
   "execution_count": null,
   "metadata": {},
   "outputs": [
    {
     "data": {
      "text/plain": [
       "-5.0"
      ]
     },
     "execution_count": 41,
     "metadata": {},
     "output_type": "execute_result"
    }
   ],
   "source": [
    "-9//2  # try -9/2,  floored"
   ]
  },
  {
   "cell_type": "markdown",
   "metadata": {
    "tags": []
   },
   "source": [
    "## 指定運算子\n",
    "><img src=\"./img/assign.jpg\"  style='height:250px; width:600px'>"
   ]
  },
  {
   "cell_type": "code",
   "execution_count": null,
   "metadata": {},
   "outputs": [
    {
     "data": {
      "text/plain": [
       "12"
      ]
     },
     "execution_count": 42,
     "metadata": {},
     "output_type": "execute_result"
    }
   ],
   "source": [
    "a = 5\n",
    "a+=7  # a = a + 7\n",
    "a         #try a-=7,  a*=7, a/=7"
   ]
  },
  {
   "cell_type": "code",
   "execution_count": null,
   "metadata": {},
   "outputs": [
    {
     "data": {
      "text/plain": [
       "35"
      ]
     },
     "execution_count": 43,
     "metadata": {},
     "output_type": "execute_result"
    }
   ],
   "source": [
    "a = 5\n",
    "a*=7  # a = a * 7\n",
    "a         #try a-=7,  a*=7, a/=7"
   ]
  },
  {
   "cell_type": "code",
   "execution_count": null,
   "metadata": {},
   "outputs": [
    {
     "data": {
      "text/plain": [
       "78125"
      ]
     },
     "execution_count": 44,
     "metadata": {},
     "output_type": "execute_result"
    }
   ],
   "source": [
    "a = 5\n",
    "a**=7  # a = a ** 7\n",
    "a         #try a-=7,  a*=7, a/=7"
   ]
  },
  {
   "cell_type": "code",
   "execution_count": null,
   "metadata": {},
   "outputs": [
    {
     "data": {
      "text/plain": [
       "9"
      ]
     },
     "execution_count": 45,
     "metadata": {},
     "output_type": "execute_result"
    }
   ],
   "source": [
    "++9"
   ]
  },
  {
   "cell_type": "code",
   "execution_count": null,
   "metadata": {},
   "outputs": [
    {
     "data": {
      "text/plain": [
       "-9"
      ]
     },
     "execution_count": 46,
     "metadata": {},
     "output_type": "execute_result"
    }
   ],
   "source": [
    "-+9"
   ]
  },
  {
   "cell_type": "code",
   "execution_count": null,
   "metadata": {},
   "outputs": [
    {
     "ename": "SyntaxError",
     "evalue": "invalid syntax (3004349210.py, line 1)",
     "output_type": "error",
     "traceback": [
      "\u001b[1;36m  Cell \u001b[1;32mIn [47], line 1\u001b[1;36m\u001b[0m\n\u001b[1;33m    9++\u001b[0m\n\u001b[1;37m       ^\u001b[0m\n\u001b[1;31mSyntaxError\u001b[0m\u001b[1;31m:\u001b[0m invalid syntax\n"
     ]
    }
   ],
   "source": [
    "9++"
   ]
  },
  {
   "cell_type": "code",
   "execution_count": null,
   "metadata": {},
   "outputs": [],
   "source": [
    "# colab ch02\n",
    "print(f'{2**0.5:.8f}')  # 8.6f or .6f"
   ]
  },
  {
   "cell_type": "markdown",
   "metadata": {},
   "source": [
    "---"
   ]
  },
  {
   "cell_type": "markdown",
   "metadata": {
    "tags": []
   },
   "source": [
    "<div style=\"page-break-after: always\"></div>\n",
    "<h1>Module_03_Python 數值資料型態</h1>\n",
    "\n",
    "## 可變(mutable) 與不可變(immutable) 資料型態, `凡事皆物件`(Objects)\n",
    "|不可變Data Type             |可變Data Type|\n",
    "|---------------------------|-------------|\n",
    "|數字類型：int，float，complex|串列(List)   |\n",
    "|字串(String)                |字典(Dict)   |\n",
    "|元組(Tuple)                 |組(Set)      |\n",
    "|冷凍集(Frozen set)          |             |"
   ]
  },
  {
   "cell_type": "markdown",
   "metadata": {},
   "source": [
    "## 物件 (Object)：\n",
    "> * 物件用來描述一個物體、一件事、或一個人，物件內含：資訊, 可執行的操作，用來處理資訊\n",
    "> * 以物件的概念來解決問題，稱為「物件導向程式設計」(Object-oriented programming, OOP)\n",
    "> * 支援物件的程式語言稱為「物件導向程式語言」(Object-oriented programming language, OOPL)，Python 屬此類語言\n",
    "\n",
    ">### Object (物件) 三要件 : \n",
    ">> 1. `type` (int, float, str...), 物件的類型\n",
    ">> 2. `value` (1, 2.0, 'john'), 物件的值\n",
    ">> 3. `id` (記憶體位置), 內存地址空間"
   ]
  },
  {
   "cell_type": "markdown",
   "metadata": {},
   "source": [
    ">><img src=\"./img/memoryIndex01.png\"  style='width:70%'>\n",
    ">><img src=\"./img/memoryIndex02.jpg\"  style='width:70%'>\n",
    "\n",
    ">>### Python所有的「變數」都是物件的「參考」"
   ]
  },
  {
   "cell_type": "markdown",
   "metadata": {},
   "source": [
    "is是問它是不是住在一起  1 is 1.0 false      1==1.0 true\n",
    "                 "
   ]
  },
  {
   "cell_type": "code",
   "execution_count": null,
   "metadata": {},
   "outputs": [
    {
     "name": "stdout",
     "output_type": "stream",
     "text": [
      "type(a)\t= <class 'int'>\n",
      "type(b)\t= <class 'float'>\n",
      "False \n",
      "\n",
      "id(a)\t: 108767281584\n",
      "id(b)\t: 108917360240\n",
      "False \n",
      "\n",
      "a\t= 7\n",
      "b\t= 7.0\n",
      "True\n"
     ]
    }
   ],
   "source": [
    "a = 7; b = 7.\n",
    "# type\n",
    "print('type(a)\\t=', type(a))    #/t=空格     印出來就是type(a) =\n",
    "print('type(b)\\t=', type(b))\n",
    "print(type(a)==type(b),'\\n')\n",
    "\n",
    "# memory address\n",
    "print('id(a)\\t:', id(a))        # 記憶體位置 memory address\n",
    "print('id(b)\\t:', id(b))        # 記憶體位置 memory address\n",
    "print(id(a)==id(b),'\\n')\n",
    "\n",
    "# values\n",
    "print('a\\t=', a)\n",
    "print('b\\t=', b)\n",
    "print(a==b)"
   ]
  },
  {
   "cell_type": "markdown",
   "metadata": {},
   "source": [
    "## Python no Boolean.  It is `整數的子型態` (subtype of integers)\n",
    ">### True = 1, False = 0"
   ]
  },
  {
   "cell_type": "markdown",
   "metadata": {},
   "source": [
    "<!-- 非0就是true -->"
   ]
  },
  {
   "cell_type": "code",
   "execution_count": null,
   "metadata": {},
   "outputs": [
    {
     "data": {
      "text/plain": [
       "2"
      ]
     },
     "execution_count": 49,
     "metadata": {},
     "output_type": "execute_result"
    }
   ],
   "source": [
    "1 + True  "
   ]
  },
  {
   "cell_type": "code",
   "execution_count": null,
   "metadata": {},
   "outputs": [
    {
     "data": {
      "text/plain": [
       "1"
      ]
     },
     "execution_count": 50,
     "metadata": {},
     "output_type": "execute_result"
    }
   ],
   "source": [
    "1 + False"
   ]
  },
  {
   "cell_type": "code",
   "execution_count": null,
   "metadata": {},
   "outputs": [
    {
     "data": {
      "text/plain": [
       "6"
      ]
     },
     "execution_count": 51,
     "metadata": {},
     "output_type": "execute_result"
    }
   ],
   "source": [
    "True + True*5"
   ]
  },
  {
   "cell_type": "markdown",
   "metadata": {},
   "source": [
    "## 二進位, 八進位,  十六進位 bin, oct, hex\n",
    "> “0b” 或 “0B” 開頭代表二進制<br>\n",
    "> “0o” 或 “0O” 開頭代表八進制<br>\n",
    "> “0x” 或 “0X” 開頭代表十六進制"
   ]
  },
  {
   "cell_type": "code",
   "execution_count": null,
   "metadata": {},
   "outputs": [
    {
     "name": "stdout",
     "output_type": "stream",
     "text": [
      "0b10000\n",
      "16\n"
     ]
    }
   ],
   "source": [
    "print(bin(16))\n",
    "print(int(bin(16), 2)) # binary  2 mean 前面的物件是 2 進位"
   ]
  },
  {
   "cell_type": "code",
   "execution_count": null,
   "metadata": {},
   "outputs": [
    {
     "name": "stdout",
     "output_type": "stream",
     "text": [
      "0o20\n",
      "16\n"
     ]
    }
   ],
   "source": [
    "print(oct(16)) # octal\n",
    "print(int(oct(16), 8))"
   ]
  },
  {
   "cell_type": "code",
   "execution_count": null,
   "metadata": {},
   "outputs": [],
   "source": [
    "print(hex(16)) # hexadecimal\n",
    "print(int(hex(16),16)) # hexadecimal"
   ]
  },
  {
   "cell_type": "markdown",
   "metadata": {},
   "source": [
    "> <img src=\"./img/binary01.png\"  style='width:80%'>"
   ]
  },
  {
   "cell_type": "code",
   "execution_count": null,
   "metadata": {},
   "outputs": [],
   "source": [
    "a = 7;  b = a\n",
    "\n",
    "print('id(a)\\t:', id(a))\n",
    "print('id(b)\\t:', id(b), '\\n')\n",
    "\n",
    "b = 20\n",
    "print('id(b)\\t:', id(b))\n",
    "print(id(a) == id(b)) "
   ]
  },
  {
   "cell_type": "code",
   "execution_count": null,
   "metadata": {},
   "outputs": [],
   "source": [
    "str(10)+10  # error str + int,  java 可以這麼寫"
   ]
  },
  {
   "cell_type": "markdown",
   "metadata": {},
   "source": [
    "### 類型轉換, 做數值運算時內部會自動做資料轉型"
   ]
  },
  {
   "cell_type": "code",
   "execution_count": null,
   "metadata": {},
   "outputs": [
    {
     "name": "stdout",
     "output_type": "stream",
     "text": [
      "int(12.6)\t: 12\n",
      "str(12.6)\t: 12.6\n",
      "float(12)\t: 12.0\n",
      "complex(12)\t: (12+0j)\n",
      "complex(12,3)\t: (12+3j)\n"
     ]
    },
    {
     "data": {
      "text/plain": [
       "'12.6'"
      ]
     },
     "execution_count": 54,
     "metadata": {},
     "output_type": "execute_result"
    }
   ],
   "source": [
    "print('int(12.6)\\t:', int(12.6))\n",
    "print('str(12.6)\\t:', str(12.6))\n",
    "print('float(12)\\t:', float(12))\n",
    "print('complex(12)\\t:', complex(12))\n",
    "print('complex(12,3)\\t:', complex(12,3))\n",
    "str(12.6)"
   ]
  },
  {
   "cell_type": "markdown",
   "metadata": {},
   "source": [
    "---"
   ]
  },
  {
   "cell_type": "markdown",
   "metadata": {},
   "source": [
    "<div style=\"page-break-after: always\"></div>\n",
    "<h1>Module_04_Python 運算子</h1>"
   ]
  },
  {
   "cell_type": "markdown",
   "metadata": {},
   "source": [
    "## 比較運算子\n",
    "><img src=\"./img/comparison.jpg\"  style='width:80%'>"
   ]
  },
  {
   "cell_type": "code",
   "execution_count": null,
   "metadata": {},
   "outputs": [
    {
     "name": "stdout",
     "output_type": "stream",
     "text": [
      "x == 2\t: True\n",
      "x != 2\t: False\n",
      "x < 5\t: True\n",
      "x > 2\t: False\n",
      "x <= 2\t: True\n",
      "x >= 2\t: True\n"
     ]
    }
   ],
   "source": [
    "x = 2\n",
    "print('x == 2\\t:', x == 2)\n",
    "print('x != 2\\t:', x != 2)\n",
    "print('x < 5\\t:', x < 5)\n",
    "print('x > 2\\t:', x > 2)\n",
    "print('x <= 2\\t:', x <= 2)\n",
    "print('x >= 2\\t:', x >= 2)"
   ]
  },
  {
   "cell_type": "code",
   "execution_count": 2,
   "metadata": {},
   "outputs": [
    {
     "data": {
      "text/plain": [
       "2"
      ]
     },
     "execution_count": 2,
     "metadata": {},
     "output_type": "execute_result"
    }
   ],
   "source": [
    "a = 5; b = 7\n",
    "(a < b) * 2  # True * 2 = 1 * 2"
   ]
  },
  {
   "cell_type": "code",
   "execution_count": 17,
   "metadata": {},
   "outputs": [
    {
     "ename": "TypeError",
     "evalue": "'<' not supported between instances of 'int' and 'str'",
     "output_type": "error",
     "traceback": [
      "\u001b[1;31m---------------------------------------------------------------------------\u001b[0m",
      "\u001b[1;31mTypeError\u001b[0m                                 Traceback (most recent call last)",
      "Cell \u001b[1;32mIn [17], line 1\u001b[0m\n\u001b[1;32m----> 1\u001b[0m \u001b[39m10\u001b[39;49m\u001b[39m<\u001b[39;49m\u001b[39m'\u001b[39;49m\u001b[39m10\u001b[39;49m\u001b[39m'\u001b[39;49m\n",
      "\u001b[1;31mTypeError\u001b[0m: '<' not supported between instances of 'int' and 'str'"
     ]
    }
   ],
   "source": [
    "10<'10'"
   ]
  },
  {
   "cell_type": "code",
   "execution_count": 18,
   "metadata": {},
   "outputs": [
    {
     "name": "stdout",
     "output_type": "stream",
     "text": [
      "4 <= 6 > 7\t\t: False\n",
      "4 <= 6 and 6 > 7\t: False\n"
     ]
    },
    {
     "data": {
      "text/plain": [
       "False"
      ]
     },
     "execution_count": 18,
     "metadata": {},
     "output_type": "execute_result"
    }
   ],
   "source": [
    "print('4 <= 6 > 7\\t\\t:', 4 <= 6 > 7)\n",
    "print('4 <= 6 and 6 > 7\\t:', 4<= 6 and 6>7)  # 6 > 7 false\n",
    "5>6>3"
   ]
  },
  {
   "cell_type": "markdown",
   "metadata": {},
   "source": [
    "## 邏輯運算子\n",
    ">### 與㇐般程式語言類似：and, or, not 邏輯運算子(Logical operator)的對象是布林(Boolean)，所以又可以稱為「布林運算子」\n",
    ">### 真值表 (Truth Table)\n",
    "><img src=\"./img/truth_table.png\"  style='width:90%'>"
   ]
  },
  {
   "cell_type": "code",
   "execution_count": 19,
   "metadata": {},
   "outputs": [
    {
     "data": {
      "text/plain": [
       "False"
      ]
     },
     "execution_count": 19,
     "metadata": {},
     "output_type": "execute_result"
    }
   ],
   "source": [
    "not 3   #非0則true   "
   ]
  },
  {
   "cell_type": "code",
   "execution_count": 20,
   "metadata": {},
   "outputs": [
    {
     "data": {
      "text/plain": [
       "True"
      ]
     },
     "execution_count": 20,
     "metadata": {},
     "output_type": "execute_result"
    }
   ],
   "source": [
    "not 0"
   ]
  },
  {
   "cell_type": "code",
   "execution_count": 21,
   "metadata": {},
   "outputs": [
    {
     "data": {
      "text/plain": [
       "0"
      ]
     },
     "execution_count": 21,
     "metadata": {},
     "output_type": "execute_result"
    }
   ],
   "source": [
    "22%2"
   ]
  },
  {
   "cell_type": "code",
   "execution_count": 22,
   "metadata": {},
   "outputs": [
    {
     "name": "stdout",
     "output_type": "stream",
     "text": [
      "29.4 ns ± 0.352 ns per loop (mean ± std. dev. of 7 runs, 10,000,000 loops each)\n"
     ]
    }
   ],
   "source": [
    "%timeit 22%2==0  # slow"
   ]
  },
  {
   "cell_type": "code",
   "execution_count": 23,
   "metadata": {},
   "outputs": [
    {
     "name": "stdout",
     "output_type": "stream",
     "text": [
      "10.5 ns ± 0.0928 ns per loop (mean ± std. dev. of 7 runs, 100,000,000 loops each)\n"
     ]
    }
   ],
   "source": [
    "%timeit not 22%2  # fast"
   ]
  },
  {
   "cell_type": "code",
   "execution_count": 24,
   "metadata": {},
   "outputs": [
    {
     "name": "stdout",
     "output_type": "stream",
     "text": [
      "not x\t\t: False\n",
      "x and y\t\t: False\n",
      "x or y\t\t: True\n",
      "x ^ y\t\t: True\n"
     ]
    }
   ],
   "source": [
    "x = True; y = False  # or x = 1; y = 0\n",
    "print('not x\\t\\t:', not x)\n",
    "print('x and y\\t\\t:', x and y)\n",
    "print('x or y\\t\\t:', x or y)\n",
    "print('x ^ y\\t\\t:', x ^ y)"
   ]
  },
  {
   "cell_type": "code",
   "execution_count": 25,
   "metadata": {},
   "outputs": [
    {
     "name": "stdout",
     "output_type": "stream",
     "text": [
      "x and y\t: 6\n",
      "0 and y\t: 0\n",
      "1 and y\t: 6 \n",
      "\n",
      "x or y\t: 5\n",
      "1 or y\t: 1\n",
      "0 or y\t: 6 \n",
      "\n",
      "not x\t: False\n",
      "not y\t: False\n",
      "not 0\t: True\n",
      "not 3\t: False\n"
     ]
    }
   ],
   "source": [
    "x = 5 ; y = 6\n",
    "print('x and y\\t:', x and y)        # 若 x 為 Ture 就看 y 的值\n",
    "print('0 and y\\t:', 0 and y)        # 若 x 為 False 就 為 0\n",
    "print('1 and y\\t:', 1 and y, '\\n')  # if x == true then y \n",
    "\n",
    "print('x or y\\t:', x or y)         # if x == trun then x else y\n",
    "print('1 or y\\t:', 1 or y)\n",
    "print('0 or y\\t:', 0 or y, '\\n')\n",
    "\n",
    "print('not x\\t:', not x)\n",
    "print('not y\\t:', not y)\n",
    "print('not 0\\t:', not 0)\n",
    "print('not 3\\t:', not 3)"
   ]
  },
  {
   "cell_type": "code",
   "execution_count": 26,
   "metadata": {},
   "outputs": [
    {
     "name": "stdout",
     "output_type": "stream",
     "text": [
      "a == b\t\t: False\n",
      "a is b\t\t: False\n",
      "a is not b\t: True \n",
      "\n",
      "a is c\t\t: False\n",
      "b is c\t\t: True\n"
     ]
    }
   ],
   "source": [
    "a = 7; b = 8; c = 8\n",
    "print('a == b\\t\\t:', a == b)\n",
    "print('a is b\\t\\t:', a is b)   # memory address\n",
    "print('a is not b\\t:', a is not b, '\\n')  \n",
    "\n",
    "print('a is c\\t\\t:', a is c)\n",
    "print('b is c\\t\\t:', b is c)  #"
   ]
  },
  {
   "cell_type": "code",
   "execution_count": null,
   "metadata": {},
   "outputs": [],
   "source": [
    "x = 10\n",
    "print('id(x)\\t\\t:', id(x), '\\n')\n",
    "\n",
    "a = x; x = 20                # a = 10, x =20\n",
    "print('id(x)\\t\\t:', id(x))\n",
    "print('x is a\\t\\t:', x is a)\n",
    "print('id(x) == id(a)\\t:', id(x) == id(a), '\\n')\n",
    "\n",
    "y = 10                     # y =10\n",
    "print('a is y\\t\\t:', a is y)  # possible false"
   ]
  },
  {
   "cell_type": "markdown",
   "metadata": {
    "tags": []
   },
   "source": [
    "<div style=\"page-break-after: always\"></div>\n",
    "\n",
    "## 身份運算子\n",
    ">### is : 如果運算子兩邊的變數都指向同㇐個物件，則結果為真，否則結果為假\n",
    ">> ### x is y，如果 id(x) == id(y)，結果為 True\n",
    ">### is not : 如果運算子兩邊的變數都指向同㇐個物件，則結果為假，否則結果為真\n",
    ">> ### x is not y，如果 id(x) != id(y)，結果為 True"
   ]
  },
  {
   "cell_type": "code",
   "execution_count": null,
   "metadata": {},
   "outputs": [],
   "source": [
    "x = 300; y = 300  # try x = 300,  y = 300  99% False,  low possibility True\n",
    "\n",
    "print(x == y)  # == check value\n",
    "print(id(x))\n",
    "print(id(y), '\\n')\n",
    "\n",
    "print(x is y)       # 'is' check memory address\n",
    "print(x is not y)   # 'is' check memory address\n",
    "id(x) == id(y)"
   ]
  },
  {
   "cell_type": "code",
   "execution_count": 27,
   "metadata": {},
   "outputs": [
    {
     "data": {
      "text/plain": [
       "False"
      ]
     },
     "execution_count": 27,
     "metadata": {},
     "output_type": "execute_result"
    }
   ],
   "source": [
    "c = 300; d = 300\n",
    "c is d                   "
   ]
  },
  {
   "cell_type": "code",
   "execution_count": 28,
   "metadata": {},
   "outputs": [
    {
     "data": {
      "text/plain": [
       "True"
      ]
     },
     "execution_count": 28,
     "metadata": {},
     "output_type": "execute_result"
    }
   ],
   "source": [
    "c, d = 300, 300\n",
    "c is d"
   ]
  },
  {
   "cell_type": "code",
   "execution_count": 29,
   "metadata": {},
   "outputs": [
    {
     "data": {
      "text/plain": [
       "True"
      ]
     },
     "execution_count": 29,
     "metadata": {},
     "output_type": "execute_result"
    }
   ],
   "source": [
    "c = d = 300\n",
    "c is d"
   ]
  },
  {
   "cell_type": "markdown",
   "metadata": {},
   "source": [
    "## python 在整數 -5 ~ 256 之間，相同記憶體空間\n",
    "> https://docs.python.org/3/c-api/long.html"
   ]
  },
  {
   "cell_type": "code",
   "execution_count": 31,
   "metadata": {},
   "outputs": [
    {
     "name": "stdout",
     "output_type": "stream",
     "text": [
      "True\n",
      "46540202192\n",
      "46540202192 \n",
      "\n",
      "True\n"
     ]
    },
    {
     "data": {
      "text/plain": [
       "True"
      ]
     },
     "execution_count": 31,
     "metadata": {},
     "output_type": "execute_result"
    }
   ],
   "source": [
    "x = 256;  y = 256\n",
    "\n",
    "print(x == y)   # '==' check value\n",
    "print(id(x))\n",
    "print(id(y),'\\n')\n",
    "\n",
    "\n",
    "print(x is y)   # 'is' check memory address\n",
    "id(x) == id(y)"
   ]
  },
  {
   "cell_type": "markdown",
   "metadata": {},
   "source": [
    "## bitewise operation\n",
    ">### a=60, b=13\n",
    "><img src=\"./img/bitOpr.jpg\"  style='width:80%'><br>\n",
    ">### 位元左移採用 Left Logical Shift，補 0\n",
    ">### 位元右移採用 Right Arithmetic Shift"
   ]
  },
  {
   "cell_type": "markdown",
   "metadata": {},
   "source": [
    "<div style=\"page-break-after: always\"></div>\n",
    "\n",
    "><img src=\"./img/binary.png\"  style='width:75%'></img>\n",
    ">### 60 | 13 == ??  or\n",
    ">### 60 ^ 13 == ??  xor"
   ]
  },
  {
   "cell_type": "code",
   "execution_count": 32,
   "metadata": {},
   "outputs": [
    {
     "name": "stdout",
     "output_type": "stream",
     "text": [
      "12\n",
      "13\n"
     ]
    }
   ],
   "source": [
    "print(60 & 13)\n",
    "print(60 and 13)"
   ]
  },
  {
   "cell_type": "code",
   "execution_count": 33,
   "metadata": {},
   "outputs": [
    {
     "name": "stdout",
     "output_type": "stream",
     "text": [
      "binary of k\t= 00111100\n",
      "binary of 13\t= 00001101\n",
      "k<<2\t\t: 11110000\t, 十進位 : 240\n",
      "k>>2\t\t: 1111\t\t, 十進位 : 15\n",
      "k*(2**2)\t: 240\n",
      "k/(2**2)\t: 15.0 \n",
      "\n"
     ]
    }
   ],
   "source": [
    "k= 60; \n",
    "\n",
    "print(f'binary of k\\t= {k:08b}')  # b 二進位\n",
    "print(f'binary of 13\\t= {13:08b}')  # b 二進位\n",
    "\n",
    "print(f'k<<2\\t\\t: {k<<2:b}\\t, 十進位 : {k<<2}')  # 2 ** 2\n",
    "print(f'k>>2\\t\\t: {k>>2:b}\\t\\t, 十進位 : {k>>2}') # / 2 ** 2\n",
    "\n",
    "print(f'k*(2**2)\\t: {k*(2**2)}')\n",
    "print(f'k/(2**2)\\t: {k/(2**2)} \\n')"
   ]
  },
  {
   "cell_type": "code",
   "execution_count": 34,
   "metadata": {},
   "outputs": [
    {
     "name": "stdout",
     "output_type": "stream",
     "text": [
      "0b101 0o6 0x5\n",
      "x:b = 101\n",
      "y:b = 110\n",
      "x & y : 4\n"
     ]
    }
   ],
   "source": [
    "x = 5; y = 6\n",
    "print(bin(5), oct(y), hex(5))\n",
    "print(f'x:b = {x:b}\\ny:b = {y:b}')\n",
    "print('x & y :', x & y)"
   ]
  },
  {
   "cell_type": "markdown",
   "metadata": {},
   "source": [
    "<div style=\"page-break-after: always\"></div>\n",
    "\n",
    "## 運算子優先順序 :\n",
    "> https://www.programiz.com/python-programming/precedence-associativity\n",
    "><img src=\"./img/OpPriority.png\"  style='width:80%'>"
   ]
  },
  {
   "cell_type": "code",
   "execution_count": 35,
   "metadata": {},
   "outputs": [
    {
     "name": "stdout",
     "output_type": "stream",
     "text": [
      "a = 0,\tb = 9\n",
      "a>10|b<15\t\t\t: False\n",
      "a>10 and 10|b and b<15\t\t: False\n",
      "(a>10)|(b<15)\t\t\t: True \n",
      "\n"
     ]
    }
   ],
   "source": [
    "a, b = 0, 9\n",
    "print(f'a = {a},\\tb = {b}')\n",
    "print('a>10|b<15\\t\\t\\t:', a>10|b<15)           # False    1. 10|b = 11, a>11 = False, 11<15= True \n",
    "print('a>10 and 10|b and b<15\\t\\t:', a>10 and 10|b and b<15)  # False    0 and 11 and True\n",
    "print('(a>10)|(b<15)\\t\\t\\t:', (a>10)|(b<15) , '\\n')           # True     (0|1)"
   ]
  },
  {
   "cell_type": "code",
   "execution_count": 36,
   "metadata": {},
   "outputs": [
    {
     "name": "stdout",
     "output_type": "stream",
     "text": [
      "10|b\t\t\t\t: 11\n",
      "11==10|b\t\t\t: True\n",
      "11==10 and 10|b\t\t\t: False\n"
     ]
    }
   ],
   "source": [
    "print('10|b\\t\\t\\t\\t:', 10|b)                     # bitwise 1001 or 1010 等於 1011\n",
    "print('11==10|b\\t\\t\\t:', 11==10|b)               # True 先算 | 等於11, 再算 11 == 11, 11==(10|b)\n",
    "print('11==10 and 10|b\\t\\t\\t:', 11==10 and 10|b) # False  F and 11"
   ]
  },
  {
   "cell_type": "code",
   "execution_count": null,
   "metadata": {},
   "outputs": [],
   "source": [
    "# Xor\n",
    "a=0; b=1\n",
    "(a and not(b)) or (not(a) and b)"
   ]
  },
  {
   "cell_type": "markdown",
   "metadata": {},
   "source": [
    "### 比較運算子：>, >=, <, <=, ==, !=\n",
    "### 邏輯運算子：and, or, not\n",
    "### 身分運算子：is, is not\n",
    "### 位元運算子：&, |, ^, ~, <<"
   ]
  },
  {
   "cell_type": "markdown",
   "metadata": {},
   "source": [
    "---"
   ]
  },
  {
   "cell_type": "markdown",
   "metadata": {},
   "source": [
    "<div style=\"page-break-after: always\"></div>\n",
    "<h1>Module_05_Python 文字資料型態與成員運算子</h1>\n",
    "\n",
    ">### Python的字串(String)是不可改變的(immutable)，文字資料型態變數對應的記憶體內容具有先後順序。"
   ]
  },
  {
   "cell_type": "markdown",
   "metadata": {},
   "source": [
    ">## index 索引從 0 算起, 最後一位為 -1"
   ]
  },
  {
   "cell_type": "markdown",
   "metadata": {},
   "source": [
    "><img src=\"./img/strIndex01.png\"  style='width:80%; height:auto'>"
   ]
  },
  {
   "cell_type": "markdown",
   "metadata": {},
   "source": [
    "## 切片 (slice) 格式為 `[起點 : 終點 : 間隔]` 不含終點"
   ]
  },
  {
   "cell_type": "code",
   "execution_count": 37,
   "metadata": {},
   "outputs": [
    {
     "name": "stdout",
     "output_type": "stream",
     "text": [
      "var1[0]\t\t: H\n",
      "var1[-1]\t: d \n",
      "\n",
      "var1[:6]\t: Hello \n",
      "var1[1:5]\t: ello\n",
      "var1[3:-2]\t: lo Wor\n",
      "var1[3:-2:2]\t: l o\n",
      "var1[::2]\t: HloWrd \n",
      "\n",
      "var1[::-1]\t: dlroW olleH \n",
      "\n",
      "var1[5:8:-1]\t:  \n",
      "\n"
     ]
    },
    {
     "data": {
      "text/plain": [
       "'Hello Hello Hello Hello Hello Hello Python'"
      ]
     },
     "execution_count": 37,
     "metadata": {},
     "output_type": "execute_result"
    }
   ],
   "source": [
    "var1 = 'Hello World'\n",
    "\n",
    "print('var1[0]\\t\\t:', var1[0])\n",
    "print('var1[-1]\\t:', var1[-1], '\\n')\n",
    "\n",
    "print('var1[:6]\\t:', var1[:6])  # inc. space index[5]\n",
    "print('var1[1:5]\\t:', var1[1:5])\n",
    "print('var1[3:-2]\\t:', var1[3:-2])\n",
    "print('var1[3:-2:2]\\t:', var1[3:-2:2])\n",
    "print('var1[::2]\\t:', var1[::2],'\\n')\n",
    "print('var1[::-1]\\t:', var1[::-1],'\\n')\n",
    "print('var1[5:8:-1]\\t:', var1[5:8:-1],'\\n')    #這個不行 先反過來再切\n",
    "\n",
    "var2 = var1[:6]*6+ 'Python'\n",
    "var2"
   ]
  },
  {
   "cell_type": "markdown",
   "metadata": {},
   "source": [
    "## str 不可改變 (immutable)"
   ]
  },
  {
   "cell_type": "code",
   "execution_count": 39,
   "metadata": {},
   "outputs": [
    {
     "ename": "TypeError",
     "evalue": "'str' object does not support item assignment",
     "output_type": "error",
     "traceback": [
      "\u001b[1;31m---------------------------------------------------------------------------\u001b[0m",
      "\u001b[1;31mTypeError\u001b[0m                                 Traceback (most recent call last)",
      "Cell \u001b[1;32mIn [39], line 1\u001b[0m\n\u001b[1;32m----> 1\u001b[0m var1[\u001b[39m4\u001b[39;49m]\u001b[39m=\u001b[39m\u001b[39m'\u001b[39m\u001b[39mW\u001b[39m\u001b[39m'\u001b[39m\n",
      "\u001b[1;31mTypeError\u001b[0m: 'str' object does not support item assignment"
     ]
    }
   ],
   "source": [
    "var1[4]='W'  # error"
   ]
  },
  {
   "cell_type": "markdown",
   "metadata": {},
   "source": [
    "## 跳脫字元 Escape : \\t, \\n ....\n",
    "><img src=\"./img/escape.png\"  style='width:70%'></img>\n",
    "\n",
    "> ### \\n：換行\n",
    "> ### \\t：Tab鍵\n",
    "> ### 互動式介面中，並不會真正執行跳脫字元，要使用print函數才能解釋跳脫字元"
   ]
  },
  {
   "cell_type": "markdown",
   "metadata": {},
   "source": [
    "## 函數 replace"
   ]
  },
  {
   "cell_type": "code",
   "execution_count": 38,
   "metadata": {},
   "outputs": [
    {
     "name": "stdout",
     "output_type": "stream",
     "text": [
      "a\t= this is a string\n",
      "a[10]\t: s\n"
     ]
    },
    {
     "data": {
      "text/plain": [
       "'this is a longer string'"
      ]
     },
     "execution_count": 38,
     "metadata": {},
     "output_type": "execute_result"
    }
   ],
   "source": [
    "a = 'this is a string'                                    \n",
    "print('a\\t=', a)\n",
    "print('a[10]\\t:', a[10])\n",
    "# a[10] = 'f'\n",
    "b = a.replace('string', 'longer string')\n",
    "b"
   ]
  },
  {
   "cell_type": "code",
   "execution_count": 40,
   "metadata": {},
   "outputs": [
    {
     "name": "stdout",
     "output_type": "stream",
     "text": [
      "This is a long string\t that contains several lines and\n",
      " some non-printable \\character\n"
     ]
    }
   ],
   "source": [
    "#\\n  \\t   \\\\\n",
    "print('This is a long string\\t that contains several lines and\\n some non-printable \\\\character')"
   ]
  },
  {
   "cell_type": "code",
   "execution_count": 41,
   "metadata": {},
   "outputs": [
    {
     "name": "stdout",
     "output_type": "stream",
     "text": [
      "c:/test/app\n",
      "c:\\test\\app\n",
      "c:\test/app\n"
     ]
    }
   ],
   "source": [
    "print('c:/test/app')\n",
    "print('c:\\\\test\\\\app')\n",
    "print('c:\\test/app')"
   ]
  },
  {
   "cell_type": "code",
   "execution_count": 42,
   "metadata": {},
   "outputs": [
    {
     "data": {
      "text/plain": [
       "'This is a long string that contains several lines and some non-printable characters, such as TAB(\\t) or NEWLINE(\\n). For triple-quoted strings, always use double quote characters to be consistent with the docstring convention in PEP 257.'"
      ]
     },
     "execution_count": 42,
     "metadata": {},
     "output_type": "execute_result"
    }
   ],
   "source": [
    "text_para = 'This is a long string that contains \\\n",
    "several lines and some non-printable characters, \\\n",
    "such as TAB(\\t) or NEWLINE(\\n). For triple-quoted strings, \\\n",
    "always use double quote characters to be consistent \\\n",
    "with the docstring convention in PEP 257.'\n",
    "\n",
    "text_para   # error. no \\ or '''      '''  不解譯跳脫字元 "
   ]
  },
  {
   "cell_type": "code",
   "execution_count": 43,
   "metadata": {},
   "outputs": [
    {
     "name": "stdout",
     "output_type": "stream",
     "text": [
      "This is a long string that contains\n",
      "several lines and some non-printable characters,\n",
      "such as TAB(\t) or NEWLINE(\n",
      "). For triple-quoted strings,\n",
      "always use double quote characters to be consistent\n",
      "with the docstring convention in PEP 257. This is a long string. \n",
      "\n",
      "len(text_par) :  258 \n",
      "\n",
      "text_para.count('a')  : 14\n",
      "text_para.count('is') : 5\n",
      "text_para.find('is')  : 2\n",
      "text_para.rfind('is') : 241\n"
     ]
    }
   ],
   "source": [
    "text_para = '''This is a long string that contains\n",
    "several lines and some non-printable characters,\n",
    "such as TAB(\\t) or NEWLINE(\\n). For triple-quoted strings,\n",
    "always use double quote characters to be consistent\n",
    "with the docstring convention in PEP 257. This is a long string.'''\n",
    " \n",
    "print(text_para, '\\n\\nlen(text_par) : ', len(text_para), '\\n')\n",
    "\n",
    "# string count\n",
    "print(\"text_para.count('a')  :\", text_para.count('a'))    # total count\n",
    "print(\"text_para.count('is') :\", text_para.count('is'))   # total count\n",
    "print(\"text_para.find('is')  :\", text_para.find('is'))    # first position\n",
    "print(\"text_para.rfind('is') :\", text_para.rfind('is'))   # last position\n",
    "# practice"
   ]
  },
  {
   "cell_type": "code",
   "execution_count": 47,
   "metadata": {},
   "outputs": [
    {
     "data": {
      "text/plain": [
       "Counter({'This': 2,\n",
       "         'is': 2,\n",
       "         'a': 2,\n",
       "         'long': 2,\n",
       "         'string': 1,\n",
       "         'that': 1,\n",
       "         'contains': 1,\n",
       "         'several': 1,\n",
       "         'lines': 1,\n",
       "         'and': 1,\n",
       "         'some': 1,\n",
       "         'non-printable': 1,\n",
       "         'characters,': 1,\n",
       "         'such': 1,\n",
       "         'as': 1,\n",
       "         'TAB(': 1,\n",
       "         ')': 1,\n",
       "         'or': 1,\n",
       "         'NEWLINE(': 1,\n",
       "         ').': 1,\n",
       "         'For': 1,\n",
       "         'triple-quoted': 1,\n",
       "         'strings,': 1,\n",
       "         'always': 1,\n",
       "         'use': 1,\n",
       "         'double': 1,\n",
       "         'quote': 1,\n",
       "         'characters': 1,\n",
       "         'to': 1,\n",
       "         'be': 1,\n",
       "         'consistent': 1,\n",
       "         'with': 1,\n",
       "         'the': 1,\n",
       "         'docstring': 1,\n",
       "         'convention': 1,\n",
       "         'in': 1,\n",
       "         'PEP': 1,\n",
       "         '257.': 1,\n",
       "         'string.': 1})"
      ]
     },
     "execution_count": 47,
     "metadata": {},
     "output_type": "execute_result"
    }
   ],
   "source": [
    "from collections import Counter\n",
    "Counter(text_para.split())\n",
    "\n",
    "# print(text_para.split()) #split()=用空白分開"
   ]
  },
  {
   "cell_type": "markdown",
   "metadata": {},
   "source": [
    "## 成員運算子 membership\n",
    "|運算子 |說明 |舉例|\n",
    "|---|-|-|\n",
    "|in |如果某資料出現在㇐組資料內, 結果為真，否則結果為假| x in y，結果為 True|\n",
    "|not in |如果某資料沒有出現在㇐組資料內，結果為真，否則結果為假| x not in y，結果為 False|"
   ]
  },
  {
   "cell_type": "code",
   "execution_count": 48,
   "metadata": {},
   "outputs": [
    {
     "name": "stdout",
     "output_type": "stream",
     "text": [
      "True\n",
      "False\n"
     ]
    }
   ],
   "source": [
    "x = 3; y = [1, 2, 3, 4, 5]\n",
    "\n",
    "print(x in y)\n",
    "print(x not in y)"
   ]
  },
  {
   "cell_type": "code",
   "execution_count": 50,
   "metadata": {},
   "outputs": [
    {
     "data": {
      "text/plain": [
       "False"
      ]
     },
     "execution_count": 50,
     "metadata": {},
     "output_type": "execute_result"
    }
   ],
   "source": [
    "a = 'Hello World';   b = 'Hello  '#這有兩個空格\n",
    "b in a"
   ]
  },
  {
   "cell_type": "markdown",
   "metadata": {},
   "source": [
    "## ’　’　單引號, ＂＂　雙引號互用"
   ]
  },
  {
   "cell_type": "code",
   "execution_count": 53,
   "metadata": {},
   "outputs": [
    {
     "name": "stdout",
     "output_type": "stream",
     "text": [
      "a = Hello\tb = Python\n",
      "a+b\t\t: HelloPython\n",
      "a*8\t\t: HelloHelloHelloHelloHelloHelloHelloHello\n",
      "'H' in a\t: True\n",
      "'m' not in a\t: True\n",
      "len(a)\t\t: 5\n"
     ]
    }
   ],
   "source": [
    "a = 'Hello';   b = 'Python'\n",
    "\n",
    "print(f'a = {a}\\tb = {b}')\n",
    "\n",
    "print('a+b\\t\\t:', a+b)\n",
    "print('a*8\\t\\t:', a*8)\n",
    "print(\"'H' in a\\t:\", 'H' in a)\n",
    "print(\"'m' not in a\\t:\", 'm' not in a) \n",
    "print('len(a)\\t\\t:', len(a))"
   ]
  },
  {
   "cell_type": "markdown",
   "metadata": {},
   "source": [
    "## \\r or \\R"
   ]
  },
  {
   "cell_type": "code",
   "execution_count": 54,
   "metadata": {},
   "outputs": [
    {
     "name": "stdout",
     "output_type": "stream",
     "text": [
      "This is a long string\t that contains several lines and\n",
      " some non-printable \\character \n",
      "\n",
      "This is a long string\\t that contains several lines and\\n some non-printable \\\\character\n"
     ]
    }
   ],
   "source": [
    "print('This is a long string\\t that contains several lines and\\n some non-printable \\\\character', '\\n')\n",
    "print(r'This is a long string\\t that contains several lines and\\n some non-printable \\\\character')"
   ]
  },
  {
   "cell_type": "markdown",
   "metadata": {},
   "source": [
    "## string operation\n",
    "> ### a=Hello, b=Python\n",
    "><img src=\"./img/textOpr.png\"  style='width:95%'></img>"
   ]
  },
  {
   "cell_type": "code",
   "execution_count": 56,
   "metadata": {},
   "outputs": [
    {
     "name": "stdout",
     "output_type": "stream",
     "text": [
      "l\t\t\t: the Zen of Python\n",
      "upper\t\t\t: THE ZEN OF PYTHON\n",
      "lower\t\t\t: the zen of python\n",
      "capitalize\t\t: The zen of python\n",
      "title\t\t\t: The Zen Of Python\n",
      "swapcase\t\t: THE zEN OF pYTHON\n",
      "\n",
      "endswith(\"on\")\t\t: True\n",
      "startswith(\"the\")\t: True\n"
     ]
    }
   ],
   "source": [
    "l = 'the Zen of Python'\n",
    "print(f'l\\t\\t\\t: {l}')\n",
    "print(f'upper\\t\\t\\t: {l.upper()}')\n",
    "print(f'lower\\t\\t\\t: {l.lower()}')\n",
    "print(f'capitalize\\t\\t: {l.capitalize()}')\n",
    "print(f'title\\t\\t\\t: {l.title()}')\n",
    "print(f'swapcase\\t\\t: {l.swapcase()}\\n')  # upper -> lower,  lower -> upper\n",
    "\n",
    "print(f'endswith(\"on\")\\t\\t: {l.endswith(\"on\")}')        #True\n",
    "print(f'startswith(\"the\")\\t: {l.startswith(\"the\")}')    #True"
   ]
  },
  {
   "cell_type": "code",
   "execution_count": 57,
   "metadata": {},
   "outputs": [
    {
     "name": "stdout",
     "output_type": "stream",
     "text": [
      "a.isalpha()\t: False\n",
      "a.isspace()\t: False \n",
      "\n",
      "a.isupper()\t: False\n",
      "a.islower()\t: True \n",
      "\n",
      "a.isdigit()\t: False\n",
      "a isinstance()\t: True\n",
      "a.isalnum()\t: True\n"
     ]
    }
   ],
   "source": [
    "a = 'hello123'\n",
    "\n",
    "print('a.isalpha()\\t:', a.isalpha())\n",
    "print('a.isspace()\\t:', a.isspace(), '\\n')  # all space ?\n",
    "\n",
    "print('a.isupper()\\t:', a.isupper())\n",
    "print('a.islower()\\t:', a.islower(), '\\n')\n",
    "\n",
    "print('a.isdigit()\\t:', a.isdigit())\n",
    "print('a isinstance()\\t:', isinstance(a, (int, float, str)))\n",
    "print('a.isalnum()\\t:', a.isalnum())   # 是否都由 0-9a-zA-Z 字符組成"
   ]
  },
  {
   "cell_type": "markdown",
   "metadata": {},
   "source": [
    "## 函數 strip"
   ]
  },
  {
   "cell_type": "code",
   "execution_count": 58,
   "metadata": {},
   "outputs": [
    {
     "name": "stdout",
     "output_type": "stream",
     "text": [
      "  #### this is a book ####\n",
      "#### this is a book ####   \n",
      "#### this is a book #### \n",
      "\n",
      " this is a book \n",
      "this is a book\n"
     ]
    }
   ],
   "source": [
    "word = '  #### this is a book ####   '\n",
    "print(word.rstrip())   #消右邊空白r=right  \n",
    "print(word.lstrip())   #消左邊空白l=left\n",
    "print(word.strip(), '\\n')\n",
    "\n",
    "word = '#### this is a book ####'\n",
    "print(word.strip('#'))\n",
    "print(word.strip('#').strip())"
   ]
  },
  {
   "cell_type": "markdown",
   "metadata": {},
   "source": [
    "## str -> list"
   ]
  },
  {
   "cell_type": "code",
   "execution_count": 59,
   "metadata": {},
   "outputs": [
    {
     "name": "stdout",
     "output_type": "stream",
     "text": [
      "split()\t\t: ['20190908.162050.txt']\n",
      "split('.')\t: ['20190908', '162050', 'txt']\n",
      "split('.', 1)\t: ['20190908', '162050.txt']\n",
      "rsplit('.', 1)\t: ['20190908.162050', 'txt']\n",
      "split('.')[-1]\t: txt\n"
     ]
    }
   ],
   "source": [
    "data = '20190908.162050.txt'\n",
    "print('split()\\t\\t:', data.split())\n",
    "print(\"split('.')\\t:\", data.split('.')) # how about : or o....else\n",
    "print(\"split('.', 1)\\t:\",data.split('.', 1)) # one time split\n",
    "print(\"rsplit('.', 1)\\t:\",data.rsplit('.', 1)) # one time split\n",
    "print(\"split('.')[-1]\\t:\",data.split('.')[-1])"
   ]
  },
  {
   "cell_type": "markdown",
   "metadata": {},
   "source": [
    "## list -> str"
   ]
  },
  {
   "cell_type": "code",
   "execution_count": 60,
   "metadata": {},
   "outputs": [
    {
     "data": {
      "text/plain": [
       "'20190908.162050.txt'"
      ]
     },
     "execution_count": 60,
     "metadata": {},
     "output_type": "execute_result"
    }
   ],
   "source": [
    "data = ['20190908', '162050', 'txt']\n",
    "'.'.join(data)"
   ]
  },
  {
   "cell_type": "markdown",
   "metadata": {},
   "source": [
    "---\n",
    "<center><h1>--- The End ---</h1></center>"
   ]
  }
 ],
 "metadata": {
  "kernelspec": {
   "display_name": "Python 3.10.7 64-bit",
   "language": "python",
   "name": "python3"
  },
  "language_info": {
   "codemirror_mode": {
    "name": "ipython",
    "version": 3
   },
   "file_extension": ".py",
   "mimetype": "text/x-python",
   "name": "python",
   "nbconvert_exporter": "python",
   "pygments_lexer": "ipython3",
   "version": "3.10.7"
  },
  "vscode": {
   "interpreter": {
    "hash": "c08f6b10d77fad09d09d755fdaa91e1358750def25b824cba47d64ca203d65a5"
   }
  }
 },
 "nbformat": 4,
 "nbformat_minor": 4
}
