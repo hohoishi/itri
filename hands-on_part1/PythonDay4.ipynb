{
 "cells": [
  {
   "cell_type": "markdown",
   "metadata": {},
   "source": [
    "<div style=\"page-break-after: always\"></div>\n",
    "\n",
    "# Module_16_模組(Module)設計與使用\n",
    "> 模組 (Module) 就是`一個檔案`，包含了相關性較高的程式碼。隨著應用程式的開發規模越來越大，我們不可能把所有的程式碼都寫在同一份 Python 檔案中，一定會將關聯性較高的程式碼抽出來放在不同的檔案中來形成模組 (Module)，主程式再透過引用的方式來使用。所以模組 (Module) 可以提高程式碼的重用性 (Reusable) 且易於維護。\n",
    ">### class (類別) 跟 def 是組成模組功能的最基本架構\n",
    "\n",
    ">><img src=\"./img/class.png\"  style='width:80%'>\n",
    "> * 模組(Modules) 可以組織 Python 程式碼，將相關程式碼集合在㇐個模組可以讓程式更容易了解與使用, \n",
    "> * 模組視為㇐個 Python 物件，可以給模組㇐個名稱，讓程式來使用該模組的內容,\n",
    "> * 簡言之，模組是㇐個檔案，內含 Python 程式碼。模組可以定義函數(Functions)、類別(Classes) 以及變數，也可以包含執行碼(Runnable codes)\n",
    "\n",
    "\n",
    "##  類別 (Class)\n",
    "> ### 每個物件都是某個類別 (Class) 所產生的一個實例 (Instance)\n",
    "> ### 類別裡可包含`屬性` (Attribute) 及`方法` (Method)\n",
    "> * `屬性`：儲存物件的資訊，也就是`變數`\n",
    "> * `方法`：操作物件的資訊，也就是`函式`<br>\n",
    "\n",
    "> #### __init__ 名稱是固定，不可以更改為其他名稱"
   ]
  },
  {
   "cell_type": "code",
   "execution_count": null,
   "metadata": {},
   "outputs": [],
   "source": [
    "# Python 完整程式 class 類別結構\n",
    "\n",
    "# import numpy\n",
    "# import pandas\n",
    "\n",
    "class abc :\n",
    "    ''' Beautiful is better than ugly.      優美勝於醜陋（Python 以編寫優美的代碼為目標）\n",
    "        Explicit is better than implicit.   明瞭勝於晦澀（優美的代碼應當是明瞭的，命名規範，風格相似)\n",
    "        Simple is better than complex.      簡潔勝於複雜（優美的代碼應當是簡潔的，不要有複雜的內部實現)\n",
    "        Complex is better than complicated. 複雜勝於淩亂（如果複雜不可避免，那代碼間也不能有難懂的關係，要保持介面簡潔）\n",
    "        Flat is better than nested.         扁平勝於嵌套（優美的代碼應當是扁平的，不能有太多的嵌套)\n",
    "        Sparse is better than dense.        間隔勝於緊湊（優美的代碼有適當的間隔，不要奢望一行代碼解決問題）\n",
    "        Readability counts                  可讀性很重要（優美的代碼是可讀的）\n",
    "        .....\n",
    "    '''\n",
    "    def __init__(self):\n",
    "        pass\n",
    "    def func(x):\n",
    "        ''' hello python '''\n",
    "        print('x = ', x)\n",
    "        return  \n",
    "\n",
    "    def func1():\n",
    "        '''python world'''\n",
    "        print('python world')\n",
    "    \n",
    "# ---------- main program -----------------    \n",
    "if __name__ == '__main__' :         # 供外部呼叫時使用\n",
    "    for x in range(5):    # x = 1 ~ 5 one by one\n",
    "        if x == 1:        # comments\n",
    "            abc.func(x)\n",
    "            abc.func1()"
   ]
  },
  {
   "cell_type": "code",
   "execution_count": 1,
   "metadata": {},
   "outputs": [
    {
     "name": "stdout",
     "output_type": "stream",
     "text": [
      "John \n",
      "\n",
      "18 \n",
      "\n",
      "talk self.name :  John\n",
      "Good !! \n",
      "\n",
      "say self.age   :  18\n",
      "Enjoy !!\n"
     ]
    },
    {
     "data": {
      "text/plain": [
       "('1234', '0900-012345')"
      ]
     },
     "execution_count": 1,
     "metadata": {},
     "output_type": "execute_result"
    }
   ],
   "source": [
    "class jojo:\n",
    "    def __init__(self, name, age):\n",
    "        self.age = age\n",
    "        self.name = name\n",
    "        self.visa = '1234'\n",
    "        \n",
    "    def talk(self):\n",
    "        self.phone = '0900-012345'\n",
    "        print('talk self.name : ', self.name)\n",
    "        return 'Good !!'\n",
    "    \n",
    "    def say(self):\n",
    "        print('say self.age   : ', self.age)\n",
    "        return 'Enjoy !!'\n",
    "    \n",
    "John = jojo(name='John', age=27) # 宣告成新物件\n",
    "Mary = jojo(name='Mary', age=18) # 宣告成新物件\n",
    "\n",
    "print(John.name, '\\n')  # John -> self\n",
    "print(Mary.age, '\\n')\n",
    "print(John.talk(), '\\n')\n",
    "print(Mary.say())\n",
    "Mary.visa, John.phone"
   ]
  },
  {
   "cell_type": "markdown",
   "metadata": {},
   "source": [
    "### Check 'Mary' 屬性 :Ｍary.[press Tab>]"
   ]
  },
  {
   "cell_type": "code",
   "execution_count": 2,
   "metadata": {},
   "outputs": [
    {
     "ename": "SyntaxError",
     "evalue": "invalid syntax (52421829.py, line 1)",
     "output_type": "error",
     "traceback": [
      "\u001b[1;36m  Cell \u001b[1;32mIn [2], line 1\u001b[1;36m\u001b[0m\n\u001b[1;33m    Mary.  # Tab 鍵\u001b[0m\n\u001b[1;37m           ^\u001b[0m\n\u001b[1;31mSyntaxError\u001b[0m\u001b[1;31m:\u001b[0m invalid syntax\n"
     ]
    }
   ],
   "source": [
    "Mary. # Tab 鍵"
   ]
  },
  {
   "cell_type": "markdown",
   "metadata": {},
   "source": [
    "## 實例 import support.py\n",
    "> * Python 程式可以匯入另㇐支 Python 程式、匯入 Python 標準程式庫模組、或是匯入其他 Python 套件提供的模組\n",
    "> * 當 Python 直譯器遇到 import 敘述時，它會依 Python 模組搜尋路徑找到模組，然後匯入, 可以使用 “as” 關鍵字來簡化匯入的模組名稱\n",
    "> * 每個模組只會匯入㇐次，不管它在程式內被 import 了幾次。如此可以避免不必要的錯誤發生"
   ]
  },
  {
   "cell_type": "code",
   "execution_count": null,
   "metadata": {},
   "outputs": [],
   "source": [
    "# 先開啟 module/ex16_support.py\n",
    "# -------- 隊友程式 ------------------\n",
    "#   \n",
    "import sys\n",
    "sys.path.insert(1, './module')\n",
    "\n",
    "import ex16_support as sp\n",
    "# call defined function \n",
    "sp.abc.print_func('Rose')\n",
    "\n",
    "print('自己的程式執行看到的 __name__ 是 : ', __name__)"
   ]
  },
  {
   "cell_type": "markdown",
   "metadata": {},
   "source": [
    "#### 在 import 之後可以使用 * 來引用模組中的所有物件，但是這樣的寫法，可能會在引用的過程中，發生同名方法覆寫 (Method Overriding) 的風險，所以建議引用所需要的物件即可。\n",
    "\n",
    "#### Python 提供了一個內建函式 dir()，用來顯示物件 (Object) 的`屬性(Attribute`)及`方法(Method)`"
   ]
  },
  {
   "cell_type": "code",
   "execution_count": 2,
   "metadata": {},
   "outputs": [
    {
     "data": {
      "text/plain": [
       "-0.9880316240928618"
      ]
     },
     "execution_count": 2,
     "metadata": {},
     "output_type": "execute_result"
    }
   ],
   "source": [
    "import math\n",
    "dir(math), \n",
    "math.sin(30)  # 列出所有的函數, "
   ]
  },
  {
   "cell_type": "markdown",
   "metadata": {},
   "source": [
    "### 可以使用“as” 關鍵字來簡化匯入的模組名稱\n",
    ">### import xxxxxx as xx"
   ]
  },
  {
   "cell_type": "code",
   "execution_count": 4,
   "metadata": {},
   "outputs": [
    {
     "data": {
      "text/plain": [
       "0.9092974268256817"
      ]
     },
     "execution_count": 4,
     "metadata": {},
     "output_type": "execute_result"
    }
   ],
   "source": [
    "import math as mt\n",
    "mt.sin(2)"
   ]
  },
  {
   "cell_type": "code",
   "execution_count": null,
   "metadata": {},
   "outputs": [],
   "source": [
    "import math as mt\n",
    "mt.sin(2), mt.cos(30)"
   ]
  },
  {
   "cell_type": "markdown",
   "metadata": {},
   "source": [
    "## from math import cos"
   ]
  },
  {
   "cell_type": "code",
   "execution_count": 6,
   "metadata": {},
   "outputs": [
    {
     "data": {
      "text/plain": [
       "(-0.9999999999730151, 0.0015926529164868282)"
      ]
     },
     "execution_count": 6,
     "metadata": {},
     "output_type": "execute_result"
    }
   ],
   "source": [
    "from math import cos,sin  # 只匯入你會用到的那一個, 避免全部匯入, 變數同名相衝突\n",
    "cos(3.1416), sin(3.14)    # try sin(3.1416)"
   ]
  },
  {
   "cell_type": "markdown",
   "metadata": {},
   "source": [
    "---"
   ]
  },
  {
   "cell_type": "markdown",
   "metadata": {},
   "source": [
    "<div style=\"page-break-after: always\"></div>\n",
    "\n",
    "# Module_17_異常處理\n",
    "> 異常是一個事件，該事件會在程序執行過程中發生，影響了程序的正常執行。\n",
    "> 即使語法是正確的，但是在執行時仍可能會引發錯誤。這種在執行時期會發生的錯誤稱為異常。\n",
    "\n",
    "> try 敘述可以有㇐或多個 except 子句，來處理不同情況的異常 (exceptions) , try 配對的多個 except 區塊只能有㇐個 except 子句執行, except 子句有先後順序，以第㇐個符合的來處理, ㇐個 except 子句可以處理多個類型的異常，使用 tuple 方式表達\n",
    "\n",
    "> ### try/except 子句格式\n",
    "\n",
    "|子句                       | 說明                             |\n",
    "|---------------------------|---------------------------------|\n",
    "|except:                    | 攔截所有異常類型                  |\n",
    "|except name:               | 只攔截特定異常                    |\n",
    "|except name as e:          | 攔截特定異常，配合錯誤物件         |\n",
    "|except (name1, name2):     | 攔截多個異常                      |\n",
    "|except (name1, name2) as e:| 攔截多個異常，配合錯誤物件         |\n",
    "|else:                      | 沒有異常發生時執行                |\n",
    "|finally:                   | 不管有沒有發生異常，總是會執行的區塊|\n",
    "\n",
    ">「except name as e:」抓`原始`的錯誤訊息，給物件名稱「e」，顯示錯誤訊息\n",
    "\n",
    "<div style=\"page-break-after: always\"></div>\n",
    "\n",
    ">><img src=\"./img/except.png\"  style='width:90%'>\n",
    "\n",
    ">### `try → except → finally`\n",
    ">### `try → else → finally`"
   ]
  },
  {
   "cell_type": "code",
   "execution_count": 3,
   "metadata": {},
   "outputs": [
    {
     "name": "stdout",
     "output_type": "stream",
     "text": [
      "value is 123\n"
     ]
    }
   ],
   "source": [
    "# 如果不處理    \n",
    "num = eval(input('Enter a number: '))\n",
    "print('value is', num)\n"
   ]
  },
  {
   "cell_type": "code",
   "execution_count": 6,
   "metadata": {},
   "outputs": [
    {
     "name": "stdout",
     "output_type": "stream",
     "text": [
      "Error:  name '估督' is not defined\n",
      "eeeee\n"
     ]
    }
   ],
   "source": [
    "# exception\n",
    "try:\n",
    "    num = eval(input('Enter a number: '))\n",
    "    print('value is', num)    \n",
    "except NameError as e:\n",
    "    print('Error: ', e)\n",
    "print('eeeee')      #程式沒有斷\n"
   ]
  },
  {
   "cell_type": "markdown",
   "metadata": {},
   "source": []
  },
  {
   "cell_type": "markdown",
   "metadata": {},
   "source": [
    "### Python 標準異常\n",
    "https://codertw.com/%E7%A8%8B%E5%BC%8F%E8%AA%9E%E8%A8%80/373004/"
   ]
  },
  {
   "cell_type": "code",
   "execution_count": 3,
   "metadata": {},
   "outputs": [
    {
     "name": "stdout",
     "output_type": "stream",
     "text": [
      "r = 0.75\n",
      "Else: No error !\n",
      "finally\n"
     ]
    }
   ],
   "source": [
    "# exception\n",
    "try:\n",
    "    n1,n2 = eval(input('Input two integers(n1,n2): '))     #只走一路  沒異常走else \n",
    "    r = n1/n2\n",
    "    print('r =', r)    \n",
    "except SyntaxError:\n",
    "    print('Error: Please separate input data by comma!')\n",
    "except ZeroDivisionError:\n",
    "    print('Error: Devided by zero!')\n",
    "# except (SyntaxError, ZeroDivisionError):\n",
    "#     print('Error: Please separate input data by comma! or Devided by zero!')\n",
    "except:\n",
    "    print('Error: Input error!')\n",
    "else:\n",
    "    print('Else: No error !')\n",
    "finally:\n",
    "    print('finally')"
   ]
  },
  {
   "cell_type": "markdown",
   "metadata": {},
   "source": [
    "### Raise an error 手動拋出異常\n",
    "> try......except 都是捕捉程式內建的異常，那能不能自己定義異常呢? 使用 “raise” 敘述可以強制引發㇐個異常(exception) 通常用來重新引發異常，讓呼叫者(Caller) 也可以處理相同的異常, Python程式可以自己拋出㇐個異常或使用者客製化訊號。"
   ]
  },
  {
   "cell_type": "code",
   "execution_count": 16,
   "metadata": {},
   "outputs": [
    {
     "ename": "Exception",
     "evalue": "Sorry, no numbers below zero",
     "output_type": "error",
     "traceback": [
      "\u001b[1;31m---------------------------------------------------------------------------\u001b[0m",
      "\u001b[1;31mException\u001b[0m                                 Traceback (most recent call last)",
      "Cell \u001b[1;32mIn [16], line 4\u001b[0m\n\u001b[0;32m      1\u001b[0m x \u001b[39m=\u001b[39m \u001b[39m-\u001b[39m\u001b[39m1\u001b[39m\n\u001b[0;32m      3\u001b[0m \u001b[39mif\u001b[39;00m x \u001b[39m<\u001b[39m \u001b[39m0\u001b[39m:\n\u001b[1;32m----> 4\u001b[0m     \u001b[39mraise\u001b[39;00m \u001b[39mException\u001b[39;00m(\u001b[39m'\u001b[39m\u001b[39mSorry, no numbers below zero\u001b[39m\u001b[39m'\u001b[39m)\n",
      "\u001b[1;31mException\u001b[0m: Sorry, no numbers below zero"
     ]
    }
   ],
   "source": [
    "x = -1      #自己引發一個異常\n",
    "\n",
    "if x < 0:\n",
    "    raise Exception('Sorry, no numbers below zero')"
   ]
  },
  {
   "cell_type": "code",
   "execution_count": 5,
   "metadata": {},
   "outputs": [],
   "source": [
    "x ='hello'  #  raise a type error\n",
    "\n",
    "if not type(x) is int:\n",
    "     raise TypeError('Only integers are allowed')"
   ]
  },
  {
   "cell_type": "code",
   "execution_count": 7,
   "metadata": {},
   "outputs": [
    {
     "name": "stdout",
     "output_type": "stream",
     "text": [
      "密碼長度檢查異常 :  密碼長度不足\n"
     ]
    }
   ],
   "source": [
    "try:\n",
    "    pwd = input('請輸入您的密碼 : ')\n",
    "    if len(pwd)<8:\n",
    "        raise Exception ('密碼長度不足')\n",
    "    if len(pwd)>16:\n",
    "        raise Exception ('密碼長度太長')\n",
    "except Exception as e:\n",
    "    print('密碼長度檢查異常 : ', e)    "
   ]
  },
  {
   "cell_type": "code",
   "execution_count": 9,
   "metadata": {},
   "outputs": [
    {
     "name": "stdout",
     "output_type": "stream",
     "text": [
      "Index Errorrr : Index out of range\n"
     ]
    },
    {
     "ename": "ValueError",
     "evalue": "invalid literal for int() with base 10: 'jjjj'",
     "output_type": "error",
     "traceback": [
      "\u001b[1;31m---------------------------------------------------------------------------\u001b[0m",
      "\u001b[1;31mValueError\u001b[0m                                Traceback (most recent call last)",
      "Cell \u001b[1;32mIn [9], line 5\u001b[0m\n\u001b[0;32m      3\u001b[0m \u001b[39mtry\u001b[39;00m:\n\u001b[0;32m      4\u001b[0m     lst1 \u001b[39m=\u001b[39m [\u001b[39m1\u001b[39m, \u001b[39m2\u001b[39m, \u001b[39m3\u001b[39m, \u001b[39m4\u001b[39m]\n\u001b[1;32m----> 5\u001b[0m     idx \u001b[39m=\u001b[39m \u001b[39mint\u001b[39;49m(\u001b[39minput\u001b[39;49m(\u001b[39m'\u001b[39;49m\u001b[39mEnter an index: \u001b[39;49m\u001b[39m'\u001b[39;49m))\n\u001b[0;32m      6\u001b[0m     \u001b[39mif\u001b[39;00m \u001b[39mnot\u001b[39;00m \u001b[39m0\u001b[39m\u001b[39m<\u001b[39m\u001b[39m=\u001b[39midx\u001b[39m<\u001b[39m\u001b[39m4\u001b[39m:\n\u001b[0;32m      7\u001b[0m         \u001b[39mraise\u001b[39;00m \u001b[39mIndexError\u001b[39;00m(\u001b[39m'\u001b[39m\u001b[39mIndex out of range\u001b[39m\u001b[39m'\u001b[39m)\n",
      "\u001b[1;31mValueError\u001b[0m: invalid literal for int() with base 10: 'jjjj'"
     ]
    }
   ],
   "source": [
    "# exception\n",
    "while True:\n",
    "    try:\n",
    "        lst1 = [1, 2, 3, 4]\n",
    "        idx = int(input('Enter an index: '))\n",
    "        if not 0<=idx<4:\n",
    "            raise IndexError('Index out of range')\n",
    "        print('Value is',lst1[idx])\n",
    "        break\n",
    "    except IndexError as e:\n",
    "        print('Index Errorrr :', e)"
   ]
  },
  {
   "cell_type": "markdown",
   "metadata": {},
   "source": [
    "### Errors and Exception Handling"
   ]
  },
  {
   "cell_type": "code",
   "execution_count": null,
   "metadata": {},
   "outputs": [],
   "source": [
    "def attempt_float(x):\n",
    "    try:\n",
    "        return float(x)\n",
    "    except:\n",
    "        return print(x+'  error')\n",
    "\n",
    "attempt_float('1.2345'), attempt_float('something') # 它是文字 string"
   ]
  },
  {
   "cell_type": "markdown",
   "metadata": {},
   "source": [
    "### ValueError vs (TypeError, ValueError)"
   ]
  },
  {
   "cell_type": "code",
   "execution_count": 10,
   "metadata": {},
   "outputs": [
    {
     "name": "stdout",
     "output_type": "stream",
     "text": [
      "error : j\n"
     ]
    },
    {
     "ename": "TypeError",
     "evalue": "float() argument must be a string or a real number, not 'tuple'",
     "output_type": "error",
     "traceback": [
      "\u001b[1;31m---------------------------------------------------------------------------\u001b[0m",
      "\u001b[1;31mTypeError\u001b[0m                                 Traceback (most recent call last)",
      "Cell \u001b[1;32mIn [10], line 8\u001b[0m\n\u001b[0;32m      4\u001b[0m     \u001b[39mexcept\u001b[39;00m \u001b[39mValueError\u001b[39;00m:\n\u001b[0;32m      5\u001b[0m     \u001b[39m# except :\u001b[39;00m\n\u001b[0;32m      6\u001b[0m         \u001b[39mreturn\u001b[39;00m \u001b[39mprint\u001b[39m(\u001b[39m'\u001b[39m\u001b[39merror :\u001b[39m\u001b[39m'\u001b[39m, x)\n\u001b[1;32m----> 8\u001b[0m attempt_float(\u001b[39m1\u001b[39m), attempt_float(\u001b[39m'\u001b[39m\u001b[39mj\u001b[39m\u001b[39m'\u001b[39m), attempt_float((\u001b[39m1\u001b[39;49m,\u001b[39m2\u001b[39;49m))\n",
      "Cell \u001b[1;32mIn [10], line 3\u001b[0m, in \u001b[0;36mattempt_float\u001b[1;34m(x)\u001b[0m\n\u001b[0;32m      1\u001b[0m \u001b[39mdef\u001b[39;00m \u001b[39mattempt_float\u001b[39m(x):\n\u001b[0;32m      2\u001b[0m     \u001b[39mtry\u001b[39;00m:\n\u001b[1;32m----> 3\u001b[0m         \u001b[39mreturn\u001b[39;00m \u001b[39mfloat\u001b[39;49m(x)\n\u001b[0;32m      4\u001b[0m     \u001b[39mexcept\u001b[39;00m \u001b[39mValueError\u001b[39;00m:\n\u001b[0;32m      5\u001b[0m     \u001b[39m# except :\u001b[39;00m\n\u001b[0;32m      6\u001b[0m         \u001b[39mreturn\u001b[39;00m \u001b[39mprint\u001b[39m(\u001b[39m'\u001b[39m\u001b[39merror :\u001b[39m\u001b[39m'\u001b[39m, x)\n",
      "\u001b[1;31mTypeError\u001b[0m: float() argument must be a string or a real number, not 'tuple'"
     ]
    }
   ],
   "source": [
    "def attempt_float(x):\n",
    "    try:\n",
    "        return float(x)\n",
    "    except ValueError:\n",
    "    # except :\n",
    "        return print('error :', x)\n",
    "\n",
    "attempt_float(1), attempt_float('j'), attempt_float((1,2))"
   ]
  },
  {
   "cell_type": "code",
   "execution_count": 11,
   "metadata": {},
   "outputs": [
    {
     "name": "stdout",
     "output_type": "stream",
     "text": [
      "error : j\n",
      "error : (1, 2)\n"
     ]
    },
    {
     "data": {
      "text/plain": [
       "(1.0, 1.0, None, None)"
      ]
     },
     "execution_count": 11,
     "metadata": {},
     "output_type": "execute_result"
    }
   ],
   "source": [
    "def attempt_float(x):\n",
    "    try:\n",
    "        return float(x)\n",
    "    except (TypeError, ValueError):\n",
    "        return print('error :', x)\n",
    "attempt_float(1), attempt_float('1'), attempt_float('j'), attempt_float((1,2))"
   ]
  },
  {
   "cell_type": "markdown",
   "metadata": {},
   "source": [
    "---"
   ]
  },
  {
   "cell_type": "markdown",
   "metadata": {},
   "source": [
    "<div style=\"page-break-after: always\"></div>\n",
    "\n",
    "# Module_18_檔案的讀寫與組織管理\n",
    ">### 輸出 (Output) 到檔案, 從檔案輸入 (Input)\n",
    "> 在 read() 或 write() 之前，要開啟檔案 open()。但如果讀寫完檔案，沒有 close() 的話，那麼檔案有可能會損毀。所以如果有用到檔案 IO，那麼㇐定要做異常處理，以確認檔案不會因為操作讀寫而損壞。\n",
    "\n",
    "### 使用 open() 函數\n",
    ">### f = open(file_name [, access_mode][, buffering])\n",
    "> * 第㇐個引數為檔案名稱<br>\n",
    "> * 第二個引數為開檔模式<br>\n",
    "> * 假如 buffering 值為 0，則關閉 buffer 功能。假如為 1，則使用 line buffering\n",
    "\n",
    ">>預設為 -1，使用系統預設(Linux 為 1024 (20GB內的硬碟容量)或 4096 (20GB以上的\n",
    "硬碟容量) bytes), 而因為有設定buffer，所以節入寫入後，㇐定要下close()，把殘存的資料寫入到檔案中。\n",
    "\n",
    "> ### print() 函數會將資料轉成文字格式，然後寫入標準輸出(Standard output，sys.stdout)，預設為螢幕, `也可 print(file=fp) 到檔案中`\n",
    "\n",
    "### 預設模式為 'rt’ (讀取文字檔)\n",
    "\n",
    "|模式 |說明                                |\n",
    "|----|------------------------------------|\n",
    "|'r' |開檔讀資料 (預設)                     |\n",
    "|'w' |開檔寫資料，會先清空檔案               |\n",
    "|'x' |開檔寫資料，如果檔案存在會失敗          |\n",
    "|'a' |開檔寫資料，如果檔案存在會附加在檔案結尾|\n",
    "|'b' |以二進位模式開啟                      |\n",
    "|'t' |以文字模式開啟 (預設)                 |\n",
    "|'+' | 開啟檔案做更新 (可以讀寫資料)         |\n",
    "|r+  |原本是要讀取資料，但同時允許寫入資料    |\n",
    "|w+  |原本是要寫入資料，但同時與允許讀取資料  |\n",
    "\n",
    "### 讀檔模式中，不可以下「rw」\n",
    "\n",
    "### file.write(string) 方法\n",
    "> 將 string 寫入檔案<br>\n",
    "> string 可以是二進位資料，不㇐定只是文字資料\n",
    "\n",
    "write() 不會加換行字元('\\n') 到字串結尾"
   ]
  },
  {
   "cell_type": "code",
   "execution_count": 79,
   "metadata": {},
   "outputs": [
    {
     "name": "stdout",
     "output_type": "stream",
     "text": [
      "Write two data to note.txt!\n",
      "Append one data to note.txt!\n"
     ]
    }
   ],
   "source": [
    "# file write\n",
    "\n",
    "fp = open('note.txt', 'w', encoding='utf-8') #  Unicode轉換格式（Unicode Transformation Format，簡稱為 UTF\n",
    "fp.write('Python 科技股份有限公司\\n')\n",
    "fp.write('Python Tech. Limited Co.\\n')\n",
    "\n",
    "print('Write two data to note.txt!')\n",
    "fp.close()\n",
    "\n",
    "fp = open('note.txt', 'a')  # append\n",
    "fp.write('python.tech.com.tw\\n')   # 後來加入\n",
    "print('Append one data to note.txt!')\n",
    "\n",
    "print('python.tech.com.tw'*2, file = fp)  # print 也行\n",
    "fp.close()"
   ]
  },
  {
   "cell_type": "markdown",
   "metadata": {},
   "source": [
    "### file.close() 方法\n",
    "> 寫入快取的資料然後關閉檔案, 當檔案的參考指向另㇐個檔案時，Python 會自動關閉原檔案, 檔案讀寫結束後，㇐定要close()，讓catch資料寫入檔案，以免資料漏失或損毀。"
   ]
  },
  {
   "cell_type": "code",
   "execution_count": 26,
   "metadata": {},
   "outputs": [
    {
     "name": "stdout",
     "output_type": "stream",
     "text": [
      "檔案開啟成功 !!\n",
      "file name\t: note.txt\n",
      "file mode\t: r\n",
      "file encoding\t: utf-8\n",
      "file closed\t: False\n"
     ]
    }
   ],
   "source": [
    "# file informatin\n",
    "fp = open('note.txt', 'r', encoding='utf-8')\n",
    "# fp = open('PythonSteveDay1.ipynb')\n",
    "\n",
    "if fp :                      #如果有讀到\n",
    "    print('檔案開啟成功 !!')\n",
    "    print('file name\\t:', fp.name)\n",
    "    print('file mode\\t:', fp.mode)  #r\n",
    "    print('file encoding\\t:',fp.encoding) #utf-8\n",
    "    print('file closed\\t:', fp.closed) #False\n",
    "\n",
    "fp.close() "
   ]
  },
  {
   "cell_type": "code",
   "execution_count": 27,
   "metadata": {},
   "outputs": [
    {
     "data": {
      "text/plain": [
       "True"
      ]
     },
     "execution_count": 27,
     "metadata": {},
     "output_type": "execute_result"
    }
   ],
   "source": [
    "fp.closed"
   ]
  },
  {
   "cell_type": "markdown",
   "metadata": {},
   "source": [
    "https://oxygentw.net/blog/computer/python-file-utf8-encoding/"
   ]
  },
  {
   "cell_type": "code",
   "execution_count": 28,
   "metadata": {},
   "outputs": [
    {
     "name": "stdout",
     "output_type": "stream",
     "text": [
      "Content(with new line):\n",
      "Python 科技股份有限公司\n",
      "\n",
      "Python Tech. Limited Co.\n",
      "\n",
      "python.tech.com.tw\n",
      "\n",
      "python.tech.com.twpython.tech.com.tw\n",
      "\n"
     ]
    }
   ],
   "source": [
    "# file read all  一次全部讀\n",
    "fp = open('note.txt', 'r', encoding='utf-8')\n",
    "print('Content(with new line):')\n",
    "\n",
    "for line in fp: \n",
    "    print(line)\n",
    "fp.close() "
   ]
  },
  {
   "cell_type": "code",
   "execution_count": 29,
   "metadata": {},
   "outputs": [
    {
     "name": "stdout",
     "output_type": "stream",
     "text": [
      "Content(no new line):\n",
      "Python 科技股份有限公司\n",
      "Python Tech. Limited Co.\n",
      "python.tech.com.tw\n",
      "python.tech.com.twpython.tech.com.tw\n",
      "\n"
     ]
    }
   ],
   "source": [
    "fp = open('note.txt', 'r',  encoding='utf-8')   \n",
    "print('Content(no new line):')\n",
    "\n",
    "for line in fp:   # fp.readlines\n",
    "    print(line, end='')    \n",
    "fp.close()\n",
    "print()"
   ]
  },
  {
   "cell_type": "markdown",
   "metadata": {},
   "source": [
    "### file.readline() 方法\n",
    "> * ㇐次讀取㇐列資料，會保留換行字元 (\\n) 在字串結尾\n",
    "> * 如果 readline() 傳回空字串，代表檔案結尾 End Of File (EOF)\n",
    "\n",
    "使用 file.readline() 的話，會包含換行字元(\\n)"
   ]
  },
  {
   "cell_type": "code",
   "execution_count": 30,
   "metadata": {},
   "outputs": [
    {
     "name": "stdout",
     "output_type": "stream",
     "text": [
      "<_io.TextIOWrapper name='note.txt' mode='r' encoding='utf-8'>\n",
      "Content(readline):\n",
      "fd mode :  r \n",
      "\n",
      "Python 科技股份有限公司\n",
      "Python Tech. Limited Co.\n",
      "python.tech.com.tw\n",
      "python.tech.com.twpython.tech.com.tw\n"
     ]
    },
    {
     "data": {
      "text/plain": [
       "True"
      ]
     },
     "execution_count": 30,
     "metadata": {},
     "output_type": "execute_result"
    }
   ],
   "source": [
    "# 一次一行直到讀不到為止\n",
    "fp = open('note.txt', 'r', encoding='utf-8')\n",
    "print(fp)   #它是一個物件\n",
    "print('Content(readline):')\n",
    "print('fd mode : ', fp.mode, '\\n')\n",
    "\n",
    "while True: \n",
    "    line=fp.readline() # 一次一行\n",
    "    if not line:\n",
    "        break\n",
    "    print(line, end='')    \n",
    "fp.close()\n",
    "fp.closed  # check 檔案是否關閉"
   ]
  },
  {
   "cell_type": "markdown",
   "metadata": {},
   "source": [
    "### file.read(size) 方法\n",
    "> * 從檔案讀資料，傳回㇐個字串\n",
    "> * 讀取 size 個資料，如果 size 省略或是負數，則讀入整個檔案\n",
    "> * 傳回的字串可以是二進位資料，不㇐定只是文字資料\n",
    "\n",
    "### 還沒有使用 with 敘述時，程式必須處理異常與自行關閉檔案"
   ]
  },
  {
   "cell_type": "code",
   "execution_count": 32,
   "metadata": {},
   "outputs": [
    {
     "name": "stdout",
     "output_type": "stream",
     "text": [
      "Error: File I/O error!\n"
     ]
    }
   ],
   "source": [
    "# With the \"with\" statement, you get better syntax and exceptions handling. \n",
    "# The with statement simplifies exception handling by encapsulating common\n",
    "# preparation and cleanup tasks.\n",
    "\n",
    "try:\n",
    "    fp = open('note.txt', 'r', encoding='utf-8')\n",
    "    data = fp.read()  # fp.read(6) 字節數量\n",
    "    print('Content:')\n",
    "    print(data) \n",
    "except:\n",
    "    print('Error: File I/O error!')\n",
    "finally:\n",
    "    fp.close()"
   ]
  },
  {
   "cell_type": "markdown",
   "metadata": {},
   "source": [
    "#### 使用 “with” 敘述，可以得到更好的語法以及異常處理方式 with 敘述簡化了異常處理<應該沒有>，它封裝了異常的準備與清理工作, 使用with語法，可以確保建立出的物件，使用完後一定會釋放，無論使用時是否出現問題"
   ]
  },
  {
   "cell_type": "code",
   "execution_count": 35,
   "metadata": {},
   "outputs": [
    {
     "name": "stdout",
     "output_type": "stream",
     "text": [
      "Content:\n",
      "Python 科技股份有限公司\n",
      "Python Tech. Limited Co.\n",
      "python.tech.com.tw\n",
      "python.tech.com.twpython.tech.com.tw\n",
      "\n",
      "True\n"
     ]
    }
   ],
   "source": [
    "with open('note.txt', 'r', encoding='utf-8') as fp:\n",
    "    data = fp.read()\n",
    "    print('Content:')     #有關檔但沒有異常處理\n",
    "    print(data)\n",
    "print(fp.closed)"
   ]
  },
  {
   "cell_type": "code",
   "execution_count": 36,
   "metadata": {},
   "outputs": [
    {
     "name": "stdout",
     "output_type": "stream",
     "text": [
      "Content(no new line):\n",
      "Python 科技股份有限公司\n",
      "Python Tech. Limited Co.\n",
      "python.tech.com.tw\n",
      "python.tech.com.twpython.tech.com.tw\n"
     ]
    },
    {
     "data": {
      "text/plain": [
       "True"
      ]
     },
     "execution_count": 36,
     "metadata": {},
     "output_type": "execute_result"
    }
   ],
   "source": [
    "# file read\n",
    "fname='note.txt'\n",
    "\n",
    "with open(fname, 'r', encoding='utf-8') as fp:\n",
    "    print('Content(no new line):')\n",
    "\n",
    "    for line in fp:\n",
    "        print(line, end='') \n",
    "fp.closed  # check 檔案是否關閉"
   ]
  },
  {
   "cell_type": "markdown",
   "metadata": {},
   "source": [
    "## csv 檔的內容讀取出來\n",
    "> CSV 的全名是 Comma Separated Values，顧名思義就是用 *逗點（,）*分隔的資料。<br>\n",
    "> CSV 檔案是儲存資料的最常見方式，大多數資料都是以這種方式儲存的。 我們可以使用 Python 內建的 csv 庫讀寫 CSV 檔案，通常，我們將資料讀入一個列表中，列表中每個元素又是一個列表，代表一行資料。"
   ]
  },
  {
   "cell_type": "code",
   "execution_count": 37,
   "metadata": {},
   "outputs": [
    {
     "name": "stdout",
     "output_type": "stream",
     "text": [
      "['', 'Name', 'Gender', 'Class', 'Chi', 'Eng', 'Math']\n",
      "['a', 'aaa', 'Male', 'CS_101', '80', '80', '50']\n",
      "['b', 'bbb', 'Male', 'CS_102', '100', '80', '100']\n",
      "['c', 'ccc', 'Female', 'CS_101', '60', '50', '55']\n",
      "['d', 'ddd', 'Female', 'CS_102', '80', '70', '85']\n",
      "['e', 'eee', 'Female', 'CS_101', '80', '80', '50']\n",
      "['f', 'fff', 'Female', 'CS_102', '80', '80', '80']\n"
     ]
    }
   ],
   "source": [
    "import csv\n",
    "\n",
    "# 開啟 CSV 檔案\n",
    "with open('./data/scores.csv', newline='') as csvfile:\n",
    "\n",
    "  # 讀取 CSV 檔案內容\n",
    "  rows = csv.reader(csvfile, delimiter=',')  # 已是 csv 了\n",
    "\n",
    "  # 以迴圈輸出每一列\n",
    "  for row in rows:\n",
    "    print(row)"
   ]
  },
  {
   "cell_type": "markdown",
   "metadata": {},
   "source": [
    "### 指定分隔字元\n",
    "> 如果資料欄位之間的分隔字元不是使用預設的逗號，而是其他字元的話，在讀取時就要自行指定欄位的分隔字元。假設我們要讀取 Linux 的 /etc/passwd 這個檔案，內容的各個欄位是以冒號（:）來分隔的，我們可以使用以下這段程式碼來讀取："
   ]
  },
  {
   "cell_type": "code",
   "execution_count": 40,
   "metadata": {},
   "outputs": [
    {
     "name": "stdout",
     "output_type": "stream",
     "text": [
      "['root', 'x', '0', '0', 'root', '/root', '/bin/bash']\n",
      "['daemon', 'x', '1', '1', 'daemon', '/usr/sbin', '/usr/sbin/nologin']\n",
      "['bin', 'x', '2', '2', 'bin', '/bin', '/usr/sbin/nologin']\n",
      "['sys', 'x', '3', '3', 'sys', '/dev', '/usr/sbin/nologin']\n",
      "['sync', 'x', '4', '65534', 'sync', '/bin', '/bin/sync']\n"
     ]
    }
   ],
   "source": [
    "import csv\n",
    "with open('./data/new1.txt', newline='') as csvfile:\n",
    "\n",
    "  # 以冒號分隔欄位，讀取檔案內容\n",
    "    rows = csv.reader(csvfile, delimiter=':')   # 指定分隔字元\n",
    "    for row in rows:\n",
    "        print(row)"
   ]
  },
  {
   "cell_type": "markdown",
   "metadata": {},
   "source": [
    "### JSON數據\n",
    "\n",
    "> JSON 提供了一種乾淨且易於閱讀的格式，因為它維護了字典風格的結構。就像 CSV 一樣，Python 有一個內置的JSON模塊，使閱讀和寫作變得非常簡單！"
   ]
  },
  {
   "cell_type": "code",
   "execution_count": 41,
   "metadata": {},
   "outputs": [
    {
     "name": "stdout",
     "output_type": "stream",
     "text": [
      "type(data) : <class 'dict'>\n",
      "\n",
      "data :\n",
      "{'integer': {'0': 5, '1': 5, '2': 9, '3': 6, '4': 6, '5': 9, '6': 7, '7': 1, '8': 6, '9': 9, '10': 5, '11': 5, '12': 8, '13': 9, '14': 8, '15': 8, '16': 2, '17': 1, '18': 4, '19': 8, '20': 9, '21': 5, '22': 4, '23': 8, '24': 6, '25': 4, '26': 5, '27': 6, '28': 3, '29': 7, '30': 9, '31': 8, '32': 8, '33': 4, '34': 8, '35': 2, '36': 1, '37': 4, '38': 8, '39': 3, '40': 5, '41': 3, '42': 1, '43': 4, '44': 6, '45': 4, '46': 6, '47': 3, '48': 2, '49': 2, '50': 5, '51': 7, '52': 9, '53': 5, '54': 9, '55': 6, '56': 6, '57': 5, '58': 1, '59': 8, '60': 4, '61': 4, '62': 9, '63': 4, '64': 7, '65': 7, '66': 7, '67': 9, '68': 5, '69': 5, '70': 5, '71': 8, '72': 4, '73': 9, '74': 9, '75': 8, '76': 9, '77': 1, '78': 1, '79': 7, '80': 1, '81': 7, '82': 1, '83': 1, '84': 4, '85': 8, '86': 6, '87': 1, '88': 2, '89': 8, '90': 1, '91': 5, '92': 7, '93': 9, '94': 5, '95': 9, '96': 8, '97': 6, '98': 8, '99': 1}, 'datetime': {'0': 1420070400000, '1': 1420070401000, '2': 1420070402000, '3': 1420070403000, '4': 1420070404000, '5': 1420070405000, '6': 1420070406000, '7': 1420070407000, '8': 1420070408000, '9': 1420070409000, '10': 1420070410000, '11': 1420070411000, '12': 1420070412000, '13': 1420070413000, '14': 1420070414000, '15': 1420070415000, '16': 1420070416000, '17': 1420070417000, '18': 1420070418000, '19': 1420070419000, '20': 1420070420000, '21': 1420070421000, '22': 1420070422000, '23': 1420070423000, '24': 1420070424000, '25': 1420070425000, '26': 1420070426000, '27': 1420070427000, '28': 1420070428000, '29': 1420070429000, '30': 1420070430000, '31': 1420070431000, '32': 1420070432000, '33': 1420070433000, '34': 1420070434000, '35': 1420070435000, '36': 1420070436000, '37': 1420070437000, '38': 1420070438000, '39': 1420070439000, '40': 1420070440000, '41': 1420070441000, '42': 1420070442000, '43': 1420070443000, '44': 1420070444000, '45': 1420070445000, '46': 1420070446000, '47': 1420070447000, '48': 1420070448000, '49': 1420070449000, '50': 1420070450000, '51': 1420070451000, '52': 1420070452000, '53': 1420070453000, '54': 1420070454000, '55': 1420070455000, '56': 1420070456000, '57': 1420070457000, '58': 1420070458000, '59': 1420070459000, '60': 1420070460000, '61': 1420070461000, '62': 1420070462000, '63': 1420070463000, '64': 1420070464000, '65': 1420070465000, '66': 1420070466000, '67': 1420070467000, '68': 1420070468000, '69': 1420070469000, '70': 1420070470000, '71': 1420070471000, '72': 1420070472000, '73': 1420070473000, '74': 1420070474000, '75': 1420070475000, '76': 1420070476000, '77': 1420070477000, '78': 1420070478000, '79': 1420070479000, '80': 1420070480000, '81': 1420070481000, '82': 1420070482000, '83': 1420070483000, '84': 1420070484000, '85': 1420070485000, '86': 1420070486000, '87': 1420070487000, '88': 1420070488000, '89': 1420070489000, '90': 1420070490000, '91': 1420070491000, '92': 1420070492000, '93': 1420070493000, '94': 1420070494000, '95': 1420070495000, '96': 1420070496000, '97': 1420070497000, '98': 1420070498000, '99': 1420070499000}, 'category': {'0': 0, '1': 0, '2': 0, '3': 0, '4': 0, '5': 0, '6': 0, '7': 0, '8': 0, '9': 0, '10': 0, '11': 0, '12': 0, '13': 0, '14': 0, '15': 0, '16': 0, '17': 0, '18': 0, '19': 0, '20': 0, '21': 0, '22': 0, '23': 0, '24': 0, '25': 0, '26': 0, '27': 0, '28': 0, '29': 0, '30': 0, '31': 0, '32': 0, '33': 0, '34': 0, '35': 0, '36': 0, '37': 0, '38': 0, '39': 0, '40': 0, '41': 0, '42': 0, '43': 0, '44': 0, '45': 0, '46': 0, '47': 0, '48': 0, '49': 0, '50': 0, '51': 0, '52': 0, '53': 0, '54': 0, '55': 0, '56': 0, '57': 0, '58': 0, '59': 0, '60': 0, '61': 0, '62': 0, '63': 0, '64': 0, '65': 0, '66': 0, '67': 0, '68': 0, '69': 0, '70': 0, '71': 0, '72': 0, '73': 0, '74': 0, '75': 0, '76': 0, '77': 0, '78': 0, '79': 0, '80': 0, '81': 0, '82': 0, '83': 0, '84': 0, '85': 0, '86': 0, '87': 0, '88': 0, '89': 0, '90': 0, '91': 0, '92': 0, '93': 0, '94': 0, '95': 0, '96': 0, '97': 0, '98': 0, '99': 0}}\n",
      "\n",
      "data['integer'] :\n",
      "{'0': 5, '1': 5, '2': 9, '3': 6, '4': 6, '5': 9, '6': 7, '7': 1, '8': 6, '9': 9, '10': 5, '11': 5, '12': 8, '13': 9, '14': 8, '15': 8, '16': 2, '17': 1, '18': 4, '19': 8, '20': 9, '21': 5, '22': 4, '23': 8, '24': 6, '25': 4, '26': 5, '27': 6, '28': 3, '29': 7, '30': 9, '31': 8, '32': 8, '33': 4, '34': 8, '35': 2, '36': 1, '37': 4, '38': 8, '39': 3, '40': 5, '41': 3, '42': 1, '43': 4, '44': 6, '45': 4, '46': 6, '47': 3, '48': 2, '49': 2, '50': 5, '51': 7, '52': 9, '53': 5, '54': 9, '55': 6, '56': 6, '57': 5, '58': 1, '59': 8, '60': 4, '61': 4, '62': 9, '63': 4, '64': 7, '65': 7, '66': 7, '67': 9, '68': 5, '69': 5, '70': 5, '71': 8, '72': 4, '73': 9, '74': 9, '75': 8, '76': 9, '77': 1, '78': 1, '79': 7, '80': 1, '81': 7, '82': 1, '83': 1, '84': 4, '85': 8, '86': 6, '87': 1, '88': 2, '89': 8, '90': 1, '91': 5, '92': 7, '93': 9, '94': 5, '95': 9, '96': 8, '97': 6, '98': 8, '99': 1}\n",
      "\n",
      "data['datetime'] :\n",
      "{'0': 1420070400000, '1': 1420070401000, '2': 1420070402000, '3': 1420070403000, '4': 1420070404000, '5': 1420070405000, '6': 1420070406000, '7': 1420070407000, '8': 1420070408000, '9': 1420070409000, '10': 1420070410000, '11': 1420070411000, '12': 1420070412000, '13': 1420070413000, '14': 1420070414000, '15': 1420070415000, '16': 1420070416000, '17': 1420070417000, '18': 1420070418000, '19': 1420070419000, '20': 1420070420000, '21': 1420070421000, '22': 1420070422000, '23': 1420070423000, '24': 1420070424000, '25': 1420070425000, '26': 1420070426000, '27': 1420070427000, '28': 1420070428000, '29': 1420070429000, '30': 1420070430000, '31': 1420070431000, '32': 1420070432000, '33': 1420070433000, '34': 1420070434000, '35': 1420070435000, '36': 1420070436000, '37': 1420070437000, '38': 1420070438000, '39': 1420070439000, '40': 1420070440000, '41': 1420070441000, '42': 1420070442000, '43': 1420070443000, '44': 1420070444000, '45': 1420070445000, '46': 1420070446000, '47': 1420070447000, '48': 1420070448000, '49': 1420070449000, '50': 1420070450000, '51': 1420070451000, '52': 1420070452000, '53': 1420070453000, '54': 1420070454000, '55': 1420070455000, '56': 1420070456000, '57': 1420070457000, '58': 1420070458000, '59': 1420070459000, '60': 1420070460000, '61': 1420070461000, '62': 1420070462000, '63': 1420070463000, '64': 1420070464000, '65': 1420070465000, '66': 1420070466000, '67': 1420070467000, '68': 1420070468000, '69': 1420070469000, '70': 1420070470000, '71': 1420070471000, '72': 1420070472000, '73': 1420070473000, '74': 1420070474000, '75': 1420070475000, '76': 1420070476000, '77': 1420070477000, '78': 1420070478000, '79': 1420070479000, '80': 1420070480000, '81': 1420070481000, '82': 1420070482000, '83': 1420070483000, '84': 1420070484000, '85': 1420070485000, '86': 1420070486000, '87': 1420070487000, '88': 1420070488000, '89': 1420070489000, '90': 1420070490000, '91': 1420070491000, '92': 1420070492000, '93': 1420070493000, '94': 1420070494000, '95': 1420070495000, '96': 1420070496000, '97': 1420070497000, '98': 1420070498000, '99': 1420070499000}\n"
     ]
    }
   ],
   "source": [
    "import json \n",
    "\n",
    "with open('./data/data.json') as f:\n",
    "    data = json.load(f)\n",
    "\n",
    "print(f'type(data) : {type(data)}\\n\\n'\n",
    "      f'data :\\n{data}\\n\\n'\n",
    "      f\"data['integer'] :\\n{data['integer']}\\n\\n\"\n",
    "      f\"data['datetime'] :\\n{data['datetime']}\")"
   ]
  },
  {
   "cell_type": "markdown",
   "metadata": {},
   "source": [
    "---"
   ]
  },
  {
   "cell_type": "markdown",
   "metadata": {},
   "source": [
    "<div style=\"page-break-after: always\"></div>\n",
    "\n",
    "# Module 19 Datetime \n",
    "> python 的日期當中分成 date(日期)、time(時間)、datetime(混合date跟time)、timedelta (計算歷時期間的型態)、timezone(處理時區資訊的型態)，而在我們使用之前要先 import 導入 \n",
    "\n",
    "> timestamp : 1970-01-01 ~ 2038-01-19\n",
    "\n",
    "> ### datetime 中有基本的處理日期及時間的型態，如下表\n",
    "\n",
    "|型態\t   |說明                                     |\n",
    "|--------|----------------------------------------|\n",
    "|date    |\t處理日期的型態，可取得當地的年、月、日等。|\n",
    "|time    |\t處理時間的型態，一日以 24 * 60 *60 計算。|\n",
    "|datetime|\t混合 date 及 time 的物件。             |\n",
    "|timedelta|\t計算歷時期間的型態。                    |\n",
    "|timezone|\t處理時區資訊的型態。                    |\n",
    "\n",
    "> ### 以下為 datetime 物件唯讀的實體屬性 (instance attribute)\n",
    "\n",
    "|實體屬性|\t說明      |\n",
    "|-------|------------|\n",
    "|year\t|西元紀年     |\n",
    "|month\t|月份         |\n",
    "|day\t|該月第幾日   |\n",
    "|hour\t|該日第幾時   |\n",
    "|minute |該時第幾分   |\n",
    "|second\t|該分第幾秒   |"
   ]
  },
  {
   "cell_type": "markdown",
   "metadata": {},
   "source": [
    "### Calendar : 獲取日曆相關資訊"
   ]
  },
  {
   "cell_type": "code",
   "execution_count": 42,
   "metadata": {},
   "outputs": [
    {
     "name": "stdout",
     "output_type": "stream",
     "text": [
      "Month :\n",
      "       May 2020\n",
      "Mo Tu We Th Fr Sa Su\n",
      "             1  2  3\n",
      " 4  5  6  7  8  9 10\n",
      "11 12 13 14 15 16 17\n",
      "18 19 20 21 22 23 24\n",
      "25 26 27 28 29 30 31\n",
      "\n",
      "Calendar :\n",
      "                                   2020\n",
      "\n",
      "      January                   February                   March\n",
      "Mo Tu We Th Fr Sa Su      Mo Tu We Th Fr Sa Su      Mo Tu We Th Fr Sa Su\n",
      "       1  2  3  4  5                      1  2                         1\n",
      " 6  7  8  9 10 11 12       3  4  5  6  7  8  9       2  3  4  5  6  7  8\n",
      "13 14 15 16 17 18 19      10 11 12 13 14 15 16       9 10 11 12 13 14 15\n",
      "20 21 22 23 24 25 26      17 18 19 20 21 22 23      16 17 18 19 20 21 22\n",
      "27 28 29 30 31            24 25 26 27 28 29         23 24 25 26 27 28 29\n",
      "                                                    30 31\n",
      "\n",
      "       April                      May                       June\n",
      "Mo Tu We Th Fr Sa Su      Mo Tu We Th Fr Sa Su      Mo Tu We Th Fr Sa Su\n",
      "       1  2  3  4  5                   1  2  3       1  2  3  4  5  6  7\n",
      " 6  7  8  9 10 11 12       4  5  6  7  8  9 10       8  9 10 11 12 13 14\n",
      "13 14 15 16 17 18 19      11 12 13 14 15 16 17      15 16 17 18 19 20 21\n",
      "20 21 22 23 24 25 26      18 19 20 21 22 23 24      22 23 24 25 26 27 28\n",
      "27 28 29 30               25 26 27 28 29 30 31      29 30\n",
      "\n",
      "        July                     August                  September\n",
      "Mo Tu We Th Fr Sa Su      Mo Tu We Th Fr Sa Su      Mo Tu We Th Fr Sa Su\n",
      "       1  2  3  4  5                      1  2          1  2  3  4  5  6\n",
      " 6  7  8  9 10 11 12       3  4  5  6  7  8  9       7  8  9 10 11 12 13\n",
      "13 14 15 16 17 18 19      10 11 12 13 14 15 16      14 15 16 17 18 19 20\n",
      "20 21 22 23 24 25 26      17 18 19 20 21 22 23      21 22 23 24 25 26 27\n",
      "27 28 29 30 31            24 25 26 27 28 29 30      28 29 30\n",
      "                          31\n",
      "\n",
      "      October                   November                  December\n",
      "Mo Tu We Th Fr Sa Su      Mo Tu We Th Fr Sa Su      Mo Tu We Th Fr Sa Su\n",
      "          1  2  3  4                         1          1  2  3  4  5  6\n",
      " 5  6  7  8  9 10 11       2  3  4  5  6  7  8       7  8  9 10 11 12 13\n",
      "12 13 14 15 16 17 18       9 10 11 12 13 14 15      14 15 16 17 18 19 20\n",
      "19 20 21 22 23 24 25      16 17 18 19 20 21 22      21 22 23 24 25 26 27\n",
      "26 27 28 29 30 31         23 24 25 26 27 28 29      28 29 30 31\n",
      "                          30\n",
      "\n",
      "Calendar type :  <class 'str'> \n",
      "\n",
      "Calendar Slice\n",
      "       May 2020\n",
      "Mo Tu We Th Fr Sa Su\n",
      "             1\n"
     ]
    }
   ],
   "source": [
    "import calendar\n",
    "print('Month :\\n', calendar.month(2020,5))\n",
    "print('Calendar :\\n', calendar.calendar(2020))\n",
    "print('Calendar type : ', type(calendar.calendar(2020)), '\\n')\n",
    "print('Calendar Slice\\n', calendar.month(2020,5)[0:50])"
   ]
  },
  {
   "cell_type": "markdown",
   "metadata": {},
   "source": [
    "### calendar 模組還可以處理`閏年`的問題"
   ]
  },
  {
   "cell_type": "code",
   "execution_count": 43,
   "metadata": {},
   "outputs": [
    {
     "name": "stdout",
     "output_type": "stream",
     "text": [
      "True\n",
      "2\n",
      "2012 True\n",
      "2013 False\n",
      "2014 False\n",
      "2015 False\n",
      "2016 True\n",
      "2017 False\n",
      "2018 False\n",
      "2019 False\n",
      "2020 True\n",
      "2021 False\n"
     ]
    }
   ],
   "source": [
    "# leapdays 判斷是否閏年、兩個年份之間閏年的個數\n",
    "print (calendar.isleap(2012))\n",
    "print (calendar.leapdays(2016, 2022))   # 回傳有幾個閏年\n",
    "for i in range(2012, 2022):\n",
    "    print(i, calendar.isleap(i))"
   ]
  },
  {
   "cell_type": "markdown",
   "metadata": {},
   "source": [
    "### now, today"
   ]
  },
  {
   "cell_type": "code",
   "execution_count": 15,
   "metadata": {},
   "outputs": [
    {
     "data": {
      "text/plain": [
       "(datetime.datetime(2022, 12, 5, 13, 0, 8, 353520),\n",
       " datetime.datetime(2022, 12, 5, 13, 0, 8, 353520),\n",
       " datetime.datetime)"
      ]
     },
     "execution_count": 15,
     "metadata": {},
     "output_type": "execute_result"
    }
   ],
   "source": [
    "from datetime import datetime, date, time, timezone\n",
    "datetime.now(), datetime.today(), type(datetime.now())"
   ]
  },
  {
   "cell_type": "code",
   "execution_count": 13,
   "metadata": {
    "collapsed": false,
    "editable": true,
    "jupyter": {
     "outputs_hidden": false
    }
   },
   "outputs": [
    {
     "name": "stdout",
     "output_type": "stream",
     "text": [
      "now\t\t\t: 2022-12-05 12:59:40.045501\n",
      "now.year\t\t: 2022\t\t\ttype : <class 'int'>\n",
      "now.month\t\t: 12\n",
      "now.day\t\t\t: 5\n",
      "datetime.today()\t: 2022-12-05 12:59:40.045501\n"
     ]
    }
   ],
   "source": [
    "from datetime import datetime\n",
    "now = datetime.now()\n",
    "print(f'now\\t\\t\\t: {now}\\n'\n",
    "      f'now.year\\t\\t: {now.year}\\t\\t\\ttype : {type(now.year)}\\n'\n",
    "      f'now.month\\t\\t: {now.month}\\n'\n",
    "      f'now.day\\t\\t\\t: {now.day}\\n'\n",
    "      f'datetime.today()\\t: {datetime.today()}')  # datetime.today"
   ]
  },
  {
   "cell_type": "markdown",
   "metadata": {},
   "source": [
    "### timestamp 1970/01/01 00:00:00 "
   ]
  },
  {
   "cell_type": "code",
   "execution_count": 16,
   "metadata": {},
   "outputs": [
    {
     "data": {
      "text/plain": [
       "(0.0, 1670216415.2844083)"
      ]
     },
     "execution_count": 16,
     "metadata": {},
     "output_type": "execute_result"
    }
   ],
   "source": [
    "import time\n",
    "dt = datetime(1970, 1, 1, 0, 0, 0, tzinfo=timezone.utc).timestamp()\n",
    "dt,time.time()#now跟1970年差了這麼多秒"
   ]
  },
  {
   "cell_type": "code",
   "execution_count": 52,
   "metadata": {},
   "outputs": [
    {
     "name": "stdout",
     "output_type": "stream",
     "text": [
      "dt\t\t: 2021-10-29 20:30:21\n",
      "timestamp\t: 1635510621.0\n",
      "\n",
      "dt.day\t\t: 29\n",
      "dt.minute\t: 30 \n",
      "\n",
      "dt.date()\t: 2021-10-29\n",
      "dt.time()\t: 20:30:21 \n",
      "\n"
     ]
    }
   ],
   "source": [
    "from datetime import datetime, date, time\n",
    "\n",
    "dt = datetime(2021, 10, 29, 20, 30, 21)\n",
    "\n",
    "print(f'dt\\t\\t: {dt}\\ntimestamp\\t: {dt.timestamp()}\\n')\n",
    "\n",
    "print('dt.day\\t\\t:', dt.day)             # dt.year, dt.month, dt.day\n",
    "print('dt.minute\\t:', dt.minute,'\\n')    # dt.hour, dt.minute, dt.second\n",
    "\n",
    "print('dt.date()\\t:', dt.date())\n",
    "print('dt.time()\\t:', dt.time(),'\\n')"
   ]
  },
  {
   "cell_type": "markdown",
   "metadata": {
    "editable": true
   },
   "source": [
    "### Converting Between String and Datetime"
   ]
  },
  {
   "cell_type": "markdown",
   "metadata": {},
   "source": [
    "### str`f`time() vs. str`p`time.\n",
    "> str`f`time() 函數用於格式化時間，返回以可讀`字串`表示的當地時間，格式由參數 format 決定\n",
    ">* datetime -> string<br>\n",
    "\n",
    "> str`p`time() 函數用於所輸入 `str` 的dts轉換成`日期的格式`則格式為後面的年月日\n",
    ">* string -> datatime"
   ]
  },
  {
   "cell_type": "markdown",
   "metadata": {},
   "source": [
    "|strftime() directive | Meaning                         |\n",
    "|:-------------------:|:--------------------------------|\n",
    "| %Y | Year with century, as in '2014'                  |\n",
    "| %y | Year without century, '00' to '99' (1970 to 2069)|\n",
    "| %m | Month as a decimal number, '01' to '12'          |\n",
    "| %B | Full month name, as in 'November'                |\n",
    "| %b | Abbreviated month name, as in 'Nov'              |\n",
    "| %d | Day of the month, '01' to '31'                   |\n",
    "| %j | Day of the year, '001' to '366'                  |\n",
    "| %w | Day of the week, '0' (Sunday) to '6' (Saturday)  |\n",
    "| %A | Full weekday name, as in 'Monday'                |\n",
    "| %a | Abbreviated weekday name, as in 'Mon'            |\n",
    "| %H | Hour (24-hour clock), '00' to '23'               |\n",
    "| %I | Hour (12-hour clock), '01' to '12'               |\n",
    "| %M | Minute, '00' to '59'                             |\n",
    "| %S | Second, '00' to '59'                             |\n",
    "| %p | 'AM' or 'PM'                                     |\n",
    "| %% | Literal '%' character                            |"
   ]
  },
  {
   "cell_type": "code",
   "execution_count": 56,
   "metadata": {},
   "outputs": [
    {
     "name": "stdout",
     "output_type": "stream",
     "text": [
      "dt.strftime\t: 10/29/2021, October, Friday, PM 20:30:21\n",
      "type\t\t:  <class 'str'> \n",
      "\n",
      "strptime\t: 2009-10-31 10:10:10\n",
      "type\t\t:  <class 'datetime.datetime'> \n",
      "\n",
      "dt.replace\t: 2021-10-29 20:00:00 \n",
      "\n"
     ]
    }
   ],
   "source": [
    "from datetime import datetime, date, time\n",
    "\n",
    "dt = datetime(2021, 10, 29, 20, 30, 21)\n",
    "\n",
    "print(\"dt.strftime\\t:\", dt.strftime('%m/%d/%Y, %B, %A, %p %H:%M:%S'))\n",
    "print(\"type\\t\\t: \", type(dt.strftime('%m/%d/%Y %H:%M:%S')),'\\n')\n",
    "\n",
    "print(\"strptime\\t:\", datetime.strptime('20091031PM101010', '%Y%m%d%p%H%M%S'))\n",
    "print(\"type\\t\\t: \", type(datetime.strptime('20091031101010', '%Y%m%d%H%M%S')),'\\n')\n",
    "\n",
    "print('dt.replace\\t:', dt.replace(minute=0, second=0),'\\n')"
   ]
  },
  {
   "cell_type": "markdown",
   "metadata": {},
   "source": [
    "### time period"
   ]
  },
  {
   "cell_type": "code",
   "execution_count": 57,
   "metadata": {},
   "outputs": [
    {
     "name": "stdout",
     "output_type": "stream",
     "text": [
      "dt\t\t\t= 2021-10-29 20:30:21\n",
      "dt2\t\t\t= 2016-11-15 22:30:00\n",
      "\n",
      "delta\t\t\t= 1808 days, 22:00:21\n",
      "delta.days\t\t= 1808\n",
      "delta.seconds\t\t= 79221 \n",
      "\n",
      "type(delta)\t\t: <class 'datetime.timedelta'>\n",
      "dt  + delta = dt2\t: 2026-10-12 18:30:42\n"
     ]
    }
   ],
   "source": [
    "dt = datetime(2021, 10, 29, 20, 30, 21)\n",
    "dt2 = datetime(2016, 11, 15, 22, 30)\n",
    "\n",
    "delta = dt - dt2\n",
    "print(f'dt\\t\\t\\t= {dt}\\ndt2\\t\\t\\t= {dt2}\\n')\n",
    "\n",
    "print('delta\\t\\t\\t=', delta)\n",
    "print('delta.days\\t\\t=', delta.days)\n",
    "print('delta.seconds\\t\\t=', delta.seconds, '\\n')\n",
    "\n",
    "print('type(delta)\\t\\t:', type(delta))\n",
    "print('dt  + delta = dt2\\t:', dt + delta)"
   ]
  },
  {
   "cell_type": "code",
   "execution_count": 58,
   "metadata": {
    "collapsed": false,
    "editable": true,
    "jupyter": {
     "outputs_hidden": false
    }
   },
   "outputs": [
    {
     "name": "stdout",
     "output_type": "stream",
     "text": [
      "delta\t\t: 927 days, 15:45:00\n",
      "delta.days\t: 927\n",
      "delta.seconds\t: 56700\n"
     ]
    }
   ],
   "source": [
    "delta = datetime(2021, 1, 7) - datetime(2018, 6, 24, 8, 15)\n",
    "print(f'delta\\t\\t: {delta}\\n'\n",
    "      f'delta.days\\t: {delta.days}\\n'\n",
    "      f'delta.seconds\\t: {delta.seconds}')  # days and second"
   ]
  },
  {
   "cell_type": "markdown",
   "metadata": {},
   "source": [
    "### timedelta"
   ]
  },
  {
   "cell_type": "code",
   "execution_count": 62,
   "metadata": {
    "collapsed": false,
    "editable": true,
    "jupyter": {
     "outputs_hidden": false
    }
   },
   "outputs": [
    {
     "data": {
      "text/plain": [
       "(datetime.datetime(2021, 11, 7, 0, 0),\n",
       " datetime.datetime(2021, 11, 19, 0, 0),\n",
       " datetime.datetime(2021, 10, 14, 0, 0),\n",
       " datetime.datetime(2021, 11, 7, 20, 0))"
      ]
     },
     "execution_count": 62,
     "metadata": {},
     "output_type": "execute_result"
    }
   ],
   "source": [
    "from datetime import timedelta\n",
    "start = datetime(2021, 11, 7)\n",
    "start, start+timedelta(12), start-2*timedelta(12),  start+timedelta(hours=20) #時差 # base on days"
   ]
  },
  {
   "cell_type": "markdown",
   "metadata": {},
   "source": [
    "### time period"
   ]
  },
  {
   "cell_type": "code",
   "execution_count": 59,
   "metadata": {
    "collapsed": false,
    "editable": true,
    "jupyter": {
     "outputs_hidden": false
    }
   },
   "outputs": [
    {
     "name": "stdout",
     "output_type": "stream",
     "text": [
      "delta\t\t: 927 days, 15:45:00\n",
      "delta.days\t: 927\n",
      "delta.seconds\t: 56700\n",
      "\n"
     ]
    }
   ],
   "source": [
    "delta = datetime(2021, 1, 7) - datetime(2018, 6, 24, 8, 15)\n",
    "print(f'delta\\t\\t: {delta}\\n'\n",
    "      f'delta.days\\t: {delta.days}\\n'\n",
    "      f'delta.seconds\\t: {delta.seconds}\\n')  # H:M:S only"
   ]
  },
  {
   "cell_type": "markdown",
   "metadata": {},
   "source": [
    "---"
   ]
  },
  {
   "cell_type": "markdown",
   "metadata": {},
   "source": [
    "<div style=\"page-break-after: always\"></div>\n",
    "\n",
    "# Module 20 time() 函數\n",
    "> time 時間模組 time.time() 函數, 可以傳回從 1970/1/1 00:00:00 算起至今的秒數, 通常是用來作為時間戳記，例如測量程式執行時間。"
   ]
  },
  {
   "cell_type": "code",
   "execution_count": 65,
   "metadata": {},
   "outputs": [
    {
     "data": {
      "text/plain": [
       "1667546439.2813227"
      ]
     },
     "execution_count": 65,
     "metadata": {},
     "output_type": "execute_result"
    }
   ],
   "source": [
    "import time\n",
    "\n",
    "seconds = time.time()     # 從 1970/1/1 00:00:00 至今的秒數\n",
    "seconds"
   ]
  },
  {
   "cell_type": "markdown",
   "metadata": {},
   "source": [
    "### time.ctime() 函數\n",
    "> time.ctime() 函數可以將 time.time() 所產生的秒數，轉換為本地時間："
   ]
  },
  {
   "cell_type": "code",
   "execution_count": 66,
   "metadata": {},
   "outputs": [
    {
     "name": "stdout",
     "output_type": "stream",
     "text": [
      "本地時間 ：Fri Nov  4 15:21:32 2022\n"
     ]
    }
   ],
   "source": [
    "import time\n",
    "\n",
    "seconds = time.time()     # 從 1970/1/1 00:00:00 至今的秒數\n",
    "local_time = time.ctime(seconds)  # 將秒數轉為本地時間\n",
    "\n",
    "print(f'本地時間 ：{local_time}')"
   ]
  },
  {
   "cell_type": "code",
   "execution_count": 80,
   "metadata": {},
   "outputs": [
    {
     "name": "stdout",
     "output_type": "stream",
     "text": [
      "現在時間 ：Fri Nov  4 16:36:59 2022\n"
     ]
    }
   ],
   "source": [
    "# 如果不加任何參數，time.ctime() 會直接採用目前的時間：\n",
    "\n",
    "import time\n",
    "\n",
    "now = time.ctime()    # 現在時間\n",
    "print(f'現在時間 ：{now}')"
   ]
  },
  {
   "cell_type": "markdown",
   "metadata": {},
   "source": [
    "### time.sleep() 函數\n",
    "> time.sleep() 可以讓程式暫停指定的秒數："
   ]
  },
  {
   "cell_type": "code",
   "execution_count": 17,
   "metadata": {},
   "outputs": [
    {
     "name": "stdout",
     "output_type": "stream",
     "text": [
      "Hello\n",
      "World\n"
     ]
    }
   ],
   "source": [
    "# 引入 time 模組\n",
    "import time\n",
    "\n",
    "print('Hello')\n",
    "time.sleep(3)# 暫停 3 秒\n",
    "\n",
    "print('World')"
   ]
  },
  {
   "cell_type": "markdown",
   "metadata": {},
   "source": [
    "### time.localtime() 函數\n",
    "> time.localtime() 可以將 time.time() 所產生的秒數，轉換為 `struct_time 格式`的本地時間。struct_time 格式的好處就是可以直接取出日期或時間裡面的任意數值"
   ]
  },
  {
   "cell_type": "code",
   "execution_count": 70,
   "metadata": {},
   "outputs": [
    {
     "name": "stdout",
     "output_type": "stream",
     "text": [
      "local time ：time.struct_time(tm_year=2019, tm_mon=9, tm_mday=25, tm_hour=10, tm_min=3, tm_sec=16, tm_wday=2, tm_yday=268, tm_isdst=0),2019\n"
     ]
    }
   ],
   "source": [
    "import time\n",
    "\n",
    "result = time.localtime(1569376996)    # 轉換為 struct_time 格式的本地時間\n",
    "print(f'local time ：{result},{result.tm_year}')"
   ]
  },
  {
   "cell_type": "code",
   "execution_count": 71,
   "metadata": {},
   "outputs": [
    {
     "name": "stdout",
     "output_type": "stream",
     "text": [
      "年： 2019\n",
      "月： 9\n",
      "日： 25\n",
      "時： 10\n",
      "分： 3\n",
      "秒： 16\n",
      "星期幾： 2\n"
     ]
    }
   ],
   "source": [
    "# 輸出日期與時間\n",
    "print(\"年：\", result.tm_year)\n",
    "print(\"月：\", result.tm_mon)\n",
    "print(\"日：\", result.tm_mday)\n",
    "print(\"時：\", result.tm_hour)\n",
    "print(\"分：\", result.tm_min)\n",
    "print(\"秒：\", result.tm_sec)\n",
    "print(\"星期幾：\", result.tm_wday) # 0 代表星期一"
   ]
  },
  {
   "cell_type": "markdown",
   "metadata": {},
   "source": [
    "### time.gmtime() 函數\n",
    "> time.gmtime() 函數的用途跟 time.localtime() 函數類似，只不過它傳回的時間是`世界協調時間（UTC）`："
   ]
  },
  {
   "cell_type": "code",
   "execution_count": 72,
   "metadata": {},
   "outputs": [
    {
     "name": "stdout",
     "output_type": "stream",
     "text": [
      "local time\t: time.struct_time(tm_year=2019, tm_mon=9, tm_mday=25, tm_hour=10, tm_min=3, tm_sec=16, tm_wday=2, tm_yday=268, tm_isdst=0)\n",
      "\n",
      "UTC time\t: time.struct_time(tm_year=2019, tm_mon=9, tm_mday=25, tm_hour=2, tm_min=3, tm_sec=16, tm_wday=2, tm_yday=268, tm_isdst=0)\n",
      "<class 'time.struct_time'>\n"
     ]
    }
   ],
   "source": [
    "import time\n",
    "\n",
    "result = time.gmtime(1569376996)      # 轉換為 struct_time 格式的本地時間\n",
    "print(f'local time\\t: {time.localtime(1569376996)}\\n')\n",
    "print(f'UTC time\\t: {result}\\n{type(result)}')"
   ]
  },
  {
   "cell_type": "markdown",
   "metadata": {},
   "source": [
    "### time.mktime() 函數\n",
    "> time.mktime() 函數跟 time.localtime() 互為反函數，可將 struct_time 格式的時間轉為`秒數`："
   ]
  },
  {
   "cell_type": "code",
   "execution_count": 73,
   "metadata": {},
   "outputs": [
    {
     "name": "stdout",
     "output_type": "stream",
     "text": [
      "time.struct_time(tm_year=2022, tm_mon=11, tm_mday=4, tm_hour=15, tm_min=29, tm_sec=22, tm_wday=4, tm_yday=308, tm_isdst=0)\n",
      "\n",
      "1667546962.0\n",
      "<class 'float'>\n"
     ]
    }
   ],
   "source": [
    "import time\n",
    "\n",
    "t = time.localtime(time.time())    # 將秒數轉換為 struct_time 格式\n",
    "s = time.mktime(t)                 # 將 struct_time 格式轉換為秒數\n",
    "\n",
    "# 輸出結果\n",
    "print(f'{t}\\n\\n{s}\\n{type(s)}')"
   ]
  },
  {
   "cell_type": "markdown",
   "metadata": {},
   "source": [
    "### time.asctime() 函數\n",
    "> time.asctime() 函數可將 struct_time 格式的時間轉為`文字`："
   ]
  },
  {
   "cell_type": "code",
   "execution_count": 74,
   "metadata": {},
   "outputs": [
    {
     "name": "stdout",
     "output_type": "stream",
     "text": [
      "Wed Sep 25 10:03:16 2019\n",
      "<class 'str'>\n",
      "<class 'time.struct_time'>\n"
     ]
    }
   ],
   "source": [
    "import time\n",
    "\n",
    "t = time.localtime(1569376996)# 將秒數轉換為 struct_time 格式\n",
    "result = time.asctime(t)# 將 struct_time 格式轉換為文字\n",
    "\n",
    "print(f'{result}\\n{type(result)}\\n{type(t)}')"
   ]
  },
  {
   "cell_type": "markdown",
   "metadata": {},
   "source": [
    "<div style=\"page-break-after: always\"></div>\n",
    "\n",
    "### time.strftime() 函數\n",
    "> time.strftime() 函數可以依照指定的格式將 struct_time 時間資料轉換為`文字輸出`："
   ]
  },
  {
   "cell_type": "code",
   "execution_count": 75,
   "metadata": {},
   "outputs": [
    {
     "name": "stdout",
     "output_type": "stream",
     "text": [
      "11/04/2022, 15:31:44\n",
      "<class 'str'>\n"
     ]
    }
   ],
   "source": [
    "import time\n",
    "\n",
    "t = time.localtime()     # 取得 struct_time 格式的時間\n",
    "result = time.strftime('%m/%d/%Y, %H:%M:%S', t)# 依指定格式輸出\n",
    "print(f'{result}\\n{type(result)}')"
   ]
  },
  {
   "cell_type": "code",
   "execution_count": null,
   "metadata": {
    "collapsed": false,
    "editable": true,
    "jupyter": {
     "outputs_hidden": false
    }
   },
   "outputs": [],
   "source": [
    "stamp = datetime(2021, 1, 3)\n",
    "print(f'{stamp}\\n'\n",
    "      f'{type(stamp)}\\n'\n",
    "      f'{str(stamp)}\\n'\n",
    "      f\"{stamp.strftime('%Y-%m-%d')}\\n\"\n",
    "      f\"{stamp.strftime('%Y/%m/%d')}\")"
   ]
  },
  {
   "cell_type": "markdown",
   "metadata": {},
   "source": [
    "### time.strptime() 函數\n",
    "> time.strptime() 函數則是跟 time.strftime() 函數相反，它是依據指定的格式，`解析 parse`文字資料中的時間，輸出 struct_time 格式的時間："
   ]
  },
  {
   "cell_type": "markdown",
   "metadata": {},
   "source": []
  },
  {
   "cell_type": "code",
   "execution_count": 18,
   "metadata": {},
   "outputs": [
    {
     "name": "stdout",
     "output_type": "stream",
     "text": [
      "time.struct_time(tm_year=2019, tm_mon=9, tm_mday=25, tm_hour=14, tm_min=57, tm_sec=52, tm_wday=2, tm_yday=268, tm_isdst=-1)\n"
     ]
    }
   ],
   "source": [
    "import time\n",
    "\n",
    "time_string = '09/25/2019, 14:57:52'# 文字資料\n",
    "\n",
    "# 輸出 struct_time 格式的時間\n",
    "result = time.strptime(time_string, '%m/%d/%Y, %H:%M:%S')# 依指定格式解析文字資料中的時間\n",
    "print(result)"
   ]
  },
  {
   "cell_type": "code",
   "execution_count": 77,
   "metadata": {
    "collapsed": false,
    "editable": true,
    "jupyter": {
     "outputs_hidden": false
    }
   },
   "outputs": [
    {
     "data": {
      "text/plain": [
       "('2021-01-03', datetime.datetime(2021, 1, 3, 0, 0))"
      ]
     },
     "execution_count": 77,
     "metadata": {},
     "output_type": "execute_result"
    }
   ],
   "source": [
    "value = '2021-01-03'\n",
    "value, datetime.strptime(value, '%Y-%m-%d') # datetime parsed from a string"
   ]
  },
  {
   "cell_type": "code",
   "execution_count": 78,
   "metadata": {},
   "outputs": [
    {
     "name": "stdout",
     "output_type": "stream",
     "text": [
      "Fri Nov  4 15:33:25 2022\n",
      "Fri Nov  4 13:50:21 2022\n",
      "1667541021.191034\n",
      "1666919347.4475722\n"
     ]
    }
   ],
   "source": [
    "import time, os # 模組\n",
    "\n",
    "print(f'{time.ctime()}\\n' # 返回本地時間\n",
    "      f'{time.ctime(os.path.getatime(\"./\"))}\\n' # 檔案或者目錄最後訪問的時間\n",
    "      f'{os.path.getmtime(\"./\")}\\n' # 最後修改的時間\n",
    "      f'{os.path.getctime(\"./\")}') # 建立時間"
   ]
  },
  {
   "cell_type": "markdown",
   "metadata": {},
   "source": [
    "---\n",
    "<center><h1>--- The End ---</h1></center>"
   ]
  }
 ],
 "metadata": {
  "kernelspec": {
   "display_name": "Python 3.10.7 64-bit",
   "language": "python",
   "name": "python3"
  },
  "language_info": {
   "codemirror_mode": {
    "name": "ipython",
    "version": 3
   },
   "file_extension": ".py",
   "mimetype": "text/x-python",
   "name": "python",
   "nbconvert_exporter": "python",
   "pygments_lexer": "ipython3",
   "version": "3.10.7"
  },
  "vscode": {
   "interpreter": {
    "hash": "c08f6b10d77fad09d09d755fdaa91e1358750def25b824cba47d64ca203d65a5"
   }
  }
 },
 "nbformat": 4,
 "nbformat_minor": 4
}
