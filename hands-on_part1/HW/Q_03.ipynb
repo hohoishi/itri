{
 "cells": [
  {
   "cell_type": "markdown",
   "id": "4f3c14e5-578f-43f1-b472-4a8e1d2bafea",
   "metadata": {},
   "source": [
    "# Q_03"
   ]
  },
  {
   "cell_type": "code",
   "execution_count": 28,
   "id": "c57a5af0-75e8-4d82-92be-7480dc3f42c4",
   "metadata": {},
   "outputs": [
    {
     "name": "stdout",
     "output_type": "stream",
     "text": [
      "4\n",
      "[999, 11.1, 56, 33, 44]\n",
      "[4, 88, 'Mary', 666, 999, 11.1, 56]\n",
      "999 11.1\n",
      "355.3666666666666\n",
      "[666, 'Mary', 88, 4]\n",
      "(666, 'Mary', 88, 4)\n"
     ]
    }
   ],
   "source": [
    "# 1. 請將下列 2 list 作如下運算\n",
    "\n",
    "# 請計算 lst01 的長度\n",
    "# 請將 lst02 從最後一元素開始, 加入[33, 44]\n",
    "# 請將 lst01 和 lst02 直接相加\n",
    "# 請計算 lst02 中的 最大值, 最小值, 平均值\n",
    "# 請將 lst01 所有元素反向\n",
    "# 請將 lst01 轉換成 tuple\n",
    "# 將 lst01 + lst02 後 用迴圈 一一迭代列印出來\n",
    "\n",
    "lst01 = [4, 88, 'Mary', 666]\n",
    "lst02 = [999, 11.1, 56]\n",
    "\n",
    "# -------- your code ------------------\n",
    "print(len(lst01))\n",
    "print(lst02 +[33,44])\n",
    "print(lst01+lst02)\n",
    "print(max(lst02),min(lst02),); print(sum(lst02)/len(lst02))\n",
    "lst01.reverse()\n",
    "print(lst01)\n",
    "print(tuple(lst01))\n",
    "for i in lst01:\n",
    "    \n",
    "\n",
    "\n",
    "\n",
    "\n",
    "\n",
    "\n",
    "\n",
    "\n"
   ]
  },
  {
   "cell_type": "code",
   "execution_count": 31,
   "id": "f80b7b95-96e9-4fc9-9b84-6ed2ef5cf751",
   "metadata": {},
   "outputs": [
    {
     "name": "stdout",
     "output_type": "stream",
     "text": [
      "dict_items([('num', (85, 'John')), ('num1', (60, 'Mary')), ('age', 44)])\n",
      "[('num', (85, 'John')), ('num1', (60, 'Mary')), ('age', 44)]\n",
      "dict_keys(['num', 'num1', 'age'])\n",
      "['num', 'num1', 'age']\n",
      "dict_values([(85, 'John'), (60, 'Mary'), 44])\n",
      "[(85, 'John'), (60, 'Mary'), 44]\n"
     ]
    }
   ],
   "source": [
    "# 2. 請將下列 字典 作如下運算\n",
    "\n",
    "# 列印出該字典中的 items 並將該 items 放置到一 list 中\n",
    "# 列印出該字典中的 keys 並將該 keys 放置到一 list 中\n",
    "# 列印出該字典中的 values 並將該 values 放置到一 list 中\n",
    "\n",
    "dict1 = {'num': (85, 'John'), 'num1': (60, 'Mary'), 'age': 44}  # dict\n",
    "\n",
    "# -------- your code ------------------\n",
    "print(dict1.items())\n",
    "lst=list(dict1.items())\n",
    "print(lst)\n",
    "print(dict1.keys())\n",
    "lst1=list(dict1.keys())\n",
    "print(lst1)\n",
    "print(dict1.values())\n",
    "lst2=list(dict1.values())\n",
    "print(lst2)\n",
    "\n",
    "\n",
    "\n"
   ]
  },
  {
   "cell_type": "code",
   "execution_count": 56,
   "id": "9b4ea9ba-d934-4542-8c94-d194d828b507",
   "metadata": {},
   "outputs": [
    {
     "name": "stdout",
     "output_type": "stream",
     "text": [
      "{'C#', 'Java', 'Python'}\n",
      "{'SQL', 'Java', 'HTML', 'Python'}\n",
      "3\n",
      "4\n",
      "False\n",
      "{'C#', 'Java', 'SQL', 'HTML', 'Python'}\n",
      "{'Java', 'Python'}\n",
      "{'C#'}\n"
     ]
    }
   ],
   "source": [
    "# 3. 請將下列 list 作如下運算\n",
    "\n",
    "# 將下列兩 list 轉換成 集合並分別計算兩集合的長度, 比較一下 list 和集合的長度是否相同\n",
    "# 取兩轉換後的聯集\n",
    "# 取兩轉換後的交集\n",
    "# 取兩轉換後的差集\n",
    "\n",
    "c = ['Python','Java', 'C#', 'Java', 'Python', 'C#']\n",
    "d = ['Python','Java', 'SQL', 'HTML', 'Python']\n",
    "\n",
    "# -------- your code ------------------\n",
    "\n",
    "c1=set(c);d1=set(d)\n",
    "print(c1);print(d1)\n",
    "print(len(c1));print(len(d1))\n",
    "print(len(c1)==len(d1))\n",
    "# print(len(d1))\n",
    "print(c1|d1)\n",
    "print(c1&d1)\n",
    "print(c1-d1)\n",
    "\n",
    "\n",
    "\n",
    "\n",
    "\n",
    "\n"
   ]
  },
  {
   "cell_type": "code",
   "execution_count": 57,
   "id": "a3e9de57-d533-4dec-8faf-3f7e81b41a08",
   "metadata": {},
   "outputs": [
    {
     "data": {
      "text/plain": [
       "123"
      ]
     },
     "execution_count": 57,
     "metadata": {},
     "output_type": "execute_result"
    }
   ],
   "source": [
    "# 4. 在主程式中接受使用者輸入梯形之上底、下底與高的值，\n",
    "#    並呼叫一副程式，將之上底、下底與高的值傳入該副程式後，在副程式中計算並印出梯形面積的值。\n",
    "\n",
    "# -------- your code ------------------\n",
    "def t(A,B,H):\n",
    "    return ((A+B)*H)/2\n",
    "a=float(input()) \n",
    "b=\n",
    "c=   \n",
    "\n",
    "\n",
    "\n",
    "\n",
    "\n"
   ]
  },
  {
   "cell_type": "code",
   "execution_count": null,
   "id": "f003ef90-cf6d-471c-9d07-392ca428ee9b",
   "metadata": {},
   "outputs": [],
   "source": [
    "# 5. 利用 \"匿名函數\"改寫 上題梯形面積的計算\n",
    "\n",
    "# -------- your code ------------------\n",
    "\n",
    "\n",
    "\n",
    "\n",
    "\n"
   ]
  },
  {
   "cell_type": "code",
   "execution_count": null,
   "id": "6d5525b4-2c0f-4b8a-8bcb-4721bfdabbb4",
   "metadata": {},
   "outputs": [],
   "source": []
  },
  {
   "cell_type": "code",
   "execution_count": null,
   "id": "4fb80ccc-3fd4-461f-8a42-98c7698f5304",
   "metadata": {},
   "outputs": [],
   "source": []
  },
  {
   "cell_type": "code",
   "execution_count": null,
   "id": "a0b258a0-7ab5-4830-a38b-131b445e0621",
   "metadata": {},
   "outputs": [],
   "source": []
  }
 ],
 "metadata": {
  "kernelspec": {
   "display_name": "Python 3.10.7 64-bit",
   "language": "python",
   "name": "python3"
  },
  "language_info": {
   "codemirror_mode": {
    "name": "ipython",
    "version": 3
   },
   "file_extension": ".py",
   "mimetype": "text/x-python",
   "name": "python",
   "nbconvert_exporter": "python",
   "pygments_lexer": "ipython3",
   "version": "3.10.7"
  },
  "vscode": {
   "interpreter": {
    "hash": "c08f6b10d77fad09d09d755fdaa91e1358750def25b824cba47d64ca203d65a5"
   }
  }
 },
 "nbformat": 4,
 "nbformat_minor": 5
}
