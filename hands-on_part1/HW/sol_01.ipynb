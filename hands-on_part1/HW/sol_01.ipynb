{
 "cells": [
  {
   "cell_type": "markdown",
   "id": "daf5ba9b-08d9-47ba-95b7-0571feff1d4e",
   "metadata": {},
   "source": [
    "# sol_01"
   ]
  },
  {
   "cell_type": "code",
   "execution_count": 2,
   "id": "ee69e625-f149-4a67-934e-fecce008cc96",
   "metadata": {},
   "outputs": [
    {
     "name": "stdout",
     "output_type": "stream",
     "text": [
      " Hello PythonHello PythonHello PythonHello Python   2022\n",
      "\n",
      " Hello PythonHello PythonHello PythonHello Python   2022\n"
     ]
    }
   ],
   "source": [
    "# 1.  請利用 Python Print 指令列印出下列文字\n",
    "# \" Hello PythonHello PythonHello Python   2022\"\n",
    "# 空一行\n",
    "# \" Hello PythonHello PythonHello Python   2022\"\n",
    "\n",
    "# ---- your code -----\n",
    "\n",
    "print(' '+'Hello Python'*4,' ', 2022)\n",
    "print()\n",
    "print(' '+'Hello Python'*4,' ', 2022)"
   ]
  },
  {
   "cell_type": "code",
   "execution_count": 3,
   "id": "eaf40eab-c693-41b6-84a9-330c1423fca2",
   "metadata": {},
   "outputs": [
    {
     "name": "stdout",
     "output_type": "stream",
     "text": [
      "20.0\n",
      "3200000.0\n",
      "1788.8543819998317\n",
      "120.0\n",
      "<class 'str'>\n"
     ]
    },
    {
     "ename": "ValueError",
     "evalue": "invalid literal for int() with base 10: 'Hello Python'",
     "output_type": "error",
     "traceback": [
      "\u001b[1;31m---------------------------------------------------------------------------\u001b[0m",
      "\u001b[1;31mValueError\u001b[0m                                Traceback (most recent call last)",
      "Input \u001b[1;32mIn [3]\u001b[0m, in \u001b[0;36m<cell line: 24>\u001b[1;34m()\u001b[0m\n\u001b[0;32m     22\u001b[0m \u001b[38;5;28mprint\u001b[39m(\u001b[38;5;28mfloat\u001b[39m(a))\n\u001b[0;32m     23\u001b[0m \u001b[38;5;28mprint\u001b[39m(\u001b[38;5;28mtype\u001b[39m(\u001b[38;5;28mstr\u001b[39m(a)))\n\u001b[1;32m---> 24\u001b[0m \u001b[38;5;28mprint\u001b[39m(\u001b[38;5;28;43mint\u001b[39;49m\u001b[43m(\u001b[49m\u001b[43mc\u001b[49m\u001b[43m)\u001b[49m)\n",
      "\u001b[1;31mValueError\u001b[0m: invalid literal for int() with base 10: 'Hello Python'"
     ]
    }
   ],
   "source": [
    "# 2. 請利用 Python 執行下列需求\n",
    "\n",
    "# 將 a 變數物件參考到 120\n",
    "# 將 b 變數物件參考到 50.0\n",
    "# 將 c 變數物件參考到 'Hollo Python'\n",
    "\n",
    "# 讓 x 變數物件參考到 a 除以 b 的餘數,  列印出結果\n",
    "# 讓 y 變數物件參考到 x 的 5 次方,  列印出結果\n",
    "# 在讓 y 變數物件參考到 y 的開平方根  列印出 y 的結果\n",
    "\n",
    "# 將 a 變數物件 轉換成 浮點數\n",
    "# 將 a 變數物件 轉換成 文字\n",
    "# 將 c 變數物件 轉換成 整數 觀察會發生甚麼結果 ?\n",
    "\n",
    "# --- your code ------------\n",
    "\n",
    "a = 120; b = 50.0; c='Hello Python'\n",
    "x = a%b;   print(x)\n",
    "y = x**5;  print(y)\n",
    "y = y**.5; print(y)\n",
    "\n",
    "print(float(a))\n",
    "print(type(str(a)))\n",
    "print(int(c))"
   ]
  },
  {
   "cell_type": "code",
   "execution_count": 2,
   "id": "b47b916e-f18c-43da-8880-573c844fa215",
   "metadata": {},
   "outputs": [
    {
     "name": "stdout",
     "output_type": "stream",
     "text": [
      "30\n",
      "40\n",
      "\n",
      "50\n",
      "60\n"
     ]
    }
   ],
   "source": [
    "# 3. 請利用 Python 指定運算子執行下列需求\n",
    "\n",
    "# 先將 a 變數物件參考到 20\n",
    "# 再將 a 變數物件參考到 a + 10   列印出結果\n",
    "# 再將 a 變數物件參考到 a + 10   列印出結果\n",
    "# 請利用 a+=10 方法再做一次\n",
    "# --- your code ------------\n",
    "\n",
    "a=20\n",
    "a=a+10; print(a)\n",
    "a=a+10; print(a)\n",
    "\n",
    "print()\n",
    "\n",
    "a+=10; print(a)\n",
    "a+=10; print(a)"
   ]
  },
  {
   "cell_type": "code",
   "execution_count": 3,
   "id": "b2da1a94-fd90-4eee-9f11-51126d1780c6",
   "metadata": {},
   "outputs": [
    {
     "name": "stdout",
     "output_type": "stream",
     "text": [
      "<class 'int'> 120 2578170402896\n",
      "<class 'float'> 120.0 2578252967472\n",
      "<class 'str'> Hello Python 2578253485552\n",
      "\n",
      "False\n",
      "True\n",
      "False\n"
     ]
    }
   ],
   "source": [
    "# 4.  請利用 Python 指令執行下列需求\n",
    "\n",
    "# 將 a 變數物件參考到 120\n",
    "# 將 b 變數物件參考到 120.0\n",
    "# 將 c 變數物件參考到 'Hollo Python'\n",
    "\n",
    "# 請列印出 a, b, c 三物件的 類型, 值 和 記憶體位置\n",
    "# 請利用 '== ' 檢視 a 和 b 物件的 類型 是否相等\n",
    "# 請利用 '== ' 檢視 a 和 b 物件的 值 是否相等\n",
    "# 請利用 '== ' 檢視 a 和 b 物件的 記憶體位置 是否相等\n",
    "\n",
    "# ---- your code ---------------\n",
    "a=120; b=120.0; c='Hello Python'\n",
    "print(type(a), a, id(a))\n",
    "print(type(b), b, id(b))\n",
    "print(type(c), c, id(c))\n",
    "print()\n",
    "print(type(a)==type(b))\n",
    "print(a==b)\n",
    "print(id(a)==id(b))"
   ]
  },
  {
   "cell_type": "code",
   "execution_count": 4,
   "id": "90c5dacc-903b-4e86-ae85-063dbdd1576b",
   "metadata": {},
   "outputs": [
    {
     "name": "stdout",
     "output_type": "stream",
     "text": [
      "0b10000000\n",
      "128\n",
      "\n",
      "0o200\n",
      "128\n",
      "\n",
      "0x80\n",
      "128\n"
     ]
    }
   ],
   "source": [
    "# 5.  請利用 Python 指令執行下列需求\n",
    "\n",
    "# 將 a 變數物件參考到 128\n",
    "# 將 a 變數物件分別轉換成 二, 八 , 十六進位\n",
    "# 再將 a 變數物件 二, 八 , 十六進位分別轉回 十進位\n",
    "\n",
    "# -------- your code -----------\n",
    "\n",
    "a=128\n",
    "print(bin(a))\n",
    "print(int(bin(a), 2))\n",
    "print()\n",
    "print(oct(a))\n",
    "print(int(oct(a), 8))\n",
    "print()\n",
    "print(hex(a))\n",
    "print(int(hex(a), 16))"
   ]
  },
  {
   "cell_type": "code",
   "execution_count": 4,
   "id": "6e617398-d6f6-4c97-86cc-64ecb86d3760",
   "metadata": {},
   "outputs": [
    {
     "name": "stdout",
     "output_type": "stream",
     "text": [
      "98.60000000000001\n"
     ]
    }
   ],
   "source": [
    "# 6. 華氏 F = (攝氏 C )(9/5) + 32\n",
    "# 請將 攝氏 37 度轉換成 華氏\n",
    "\n",
    "# -------- your code -----------\n",
    "\n",
    "c=37\n",
    "f=c*(9/5)+32\n",
    "print(f)"
   ]
  },
  {
   "cell_type": "markdown",
   "id": "d651ee47-64ce-4dae-be34-63bf61fdc2b3",
   "metadata": {},
   "source": [
    "### 7. BMI值計算公式:    BMI = 體重(公斤) / $身高^2(公尺^2)$"
   ]
  },
  {
   "cell_type": "code",
   "execution_count": null,
   "id": "833b4b23-d8e0-4d79-a634-24dad9eafe0a",
   "metadata": {},
   "outputs": [
    {
     "name": "stdout",
     "output_type": "stream",
     "text": [
      "24.221453287197235 True\n"
     ]
    }
   ],
   "source": [
    "# 請計算 體重 70 公斤, 身高 1 公尺 70 公分 的 BMI, 並且判斷是否有大於 24 \n",
    "\n",
    "# -------- your code -----------\n",
    "\n",
    "print(70/1.7**2, 70/1.7**2>24)"
   ]
  },
  {
   "cell_type": "code",
   "execution_count": null,
   "id": "1e3b4e91-a187-4237-b801-1690620bfabb",
   "metadata": {},
   "outputs": [],
   "source": []
  }
 ],
 "metadata": {
  "kernelspec": {
   "display_name": "Python 3 (ipykernel)",
   "language": "python",
   "name": "python3"
  },
  "language_info": {
   "codemirror_mode": {
    "name": "ipython",
    "version": 3
   },
   "file_extension": ".py",
   "mimetype": "text/x-python",
   "name": "python",
   "nbconvert_exporter": "python",
   "pygments_lexer": "ipython3",
   "version": "3.9.12"
  }
 },
 "nbformat": 4,
 "nbformat_minor": 5
}
