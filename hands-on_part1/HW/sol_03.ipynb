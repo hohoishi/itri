{
 "cells": [
  {
   "cell_type": "markdown",
   "id": "4f3c14e5-578f-43f1-b472-4a8e1d2bafea",
   "metadata": {},
   "source": [
    "# sol_03"
   ]
  },
  {
   "cell_type": "code",
   "execution_count": 9,
   "id": "72414cf1-53cb-449c-a237-1fabb47183f1",
   "metadata": {},
   "outputs": [
    {
     "name": "stdout",
     "output_type": "stream",
     "text": [
      "4\n",
      "[999, 11.1, 56, 33, 44]\n"
     ]
    }
   ],
   "source": [
    "# 1. 請將下列 2 list 作如下運算\n",
    "\n",
    "# 請計算 lst01 的長度\n",
    "# 請將 lst02 從最後一元素開始, 加入[33, 44]\n",
    "# 請將 lst01 和 lst02 直接相加\n",
    "# 請計算 lst02 中的 最大值, 最小值, 平均值\n",
    "# 請將 lst01 所有元素反向\n",
    "# 請將 lst01 轉換成 tuple\n",
    "# 將 lst01 + lst02 後 用迴圈 一一迭代列印出來\n",
    "\n",
    "lst01 = [4, 88, 'Mary', 666]\n",
    "lst02 = [999, 11.1, 56]\n",
    "\n",
    "# -------- your code ------------------\n",
    "\n",
    "print(len(lst01))\n",
    "\n",
    "lst02.extend([33, 44])  # lst02+[33, 44]\n",
    "print(lst02)"
   ]
  },
  {
   "cell_type": "code",
   "execution_count": 11,
   "id": "6d6f9bc2-da8f-49a4-a046-16118bde681a",
   "metadata": {},
   "outputs": [
    {
     "name": "stdout",
     "output_type": "stream",
     "text": [
      "[666, 'Mary', 88, 4, 999, 11.1, 56, 33, 44]\n",
      "999 11.1 228.61999999999998\n",
      "[4, 88, 'Mary', 666]\n",
      "(4, 88, 'Mary', 666)\n",
      "4\n",
      "88\n",
      "Mary\n",
      "666\n",
      "999\n",
      "11.1\n",
      "56\n",
      "33\n",
      "44\n"
     ]
    }
   ],
   "source": [
    "print(lst01+lst02)\n",
    "\n",
    "print(max(lst02), min(lst02), sum(lst02)/len(lst02))\n",
    "\n",
    "lst01.reverse()\n",
    "print(lst01)\n",
    "\n",
    "print(tuple(lst01))\n",
    "\n",
    "for i in lst01+lst02:\n",
    "    print(i)"
   ]
  },
  {
   "cell_type": "code",
   "execution_count": 12,
   "id": "f80b7b95-96e9-4fc9-9b84-6ed2ef5cf751",
   "metadata": {},
   "outputs": [
    {
     "name": "stdout",
     "output_type": "stream",
     "text": [
      "dict_items([('num', (85, 'John')), ('num1', (60, 'Mary')), ('age', 44)])\n",
      "[('num', (85, 'John')), ('num1', (60, 'Mary')), ('age', 44)] \n",
      "\n",
      "dict_keys(['num', 'num1', 'age'])\n",
      "['num', 'num1', 'age'] \n",
      "\n",
      "dict_values([(85, 'John'), (60, 'Mary'), 44])\n",
      "[(85, 'John'), (60, 'Mary'), 44]\n"
     ]
    }
   ],
   "source": [
    "# 2. 請將下列 字典 作如下運算\n",
    "\n",
    "# 列印出該字典中的 items 並將該 items 放置到一 list 中\n",
    "# 列印出該字典中的 keys 並將該 keys 放置到一 list 中\n",
    "# 列印出該字典中的 values 並將該 values 放置到一 list 中\n",
    "\n",
    "dict1 = {'num': (85, 'John'), 'num1': (60, 'Mary'), 'age': 44}  # dict\n",
    "\n",
    "# -------- your code ------------------\n",
    "\n",
    "print(dict1.items())\n",
    "print(list(dict1.items()), '\\n')\n",
    "\n",
    "print(dict1.keys())\n",
    "print(list(dict1.keys()), '\\n')\n",
    "\n",
    "print(dict1.values())\n",
    "print(list(dict1.values()))"
   ]
  },
  {
   "cell_type": "code",
   "execution_count": 13,
   "id": "9b4ea9ba-d934-4542-8c94-d194d828b507",
   "metadata": {},
   "outputs": [
    {
     "name": "stdout",
     "output_type": "stream",
     "text": [
      "{'Python', 'C#', 'Java'} {'Python', 'HTML', 'Java', 'SQL'}\n",
      "6 3 False\n",
      "5 4 False\n",
      "a | b\t\t\t=  {'Python', 'C#', 'Java', 'HTML', 'SQL'}\n",
      "a.union(b)\t\t=  {'Python', 'C#', 'Java', 'HTML', 'SQL'} \n",
      "\n",
      "a & b\t\t\t=  {'Python', 'Java'}\n",
      "a.intersection(b)\t=  {'Python', 'Java'} \n",
      "\n",
      "a - b\t\t\t=  {'C#'}\n",
      "a.difference(b)\t\t=  {'C#'} \n",
      "\n",
      "b - a\t\t\t=  {'HTML', 'SQL'}\n",
      "b.differnece(a)\t\t=  {'HTML', 'SQL'} \n",
      "\n"
     ]
    }
   ],
   "source": [
    "# 3. 請將下列 list 作如下運算\n",
    "\n",
    "# 將下列兩 list 轉換成 集合並分別計算兩集合的長度, 比較一下 list 和 集合 的長度是否相同\n",
    "# 取兩轉換後的聯集\n",
    "# 取兩轉換後的交集\n",
    "# 取兩轉換後的差集\n",
    "\n",
    "c = ['Python','Java', 'C#', 'Java', 'Python', 'C#']\n",
    "d = ['Python','Java', 'SQL', 'HTML', 'Python']\n",
    "\n",
    "# -------- your code ------------------\n",
    "\n",
    "a = set(c);  b = set(d)\n",
    "\n",
    "print(a, b)\n",
    "print(len(c), len(set(a)), len(c)==len(set(a)))\n",
    "print(len(d), len(set(b)), len(d)==len(set(b)))\n",
    "\n",
    "print('a | b\\t\\t\\t= ', a | b)                            # 聯集\n",
    "print('a.union(b)\\t\\t= ', a.union(b), '\\n')              # 聯集\n",
    "\n",
    "print('a & b\\t\\t\\t= ', a & b)                            # 交集\n",
    "print('a.intersection(b)\\t= ', a.intersection(b), '\\n')  # 交集\n",
    "\n",
    "print('a - b\\t\\t\\t= ', a - b)                            # diff\n",
    "print('a.difference(b)\\t\\t= ', a.difference(b), '\\n')    # 差集\n",
    "\n",
    "print('b - a\\t\\t\\t= ', b - a)                            # diff\n",
    "print('b.differnece(a)\\t\\t= ', b.difference(a), '\\n')  "
   ]
  },
  {
   "cell_type": "code",
   "execution_count": 15,
   "id": "a3e9de57-d533-4dec-8faf-3f7e81b41a08",
   "metadata": {},
   "outputs": [
    {
     "name": "stdout",
     "output_type": "stream",
     "text": [
      "請輸入上底: 10\n",
      "請輸入下底: 20\n",
      "請輸入高: 30\n"
     ]
    },
    {
     "name": "stdout",
     "output_type": "stream",
     "text": [
      "此梯形面積為: 450.0\n"
     ]
    }
   ],
   "source": [
    "# 4. 在主程式中接受使用者輸入梯形之上底、下底與高的值，\n",
    "#    並呼叫一副程式，將之上底、下底與高的值傳入該副程式後，在副程式中計算並印出梯形面積的值。\n",
    "\n",
    "# -------- your code ------------------\n",
    "\n",
    "def t_area(A, B, H):\n",
    "    return ((A + B)* H) / 2\n",
    "\n",
    "a = float(input(\"請輸入上底:\"))\n",
    "b = float(input(\"請輸入下底:\"))\n",
    "h = float(input(\"請輸入高:\"))\n",
    "\n",
    "print(\"此梯形面積為:\",t_area(a,b,h))"
   ]
  },
  {
   "cell_type": "code",
   "execution_count": 47,
   "id": "f003ef90-cf6d-471c-9d07-392ca428ee9b",
   "metadata": {},
   "outputs": [
    {
     "name": "stdout",
     "output_type": "stream",
     "text": [
      "請輸入上底: 4\n",
      "請輸入下底: 5\n",
      "請輸入高: 6\n"
     ]
    },
    {
     "name": "stdout",
     "output_type": "stream",
     "text": [
      "此梯形面積為: 27.0\n"
     ]
    }
   ],
   "source": [
    "# 5. 利用 \"匿名函數\"改寫 上題梯形面積的計算\n",
    "\n",
    "# -------- your code ------------------\n",
    "\n",
    "a = eval(input(\"請輸入上底:\"))\n",
    "b = eval(input(\"請輸入下底:\"))\n",
    "h = eval(input(\"請輸入高:\"))\n",
    "\n",
    "data = lambda a, b, h : ((a+b)*h)/2\n",
    "print(\"此梯形面積為:\", data(a,b,h))"
   ]
  },
  {
   "cell_type": "code",
   "execution_count": null,
   "id": "6d5525b4-2c0f-4b8a-8bcb-4721bfdabbb4",
   "metadata": {},
   "outputs": [],
   "source": []
  },
  {
   "cell_type": "code",
   "execution_count": null,
   "id": "4fb80ccc-3fd4-461f-8a42-98c7698f5304",
   "metadata": {},
   "outputs": [],
   "source": []
  },
  {
   "cell_type": "code",
   "execution_count": null,
   "id": "a0b258a0-7ab5-4830-a38b-131b445e0621",
   "metadata": {},
   "outputs": [],
   "source": []
  }
 ],
 "metadata": {
  "kernelspec": {
   "display_name": "Python 3.10.7 64-bit",
   "language": "python",
   "name": "python3"
  },
  "language_info": {
   "codemirror_mode": {
    "name": "ipython",
    "version": 3
   },
   "file_extension": ".py",
   "mimetype": "text/x-python",
   "name": "python",
   "nbconvert_exporter": "python",
   "pygments_lexer": "ipython3",
   "version": "3.10.7"
  },
  "vscode": {
   "interpreter": {
    "hash": "c08f6b10d77fad09d09d755fdaa91e1358750def25b824cba47d64ca203d65a5"
   }
  }
 },
 "nbformat": 4,
 "nbformat_minor": 5
}
