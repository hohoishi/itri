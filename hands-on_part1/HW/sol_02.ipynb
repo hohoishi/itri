{
 "cells": [
  {
   "cell_type": "markdown",
   "id": "cf6c397b-3c81-4169-9df3-c0eed7b360ea",
   "metadata": {},
   "source": [
    "# sol_02"
   ]
  },
  {
   "cell_type": "code",
   "execution_count": 1,
   "id": "33aa27ae-6e69-4f74-803d-c939fbf67f04",
   "metadata": {},
   "outputs": [
    {
     "name": "stdout",
     "output_type": "stream",
     "text": [
      "True\n",
      "False\n",
      "True\n",
      "False\n",
      "False\n"
     ]
    }
   ],
   "source": [
    "# 1.  請利用 Python 比較運算 完成下列需求 :\n",
    "\n",
    "# 將 a 變數物件參考到 120\n",
    "# 將 b 變數物件參考到 50.0\n",
    "# 將 c 變數物件參考到 'Hollo Python'\n",
    "\n",
    "# a 等於 120 嗎 ?\n",
    "# b 不等於 50 嗎 ?\n",
    "# a 大於等於 b 嗎 ?\n",
    "# a 小於等於 b 嗎 ?\n",
    "\n",
    "# a 等於 c 嗎 ?\n",
    "\n",
    "# ---- your code -----\n",
    "\n",
    "a=120; b=50; c='Hello Python'\n",
    "print(a==120)\n",
    "print(b!=50)\n",
    "print(a>=b)\n",
    "print(a<=b)\n",
    "\n",
    "print(a==c)"
   ]
  },
  {
   "cell_type": "code",
   "execution_count": 2,
   "id": "e2251e7a-bdb6-45f8-885d-b8fa6acb2fa4",
   "metadata": {},
   "outputs": [
    {
     "name": "stdout",
     "output_type": "stream",
     "text": [
      "Hello Python\n",
      "0\n",
      "Hello Python \n",
      "\n",
      "120\n",
      "50\n",
      "1\n"
     ]
    }
   ],
   "source": [
    "# 2.  請利用 Python 邏輯運算完成下列需求 :\n",
    "\n",
    "# 將 a 變數物件參考到 120\n",
    "# 將 b 變數物件參考到 50.0\n",
    "# 將 c 變數物件參考到 'Hollo Python'\n",
    "\n",
    "# a 和 b 和 c ?\n",
    "# 0 和 b 和 c ?\n",
    "# 1 和 b 和 c ?\n",
    "\n",
    "# a 或 b 或 c ?\n",
    "# 0 或 b 或 c ?\n",
    "# 1 或 b 或 c ?\n",
    "\n",
    "# ---- your code -----\n",
    "\n",
    "a=120; b=50; c='Hello Python'\n",
    "\n",
    "print(a and b and c)\n",
    "print(0 and b and c)\n",
    "print(1 and b and c, '\\n')\n",
    "\n",
    "print(a or b or c)\n",
    "print(0 or b or c)\n",
    "print(1 or b or c)"
   ]
  },
  {
   "cell_type": "code",
   "execution_count": 2,
   "id": "2bb7deb8-e6a3-4235-88a0-efbd678d816e",
   "metadata": {},
   "outputs": [
    {
     "name": "stdout",
     "output_type": "stream",
     "text": [
      "150 \n",
      "\n",
      "T \n",
      "\n",
      ". \n",
      "\n",
      "NEWLINE(\n",
      " \n",
      "\n",
      " o rpeqoe t \n",
      "\n",
      ".752 PEP ni noitnevnoc gnirtscod eht htiw\n",
      "tnetsisnoc eb ot sretcarahc etouq elbuod esu syawla\n",
      ",sgnirts detouq-elpirt roF .)\n",
      "(ENILWEN ro )\t(BAT sa hcus \n",
      "\n",
      "such as TA.752 PEP \n"
     ]
    }
   ],
   "source": [
    "# 3.  請利用 Python index, slice完成下列需求 :\n",
    "\n",
    "# 建立 text = 'such as TAB(\\t) or NEWLINE(\\n). For triple-quoted strings,\n",
    "# always use double quote characters to be consistent\n",
    "# with the docstring convention in PEP 257.'\n",
    "\n",
    "# 請先列印出 text 長度 ?\n",
    "# 請列印出 text 中第 9 個字母是甚麼?\n",
    "# 請列印出 text 中最後一個字母是甚麼?\n",
    "# 請列印出 text 中第19 到 26 的字母是甚麼?\n",
    "# 請列印出 text 中第30 到 50 間隔為 2 的字母是甚麼?\n",
    "# 請列印出 text 中所有字母翻轉過來?\n",
    "# 請列印出 text 中前 10 個字母 加上 後 10 個字母翻轉過來 的結果?\n",
    "\n",
    "# -------- your code ------------------\n",
    "\n",
    "text = '''such as TAB(\\t) or NEWLINE(\\n). For triple-quoted strings,\n",
    "always use double quote characters to be consistent\n",
    "with the docstring convention in PEP 257.'''\n",
    "\n",
    "print(len(text), '\\n')\n",
    "print(text[8], '\\n')\n",
    "print(text[-1], '\\n')\n",
    "print(text[18:27], '\\n')\n",
    "print(text[29:50:2], '\\n')\n",
    "print(text[::-1], '\\n')\n",
    "print(text[:10]+text[:-10:-1])"
   ]
  },
  {
   "cell_type": "code",
   "execution_count": 3,
   "id": "cdc656ec-b830-4856-ad5b-181df6fbbbb9",
   "metadata": {},
   "outputs": [
    {
     "name": "stdout",
     "output_type": "stream",
     "text": [
      "text.count('s') : 10\n",
      "39 140\n",
      "False \n",
      "\n",
      "SUCH AS TAB(\t) OR NEWLINE(\n",
      "). FOR TRIPLE-QUOTED STRINGS,\n",
      "ALWAYS USE DOUBLE QUOTE CHARACTERS TO BE CONSISTENT\n",
      "WITH THE DOCSTRING CONVENTION IN PEP 257. \n",
      "\n",
      "Such As Tab(\t) Or Newline(\n",
      "). For Triple-Quoted Strings,\n",
      "Always Use Double Quote Characters To Be Consistent\n",
      "With The Docstring Convention In Pep 257. \n",
      "\n",
      "such as TAB(\\t) or NEWLINE(\\n). For triple-quoted strings,\n",
      "always use double quote characters to be consistent\n",
      "with the docstring convention in PEP 257.\n"
     ]
    }
   ],
   "source": [
    "# 4.  請利用 Python 文字運算完成下列需求 :\n",
    "\n",
    "# 建立 text = 'such as TAB(\\t) or NEWLINE(\\n). For triple-quoted strings,\n",
    "# always use double quote characters to be consistent\n",
    "# with the docstring convention in PEP 257.'\n",
    "\n",
    "# 算出 text 中有多少個 's'\n",
    "# 找出 text 中第一個'e' 和 最後一個 'n' 的位置\n",
    "# 找出 text 中是否有字母 'z' 在其中\n",
    "# 將 text 內所有的字母轉大寫\n",
    "# 將 text 內所有的單字轉第一個字母大寫\n",
    "# 列印出 包含跳脫字元的 text\n",
    "# -------- your code ------------------\n",
    "\n",
    "text = '''such as TAB(\\t) or NEWLINE(\\n). For triple-quoted strings,\n",
    "always use double quote characters to be consistent\n",
    "with the docstring convention in PEP 257.'''\n",
    "\n",
    "print(\"text.count('s') :\", text.count('s'))\n",
    "print(text.find('e'), text.rfind('n'))\n",
    "print('z' in text, '\\n')\n",
    "print(text.upper(), '\\n')\n",
    "print(text.title(), '\\n')\n",
    "\n",
    "text = r'''such as TAB(\\t) or NEWLINE(\\n). For triple-quoted strings,\n",
    "always use double quote characters to be consistent\n",
    "with the docstring convention in PEP 257.'''\n",
    "\n",
    "print(text)"
   ]
  },
  {
   "cell_type": "code",
   "execution_count": 4,
   "id": "0f4df22a-c097-4904-a106-5ef5efe2cfdd",
   "metadata": {},
   "outputs": [
    {
     "name": "stdin",
     "output_type": "stream",
     "text": [
      "輸入成績 :  87\n"
     ]
    },
    {
     "name": "stdout",
     "output_type": "stream",
     "text": [
      "成績等級 :  B\n"
     ]
    }
   ],
   "source": [
    "# 5 利用 if...elif...else 指令, 分辨學生的成績等第\n",
    "# input 輸入 一學生成績 0 ~ 100\n",
    "# 判定成績等第\n",
    "# 'A' >= 90\n",
    "# 'B' >= 80, <90\n",
    "# 'C' >= 70, <80\n",
    "# 'D' >= 60, <70\n",
    "# 'E' <60\n",
    "\n",
    "# -------- your code ------------------\n",
    "\n",
    "amt = int(input('輸入成績 : '))\n",
    "\n",
    "if amt < 60:\n",
    "    grade = 'E'\n",
    "elif amt < 70:\n",
    "    grade = 'D'\n",
    "elif amt < 80:\n",
    "    grade = 'C'\n",
    "elif amt < 90:\n",
    "    grade = 'B'\n",
    "else:\n",
    "    grade = 'A'\n",
    "\n",
    "print('成績等級 : ', grade)"
   ]
  },
  {
   "cell_type": "code",
   "execution_count": 8,
   "id": "51e117b0-c5d5-4c7f-b467-69f7b9240d19",
   "metadata": {},
   "outputs": [
    {
     "name": "stdout",
     "output_type": "stream",
     "text": [
      "1 5 7 11 13 17 19 23 25 29 31 35 37 41 43 47 49 53 55 59 61 65 67 71 73 77 79 83 85 89 91 95 97 101 103 107 109 113 115 119 121 125 127 131 133 137 139 143 145 149 151 155 157 161 163 167 169 173 175 179 181 185 187 191 193 197 199 203 205 209 211 215 217 221 223 227 229 233 235 239 241 245 247 251 253 257 259 263 265 269 271 275 277 281 283 287 289 293 295 299 301 305 307 311 313 317 319 323 325 329 331 335 337 341 343 347 349 353 355 359 361 365 367 371 373 377 379 383 385 389 391 395 397 401 403 407 409 413 415 419 421 425 427 431 433 437 439 443 445 449 451 455 457 461 463 467 469 473 475 479 481 485 487 491 493 497 499 503 505 509 511 515 517 521 523 527 529 533 535 539 541 545 547 551 553 557 559 563 565 569 571 575 577 581 583 587 589 593 595 599 601 605 607 611 613 617 619 623 625 629 631 635 637 641 643 647 649 653 655 659 661 665 667 671 673 677 679 683 685 689 691 695 697 701 703 707 709 713 715 719 721 725 727 731 733 737 739 743 745 749 751 755 757 761 763 767 769 773 775 779 781 785 787 791 793 797 799 803 805 809 811 815 817 821 823 827 829 833 835 839 841 845 847 851 853 857 859 863 865 869 871 875 877 881 883 887 889 893 895 899 901 905 907 911 913 917 919 923 925 929 931 935 937 941 943 947 949 953 955 959 961 965 967 971 973 977 979 983 985 989 991 995 997 "
     ]
    }
   ],
   "source": [
    "# 6. 列出 1 到 999 中不能被 2 整除也不能被 3 整除的數字\n",
    "\n",
    "# -------- your code ------------------\n",
    "\n",
    "for i in range(1000):\n",
    "    if i%2 != 0 and i%3 != 0:\n",
    "        print(i, end=\" \")"
   ]
  },
  {
   "cell_type": "code",
   "execution_count": 5,
   "id": "6bd8e70b-9d0c-4304-af6d-d78b301ba502",
   "metadata": {},
   "outputs": [
    {
     "name": "stdin",
     "output_type": "stream",
     "text": [
      "Please input N:  5\n",
      "Please input the value:  12\n",
      "Please input the value:  8\n"
     ]
    },
    {
     "name": "stdout",
     "output_type": "stream",
     "text": [
      "STOP ON：  8\n"
     ]
    }
   ],
   "source": [
    "# 7 .利用 while 寫一程式，讀入 N 個數字，找到第一個大於 7 而小於 10 的數字就停止，而且列印出這個數字。\n",
    "\n",
    "# -------- your code ------------------\n",
    "\n",
    "N = int(input(\"Please input N: \"))\n",
    "\n",
    "while N > 0:\n",
    "    x = int(input(\"Please input the value: \"))\n",
    "    if x>7 and x<10:\n",
    "        break\n",
    "\n",
    "print(\"STOP ON： \",x)"
   ]
  },
  {
   "cell_type": "code",
   "execution_count": 2,
   "id": "341ef3ca-2e88-4819-8a76-6e51114872d1",
   "metadata": {},
   "outputs": [
    {
     "name": "stdin",
     "output_type": "stream",
     "text": [
      "Please, input a Year:  2016\n"
     ]
    },
    {
     "name": "stdout",
     "output_type": "stream",
     "text": [
      "是閏年\n",
      "是閏年\n"
     ]
    }
   ],
   "source": [
    "# 8.  請使用者輸入年份，判斷是否是閏年\n",
    "# 如何判斷年份是否為閏年\n",
    "# 西元年份除以4不可整除，為平年。\n",
    "# 西元年份除以4可整除，且除以100不可整除，為閏年。\n",
    "# 西元年份除以100可整除，且除以400不可整除，為平年\n",
    "# 西元年份除以400可整除，為閏年。\n",
    "\n",
    "# 請輸入一個年份\n",
    "\n",
    "# -------- your code ------------------\n",
    "\n",
    "y=int(input(\"Please, input a Year: \"))\n",
    "\n",
    "if ((y%4)==0 and (y%100) != 0) or (y%400)==0 :\n",
    "    print(\"是閏年\")\n",
    "else :\n",
    "    print(\"是平年\")\n",
    "\n",
    "\n",
    "print(\"是閏年\" if ((y%4)==0 and (y%100) != 0) or (y%400)==0 else print(\"是平年\")) "
   ]
  },
  {
   "cell_type": "code",
   "execution_count": null,
   "id": "f29e2920-29c6-4cce-a283-07b3745c9063",
   "metadata": {},
   "outputs": [],
   "source": []
  }
 ],
 "metadata": {
  "kernelspec": {
   "display_name": "Python 3 (ipykernel)",
   "language": "python",
   "name": "python3"
  },
  "language_info": {
   "codemirror_mode": {
    "name": "ipython",
    "version": 3
   },
   "file_extension": ".py",
   "mimetype": "text/x-python",
   "name": "python",
   "nbconvert_exporter": "python",
   "pygments_lexer": "ipython3",
   "version": "3.9.12"
  }
 },
 "nbformat": 4,
 "nbformat_minor": 5
}
