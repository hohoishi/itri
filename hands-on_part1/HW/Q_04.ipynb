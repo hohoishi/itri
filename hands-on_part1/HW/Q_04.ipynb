{
 "cells": [
  {
   "cell_type": "markdown",
   "id": "ecd88b53-dfb8-4d22-a67e-2f92a91a85c0",
   "metadata": {},
   "source": [
    "# Q_04"
   ]
  },
  {
   "cell_type": "code",
   "execution_count": 2,
   "id": "4bbb8d0b-5b90-40b7-9a05-4ccb43f12081",
   "metadata": {},
   "outputs": [
    {
     "name": "stdout",
     "output_type": "stream",
     "text": [
      "error\n"
     ]
    }
   ],
   "source": [
    "# 1. 利用 \"異常處理\" 機制包裝梯形面積的計算 並在所入放輸入錯誤資料\n",
    "\n",
    "# -------- your code ------------------\n",
    "try:\n",
    "    a=eval(input('上底:'))\n",
    "    b=eval(input('下底:'))\n",
    "    h=eval(input('高:'))\n",
    "    print(a*b/h)\n",
    "\n",
    "except:\n",
    "    print('error')\n",
    "        \n",
    "\n",
    "\n",
    "\n",
    "\n",
    "\n",
    "\n",
    "\n",
    "\n"
   ]
  },
  {
   "cell_type": "code",
   "execution_count": 10,
   "id": "9d45ac32-7b0a-4f9e-88e4-73e12a65caf4",
   "metadata": {},
   "outputs": [
    {
     "name": "stdout",
     "output_type": "stream",
     "text": [
      "<_io.TextIOWrapper name='nt.txt' mode='w' encoding='utf-8'>\n",
      "write two data to nt.txt\n"
     ]
    }
   ],
   "source": [
    "# 2. 在目前的目錄下建置一 .txt 檔並在該檔案中寫入兩行任一文字\n",
    "\n",
    "# -------- your code ------------------\n",
    "fp=open('nt.txt','w',encoding='utf-8')\n",
    "fp.write('123456\\n')\n",
    "fp.write('456789')\n",
    "print(fp)\n",
    "print('write two data to nt.txt')\n",
    "fp.close()\n",
    "\n",
    "\n"
   ]
  },
  {
   "cell_type": "code",
   "execution_count": 17,
   "id": "cbc1220b-ef23-40db-bb19-ca5a5aff0d7b",
   "metadata": {},
   "outputs": [
    {
     "name": "stdout",
     "output_type": "stream",
     "text": [
      "nt.txt\n",
      "r\n",
      "utf-8\n",
      "False\n"
     ]
    },
    {
     "data": {
      "text/plain": [
       "True"
      ]
     },
     "execution_count": 17,
     "metadata": {},
     "output_type": "execute_result"
    }
   ],
   "source": [
    "# 3 在目前的目錄下讀回上題中的 .txt 檔並列印出它的屬性 檔名, 檔案模式, 檔案編碼方式, 是否已關檔\n",
    "\n",
    "# -------- your code ------------------\n",
    "\n",
    "fp=open('nt.txt','r',encoding='utf-8')\n",
    "print(fp.name)\n",
    "print(fp.mode)\n",
    "print(fp.encoding)\n",
    "print(fp.closed)\n",
    "fp.close()\n",
    "\n",
    "fp.closed \n",
    "\n",
    "\n",
    "\n",
    "\n",
    "\n"
   ]
  },
  {
   "cell_type": "code",
   "execution_count": 20,
   "id": "4989280b-4d2a-44b6-92d7-81ebf780bef1",
   "metadata": {},
   "outputs": [
    {
     "name": "stdout",
     "output_type": "stream",
     "text": [
      "content (with new line)\n",
      ",Name,Gender,Class,Chi,Eng,Math\n",
      "\n",
      "a,aaa,Male,CS_101,80,80,50\n",
      "\n",
      "b,bbb,Male,CS_102,100,80,100\n",
      "\n",
      "c,ccc,Female,CS_101,60,50,55\n",
      "\n",
      "d,ddd,Female,CS_102,80,70,85\n",
      "\n",
      "e,eee,Female,CS_101,80,80,50\n",
      "\n",
      "f,fff,Female,CS_102,80,80,80\n",
      "\n"
     ]
    }
   ],
   "source": [
    "# 4 開啟 資料夾/data 下的 score.csv 檔 利用迭代方式將檔案內容一一列印出來\n",
    "\n",
    "# -------- your code ------------------\n",
    "fp=open('../data/scores.csv','r',encoding='utf-8')\n",
    "print('content (with new line)')\n",
    "for line in fp:\n",
    "    print(line)\n",
    "\n",
    "fp.close()\n",
    "\n",
    "\n",
    "\n"
   ]
  },
  {
   "cell_type": "code",
   "execution_count": 21,
   "id": "708fa0ef-6be4-4a37-b0c2-d24769f74022",
   "metadata": {},
   "outputs": [
    {
     "data": {
      "text/plain": [
       "datetime.datetime(2022, 11, 4, 16, 26, 58, 761680)"
      ]
     },
     "execution_count": 21,
     "metadata": {},
     "output_type": "execute_result"
    }
   ],
   "source": [
    "# 5. 分別找出電腦系統日期 和 時間\n",
    "# -------- your code ------------------\n",
    "from datetime import datetime,date ,time,timezone\n",
    "datetime.now()\n",
    "\n",
    "\n"
   ]
  },
  {
   "cell_type": "code",
   "execution_count": 30,
   "id": "caf9cf29-ce33-44e1-855c-4e9299613a30",
   "metadata": {},
   "outputs": [
    {
     "name": "stdout",
     "output_type": "stream",
     "text": [
      "dt1=2021-10-29 20:30:21\n",
      "dt2=2016-11-15 22:30:00\n",
      "\n",
      "1808 days, 22:00:21\n",
      "delta=4年,348天\n"
     ]
    }
   ],
   "source": [
    "# 6. 算出下列兩時間的差距, 並用年 和 天數表示\n",
    "import time\n",
    "dt1 = datetime(2021, 10, 29, 20, 30, 21)\n",
    "dt2 = datetime(2016, 11, 15, 22, 30)\n",
    "\n",
    "# -------- your code ------------------\n",
    "from datetime import datetime\n",
    "delta=dt1-dt2\n",
    "print(f'dt1={dt1}\\ndt2={dt2}\\n')\n",
    "print(delta)\n",
    "print(f'delta={delta.days//365}年,{delta.days%365}天')\n",
    "\n",
    "\n",
    "\n"
   ]
  },
  {
   "cell_type": "code",
   "execution_count": null,
   "id": "07772448-80b3-4439-b7e7-0bcf2dbf01d9",
   "metadata": {},
   "outputs": [],
   "source": []
  }
 ],
 "metadata": {
  "kernelspec": {
   "display_name": "Python 3.10.7 64-bit",
   "language": "python",
   "name": "python3"
  },
  "language_info": {
   "codemirror_mode": {
    "name": "ipython",
    "version": 3
   },
   "file_extension": ".py",
   "mimetype": "text/x-python",
   "name": "python",
   "nbconvert_exporter": "python",
   "pygments_lexer": "ipython3",
   "version": "3.10.7"
  },
  "vscode": {
   "interpreter": {
    "hash": "c08f6b10d77fad09d09d755fdaa91e1358750def25b824cba47d64ca203d65a5"
   }
  }
 },
 "nbformat": 4,
 "nbformat_minor": 5
}
