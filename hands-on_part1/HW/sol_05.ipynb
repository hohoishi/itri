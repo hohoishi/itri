{
 "cells": [
  {
   "cell_type": "markdown",
   "id": "9c81e87b-4a6d-4798-8273-a8e48a7cc81e",
   "metadata": {},
   "source": [
    "# sol_05"
   ]
  },
  {
   "cell_type": "code",
   "execution_count": 1,
   "id": "eca53709-4f5b-4edd-b043-bec68c4fd7a7",
   "metadata": {},
   "outputs": [
    {
     "name": "stdout",
     "output_type": "stream",
     "text": [
      "Mary 90 18\n",
      "Amy 85 19\n"
     ]
    }
   ],
   "source": [
    "# 1. 請將下列三個 list 用 zip 打包起來, 再用迴圈找出 成績大於 80 的資料\n",
    "\n",
    "name =['Mary', 'John', 'Amy', 'Tom']\n",
    "score = [90, 80, 85, 75]\n",
    "age= [18, 20, 19, 22]\n",
    "\n",
    "# -------- your code ------------------\n",
    "\n",
    "for n, s, a in zip(name, score, age):\n",
    "    if s >80:\n",
    "        print(n,s,a)"
   ]
  },
  {
   "cell_type": "code",
   "execution_count": 2,
   "id": "f514a7ee-0f76-47f1-bdb0-175d13c102a6",
   "metadata": {},
   "outputs": [
    {
     "name": "stdout",
     "output_type": "stream",
     "text": [
      "['MA', 'JO', 'TO', 'AL']\n"
     ]
    }
   ],
   "source": [
    "# 2 請將下列tuple 的資料用 map + lambda 的語法將 data 中元素前兩的字母變成大寫\n",
    "\n",
    "data=('Mary', 'john', 'tom', 'ALEX')\n",
    "\n",
    "# -------- your code ------------------\n",
    "\n",
    "print(list(map(lambda x:x.upper()[:2], data)))"
   ]
  },
  {
   "cell_type": "code",
   "execution_count": 3,
   "id": "eeb3ff0d-fd6c-44cd-926c-576763c24424",
   "metadata": {},
   "outputs": [
    {
     "name": "stdout",
     "output_type": "stream",
     "text": [
      "['Mary']\n"
     ]
    }
   ],
   "source": [
    "# 3 請將下列tuple 的資料用 filter + lambda 的語法將 data 中元素第一個字母為 M 的字找出\n",
    "\n",
    "data=('Mary', 'john', 'tom', 'ALEX')\n",
    "\n",
    "# -------- your code ------------------\n",
    "\n",
    "print(list(filter(lambda x : x[0]=='M', data)))"
   ]
  },
  {
   "cell_type": "code",
   "execution_count": 5,
   "id": "f16000e3-e543-4add-90ec-2d1b258a4704",
   "metadata": {},
   "outputs": [
    {
     "name": "stdout",
     "output_type": "stream",
     "text": [
      "[13, 82, 90, 12, 51, 35, 1, 77, 99, 10] 47 43.0 99 1\n"
     ]
    }
   ],
   "source": [
    "# 4 利用 亂數產生 10 個 0到 99 之間的數並列印出來, 並算出他們的 算術平均, 中位數, 最大值 和 最小值\n",
    "\n",
    "# -------- your code ------------------\n",
    "import random \n",
    "import statistics as st\n",
    "\n",
    "s=random.sample(range(0,100),10)\n",
    "print(s, st.mean(s), st.median(s), max(s), min(s))"
   ]
  },
  {
   "cell_type": "code",
   "execution_count": 7,
   "id": "6802baf6-1969-4cab-80b2-e889d6ea25c6",
   "metadata": {},
   "outputs": [
    {
     "name": "stdout",
     "output_type": "stream",
     "text": [
      ".ipynb_checkpoints\n",
      "data\n",
      "exam\n",
      "HW\n",
      "img\n",
      "mkdir\n",
      "module\n",
      "note01.txt\n",
      "note03.txt\n",
      "PythonDay0.html\n",
      "PythonDay0.ipynb\n",
      "PythonDay1.html\n",
      "PythonDay1.ipynb\n",
      "PythonDay2.ipynb\n",
      "PythonDay3.ipynb\n",
      "PythonDay4.ipynb\n",
      "PythonDay5.ipynb\n",
      "PythonDay6.ipynb\n",
      "PythonDoodle.ipynb\n",
      "PythonFB.ipynb\n",
      "textbook\n",
      "__pycache__\n"
     ]
    }
   ],
   "source": [
    "# 5 請列印出目前所在檔案位置下所有的 檔案\n",
    "\n",
    "# -------- your code ------------------\n",
    "import os\n",
    "# 初始寫法\n",
    "file_list = os.listdir()\n",
    "for name in file_list:\n",
    "\tprint(name)   #列印列表的名稱"
   ]
  },
  {
   "cell_type": "code",
   "execution_count": 8,
   "id": "f79427f0-78cb-42f3-8dc3-ae32b8cbe2c3",
   "metadata": {},
   "outputs": [
    {
     "name": "stdout",
     "output_type": "stream",
     "text": [
      "s =  0911-222-333\n",
      "       0811-555-666\n",
      "       0911222333\n",
      "       0955-811-118\n",
      "       02-11122233\n",
      "       \n",
      "findall(09\\d{2}-\\d{3}-\\d{2}3) :   ['0911-222-333']\n",
      "\n"
     ]
    }
   ],
   "source": [
    "# 6. 利用 正規表示法過濾出下列格式為 09xx-xxx-xx3\n",
    "\n",
    "s = '''0911-222-333\n",
    "       0811-555-666\n",
    "       0911222333\n",
    "       0955-811-118\n",
    "       02-11122233\n",
    "       '''\n",
    "\n",
    "# -------- your code ------------------\n",
    "import re\n",
    "\n",
    "print('s = ', s)\n",
    "pattern = r\"09\\d{2}-\\d{3}-\\d{2}3\"\n",
    "phones = re.findall(pattern,s)\n",
    "print(f'findall({pattern}) :   {phones}\\n')"
   ]
  },
  {
   "cell_type": "code",
   "execution_count": 9,
   "id": "2439a439-22a1-4052-8b45-558dbe6f9b3c",
   "metadata": {},
   "outputs": [],
   "source": [
    "# 7 列用 tkinter GUI 介面, 輸入兩個數字, 再建一按鍵, 按下按鍵後執行兩數箱家運算\n",
    "\n",
    "# -------- your code ------------------\n",
    "from tkinter import *\n",
    "def cal():\n",
    "    equ=float(a.get())+float(b.get())\n",
    "    out.configure(text = \"結果 : \" + str(equ))\n",
    "    \n",
    "root = Tk()\n",
    "root.title(\"window\")\n",
    "root.geometry(\"300x180\")\n",
    "\n",
    "lba = Label(root, text=\"數字 A :\"); lba.pack()\n",
    "a = Entry(root);  a.pack(pady=5)                 # 在此輸入表達式\n",
    "\n",
    "lbb = Label(root, text=\"數字 B :\"); lbb.pack()\n",
    "b = Entry(root);  b.pack(pady=5)  \n",
    "\n",
    "out = Label(root);   out.pack()                  # 存放計算結果\n",
    "                        \n",
    "btn = Button(root,text=\"計算加法 +\",command=lambda:cal());  btn.pack(pady=5)    # 計算按鈕\n",
    "\n",
    "root.mainloop()"
   ]
  },
  {
   "cell_type": "markdown",
   "id": "755d7bac-b269-42f7-823e-9bad92975f50",
   "metadata": {},
   "source": [
    "><img src=\"../img/HW05.png\"  style='height:150px; width:250px'>"
   ]
  },
  {
   "cell_type": "code",
   "execution_count": 10,
   "id": "e7f071c6-8bb7-4695-844f-c19b035fb6f5",
   "metadata": {},
   "outputs": [],
   "source": [
    "# 8 列用 tkinter GUI 介面中的 Scale 部件, 做一個水平方向拉霸和一垂直方向 \n",
    "# -------- your code ------------------\n",
    "import tkinter as tk\n",
    "\n",
    "root = tk.Tk()\n",
    "root.title(\"window\")\n",
    "root.geometry(\"300x180\")\n",
    "\n",
    "tk.Scale(root, from_=0, to=42).pack()\n",
    "tk.Scale(root, from_=0, to=200, orient=\"horizontal\").pack()\n",
    " \n",
    "root.mainloop()"
   ]
  },
  {
   "cell_type": "markdown",
   "id": "b67c8fd6-998d-44a3-8e43-06729e452828",
   "metadata": {},
   "source": [
    "<img src=\"../img/HW51.png\"  style='height:150px; width:250px'>"
   ]
  },
  {
   "cell_type": "code",
   "execution_count": null,
   "id": "eb9c31e4-ebe3-40e9-88f3-8dae3893ce50",
   "metadata": {},
   "outputs": [],
   "source": []
  }
 ],
 "metadata": {
  "kernelspec": {
   "display_name": "Python 3.10.7 64-bit",
   "language": "python",
   "name": "python3"
  },
  "language_info": {
   "codemirror_mode": {
    "name": "ipython",
    "version": 3
   },
   "file_extension": ".py",
   "mimetype": "text/x-python",
   "name": "python",
   "nbconvert_exporter": "python",
   "pygments_lexer": "ipython3",
   "version": "3.10.7"
  },
  "vscode": {
   "interpreter": {
    "hash": "c08f6b10d77fad09d09d755fdaa91e1358750def25b824cba47d64ca203d65a5"
   }
  }
 },
 "nbformat": 4,
 "nbformat_minor": 5
}
