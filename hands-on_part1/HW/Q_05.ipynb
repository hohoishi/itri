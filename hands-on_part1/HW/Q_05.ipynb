{
 "cells": [
  {
   "cell_type": "markdown",
   "id": "9c81e87b-4a6d-4798-8273-a8e48a7cc81e",
   "metadata": {},
   "source": [
    "# Q_05"
   ]
  },
  {
   "cell_type": "code",
   "execution_count": 12,
   "id": "eca53709-4f5b-4edd-b043-bec68c4fd7a7",
   "metadata": {},
   "outputs": [
    {
     "name": "stdout",
     "output_type": "stream",
     "text": [
      "Mary 90 18\n",
      "Amy 85 19\n"
     ]
    }
   ],
   "source": [
    "# 1. 請將下列三個 list 用 zip 打包起來, 再用迴圈找出 成績大於 80 的資料\n",
    "\n",
    "name =['Mary', 'John', 'Amy', 'Tom']\n",
    "score = [90, 80, 85, 75]\n",
    "age= [18, 20, 19, 22]\n",
    "\n",
    "# -------- your code ------------------\n",
    "for n,s,a in zip(name, score,age):\n",
    "    if s>80:\n",
    "        print(n,s,a)\n",
    "\n",
    "\n"
   ]
  },
  {
   "cell_type": "code",
   "execution_count": 13,
   "id": "f514a7ee-0f76-47f1-bdb0-175d13c102a6",
   "metadata": {},
   "outputs": [
    {
     "name": "stdout",
     "output_type": "stream",
     "text": [
      "['MA', 'JO', 'TO', 'AL']\n"
     ]
    }
   ],
   "source": [
    "# 2 請將下列tuple 的資料用 map + lambda 的語法將 data 中元素前兩的字母大寫找出\n",
    "\n",
    "data=('Mary', 'john', 'tom', 'ALEX')\n",
    "\n",
    "# -------- your code ------------------\n",
    "\n",
    "\n"
   ]
  },
  {
   "cell_type": "code",
   "execution_count": 24,
   "id": "eeb3ff0d-fd6c-44cd-926c-576763c24424",
   "metadata": {},
   "outputs": [
    {
     "name": "stdout",
     "output_type": "stream",
     "text": [
      "['Mary']\n"
     ]
    }
   ],
   "source": [
    "# 3 請將下列tuple 的資料用 filter + lambda 的語法將 data 中元素第一個字母為 M 的字找出\n",
    "\n",
    "data=('Mary', 'john', 'tom', 'ALEX')\n",
    "\n",
    "# -------- your code ------------------\n",
    "\n",
    "\n",
    "\n"
   ]
  },
  {
   "cell_type": "code",
   "execution_count": 29,
   "id": "f16000e3-e543-4add-90ec-2d1b258a4704",
   "metadata": {},
   "outputs": [
    {
     "name": "stdout",
     "output_type": "stream",
     "text": [
      "[16, 97, 10, 93, 74, 8, 13, 17, 44, 34]\n",
      "40.6\n",
      "25.5\n",
      "97\n",
      "8\n"
     ]
    }
   ],
   "source": [
    "# 4 利用 亂數產生 10 個 0到 99 之間的數並列印出來, 並算出他們的 算術平均, 中位數, 最大值 和 最小值\n",
    "\n",
    "# -------- your code ------------------\n",
    "import random \n",
    "import statistics as st\n",
    "d=random.sample(range(0,100),10)\n",
    "print(d)\n",
    "print(st.mean(d))\n",
    "print(st.median(d))\n",
    "print(max(d))\n",
    "print(min(d))\n",
    "\n",
    "\n",
    "\n"
   ]
  },
  {
   "cell_type": "code",
   "execution_count": 22,
   "id": "6802baf6-1969-4cab-80b2-e889d6ea25c6",
   "metadata": {},
   "outputs": [
    {
     "name": "stdout",
     "output_type": "stream",
     "text": [
      "nt.txt\n",
      "Q_01.ipynb\n",
      "Q_02.ipynb\n",
      "Q_03.ipynb\n",
      "Q_04.ipynb\n",
      "Q_05.ipynb\n",
      "sol_01.ipynb\n",
      "sol_02.ipynb\n",
      "sol_03.ipynb\n",
      "sol_04.ipynb\n"
     ]
    }
   ],
   "source": [
    "# 5 請列印出目前所在檔案位置下所有的 檔案\n",
    "\n",
    "# -------- your code ------------------\n",
    "import os \n",
    "file_list=os.listdir()\n",
    "for name in file_list:\n",
    "    print(name)\n",
    "\n",
    "\n",
    "\n",
    "\n"
   ]
  },
  {
   "cell_type": "code",
   "execution_count": 31,
   "id": "f79427f0-78cb-42f3-8dc3-ae32b8cbe2c3",
   "metadata": {},
   "outputs": [
    {
     "name": "stdout",
     "output_type": "stream",
     "text": [
      "['0911-222-333']\n"
     ]
    }
   ],
   "source": [
    "# 6. 利用 正規表示法過濾出下列格式為 09xx-xxx-xx3\n",
    "\n",
    "s = '''0911-222-333\n",
    "       0811-555-666\n",
    "       0911222333\n",
    "       0955-811-118\n",
    "       02-11122233\n",
    "       '''\n",
    "\n",
    "# -------- your code ------------------\n",
    "import re \n",
    "ptn=r'09\\d\\d-\\d{3}-\\d{2}3'\n",
    "phones=re.findall(ptn,s)\n",
    "print(phones)\n",
    "\n"
   ]
  },
  {
   "cell_type": "code",
   "execution_count": null,
   "id": "2439a439-22a1-4052-8b45-558dbe6f9b3c",
   "metadata": {},
   "outputs": [],
   "source": [
    "# 7 列用 tkinter GUI 介面, 輸入兩個數字, 再建一按鍵, 按下按鍵後執行兩數箱家運算\n",
    "\n",
    "# -------- your code ------------------\n",
    "\n",
    "\n",
    "\n",
    "\n",
    "\n",
    "\n",
    "\n"
   ]
  },
  {
   "cell_type": "markdown",
   "id": "755d7bac-b269-42f7-823e-9bad92975f50",
   "metadata": {},
   "source": [
    "><img src=\"../img/HW05.png\"  style='height:150px; width:250px'>"
   ]
  },
  {
   "cell_type": "code",
   "execution_count": null,
   "id": "e7f071c6-8bb7-4695-844f-c19b035fb6f5",
   "metadata": {},
   "outputs": [],
   "source": [
    "# 8 列用 tkinter GUI 介面中的 Scale 部件, 做一個水平方向拉霸和一垂直方向 \n",
    "# -------- your code ------------------\n",
    "\n",
    "\n",
    "\n",
    "\n",
    "\n"
   ]
  },
  {
   "cell_type": "markdown",
   "id": "b67c8fd6-998d-44a3-8e43-06729e452828",
   "metadata": {},
   "source": [
    "><img src=\"../img/HW51.png\"  style='height:150px; width:250px'>"
   ]
  },
  {
   "cell_type": "code",
   "execution_count": null,
   "id": "eb9c31e4-ebe3-40e9-88f3-8dae3893ce50",
   "metadata": {},
   "outputs": [],
   "source": []
  }
 ],
 "metadata": {
  "kernelspec": {
   "display_name": "Python 3.10.7 64-bit",
   "language": "python",
   "name": "python3"
  },
  "language_info": {
   "codemirror_mode": {
    "name": "ipython",
    "version": 3
   },
   "file_extension": ".py",
   "mimetype": "text/x-python",
   "name": "python",
   "nbconvert_exporter": "python",
   "pygments_lexer": "ipython3",
   "version": "3.10.7 (tags/v3.10.7:6cc6b13, Sep  5 2022, 14:08:36) [MSC v.1933 64 bit (AMD64)]"
  },
  "vscode": {
   "interpreter": {
    "hash": "c08f6b10d77fad09d09d755fdaa91e1358750def25b824cba47d64ca203d65a5"
   }
  }
 },
 "nbformat": 4,
 "nbformat_minor": 5
}
