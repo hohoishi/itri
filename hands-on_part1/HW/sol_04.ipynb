{
 "cells": [
  {
   "cell_type": "markdown",
   "id": "ecd88b53-dfb8-4d22-a67e-2f92a91a85c0",
   "metadata": {},
   "source": [
    "# sol_04"
   ]
  },
  {
   "cell_type": "code",
   "execution_count": 3,
   "id": "4bbb8d0b-5b90-40b7-9a05-4ccb43f12081",
   "metadata": {},
   "outputs": [
    {
     "name": "stdout",
     "output_type": "stream",
     "text": [
      "請輸入上底: 20\n",
      "請輸入下底: 30\n",
      "請輸入高: 40\n"
     ]
    },
    {
     "name": "stdout",
     "output_type": "stream",
     "text": [
      "此梯形面積為: 1000.0\n"
     ]
    }
   ],
   "source": [
    "# 1. 利用 \"異常處理\" 機制包裝梯形面積的計算 並在輸入中放輸入錯誤資料\n",
    "\n",
    "# -------- your code ------------------\n",
    "try:\n",
    "    a = eval(input(\"請輸入上底:\"))\n",
    "    b = eval(input(\"請輸入下底:\"))\n",
    "    h = eval(input(\"請輸入高:\"))\n",
    "    \n",
    "    data = lambda a, b, h : ((a+b)*h)/2\n",
    "    print(\"此梯形面積為:\", data(a,b,h))\n",
    "except NameError as e :\n",
    "    print('Error : ', e)"
   ]
  },
  {
   "cell_type": "code",
   "execution_count": 5,
   "id": "9d45ac32-7b0a-4f9e-88e4-73e12a65caf4",
   "metadata": {},
   "outputs": [
    {
     "name": "stdout",
     "output_type": "stream",
     "text": [
      "Write two data to note.txt!\n"
     ]
    }
   ],
   "source": [
    "# 2. 在目前的目錄下建置一 .txt 檔並在該檔案中寫入兩行任一文字\n",
    "\n",
    "# -------- your code ------------------\n",
    "fp = open('note.txt', 'w', encoding='utf-8') #  Unicode轉換格式（Unicode Transformation Format，簡稱為 UTF\n",
    "fp.write('Python 科技股份有限公司\\n')\n",
    "fp.write('Python Tech. Limited Co.\\n')\n",
    "\n",
    "print('Write two data to note.txt!')\n",
    "fp.close()"
   ]
  },
  {
   "cell_type": "code",
   "execution_count": 6,
   "id": "cbc1220b-ef23-40db-bb19-ca5a5aff0d7b",
   "metadata": {},
   "outputs": [
    {
     "name": "stdout",
     "output_type": "stream",
     "text": [
      "檔案開啟成功 !!\n",
      "file name\t: note.txt\n",
      "file mode\t: r\n",
      "file encoding\t: utf-8\n",
      "file closed\t: False\n"
     ]
    }
   ],
   "source": [
    "# 3 在目前的目錄下讀回上題中的 .txt 檔並列印出它的屬性 檔名, 檔案模式, 檔案編碼方式, 是否已關檔\n",
    "\n",
    "# -------- your code ------------------\n",
    "fp = open('note.txt', 'r', encoding='utf-8')\n",
    "# fp = open('PythonSteveDay1.ipynb')\n",
    "\n",
    "if fp :\n",
    "    print('檔案開啟成功 !!')\n",
    "    print('file name\\t:', fp.name)\n",
    "    print('file mode\\t:', fp.mode)  #r\n",
    "    print('file encoding\\t:',fp.encoding) #utf-8\n",
    "    print('file closed\\t:', fp.closed) #False\n",
    "\n",
    "fp.close() "
   ]
  },
  {
   "cell_type": "code",
   "execution_count": 7,
   "id": "4989280b-4d2a-44b6-92d7-81ebf780bef1",
   "metadata": {},
   "outputs": [
    {
     "name": "stdout",
     "output_type": "stream",
     "text": [
      "['', 'Name', 'Gender', 'Class', 'Chi', 'Eng', 'Math'] 7\n",
      "['a', 'aaa', 'Male', 'CS_101', '80', '80', '50'] 7\n",
      "['b', 'bbb', 'Male', 'CS_102', '100', '80', '100'] 7\n",
      "['c', 'ccc', 'Female', 'CS_101', '60', '50', '55'] 7\n",
      "['d', 'ddd', 'Female', 'CS_102', '80', '70', '85'] 7\n",
      "['e', 'eee', 'Female', 'CS_101', '80', '80', '50'] 7\n",
      "['f', 'fff', 'Female', 'CS_102', '80', '80', '80'] 7\n"
     ]
    }
   ],
   "source": [
    "# 4 開啟 資料夾/data 下的 score.csv 檔 利用迭代方式將檔案內容一一列印出來\n",
    "\n",
    "# -------- your code ------------------\n",
    "import csv\n",
    "\n",
    "# 開啟 CSV 檔案\n",
    "with open('../data/scores.csv', newline='') as csvfile:\n",
    "\n",
    "  # 讀取 CSV 檔案內容\n",
    "  rows = csv.reader(csvfile, delimiter=',')  # 已是 csv 了\n",
    "\n",
    "  # 以迴圈輸出每一列\n",
    "  for row in rows:\n",
    "    print(row, len(row))"
   ]
  },
  {
   "cell_type": "code",
   "execution_count": 8,
   "id": "708fa0ef-6be4-4a37-b0c2-d24769f74022",
   "metadata": {},
   "outputs": [
    {
     "data": {
      "text/plain": [
       "(datetime.datetime(2022, 11, 4, 16, 32, 53, 194131),\n",
       " datetime.datetime(2022, 11, 4, 16, 32, 53, 194132),\n",
       " datetime.date(2022, 11, 4),\n",
       " datetime.time(16, 32, 53, 194132))"
      ]
     },
     "execution_count": 8,
     "metadata": {},
     "output_type": "execute_result"
    }
   ],
   "source": [
    "# 5. 分別找出電腦系統日期 和 時間\n",
    "# -------- your code ------------------\n",
    "from datetime import datetime, date, time, timezone\n",
    "datetime.now(), datetime.today(),datetime.today().date(), datetime.today().time()"
   ]
  },
  {
   "cell_type": "code",
   "execution_count": 9,
   "id": "caf9cf29-ce33-44e1-855c-4e9299613a30",
   "metadata": {},
   "outputs": [
    {
     "name": "stdout",
     "output_type": "stream",
     "text": [
      "dt1\t\t\t= 2021-10-29 20:30:21\n",
      "dt2\t\t\t= 2016-11-15 22:30:00\n",
      "\n",
      "1808 days, 22:00:21\n",
      "delta\t\t\t = 4 年, 348 天\n"
     ]
    }
   ],
   "source": [
    "# 6. 算出下列兩時間的差距, 並用 幾年 又 幾天來表示\n",
    "\n",
    "dt1 = datetime(2021, 10, 29, 20, 30, 21)\n",
    "dt2 = datetime(2016, 11, 15, 22, 30)\n",
    "\n",
    "# -------- your code ------------------\n",
    "from datetime import datetime\n",
    "delta = dt1 - dt2\n",
    "print(f'dt1\\t\\t\\t= {dt1}\\ndt2\\t\\t\\t= {dt2}\\n')\n",
    "print(delta)\n",
    "print(f'delta\\t\\t\\t = {delta.days//365} 年, {delta.days%365} 天')"
   ]
  },
  {
   "cell_type": "code",
   "execution_count": null,
   "id": "07772448-80b3-4439-b7e7-0bcf2dbf01d9",
   "metadata": {},
   "outputs": [],
   "source": []
  }
 ],
 "metadata": {
  "kernelspec": {
   "display_name": "Python 3.10.7 64-bit",
   "language": "python",
   "name": "python3"
  },
  "language_info": {
   "codemirror_mode": {
    "name": "ipython",
    "version": 3
   },
   "file_extension": ".py",
   "mimetype": "text/x-python",
   "name": "python",
   "nbconvert_exporter": "python",
   "pygments_lexer": "ipython3",
   "version": "3.10.7"
  },
  "vscode": {
   "interpreter": {
    "hash": "c08f6b10d77fad09d09d755fdaa91e1358750def25b824cba47d64ca203d65a5"
   }
  }
 },
 "nbformat": 4,
 "nbformat_minor": 5
}
