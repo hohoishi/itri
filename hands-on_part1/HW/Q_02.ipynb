{
 "cells": [
  {
   "cell_type": "markdown",
   "id": "cf6c397b-3c81-4169-9df3-c0eed7b360ea",
   "metadata": {},
   "source": [
    "# Q_02"
   ]
  },
  {
   "cell_type": "code",
   "execution_count": 4,
   "id": "33aa27ae-6e69-4f74-803d-c939fbf67f04",
   "metadata": {},
   "outputs": [
    {
     "name": "stdout",
     "output_type": "stream",
     "text": [
      "True\n",
      "False\n",
      "True\n",
      "False\n",
      "False\n"
     ]
    }
   ],
   "source": [
    "# 1.  請利用 Python 比較運算 完成下列需求 :\n",
    "\n",
    "# 將 a 變數物件參考到 120\n",
    "# 將 b 變數物件參考到 50.0\n",
    "# 將 c 變數物件參考到 'Hollo Python'\n",
    "\n",
    "# a 等於 120 嗎 ?\n",
    "# b 不等於 50 嗎 ?\n",
    "# a 大於等於 b 嗎 ?\n",
    "# a 小於等於 b 嗎 ?\n",
    "\n",
    "# a 等於 c 嗎 ?\n",
    "\n",
    "# ---- your code -----\n",
    "a=120 ; b=50.0 ; c='Hello Pyhon'\n",
    "print(a==120) \n",
    "print(b!=50)  \n",
    "print(a>=b)  \n",
    "print(a<=b)  \n",
    "print(a==c) \n",
    "\n",
    "\n",
    "\n",
    "\n",
    "\n"
   ]
  },
  {
   "cell_type": "code",
   "execution_count": 13,
   "id": "e2251e7a-bdb6-45f8-885d-b8fa6acb2fa4",
   "metadata": {},
   "outputs": [
    {
     "ename": "SyntaxError",
     "evalue": "invalid syntax (2545915148.py, line 21)",
     "output_type": "error",
     "traceback": [
      "\u001b[1;36m  Cell \u001b[1;32mIn [13], line 21\u001b[1;36m\u001b[0m\n\u001b[1;33m    print(1 and b and c,/n)\u001b[0m\n\u001b[1;37m                        ^\u001b[0m\n\u001b[1;31mSyntaxError\u001b[0m\u001b[1;31m:\u001b[0m invalid syntax\n"
     ]
    }
   ],
   "source": [
    "# 2.  請利用 Python 邏輯運算完成下列需求 :\n",
    "\n",
    "# 將 a 變數物件參考到 120\n",
    "# 將 b 變數物件參考到 50.0\n",
    "# 將 c 變數物件參考到 'Hollo Python'\n",
    "\n",
    "# a 和 b 和 c ?\n",
    "# 0 和 b 和 c ?\n",
    "# 1 和 b 和 c ?\n",
    "\n",
    "# a 或 b 或 c ?\n",
    "# 0 或 b 或 c ?\n",
    "# 1 或 b 或 c ?\n",
    "\n",
    "# ---- your code -----\n",
    "a=120\n",
    "b=50.0\n",
    "c='Hollo Python'\n",
    "print(a and b and c) \n",
    "print(0 and b and c)\n",
    "print(1 and b and c,) \n",
    "print(a or b or c)\n",
    "print(0 or b or c)\n",
    "print(1 or b or c)\n",
    "\n",
    "\n",
    "\n"
   ]
  },
  {
   "cell_type": "code",
   "execution_count": 26,
   "id": "2bb7deb8-e6a3-4235-88a0-efbd678d816e",
   "metadata": {},
   "outputs": [
    {
     "name": "stdout",
     "output_type": "stream",
     "text": [
      "149\n",
      "T\n",
      ".\n",
      "NEWLINE(\n",
      "\n",
      " o rpeqoe t\n",
      ".752 PEP ni noitnevnoc gnirtscod eht htiw tnetsisnoc eb ot sretcarahc etouq elbuod esu syawla,sgnirts detouq-elpirt roF .)\n",
      "(ENILWEN ro )\t(BAT sa hcus\n",
      "such as TA.752 PEP \n"
     ]
    }
   ],
   "source": [
    "# 3.  請利用 Python index, slice完成下列需求 :\n",
    "\n",
    "# 建立 text = 'such as TAB(\\t) or NEWLINE(\\n). For triple-quoted strings,\n",
    "# always use double quote characters to be consistent\n",
    "# with the docstring convention in PEP 257.'\n",
    "\n",
    "# 請先列印出 text 長度 ?\n",
    "# 請列印出 text 中第 9 個字母是甚麼?\n",
    "# 請列印出 text 中最後一個字母是甚麼?\n",
    "# 請列印出 text 中第19 到 26 的字母是甚麼?\n",
    "# 請列印出 text 中第30 到 50 間隔為 2 的字母是甚麼?\n",
    "# 請列印出 text 中所有字母翻轉過來?\n",
    "# 請列印出 text 中前 10 個字母 加上 後 10 個字母翻轉過來 的結果?\n",
    "\n",
    "# -------- your code ------------------\n",
    "text='''such as TAB(\\t) or NEWLINE(\\n). For triple-quoted strings,always use double quote characters to be consistent with the docstring convention in PEP 257.'''\n",
    "print(len(text))\n",
    "print(text[8])\n",
    "print(text[-1])\n",
    "print(text[18:27])\n",
    "print(text[29:50:2])\n",
    "print(text[::-1])\n",
    "print(text[0:10]+text[:-10:-1])\n",
    "\n",
    "\n",
    "\n",
    "\n"
   ]
  },
  {
   "cell_type": "code",
   "execution_count": null,
   "id": "cdc656ec-b830-4856-ad5b-181df6fbbbb9",
   "metadata": {},
   "outputs": [],
   "source": [
    "# 4.  請利用 Python 文字運算完成下列需求 :\n",
    "\n",
    "# 建立 text = 'such as TAB(\\t) or NEWLINE(\\n). For triple-quoted strings,\n",
    "# always use double quote characters to be consistent\n",
    "# with the docstring convention in PEP 257.'\n",
    "\n",
    "# 算出 text 中有多少個 's'\n",
    "# 找出 text 中第一個'e' 和 最後一個 'n' 的位置\n",
    "# 找出 text 中是否有字母 'z' 在其中\n",
    "# 將 text 內所有的字母轉大寫\n",
    "# 將 text 內所有的單字轉第一個字母大寫\n",
    "\n",
    "# -------- your code ------------------\n",
    "print()\n",
    "\n",
    "\n",
    "\n",
    "\n",
    "\n"
   ]
  },
  {
   "cell_type": "code",
   "execution_count": 32,
   "id": "0f4df22a-c097-4904-a106-5ef5efe2cfdd",
   "metadata": {},
   "outputs": [
    {
     "ename": "SyntaxError",
     "evalue": "invalid syntax (955617506.py, line 14)",
     "output_type": "error",
     "traceback": [
      "\u001b[1;36m  Cell \u001b[1;32mIn [32], line 14\u001b[1;36m\u001b[0m\n\u001b[1;33m    elif s>=80,<90:\u001b[0m\n\u001b[1;37m              ^\u001b[0m\n\u001b[1;31mSyntaxError\u001b[0m\u001b[1;31m:\u001b[0m invalid syntax\n"
     ]
    }
   ],
   "source": [
    "# 5 利用 if...elif...else 指令, 分辨學生的成績等第\n",
    "# input 輸入 一學生成績 0 ~ 100\n",
    "# 判定成績等第\n",
    "# 'A' >= 90\n",
    "# 'B' >= 80, <90\n",
    "# 'C' >= 70, <80\n",
    "# 'D' >= 60, <70\n",
    "# 'E' <60\n",
    "\n",
    "# # -------- your code ------------------\n",
    "# s=int(input(\"一學生成績\"))\n",
    "# if s >90:\n",
    "#     print(\"A\")\n",
    "#     elif s>=80,<90:\n",
    "#         print('B')\n",
    "#     elif s>=70,<80:\n",
    "#         print('C')\n",
    "#     elif s>=60,<70:\n",
    "#         print('D')\n",
    "#     else\n",
    "#         # print('E')            \n",
    "\n",
    "\n",
    "\n",
    "\n",
    "\n",
    "\n",
    "\n",
    "\n",
    "\n",
    "\n",
    "\n",
    "\n",
    "\n"
   ]
  },
  {
   "cell_type": "code",
   "execution_count": 35,
   "id": "51e117b0-c5d5-4c7f-b467-69f7b9240d19",
   "metadata": {},
   "outputs": [
    {
     "ename": "SyntaxError",
     "evalue": "invalid syntax (469167910.py, line 5)",
     "output_type": "error",
     "traceback": [
      "\u001b[1;36m  Cell \u001b[1;32mIn [35], line 5\u001b[1;36m\u001b[0m\n\u001b[1;33m    if num %2!=0 and %3!=0\u001b[0m\n\u001b[1;37m                     ^\u001b[0m\n\u001b[1;31mSyntaxError\u001b[0m\u001b[1;31m:\u001b[0m invalid syntax\n"
     ]
    }
   ],
   "source": [
    "# 6. 列出 1 到 999 中不能被 2 整除也不能被 3 整除的數字\n",
    "\n",
    "# -------- your code ------------------\n",
    "for num in numbers[1:1000]:\n",
    "   if num %2!=0 and %3!=0\n",
    "   print(num)\n",
    "    \n",
    "\n",
    "\n",
    "\n",
    "\n",
    "\n"
   ]
  },
  {
   "cell_type": "code",
   "execution_count": null,
   "id": "6bd8e70b-9d0c-4304-af6d-d78b301ba502",
   "metadata": {},
   "outputs": [],
   "source": [
    "# 7 .利用 while 寫一程式，讀入 N 個數字，找到第一個大於 7 而小於 10 的數字就停止，而且列印出這個數字。\n",
    "\n",
    "# -------- your code ------------------\n",
    "\n",
    "\n",
    "\n",
    "\n",
    "\n"
   ]
  },
  {
   "cell_type": "code",
   "execution_count": null,
   "id": "341ef3ca-2e88-4819-8a76-6e51114872d1",
   "metadata": {},
   "outputs": [],
   "source": [
    "# 8.  請使用者輸入年份，判斷是否是閏年\n",
    "# 如何判斷年份是否為閏年\n",
    "# 西元年份除以4不可整除，為平年。\n",
    "# 西元年份除以4可整除，且除以100不可整除，為閏年。\n",
    "# 西元年份除以100可整除，且除以400不可整除，為平年\n",
    "# 西元年份除以400可整除，為閏年。\n",
    "\n",
    "# 請輸入一個年份\n",
    "\n",
    "# -------- your code ------------------\n",
    "\n",
    "\n",
    "\n",
    "\n",
    "\n",
    "\n"
   ]
  },
  {
   "cell_type": "code",
   "execution_count": null,
   "id": "f29e2920-29c6-4cce-a283-07b3745c9063",
   "metadata": {},
   "outputs": [],
   "source": []
  }
 ],
 "metadata": {
  "kernelspec": {
   "display_name": "Python 3.10.7 64-bit",
   "language": "python",
   "name": "python3"
  },
  "language_info": {
   "codemirror_mode": {
    "name": "ipython",
    "version": 3
   },
   "file_extension": ".py",
   "mimetype": "text/x-python",
   "name": "python",
   "nbconvert_exporter": "python",
   "pygments_lexer": "ipython3",
   "version": "3.10.7"
  },
  "vscode": {
   "interpreter": {
    "hash": "c08f6b10d77fad09d09d755fdaa91e1358750def25b824cba47d64ca203d65a5"
   }
  }
 },
 "nbformat": 4,
 "nbformat_minor": 5
}
